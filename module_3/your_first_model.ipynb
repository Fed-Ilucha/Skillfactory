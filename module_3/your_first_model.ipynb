{
 "cells": [
  {
   "cell_type": "markdown",
   "metadata": {},
   "source": [
    "## импорт библиотек"
   ]
  },
  {
   "cell_type": "code",
   "execution_count": 13,
   "metadata": {},
   "outputs": [],
   "source": [
    "import pandas as pd\n",
    "import numpy as np\n",
    "import re\n",
    "from datetime import datetime\n",
    "import matplotlib.pyplot as plt\n",
    "from sklearn.model_selection import train_test_split\n",
    "from sklearn.preprocessing import PolynomialFeatures\n",
    "import seaborn as sns"
   ]
  },
  {
   "cell_type": "markdown",
   "metadata": {},
   "source": [
    "## некоторые настройки"
   ]
  },
  {
   "cell_type": "code",
   "execution_count": 14,
   "metadata": {},
   "outputs": [],
   "source": [
    "# кол-во символов для показа\n",
    "pd.options.display.max_colwidth = 74\n",
    "# выводить все столбцы\n",
    "pd.set_option('display.max_columns', None)\n",
    "# размер плота\n",
    "plt.rcParams['figure.figsize'] = (13,5)"
   ]
  },
  {
   "cell_type": "markdown",
   "metadata": {},
   "source": [
    "## Функции"
   ]
  },
  {
   "cell_type": "code",
   "execution_count": 15,
   "metadata": {},
   "outputs": [],
   "source": [
    "# ф-я принимает серию возвращает кортеж :\n",
    "# [0]-25% перцентиль серии\n",
    "# [1]-75% перцентиль серии\n",
    "# [2]-IQR\n",
    "# [3]-нижняя граница выбросов\n",
    "# [4]-верхняя граница выбросов\n",
    "def get_bounds(ser):\n",
    "    perc25 = ser.quantile(0.25)\n",
    "    perc75 = ser.quantile(0.75)\n",
    "    IQR = perc75-perc25\n",
    "\n",
    "    return (perc25, perc75, IQR, perc25-1.5*IQR, perc75+1.5*IQR)\n",
    "\n",
    "# ф-я выводит 25% и 75% перцентили серии, IQR, границы выбросов, рисует гистограмму по серии, исключая выбросы\n",
    "def print_hist(ser):\n",
    "    bounds = get_bounds(ser)\n",
    "\n",
    "    print(\n",
    "        '25-й перцентиль: {},'.format(bounds[0]),\n",
    "        '75-й перцентиль: {},'.format(bounds[1]),\n",
    "        \"IQR: {},\".format(bounds[2]),\n",
    "        \"Границы выбросов: [{L},{H}].\".format(L=bounds[3], H=bounds[4])\n",
    "    )\n",
    "\n",
    "    ser.loc[ser.between(bounds[3], bounds[4])].hist(\n",
    "        bins=16, range=(ser.min(), ser.max()), label='IQR')\n",
    "\n",
    "    plt.legend()\n",
    "\n",
    "# ф-я округляет полученное предсказание рэйтинга до ближайшего шага\n",
    "def round_rating_pred(rating_pred):\n",
    "    if rating_pred <= 0.5:\n",
    "        return 0.0\n",
    "    if rating_pred <= 1.5:\n",
    "        return 1.0\n",
    "    if rating_pred <= 1.75:\n",
    "        return 1.5\n",
    "    if rating_pred <= 2.25:\n",
    "        return 2.0\n",
    "    if rating_pred <= 2.75:\n",
    "        return 2.5\n",
    "    if rating_pred <= 3.25:\n",
    "        return 3.0\n",
    "    if rating_pred <= 3.75:\n",
    "        return 3.5\n",
    "    if rating_pred <= 4.25:\n",
    "        return 4.0\n",
    "    if rating_pred <= 4.75:\n",
    "        return 4.5\n",
    "    return 5.0"
   ]
  },
  {
   "cell_type": "markdown",
   "metadata": {},
   "source": [
    "## загрузка данных"
   ]
  },
  {
   "cell_type": "code",
   "execution_count": 16,
   "metadata": {},
   "outputs": [],
   "source": [
    "DATA_DIR = 'data'\n",
    "df_train = pd.read_csv(DATA_DIR+'/main_task.csv')\n",
    "df_control = pd.read_csv(DATA_DIR+'/kaggle_task.csv')\n",
    "sample_submission = pd.read_csv(DATA_DIR+'/sample_submission.csv')"
   ]
  },
  {
   "cell_type": "markdown",
   "metadata": {},
   "source": [
    "###### Для корректной обработки данных (чтобы и тренировочный и контрольный датасет имели идентичный набор столбцов) объединим датасеты в один с созданием признака, определяющего принадлежность данных к тесту или контролю"
   ]
  },
  {
   "cell_type": "code",
   "execution_count": 17,
   "metadata": {},
   "outputs": [],
   "source": [
    "df_train['Markup'] = 1 # это тренировочные данные\n",
    "df_control['Markup'] = 0  # это контрольные данные\n",
    "\n",
    "df_control['Rating'] = 0 # контрольный набор данных не содержит поля Rating, поэтому создатим и предзаполним нулями\n",
    "\n",
    "df = pd.DataFrame() # будем использовать для предварительного заполнения признаками\n",
    "df_dr = df_control.append(df_train, sort=False).reset_index(drop=True) # объединяем в черновике df_dr ~ DataFrame Dirt\n",
    "df_cl = pd.DataFrame() # чистовик, пока пустой df_cl ~ DataFrame Clean\n"
   ]
  },
  {
   "cell_type": "code",
   "execution_count": 18,
   "metadata": {},
   "outputs": [
    {
     "name": "stdout",
     "output_type": "stream",
     "text": [
      "<class 'pandas.core.frame.DataFrame'>\n",
      "RangeIndex: 50000 entries, 0 to 49999\n",
      "Data columns (total 11 columns):\n",
      " #   Column             Non-Null Count  Dtype  \n",
      "---  ------             --------------  -----  \n",
      " 0   Restaurant_id      50000 non-null  object \n",
      " 1   City               50000 non-null  object \n",
      " 2   Cuisine Style      38410 non-null  object \n",
      " 3   Ranking            50000 non-null  float64\n",
      " 4   Price Range        32639 non-null  object \n",
      " 5   Number of Reviews  46800 non-null  float64\n",
      " 6   Reviews            49998 non-null  object \n",
      " 7   URL_TA             50000 non-null  object \n",
      " 8   ID_TA              50000 non-null  object \n",
      " 9   Markup             50000 non-null  int64  \n",
      " 10  Rating             50000 non-null  float64\n",
      "dtypes: float64(3), int64(1), object(7)\n",
      "memory usage: 4.2+ MB\n"
     ]
    }
   ],
   "source": [
    "df_dr.info()"
   ]
  },
  {
   "cell_type": "code",
   "execution_count": 19,
   "metadata": {},
   "outputs": [
    {
     "data": {
      "text/html": [
       "<div>\n",
       "<style scoped>\n",
       "    .dataframe tbody tr th:only-of-type {\n",
       "        vertical-align: middle;\n",
       "    }\n",
       "\n",
       "    .dataframe tbody tr th {\n",
       "        vertical-align: top;\n",
       "    }\n",
       "\n",
       "    .dataframe thead th {\n",
       "        text-align: right;\n",
       "    }\n",
       "</style>\n",
       "<table border=\"1\" class=\"dataframe\">\n",
       "  <thead>\n",
       "    <tr style=\"text-align: right;\">\n",
       "      <th></th>\n",
       "      <th>Restaurant_id</th>\n",
       "      <th>City</th>\n",
       "      <th>Cuisine Style</th>\n",
       "      <th>Ranking</th>\n",
       "      <th>Price Range</th>\n",
       "      <th>Number of Reviews</th>\n",
       "      <th>Reviews</th>\n",
       "      <th>URL_TA</th>\n",
       "      <th>ID_TA</th>\n",
       "      <th>Markup</th>\n",
       "      <th>Rating</th>\n",
       "    </tr>\n",
       "  </thead>\n",
       "  <tbody>\n",
       "    <tr>\n",
       "      <th>21467</th>\n",
       "      <td>id_2259</td>\n",
       "      <td>Munich</td>\n",
       "      <td>['Steakhouse', 'Barbecue', 'European']</td>\n",
       "      <td>2275.0</td>\n",
       "      <td>$$ - $$$</td>\n",
       "      <td>187.0</td>\n",
       "      <td>[['Asado Steak missing authentic feel and sou...', 'Meat did not meet ...</td>\n",
       "      <td>/Restaurant_Review-g187309-d1011902-Reviews-Asado_Steak-Munich_Upper_B...</td>\n",
       "      <td>d1011902</td>\n",
       "      <td>1</td>\n",
       "      <td>3.0</td>\n",
       "    </tr>\n",
       "    <tr>\n",
       "      <th>27414</th>\n",
       "      <td>id_10045</td>\n",
       "      <td>London</td>\n",
       "      <td>['Mediterranean', 'Turkish', 'Middle Eastern', 'Halal']</td>\n",
       "      <td>10054.0</td>\n",
       "      <td>NaN</td>\n",
       "      <td>18.0</td>\n",
       "      <td>[['Excellent Turkish food near the Holloway R...', 'never fails with t...</td>\n",
       "      <td>/Restaurant_Review-g186338-d4176719-Reviews-Noa_Noa-London_England.html</td>\n",
       "      <td>d4176719</td>\n",
       "      <td>1</td>\n",
       "      <td>4.5</td>\n",
       "    </tr>\n",
       "    <tr>\n",
       "      <th>46219</th>\n",
       "      <td>id_1308</td>\n",
       "      <td>Amsterdam</td>\n",
       "      <td>['Dutch', 'Bar', 'Cafe', 'European', 'Pub']</td>\n",
       "      <td>1311.0</td>\n",
       "      <td>$</td>\n",
       "      <td>45.0</td>\n",
       "      <td>[['Unique building', 'A great lunch in a unique building.'], ['04/27/2...</td>\n",
       "      <td>/Restaurant_Review-g188590-d6627515-Reviews-V_O_C_Cafe-Amsterdam_North...</td>\n",
       "      <td>d6627515</td>\n",
       "      <td>1</td>\n",
       "      <td>4.0</td>\n",
       "    </tr>\n",
       "    <tr>\n",
       "      <th>37050</th>\n",
       "      <td>id_2364</td>\n",
       "      <td>Budapest</td>\n",
       "      <td>NaN</td>\n",
       "      <td>2365.0</td>\n",
       "      <td>NaN</td>\n",
       "      <td>6.0</td>\n",
       "      <td>[['Little friendly place for locals', 'Gastronomical Passport'], ['04/...</td>\n",
       "      <td>/Restaurant_Review-g274887-d7712878-Reviews-Passport_Etterem_ES_Kaveha...</td>\n",
       "      <td>d7712878</td>\n",
       "      <td>1</td>\n",
       "      <td>2.5</td>\n",
       "    </tr>\n",
       "    <tr>\n",
       "      <th>35814</th>\n",
       "      <td>id_1047</td>\n",
       "      <td>Zurich</td>\n",
       "      <td>NaN</td>\n",
       "      <td>1051.0</td>\n",
       "      <td>NaN</td>\n",
       "      <td>14.0</td>\n",
       "      <td>[['Nice', 'Best pizza'], ['10/19/2016', '05/26/2015']]</td>\n",
       "      <td>/Restaurant_Review-g188113-d4150234-Reviews-Romerblick-Zurich.html</td>\n",
       "      <td>d4150234</td>\n",
       "      <td>1</td>\n",
       "      <td>4.0</td>\n",
       "    </tr>\n",
       "  </tbody>\n",
       "</table>\n",
       "</div>"
      ],
      "text/plain": [
       "      Restaurant_id       City  \\\n",
       "21467       id_2259     Munich   \n",
       "27414      id_10045     London   \n",
       "46219       id_1308  Amsterdam   \n",
       "37050       id_2364   Budapest   \n",
       "35814       id_1047     Zurich   \n",
       "\n",
       "                                                 Cuisine Style  Ranking  \\\n",
       "21467                   ['Steakhouse', 'Barbecue', 'European']   2275.0   \n",
       "27414  ['Mediterranean', 'Turkish', 'Middle Eastern', 'Halal']  10054.0   \n",
       "46219              ['Dutch', 'Bar', 'Cafe', 'European', 'Pub']   1311.0   \n",
       "37050                                                      NaN   2365.0   \n",
       "35814                                                      NaN   1051.0   \n",
       "\n",
       "      Price Range  Number of Reviews  \\\n",
       "21467    $$ - $$$              187.0   \n",
       "27414         NaN               18.0   \n",
       "46219           $               45.0   \n",
       "37050         NaN                6.0   \n",
       "35814         NaN               14.0   \n",
       "\n",
       "                                                                         Reviews  \\\n",
       "21467  [['Asado Steak missing authentic feel and sou...', 'Meat did not meet ...   \n",
       "27414  [['Excellent Turkish food near the Holloway R...', 'never fails with t...   \n",
       "46219  [['Unique building', 'A great lunch in a unique building.'], ['04/27/2...   \n",
       "37050  [['Little friendly place for locals', 'Gastronomical Passport'], ['04/...   \n",
       "35814                     [['Nice', 'Best pizza'], ['10/19/2016', '05/26/2015']]   \n",
       "\n",
       "                                                                          URL_TA  \\\n",
       "21467  /Restaurant_Review-g187309-d1011902-Reviews-Asado_Steak-Munich_Upper_B...   \n",
       "27414    /Restaurant_Review-g186338-d4176719-Reviews-Noa_Noa-London_England.html   \n",
       "46219  /Restaurant_Review-g188590-d6627515-Reviews-V_O_C_Cafe-Amsterdam_North...   \n",
       "37050  /Restaurant_Review-g274887-d7712878-Reviews-Passport_Etterem_ES_Kaveha...   \n",
       "35814         /Restaurant_Review-g188113-d4150234-Reviews-Romerblick-Zurich.html   \n",
       "\n",
       "          ID_TA  Markup  Rating  \n",
       "21467  d1011902       1     3.0  \n",
       "27414  d4176719       1     4.5  \n",
       "46219  d6627515       1     4.0  \n",
       "37050  d7712878       1     2.5  \n",
       "35814  d4150234       1     4.0  "
      ]
     },
     "execution_count": 19,
     "metadata": {},
     "output_type": "execute_result"
    }
   ],
   "source": [
    "df_dr.sample(5)"
   ]
  },
  {
   "cell_type": "markdown",
   "metadata": {},
   "source": [
    "###### заполним чистовик данными, которые пока не подлежат обработке : Markup, Ranking, Rating, Price_Range (преобразуем), "
   ]
  },
  {
   "cell_type": "code",
   "execution_count": 20,
   "metadata": {},
   "outputs": [
    {
     "data": {
      "text/plain": [
       "Markup                     0\n",
       "Ranking                    0\n",
       "Rating                     0\n",
       "Price_Range_num            0\n",
       "Number_of_Reviews_isNAN    0\n",
       "Number of Reviews          0\n",
       "City_Amsterdam             0\n",
       "City_Athens                0\n",
       "City_Barcelona             0\n",
       "City_Berlin                0\n",
       "City_Bratislava            0\n",
       "City_Brussels              0\n",
       "City_Budapest              0\n",
       "City_Copenhagen            0\n",
       "City_Dublin                0\n",
       "City_Edinburgh             0\n",
       "City_Geneva                0\n",
       "City_Hamburg               0\n",
       "City_Helsinki              0\n",
       "City_Krakow                0\n",
       "City_Lisbon                0\n",
       "City_Ljubljana             0\n",
       "City_London                0\n",
       "City_Luxembourg            0\n",
       "City_Lyon                  0\n",
       "City_Madrid                0\n",
       "City_Milan                 0\n",
       "City_Munich                0\n",
       "City_Oporto                0\n",
       "City_Oslo                  0\n",
       "City_Paris                 0\n",
       "City_Prague                0\n",
       "City_Rome                  0\n",
       "City_Stockholm             0\n",
       "City_Vienna                0\n",
       "City_Warsaw                0\n",
       "City_Zurich                0\n",
       "City_nan                   0\n",
       "dtype: int64"
      ]
     },
     "execution_count": 20,
     "metadata": {},
     "output_type": "execute_result"
    }
   ],
   "source": [
    "df_cl['Markup'] = df_dr['Markup']\n",
    "df_cl['Ranking'] = df_dr['Ranking']\n",
    "df_cl['Rating'] = df_dr['Rating']\n",
    "# А диапазон цен сразу преобразуем в числовой формат  \n",
    "df_cl['Price_Range_num'] = df_dr['Price Range'].replace(to_replace={'$':1, '$$ - $$$':2, '$$$$':3})\n",
    "\n",
    "# Медианное значение диапазона цен \n",
    "Price_Range_median = df_cl['Price_Range_num'].median()\n",
    "\n",
    "# Пустоты диапазона просто заполним медианой (это 2 ($$-$$$))\n",
    "df_cl['Price_Range_num'] = df_cl['Price_Range_num'].fillna(Price_Range_median)\n",
    "\n",
    "# Медианное значение кол-ва ревью \n",
    "Number_reviews_median = df_dr['Number of Reviews'].median()\n",
    "\n",
    "# ВВедем признак пустоты кол-ва ревью:\n",
    "df_cl['Number_of_Reviews_isNAN'] = pd.isna(df_dr['Number of Reviews']).astype('uint8')\n",
    "\n",
    "# Пустоты по кол-ву ревью заполним медианой\n",
    "df_cl['Number of Reviews'] = df_dr['Number of Reviews'].fillna(Number_reviews_median)\n",
    "\n",
    "# Присоединяем к чистовому датасету dummy переменные - города\n",
    "df_cl['City'] = df_dr['City']\n",
    "df_cl = pd.get_dummies(df_cl, columns=['City'], dummy_na=True)\n",
    "\n",
    "# После проделанных действий не должно быть пропусков, проверяем:\n",
    "#df_cl.info()\n",
    "df_cl.isna().sum()"
   ]
  },
  {
   "cell_type": "markdown",
   "metadata": {},
   "source": [
    "## Stage 1 (MAE = 0.2162)\n",
    "###### Как промежуточный итог, фиксируем, что модель, построенная на датафрейме c вышеопределенными признаками, показала MAE = 0.2162. \n",
    "###### с помощью feature_importances_ модели выявили, что наибольшую важность имеют признаки  Number of Reviews и Ranking. Именно эти признаки изучим более подробно в sStage 2"
   ]
  },
  {
   "cell_type": "markdown",
   "metadata": {},
   "source": [
    "## Осмотр данных"
   ]
  },
  {
   "cell_type": "code",
   "execution_count": 21,
   "metadata": {},
   "outputs": [
    {
     "data": {
      "text/plain": [
       "<AxesSubplot:>"
      ]
     },
     "execution_count": 21,
     "metadata": {},
     "output_type": "execute_result"
    },
    {
     "data": {
      "image/png": "[encoded data removed]",
      "text/plain": [
       "<Figure size 936x360 with 1 Axes>"
      ]
     },
     "metadata": {
      "needs_background": "light"
     },
     "output_type": "display_data"
    }
   ],
   "source": [
    "df_dr['City'].value_counts(ascending=True).plot(kind='barh')"
   ]
  },
  {
   "cell_type": "markdown",
   "metadata": {},
   "source": [
    "###### Более всего ресторанов в Лондоне, а разрыв по количеству громадный - от 7 тыс. до менее 1 тыс. Интересно каков диапазон Ranking в зависимости от города:"
   ]
  },
  {
   "cell_type": "code",
   "execution_count": 22,
   "metadata": {},
   "outputs": [
    {
     "data": {
      "image/png": "[encoded data removed]",
      "text/plain": [
       "<Figure size 936x360 with 1 Axes>"
      ]
     },
     "metadata": {
      "needs_background": "light"
     },
     "output_type": "display_data"
    }
   ],
   "source": [
    "# Цикл по 10 городам, которые встречаются наиболее часто в датасете:\n",
    "for x in (df_dr['City'].value_counts())[0:10].index:\n",
    "    df_dr['Ranking'][df_dr['City'] == x].hist(bins =100)\n",
    "plt.show()"
   ]
  },
  {
   "cell_type": "markdown",
   "metadata": {},
   "source": [
    "###### Как видим, Ranking очень сильно зависит от кол-ва ресторанов  в городе, необходимо нормализовать Ranking. Это поставит в одинаковые условия рестораны из разных городов."
   ]
  },
  {
   "cell_type": "code",
   "execution_count": 23,
   "metadata": {},
   "outputs": [],
   "source": [
    "# для каждой записи, делим ее Ranking на максимальный Ranking из всех записей того же города\n",
    "df_cl['Ranking_norm'] = df_dr['Ranking'] / df_dr['City'].map(df_dr.groupby(['City'])['Ranking'].max())\n",
    "\n",
    "# MAE: 0.21440549999999997 witn Ranking and Ranking_norm\n",
    "# MAE: 0.216946 only with Ranking_norm\n"
   ]
  },
  {
   "cell_type": "markdown",
   "metadata": {},
   "source": [
    "###### MAE незначительно уменьшился, но feature importance показал, что введенная переменная вышла на 1-е место по важности с далеким отрывом"
   ]
  },
  {
   "cell_type": "markdown",
   "metadata": {},
   "source": [
    "###### Попробуем исследовать распределение следующих величин:\n",
    "- ###### (ЛОгарифм?) Ранг\n",
    "- ###### (ЛОгарифм?) Ранг/кол-во ресторанов в городе\n",
    "- ###### (ЛОгарифм?) Нормализованный ранг / кол-во ресторанов в городе"
   ]
  },
  {
   "cell_type": "code",
   "execution_count": 24,
   "metadata": {},
   "outputs": [
    {
     "data": {
      "image/png": "[encoded data removed]",
      "text/plain": [
       "<Figure size 1080x864 with 6 Axes>"
      ]
     },
     "metadata": {
      "needs_background": "light"
     },
     "output_type": "display_data"
    }
   ],
   "source": [
    "# Сначала найдем кол-во ресторанов в городе для каждой записи\n",
    "df_dr['rest_in_city'] = df_dr.groupby('City')['Restaurant_id'].transform('count')\n",
    "df_cl['rest_in_city'] = df_dr['rest_in_city']\n",
    "\n",
    "\n",
    "fig, axes = plt.subplots(2,3, figsize=(15,12))\n",
    "\n",
    "axes[0][0].hist(df_cl['Ranking'], bins=50)\n",
    "axes[0][0].set_title('Ранг')\n",
    "\n",
    "axes[0][1].hist(df_dr['Ranking']/df_dr['rest_in_city'], bins=50)\n",
    "axes[0][1].set_title('Ранг/Кол-во ресторанов')\n",
    "\n",
    "axes[0][2].hist(df_cl['Ranking_norm']/df_cl['rest_in_city'], bins=50)\n",
    "axes[0][2].set_title('нормализованный Ранг/кол-во ресторанов')\n",
    "\n",
    "axes[1][0].hist(np.log(df_cl['Ranking']), bins=50)\n",
    "axes[1][0].set_title('логарифм Ranking')\n",
    "\n",
    "axes[1][1].hist(np.log(df_dr['Ranking']/df_dr['rest_in_city']), bins =50)\n",
    "axes[1][1].set_title('Логарифм (Ранг/Кол-во ресторанов)')\n",
    "\n",
    "axes[1][2].hist(np.log(df_cl['Ranking_norm']/df_cl['rest_in_city']), bins=50)\n",
    "axes[1][2].set_title('Логарифм (нормализованный Ранг/кол-во ресторанов)')\n",
    "\n",
    "\n",
    "# признаки логарифм Ranking и Логарифм (нормализованный Ранг/кол-во ресторанов) имеют распределение, похожее по форме на \n",
    "# нормальное, а значит их имеет смысл включить в модель\n",
    "\n",
    "#df_cl['Log_Ranking'] = np.log(df_cl['Ranking']) после изучения карты корреляций, решено убрать \n",
    "df_cl['Log_Norm_Ranking_To_rest_in_city'] = np.log(df_cl['Ranking_norm']/df_cl['rest_in_city'])\n",
    "# после добавления признаков выше MAE: 0.21144549999999998"
   ]
  },
  {
   "cell_type": "markdown",
   "metadata": {},
   "source": [
    "## Попробуем создать полиноминальные признаки и выберем лучшее"
   ]
  },
  {
   "cell_type": "code",
   "execution_count": 25,
   "metadata": {},
   "outputs": [
    {
     "data": {
      "image/png": "[encoded data removed]",
      "text/plain": [
       "<Figure size 2016x1080 with 21 Axes>"
      ]
     },
     "metadata": {
      "needs_background": "light"
     },
     "output_type": "display_data"
    }
   ],
   "source": [
    "pf = PolynomialFeatures(2)\n",
    "poly_features = pf.fit_transform(df_cl[['rest_in_city', 'Ranking','Number of Reviews']].fillna(1))\n",
    "\n",
    "# Из всех колонок poly_frame наилучший MAE выдает логарифм C9\n",
    "poly_frame = pd.DataFrame(poly_features, columns=['c1','c2','c3','c4', 'c5', 'c6', 'c7', 'c8', 'c9', 'c10'])\n",
    "\n",
    "\n",
    "fig, axes = plt.subplots(7,3, figsize=(28,15))\n",
    "\n",
    "axes[0][0].hist(poly_frame['c1'], bins=50)\n",
    "axes[0][0].set_title('c1')\n",
    "\n",
    "axes[0][1].hist(poly_frame['c2'], bins=50)\n",
    "axes[0][1].set_title('c2')\n",
    "\n",
    "axes[0][2].hist(poly_frame['c3'], bins=50)\n",
    "axes[0][2].set_title('c3')\n",
    "\n",
    "axes[1][0].hist(poly_frame['c4'], bins=50)\n",
    "axes[1][0].set_title('c4')\n",
    "\n",
    "axes[1][1].hist(poly_frame['c5'], bins=50)\n",
    "axes[1][1].set_title('c5')\n",
    "\n",
    "axes[1][2].hist(poly_frame['c6'], bins=50)\n",
    "axes[1][2].set_title('c6')\n",
    "\n",
    "axes[2][0].hist(poly_frame['c7'], bins=50)\n",
    "axes[2][0].set_title('c7')\n",
    "\n",
    "axes[2][1].hist(poly_frame['c8'], bins=50)\n",
    "axes[2][1].set_title('c8')\n",
    "\n",
    "axes[2][2].hist(poly_frame['c9'], bins=50)\n",
    "axes[2][2].set_title('c9')\n",
    "\n",
    "axes[3][0].hist(poly_frame['c10'], bins=50)\n",
    "axes[3][0].set_title('c10')\n",
    "\n",
    "axes[4][0].hist(np.log(poly_frame['c3']), bins=50)\n",
    "axes[4][0].set_title('logc3')\n",
    "\n",
    "axes[4][1].hist(np.log(poly_frame['c4']), bins=50)\n",
    "axes[4][1].set_title('logc4')\n",
    "\n",
    "axes[4][2].hist(np.log(poly_frame['c6']), bins=50)\n",
    "axes[4][2].set_title('logc6')\n",
    "\n",
    "axes[5][0].hist(np.log(poly_frame['c7']), bins=50)\n",
    "axes[5][0].set_title('logc7')\n",
    "\n",
    "axes[5][1].hist(np.log(poly_frame['c8']), bins=50)\n",
    "axes[5][1].set_title('logc8')\n",
    "\n",
    "axes[5][2].hist(np.log(poly_frame['c9']), bins=50)\n",
    "axes[5][2].set_title('logc9')\n",
    "\n",
    "axes[6][0].hist(np.log(poly_frame['c10']), bins=50)\n",
    "axes[6][0].set_title('logc10')\n",
    "\n",
    "#df_cl = pd.concat([df_cl, poly_frame['c9']], axis=1)\n",
    "#MAE: 0.21098899999999998\n",
    "\n",
    "# т.к. из всех признаков логарифм с9 имеет распределение, более всех остальных напоминающее нормальное, именно его и \n",
    "# добавим в чистовую модель\n",
    "df_cl = pd.concat([df_cl, np.log(poly_frame['c9'])], axis=1)\n",
    "#MAE: 0.209254\n"
   ]
  },
  {
   "cell_type": "markdown",
   "metadata": {},
   "source": [
    "## кол-во ревью в ресторанах города и еще вариант нормализации ранга"
   ]
  },
  {
   "cell_type": "code",
   "execution_count": 26,
   "metadata": {},
   "outputs": [],
   "source": [
    "# Нормализуем количество отзывов относительно максимального в городе\n",
    "# reviews_in_city - это словарь, содержащий все уникальные города из датасета в качестве ключей \n",
    "# и суммарное кол-во ревью в качестве значений:\n",
    "reviews_in_city = df_dr.groupby(['City'])['Number of Reviews'].max().sort_values(ascending=False).to_dict()\n",
    "# с помощью to_replace и полученного словаря получаем поле кол-во ревью во всех ресторанах города\n",
    "df_dr['reviews_in_city'] = df_dr['City'].replace(to_replace=reviews_in_city)\n",
    "# нормализуем ранг к полученному признаку:\n",
    "df_cl['norm_rank_reviews'] = df_dr['Ranking'] / df_dr['reviews_in_city']\n",
    "\n",
    "# MAE: 0.2095585\n",
    "#np.log(df_cl['norm_rank_reviews']).hist(bins=50) логарифмизация данного параметра значительно ухудшает MAE"
   ]
  },
  {
   "cell_type": "markdown",
   "metadata": {},
   "source": [
    "## Stage 2 MAE = 0.2095585"
   ]
  },
  {
   "cell_type": "markdown",
   "metadata": {},
   "source": [
    "###### Следующим промежуточным итогом фиксируем, что исследованы Ranking и Number of Reviews, получены 2 варианта нормализации Ranking и полиномиальные признаки из в том числе данных полей"
   ]
  },
  {
   "cell_type": "markdown",
   "metadata": {},
   "source": [
    "## Рассмотрим теперь Cuisine Styles\n"
   ]
  },
  {
   "cell_type": "code",
   "execution_count": 27,
   "metadata": {},
   "outputs": [],
   "source": [
    "# Заполним пустые значения\n",
    "df_dr['Cuisine Style'] = df_dr['Cuisine Style'].fillna(\"['Unknown']\")\n",
    "\n",
    "# Преобразуем строки в список\n",
    "df_dr['Cuisine Style'] = df_dr['Cuisine Style'].apply(\n",
    "    lambda x: eval(x))  # transforming to a list\n",
    "\n",
    "# введем признак количество кухонь у ресторана\n",
    "df_cl['Cuisines_count'] = df_dr['Cuisine Style'].apply(lambda x: len(x))\n",
    "# MAE: 0.20770300000000003\n",
    "\n",
    "# Создим dummy переменные для типов кухоноь\n",
    "# Cuisines_dum = pd.get_dummies(df_dr['Cuisine Style'].explode()).reset_index().groupby('index').sum()\n",
    "\n",
    "# Присоединяем к data\n",
    "# df_cl = pd.concat([df_cl, Cuisines_dum], axis = 1)\n",
    "# MAE: 0.20896099999999998 ухудшился, поэтому не добавляем к чистовику"
   ]
  },
  {
   "cell_type": "code",
   "execution_count": 28,
   "metadata": {},
   "outputs": [
    {
     "data": {
      "text/plain": [
       "<AxesSubplot:>"
      ]
     },
     "execution_count": 28,
     "metadata": {},
     "output_type": "execute_result"
    },
    {
     "data": {
      "image/png": "[encoded data removed]",
      "text/plain": [
       "<Figure size 936x360 with 1 Axes>"
      ]
     },
     "metadata": {
      "needs_background": "light"
     },
     "output_type": "display_data"
    }
   ],
   "source": [
    "df_cl['Cuisines_count'].hist(bins=100)\n",
    "# подавляющее большинство ресторанов специализируются на одном типе кухне"
   ]
  },
  {
   "cell_type": "markdown",
   "metadata": {},
   "source": [
    "## Рассмотрим ревью"
   ]
  },
  {
   "cell_type": "code",
   "execution_count": 29,
   "metadata": {},
   "outputs": [],
   "source": [
    "pattern = re.compile('\\[\\[.*\\]\\]')\n",
    "nan = None\n",
    "\n",
    "# ф-я принимает на вход датасет, колонку с датами и содержанием ревью разделяет на несколько колонок:\n",
    "# первый и последний ревью и их даты\n",
    "def review_extraction(row):\n",
    "    cell = row['Reviews']\n",
    "    aux_list = [[], []]  \n",
    "    if type(cell) == str and pattern.fullmatch(cell):  \n",
    "        aux_list = eval(cell)  \n",
    "\n",
    "    row['first_review'] = aux_list[0][1] if len(aux_list[0]) > 1 else nan\n",
    "    row['last_review'] = aux_list[0][0] if len(aux_list[0]) > 0 else nan\n",
    "\n",
    "    row['first_date'] = pd.to_datetime(\n",
    "        aux_list[1][1] if len(aux_list[1]) > 1 else nan , format='%m/%d/%Y', errors='coerce')\n",
    "    row['last_date'] = pd.to_datetime(\n",
    "        aux_list[1][0] if len(aux_list[1]) > 0 else nan, format='%m/%d/%Y', errors='coerce')\n",
    "\n",
    "    return row\n",
    "\n",
    "\n",
    "df_dr = df_dr.apply(review_extraction, axis=1)\n",
    "#df_dr.sample(3)\n"
   ]
  },
  {
   "cell_type": "code",
   "execution_count": 30,
   "metadata": {},
   "outputs": [],
   "source": [
    "# введем признак кол-во дней между первым и последним ревью\n",
    "df_cl['reviews_diff'] = abs(df_dr['last_date'] - df_dr['first_date']).apply(lambda x: x.days).fillna(1)\n",
    "#MAE: 0.20372649999999998\n"
   ]
  },
  {
   "cell_type": "code",
   "execution_count": 31,
   "metadata": {},
   "outputs": [
    {
     "name": "stdout",
     "output_type": "stream",
     "text": [
      "<class 'pandas.core.frame.DataFrame'>\n",
      "RangeIndex: 50000 entries, 0 to 49999\n",
      "Data columns (total 45 columns):\n",
      " #   Column                            Non-Null Count  Dtype  \n",
      "---  ------                            --------------  -----  \n",
      " 0   Markup                            50000 non-null  int64  \n",
      " 1   Ranking                           50000 non-null  float64\n",
      " 2   Rating                            50000 non-null  float64\n",
      " 3   Price_Range_num                   50000 non-null  float64\n",
      " 4   Number_of_Reviews_isNAN           50000 non-null  uint8  \n",
      " 5   Number of Reviews                 50000 non-null  float64\n",
      " 6   City_Amsterdam                    50000 non-null  uint8  \n",
      " 7   City_Athens                       50000 non-null  uint8  \n",
      " 8   City_Barcelona                    50000 non-null  uint8  \n",
      " 9   City_Berlin                       50000 non-null  uint8  \n",
      " 10  City_Bratislava                   50000 non-null  uint8  \n",
      " 11  City_Brussels                     50000 non-null  uint8  \n",
      " 12  City_Budapest                     50000 non-null  uint8  \n",
      " 13  City_Copenhagen                   50000 non-null  uint8  \n",
      " 14  City_Dublin                       50000 non-null  uint8  \n",
      " 15  City_Edinburgh                    50000 non-null  uint8  \n",
      " 16  City_Geneva                       50000 non-null  uint8  \n",
      " 17  City_Hamburg                      50000 non-null  uint8  \n",
      " 18  City_Helsinki                     50000 non-null  uint8  \n",
      " 19  City_Krakow                       50000 non-null  uint8  \n",
      " 20  City_Lisbon                       50000 non-null  uint8  \n",
      " 21  City_Ljubljana                    50000 non-null  uint8  \n",
      " 22  City_London                       50000 non-null  uint8  \n",
      " 23  City_Luxembourg                   50000 non-null  uint8  \n",
      " 24  City_Lyon                         50000 non-null  uint8  \n",
      " 25  City_Madrid                       50000 non-null  uint8  \n",
      " 26  City_Milan                        50000 non-null  uint8  \n",
      " 27  City_Munich                       50000 non-null  uint8  \n",
      " 28  City_Oporto                       50000 non-null  uint8  \n",
      " 29  City_Oslo                         50000 non-null  uint8  \n",
      " 30  City_Paris                        50000 non-null  uint8  \n",
      " 31  City_Prague                       50000 non-null  uint8  \n",
      " 32  City_Rome                         50000 non-null  uint8  \n",
      " 33  City_Stockholm                    50000 non-null  uint8  \n",
      " 34  City_Vienna                       50000 non-null  uint8  \n",
      " 35  City_Warsaw                       50000 non-null  uint8  \n",
      " 36  City_Zurich                       50000 non-null  uint8  \n",
      " 37  City_nan                          50000 non-null  uint8  \n",
      " 38  Ranking_norm                      50000 non-null  float64\n",
      " 39  rest_in_city                      50000 non-null  int64  \n",
      " 40  Log_Norm_Ranking_To_rest_in_city  50000 non-null  float64\n",
      " 41  c9                                50000 non-null  float64\n",
      " 42  norm_rank_reviews                 50000 non-null  float64\n",
      " 43  Cuisines_count                    50000 non-null  int64  \n",
      " 44  reviews_diff                      50000 non-null  float64\n",
      "dtypes: float64(9), int64(3), uint8(33)\n",
      "memory usage: 6.2 MB\n"
     ]
    }
   ],
   "source": [
    "df_cl.info()"
   ]
  },
  {
   "cell_type": "code",
   "execution_count": 32,
   "metadata": {},
   "outputs": [],
   "source": [
    "# у признаков norm_rank_reviews (ранг нормализованный по кол-ву ревью) и Ranking_norm (ранг нормализованный \n",
    "# по максимальному значению) также сильная корреляция, но удаление norm_rank_reviews из модели существенно \n",
    "# снизило MAE 0.2046->0.2090\n",
    "\n",
    "#df_cl.drop(['norm_rank_reviews'],axis = 1)"
   ]
  },
  {
   "cell_type": "markdown",
   "metadata": {},
   "source": [
    "## Выбросы"
   ]
  },
  {
   "cell_type": "code",
   "execution_count": 33,
   "metadata": {
    "scrolled": true
   },
   "outputs": [
    {
     "data": {
      "text/plain": [
       "<AxesSubplot:>"
      ]
     },
     "execution_count": 33,
     "metadata": {},
     "output_type": "execute_result"
    },
    {
     "data": {
      "image/png": "[encoded data removed]",
      "text/plain": [
       "<Figure size 936x360 with 1 Axes>"
      ]
     },
     "metadata": {
      "needs_background": "light"
     },
     "output_type": "display_data"
    }
   ],
   "source": [
    "df_cl.Ranking.hist(bins=100)"
   ]
  },
  {
   "cell_type": "markdown",
   "metadata": {},
   "source": [
    "###### Ranking — место, которое занимает данный ресторан среди всех ресторанов своего города;\n",
    "###### по логике, Ranking д.б. не больше кол-ва ресторанов в городе, но таких строк больше половины датасета!"
   ]
  },
  {
   "cell_type": "code",
   "execution_count": 34,
   "metadata": {},
   "outputs": [
    {
     "data": {
      "text/plain": [
       "28364"
      ]
     },
     "execution_count": 34,
     "metadata": {},
     "output_type": "execute_result"
    }
   ],
   "source": [
    "len(df_cl[df_cl.Ranking > df_cl.rest_in_city])"
   ]
  },
  {
   "cell_type": "code",
   "execution_count": 35,
   "metadata": {},
   "outputs": [],
   "source": [
    "# ну посмотрим, как повлияет на MAE очистка половины датасета\n",
    "#df_cl = df_cl[df_cl.Ranking > df_cl.rest_in_city]\n",
    "#df_cl['Ranking1'] = df_cl['Ranking']/df_cl['rest_in_city']\n",
    "# без очистки строк, где Ranking>rest_in_city и без ревью MAE: 0.2091355\n",
    "# с очисткой строк, где Ranking>rest_in_city и без ревью MAE: 0.2322187004754358\n",
    "# с очисткой строк, где Ranking>rest_in_city и с Ranking/rest_in_city  и без ревью MAE: 0.2322187004754358"
   ]
  },
  {
   "cell_type": "markdown",
   "metadata": {},
   "source": [
    "#### Очистка выбросов по логике дала плохой результат, значит логика не логичная\n",
    "#### попробуем фильтрануть выбросы по Ranking по IQR:"
   ]
  },
  {
   "cell_type": "code",
   "execution_count": 36,
   "metadata": {},
   "outputs": [
    {
     "name": "stdout",
     "output_type": "stream",
     "text": [
      "16444.0\n",
      "1.0\n",
      "25-й перцентиль: 972.0, 75-й перцентиль: 5241.0, IQR: 4269.0, Границы выбросов: [-5431.5,11644.5].\n"
     ]
    },
    {
     "data": {
      "image/png": "[encoded data removed]",
      "text/plain": [
       "<Figure size 936x360 with 1 Axes>"
      ]
     },
     "metadata": {
      "needs_background": "light"
     },
     "output_type": "display_data"
    }
   ],
   "source": [
    "print(df_cl.Ranking.max())\n",
    "print(df_cl.Ranking.min())\n",
    "print_hist(df_cl.Ranking)"
   ]
  },
  {
   "cell_type": "code",
   "execution_count": 37,
   "metadata": {},
   "outputs": [
    {
     "data": {
      "text/plain": [
       "<AxesSubplot:>"
      ]
     },
     "execution_count": 37,
     "metadata": {},
     "output_type": "execute_result"
    },
    {
     "data": {
      "image/png": "[encoded data removed]",
      "text/plain": [
       "<Figure size 936x360 with 1 Axes>"
      ]
     },
     "metadata": {
      "needs_background": "light"
     },
     "output_type": "display_data"
    }
   ],
   "source": [
    "bounds = get_bounds(df_cl['Ranking'])\n",
    "#df_cl = df_cl[df_cl['Ranking']<bounds[4]] \n",
    "#df_cl['Ranking_norm'] = df_dr['Ranking'] / df_dr['City'].map(df_dr.groupby(['City'])['Ranking'].max())\n",
    "\n",
    "# без фильтрации выбросов по IQR и без ревью MAE: 0.20874849999999998\n",
    "# c фильтрацией выбросов по IQR и без ревью MAE: 0.2040428480068216\n",
    "df_cl.Ranking.hist(bins=100)"
   ]
  },
  {
   "cell_type": "markdown",
   "metadata": {},
   "source": [
    "#### Но просто удалить строки с выбросами по Ranking мы не можем, т.к. чистовой датасет содержит в себе и строки из  kaggle task, и при удалении выбросов удаляются и строки из kaggle task. А замена выбросов на медиану по городу дает уже худший MAE"
   ]
  },
  {
   "cell_type": "code",
   "execution_count": 38,
   "metadata": {},
   "outputs": [],
   "source": [
    "#median_ranks = df_dr.groupby(['City'])['Ranking'].median().sort_values(ascending=False).to_dict()\n",
    "#new_ranks = df_dr.apply(lambda row : row.Ranking if row.Ranking < 11644.5 else median_ranks[row.City], axis =1)\n",
    "#df_cl['Ranking'] = new_ranks\n",
    "# MAE: 0.21149449999999997\n",
    "\n"
   ]
  },
  {
   "cell_type": "code",
   "execution_count": 39,
   "metadata": {},
   "outputs": [
    {
     "data": {
      "text/plain": [
       "<AxesSubplot:>"
      ]
     },
     "execution_count": 39,
     "metadata": {},
     "output_type": "execute_result"
    },
    {
     "data": {
      "image/png": "[encoded data removed]",
      "text/plain": [
       "<Figure size 936x360 with 1 Axes>"
      ]
     },
     "metadata": {
      "needs_background": "light"
     },
     "output_type": "display_data"
    }
   ],
   "source": [
    "df_cl['Ranking'].hist(bins=100)"
   ]
  },
  {
   "cell_type": "markdown",
   "metadata": {},
   "source": [
    "###### поэтому, оставляем выбросы. kaggle task также содержит выбросы по Ranking, полагаю, при таком варианте модель отработает лучше на kaggle task"
   ]
  },
  {
   "cell_type": "markdown",
   "metadata": {},
   "source": [
    "# Разбиваем датафрейм на части, необходимые для обучения и тестирования модели"
   ]
  },
  {
   "cell_type": "code",
   "execution_count": 40,
   "metadata": {},
   "outputs": [
    {
     "data": {
      "text/plain": [
       "((10000, 44), (40000, 44), (40000, 43), (30000, 43), (10000, 43))"
      ]
     },
     "execution_count": 40,
     "metadata": {},
     "output_type": "execute_result"
    }
   ],
   "source": [
    "# Теперь выделим тестовую и контрольную части данных\n",
    "train_data = df_cl.query('Markup == 1').drop(['Markup'], axis=1)\n",
    "control_data = df_cl.query('Markup == 0').drop(['Markup'], axis=1)\n",
    "\n",
    "y = train_data.Rating.values            \n",
    "X = train_data.drop(['Rating'], axis=1)\n",
    "\n",
    "\n",
    "# всегда фиксируйте RANDOM_SEED, чтобы ваши эксперименты были воспроизводимы!\n",
    "RANDOM_SEED = 42\n",
    "\n",
    "# Воспользуемся специальной функцией train_test_split для разбивки тестовых данных\n",
    "# выделим 20% данных на валидацию (параметр test_size)\n",
    "X_train, X_control, y_train, y_control = train_test_split(X, y, test_size=0.25, random_state=RANDOM_SEED)\n",
    "\n",
    "# проверяем\n",
    "control_data.shape, train_data.shape, X.shape, X_train.shape, X_control.shape\n",
    "\n",
    "# ((10000, 35), (40000, 35), (40000, 34), (32000, 34), (8000, 34))\n"
   ]
  },
  {
   "cell_type": "code",
   "execution_count": 41,
   "metadata": {},
   "outputs": [],
   "source": [
    "# Наборы данных с меткой \"train\" будут использоваться для обучения модели, \"test\" - для тестирования.\n",
    "# Для тестирования мы будем использовать 25% от исходного датасета.\n",
    "X_train, X_control, y_train, y_control = train_test_split(X, y, test_size=0.25)"
   ]
  },
  {
   "cell_type": "markdown",
   "metadata": {},
   "source": [
    "# Создаём, обучаем и тестируем модель"
   ]
  },
  {
   "cell_type": "code",
   "execution_count": 42,
   "metadata": {},
   "outputs": [],
   "source": [
    "# Импортируем необходимые библиотеки:\n",
    "from sklearn.ensemble import RandomForestRegressor # инструмент для создания и обучения модели\n",
    "from sklearn import metrics # инструменты для оценки точности модели"
   ]
  },
  {
   "cell_type": "code",
   "execution_count": 43,
   "metadata": {},
   "outputs": [],
   "source": [
    "# Создаём модель\n",
    "regr = RandomForestRegressor(n_estimators=100)\n",
    "\n",
    "# Обучаем модель на тестовом наборе данных\n",
    "regr.fit(X_train, y_train)\n",
    "\n",
    "# Используем обученную модель для предсказания рейтинга ресторанов в тестовой выборке.\n",
    "y_pred = regr.predict(X_control)"
   ]
  },
  {
   "cell_type": "code",
   "execution_count": 44,
   "metadata": {},
   "outputs": [
    {
     "name": "stdout",
     "output_type": "stream",
     "text": [
      "MAE: 0.2062615\n"
     ]
    }
   ],
   "source": [
    "# Сравниваем предсказанные значения (y_pred) с реальными (y_test), и смотрим насколько они в среднем отличаются\n",
    "# Mean Absolute Error (MAE) - среднее отклонение предсказанных значений от фактических.\n",
    "print('MAE:', metrics.mean_absolute_error(y_control, y_pred))"
   ]
  },
  {
   "cell_type": "code",
   "execution_count": 45,
   "metadata": {},
   "outputs": [
    {
     "data": {
      "text/html": [
       "<div>\n",
       "<style scoped>\n",
       "    .dataframe tbody tr th:only-of-type {\n",
       "        vertical-align: middle;\n",
       "    }\n",
       "\n",
       "    .dataframe tbody tr th {\n",
       "        vertical-align: top;\n",
       "    }\n",
       "\n",
       "    .dataframe thead th {\n",
       "        text-align: right;\n",
       "    }\n",
       "</style>\n",
       "<table border=\"1\" class=\"dataframe\">\n",
       "  <thead>\n",
       "    <tr style=\"text-align: right;\">\n",
       "      <th></th>\n",
       "      <th>Ranking</th>\n",
       "      <th>Price_Range_num</th>\n",
       "      <th>Number_of_Reviews_isNAN</th>\n",
       "      <th>Number of Reviews</th>\n",
       "      <th>City_Amsterdam</th>\n",
       "      <th>City_Athens</th>\n",
       "      <th>City_Barcelona</th>\n",
       "      <th>City_Berlin</th>\n",
       "      <th>City_Bratislava</th>\n",
       "      <th>City_Brussels</th>\n",
       "      <th>City_Budapest</th>\n",
       "      <th>City_Copenhagen</th>\n",
       "      <th>City_Dublin</th>\n",
       "      <th>City_Edinburgh</th>\n",
       "      <th>City_Geneva</th>\n",
       "      <th>City_Hamburg</th>\n",
       "      <th>City_Helsinki</th>\n",
       "      <th>City_Krakow</th>\n",
       "      <th>City_Lisbon</th>\n",
       "      <th>City_Ljubljana</th>\n",
       "      <th>City_London</th>\n",
       "      <th>City_Luxembourg</th>\n",
       "      <th>City_Lyon</th>\n",
       "      <th>City_Madrid</th>\n",
       "      <th>City_Milan</th>\n",
       "      <th>City_Munich</th>\n",
       "      <th>City_Oporto</th>\n",
       "      <th>City_Oslo</th>\n",
       "      <th>City_Paris</th>\n",
       "      <th>City_Prague</th>\n",
       "      <th>City_Rome</th>\n",
       "      <th>City_Stockholm</th>\n",
       "      <th>City_Vienna</th>\n",
       "      <th>City_Warsaw</th>\n",
       "      <th>City_Zurich</th>\n",
       "      <th>City_nan</th>\n",
       "      <th>Ranking_norm</th>\n",
       "      <th>rest_in_city</th>\n",
       "      <th>Log_Norm_Ranking_To_rest_in_city</th>\n",
       "      <th>c9</th>\n",
       "      <th>norm_rank_reviews</th>\n",
       "      <th>Cuisines_count</th>\n",
       "      <th>reviews_diff</th>\n",
       "    </tr>\n",
       "  </thead>\n",
       "  <tbody>\n",
       "    <tr>\n",
       "      <th>15217</th>\n",
       "      <td>182.0</td>\n",
       "      <td>1.0</td>\n",
       "      <td>0</td>\n",
       "      <td>28.0</td>\n",
       "      <td>0</td>\n",
       "      <td>0</td>\n",
       "      <td>0</td>\n",
       "      <td>0</td>\n",
       "      <td>0</td>\n",
       "      <td>0</td>\n",
       "      <td>0</td>\n",
       "      <td>0</td>\n",
       "      <td>0</td>\n",
       "      <td>0</td>\n",
       "      <td>0</td>\n",
       "      <td>0</td>\n",
       "      <td>0</td>\n",
       "      <td>0</td>\n",
       "      <td>0</td>\n",
       "      <td>0</td>\n",
       "      <td>0</td>\n",
       "      <td>0</td>\n",
       "      <td>0</td>\n",
       "      <td>0</td>\n",
       "      <td>0</td>\n",
       "      <td>0</td>\n",
       "      <td>0</td>\n",
       "      <td>1</td>\n",
       "      <td>0</td>\n",
       "      <td>0</td>\n",
       "      <td>0</td>\n",
       "      <td>0</td>\n",
       "      <td>0</td>\n",
       "      <td>0</td>\n",
       "      <td>0</td>\n",
       "      <td>0</td>\n",
       "      <td>0.160070</td>\n",
       "      <td>488</td>\n",
       "      <td>-8.022457</td>\n",
       "      <td>8.536211</td>\n",
       "      <td>0.130841</td>\n",
       "      <td>7</td>\n",
       "      <td>20.0</td>\n",
       "    </tr>\n",
       "    <tr>\n",
       "      <th>18773</th>\n",
       "      <td>3514.0</td>\n",
       "      <td>2.0</td>\n",
       "      <td>0</td>\n",
       "      <td>17.0</td>\n",
       "      <td>0</td>\n",
       "      <td>0</td>\n",
       "      <td>1</td>\n",
       "      <td>0</td>\n",
       "      <td>0</td>\n",
       "      <td>0</td>\n",
       "      <td>0</td>\n",
       "      <td>0</td>\n",
       "      <td>0</td>\n",
       "      <td>0</td>\n",
       "      <td>0</td>\n",
       "      <td>0</td>\n",
       "      <td>0</td>\n",
       "      <td>0</td>\n",
       "      <td>0</td>\n",
       "      <td>0</td>\n",
       "      <td>0</td>\n",
       "      <td>0</td>\n",
       "      <td>0</td>\n",
       "      <td>0</td>\n",
       "      <td>0</td>\n",
       "      <td>0</td>\n",
       "      <td>0</td>\n",
       "      <td>0</td>\n",
       "      <td>0</td>\n",
       "      <td>0</td>\n",
       "      <td>0</td>\n",
       "      <td>0</td>\n",
       "      <td>0</td>\n",
       "      <td>0</td>\n",
       "      <td>0</td>\n",
       "      <td>0</td>\n",
       "      <td>0.450744</td>\n",
       "      <td>3395</td>\n",
       "      <td>-8.926915</td>\n",
       "      <td>10.997724</td>\n",
       "      <td>0.703363</td>\n",
       "      <td>2</td>\n",
       "      <td>132.0</td>\n",
       "    </tr>\n",
       "    <tr>\n",
       "      <th>11273</th>\n",
       "      <td>994.0</td>\n",
       "      <td>2.0</td>\n",
       "      <td>0</td>\n",
       "      <td>4.0</td>\n",
       "      <td>0</td>\n",
       "      <td>0</td>\n",
       "      <td>0</td>\n",
       "      <td>0</td>\n",
       "      <td>0</td>\n",
       "      <td>0</td>\n",
       "      <td>0</td>\n",
       "      <td>0</td>\n",
       "      <td>0</td>\n",
       "      <td>0</td>\n",
       "      <td>0</td>\n",
       "      <td>0</td>\n",
       "      <td>0</td>\n",
       "      <td>0</td>\n",
       "      <td>0</td>\n",
       "      <td>0</td>\n",
       "      <td>0</td>\n",
       "      <td>0</td>\n",
       "      <td>0</td>\n",
       "      <td>0</td>\n",
       "      <td>0</td>\n",
       "      <td>0</td>\n",
       "      <td>0</td>\n",
       "      <td>0</td>\n",
       "      <td>0</td>\n",
       "      <td>0</td>\n",
       "      <td>0</td>\n",
       "      <td>0</td>\n",
       "      <td>0</td>\n",
       "      <td>1</td>\n",
       "      <td>0</td>\n",
       "      <td>0</td>\n",
       "      <td>0.461467</td>\n",
       "      <td>925</td>\n",
       "      <td>-7.603138</td>\n",
       "      <td>8.288032</td>\n",
       "      <td>0.421902</td>\n",
       "      <td>1</td>\n",
       "      <td>1.0</td>\n",
       "    </tr>\n",
       "    <tr>\n",
       "      <th>41285</th>\n",
       "      <td>637.0</td>\n",
       "      <td>1.0</td>\n",
       "      <td>0</td>\n",
       "      <td>10.0</td>\n",
       "      <td>0</td>\n",
       "      <td>0</td>\n",
       "      <td>0</td>\n",
       "      <td>0</td>\n",
       "      <td>0</td>\n",
       "      <td>0</td>\n",
       "      <td>0</td>\n",
       "      <td>0</td>\n",
       "      <td>0</td>\n",
       "      <td>0</td>\n",
       "      <td>0</td>\n",
       "      <td>0</td>\n",
       "      <td>0</td>\n",
       "      <td>0</td>\n",
       "      <td>0</td>\n",
       "      <td>0</td>\n",
       "      <td>0</td>\n",
       "      <td>0</td>\n",
       "      <td>0</td>\n",
       "      <td>0</td>\n",
       "      <td>0</td>\n",
       "      <td>0</td>\n",
       "      <td>1</td>\n",
       "      <td>0</td>\n",
       "      <td>0</td>\n",
       "      <td>0</td>\n",
       "      <td>0</td>\n",
       "      <td>0</td>\n",
       "      <td>0</td>\n",
       "      <td>0</td>\n",
       "      <td>0</td>\n",
       "      <td>0</td>\n",
       "      <td>0.429245</td>\n",
       "      <td>642</td>\n",
       "      <td>-7.310315</td>\n",
       "      <td>8.759355</td>\n",
       "      <td>0.198690</td>\n",
       "      <td>2</td>\n",
       "      <td>161.0</td>\n",
       "    </tr>\n",
       "    <tr>\n",
       "      <th>47464</th>\n",
       "      <td>358.0</td>\n",
       "      <td>2.0</td>\n",
       "      <td>0</td>\n",
       "      <td>77.0</td>\n",
       "      <td>0</td>\n",
       "      <td>0</td>\n",
       "      <td>0</td>\n",
       "      <td>0</td>\n",
       "      <td>0</td>\n",
       "      <td>0</td>\n",
       "      <td>0</td>\n",
       "      <td>0</td>\n",
       "      <td>0</td>\n",
       "      <td>0</td>\n",
       "      <td>0</td>\n",
       "      <td>0</td>\n",
       "      <td>0</td>\n",
       "      <td>0</td>\n",
       "      <td>0</td>\n",
       "      <td>0</td>\n",
       "      <td>0</td>\n",
       "      <td>0</td>\n",
       "      <td>0</td>\n",
       "      <td>0</td>\n",
       "      <td>0</td>\n",
       "      <td>0</td>\n",
       "      <td>0</td>\n",
       "      <td>0</td>\n",
       "      <td>1</td>\n",
       "      <td>0</td>\n",
       "      <td>0</td>\n",
       "      <td>0</td>\n",
       "      <td>0</td>\n",
       "      <td>0</td>\n",
       "      <td>0</td>\n",
       "      <td>0</td>\n",
       "      <td>0.025597</td>\n",
       "      <td>6108</td>\n",
       "      <td>-12.382634</td>\n",
       "      <td>10.224338</td>\n",
       "      <td>0.046969</td>\n",
       "      <td>4</td>\n",
       "      <td>22.0</td>\n",
       "    </tr>\n",
       "    <tr>\n",
       "      <th>...</th>\n",
       "      <td>...</td>\n",
       "      <td>...</td>\n",
       "      <td>...</td>\n",
       "      <td>...</td>\n",
       "      <td>...</td>\n",
       "      <td>...</td>\n",
       "      <td>...</td>\n",
       "      <td>...</td>\n",
       "      <td>...</td>\n",
       "      <td>...</td>\n",
       "      <td>...</td>\n",
       "      <td>...</td>\n",
       "      <td>...</td>\n",
       "      <td>...</td>\n",
       "      <td>...</td>\n",
       "      <td>...</td>\n",
       "      <td>...</td>\n",
       "      <td>...</td>\n",
       "      <td>...</td>\n",
       "      <td>...</td>\n",
       "      <td>...</td>\n",
       "      <td>...</td>\n",
       "      <td>...</td>\n",
       "      <td>...</td>\n",
       "      <td>...</td>\n",
       "      <td>...</td>\n",
       "      <td>...</td>\n",
       "      <td>...</td>\n",
       "      <td>...</td>\n",
       "      <td>...</td>\n",
       "      <td>...</td>\n",
       "      <td>...</td>\n",
       "      <td>...</td>\n",
       "      <td>...</td>\n",
       "      <td>...</td>\n",
       "      <td>...</td>\n",
       "      <td>...</td>\n",
       "      <td>...</td>\n",
       "      <td>...</td>\n",
       "      <td>...</td>\n",
       "      <td>...</td>\n",
       "      <td>...</td>\n",
       "      <td>...</td>\n",
       "    </tr>\n",
       "    <tr>\n",
       "      <th>25451</th>\n",
       "      <td>2795.0</td>\n",
       "      <td>1.0</td>\n",
       "      <td>0</td>\n",
       "      <td>17.0</td>\n",
       "      <td>0</td>\n",
       "      <td>0</td>\n",
       "      <td>0</td>\n",
       "      <td>1</td>\n",
       "      <td>0</td>\n",
       "      <td>0</td>\n",
       "      <td>0</td>\n",
       "      <td>0</td>\n",
       "      <td>0</td>\n",
       "      <td>0</td>\n",
       "      <td>0</td>\n",
       "      <td>0</td>\n",
       "      <td>0</td>\n",
       "      <td>0</td>\n",
       "      <td>0</td>\n",
       "      <td>0</td>\n",
       "      <td>0</td>\n",
       "      <td>0</td>\n",
       "      <td>0</td>\n",
       "      <td>0</td>\n",
       "      <td>0</td>\n",
       "      <td>0</td>\n",
       "      <td>0</td>\n",
       "      <td>0</td>\n",
       "      <td>0</td>\n",
       "      <td>0</td>\n",
       "      <td>0</td>\n",
       "      <td>0</td>\n",
       "      <td>0</td>\n",
       "      <td>0</td>\n",
       "      <td>0</td>\n",
       "      <td>0</td>\n",
       "      <td>0.438638</td>\n",
       "      <td>2705</td>\n",
       "      <td>-8.726938</td>\n",
       "      <td>10.768801</td>\n",
       "      <td>1.086703</td>\n",
       "      <td>1</td>\n",
       "      <td>114.0</td>\n",
       "    </tr>\n",
       "    <tr>\n",
       "      <th>10288</th>\n",
       "      <td>2736.0</td>\n",
       "      <td>2.0</td>\n",
       "      <td>0</td>\n",
       "      <td>13.0</td>\n",
       "      <td>0</td>\n",
       "      <td>0</td>\n",
       "      <td>0</td>\n",
       "      <td>0</td>\n",
       "      <td>0</td>\n",
       "      <td>0</td>\n",
       "      <td>0</td>\n",
       "      <td>0</td>\n",
       "      <td>0</td>\n",
       "      <td>0</td>\n",
       "      <td>0</td>\n",
       "      <td>0</td>\n",
       "      <td>0</td>\n",
       "      <td>0</td>\n",
       "      <td>0</td>\n",
       "      <td>0</td>\n",
       "      <td>0</td>\n",
       "      <td>0</td>\n",
       "      <td>0</td>\n",
       "      <td>0</td>\n",
       "      <td>1</td>\n",
       "      <td>0</td>\n",
       "      <td>0</td>\n",
       "      <td>0</td>\n",
       "      <td>0</td>\n",
       "      <td>0</td>\n",
       "      <td>0</td>\n",
       "      <td>0</td>\n",
       "      <td>0</td>\n",
       "      <td>0</td>\n",
       "      <td>0</td>\n",
       "      <td>0</td>\n",
       "      <td>0.436016</td>\n",
       "      <td>2694</td>\n",
       "      <td>-8.728859</td>\n",
       "      <td>10.479202</td>\n",
       "      <td>0.430189</td>\n",
       "      <td>1</td>\n",
       "      <td>1.0</td>\n",
       "    </tr>\n",
       "    <tr>\n",
       "      <th>33177</th>\n",
       "      <td>7054.0</td>\n",
       "      <td>2.0</td>\n",
       "      <td>0</td>\n",
       "      <td>139.0</td>\n",
       "      <td>0</td>\n",
       "      <td>0</td>\n",
       "      <td>0</td>\n",
       "      <td>0</td>\n",
       "      <td>0</td>\n",
       "      <td>0</td>\n",
       "      <td>0</td>\n",
       "      <td>0</td>\n",
       "      <td>0</td>\n",
       "      <td>0</td>\n",
       "      <td>0</td>\n",
       "      <td>0</td>\n",
       "      <td>0</td>\n",
       "      <td>0</td>\n",
       "      <td>0</td>\n",
       "      <td>0</td>\n",
       "      <td>0</td>\n",
       "      <td>0</td>\n",
       "      <td>0</td>\n",
       "      <td>0</td>\n",
       "      <td>0</td>\n",
       "      <td>0</td>\n",
       "      <td>0</td>\n",
       "      <td>0</td>\n",
       "      <td>1</td>\n",
       "      <td>0</td>\n",
       "      <td>0</td>\n",
       "      <td>0</td>\n",
       "      <td>0</td>\n",
       "      <td>0</td>\n",
       "      <td>0</td>\n",
       "      <td>0</td>\n",
       "      <td>0.504362</td>\n",
       "      <td>6108</td>\n",
       "      <td>-9.401817</td>\n",
       "      <td>13.795824</td>\n",
       "      <td>0.925479</td>\n",
       "      <td>4</td>\n",
       "      <td>46.0</td>\n",
       "    </tr>\n",
       "    <tr>\n",
       "      <th>38421</th>\n",
       "      <td>1711.0</td>\n",
       "      <td>2.0</td>\n",
       "      <td>0</td>\n",
       "      <td>310.0</td>\n",
       "      <td>0</td>\n",
       "      <td>0</td>\n",
       "      <td>0</td>\n",
       "      <td>0</td>\n",
       "      <td>0</td>\n",
       "      <td>0</td>\n",
       "      <td>0</td>\n",
       "      <td>0</td>\n",
       "      <td>0</td>\n",
       "      <td>0</td>\n",
       "      <td>0</td>\n",
       "      <td>0</td>\n",
       "      <td>0</td>\n",
       "      <td>0</td>\n",
       "      <td>0</td>\n",
       "      <td>0</td>\n",
       "      <td>0</td>\n",
       "      <td>0</td>\n",
       "      <td>0</td>\n",
       "      <td>0</td>\n",
       "      <td>0</td>\n",
       "      <td>0</td>\n",
       "      <td>0</td>\n",
       "      <td>0</td>\n",
       "      <td>1</td>\n",
       "      <td>0</td>\n",
       "      <td>0</td>\n",
       "      <td>0</td>\n",
       "      <td>0</td>\n",
       "      <td>0</td>\n",
       "      <td>0</td>\n",
       "      <td>0</td>\n",
       "      <td>0.122337</td>\n",
       "      <td>6108</td>\n",
       "      <td>-10.818334</td>\n",
       "      <td>13.181406</td>\n",
       "      <td>0.224482</td>\n",
       "      <td>2</td>\n",
       "      <td>84.0</td>\n",
       "    </tr>\n",
       "    <tr>\n",
       "      <th>14739</th>\n",
       "      <td>373.0</td>\n",
       "      <td>2.0</td>\n",
       "      <td>0</td>\n",
       "      <td>352.0</td>\n",
       "      <td>0</td>\n",
       "      <td>0</td>\n",
       "      <td>0</td>\n",
       "      <td>0</td>\n",
       "      <td>0</td>\n",
       "      <td>0</td>\n",
       "      <td>0</td>\n",
       "      <td>0</td>\n",
       "      <td>0</td>\n",
       "      <td>0</td>\n",
       "      <td>0</td>\n",
       "      <td>0</td>\n",
       "      <td>0</td>\n",
       "      <td>0</td>\n",
       "      <td>0</td>\n",
       "      <td>0</td>\n",
       "      <td>0</td>\n",
       "      <td>0</td>\n",
       "      <td>0</td>\n",
       "      <td>0</td>\n",
       "      <td>0</td>\n",
       "      <td>0</td>\n",
       "      <td>0</td>\n",
       "      <td>0</td>\n",
       "      <td>0</td>\n",
       "      <td>0</td>\n",
       "      <td>0</td>\n",
       "      <td>1</td>\n",
       "      <td>0</td>\n",
       "      <td>0</td>\n",
       "      <td>0</td>\n",
       "      <td>0</td>\n",
       "      <td>0.151380</td>\n",
       "      <td>1033</td>\n",
       "      <td>-8.828185</td>\n",
       "      <td>11.785210</td>\n",
       "      <td>0.255305</td>\n",
       "      <td>6</td>\n",
       "      <td>14.0</td>\n",
       "    </tr>\n",
       "  </tbody>\n",
       "</table>\n",
       "<p>30000 rows × 43 columns</p>\n",
       "</div>"
      ],
      "text/plain": [
       "       Ranking  Price_Range_num  Number_of_Reviews_isNAN  Number of Reviews  \\\n",
       "15217    182.0              1.0                        0               28.0   \n",
       "18773   3514.0              2.0                        0               17.0   \n",
       "11273    994.0              2.0                        0                4.0   \n",
       "41285    637.0              1.0                        0               10.0   \n",
       "47464    358.0              2.0                        0               77.0   \n",
       "...        ...              ...                      ...                ...   \n",
       "25451   2795.0              1.0                        0               17.0   \n",
       "10288   2736.0              2.0                        0               13.0   \n",
       "33177   7054.0              2.0                        0              139.0   \n",
       "38421   1711.0              2.0                        0              310.0   \n",
       "14739    373.0              2.0                        0              352.0   \n",
       "\n",
       "       City_Amsterdam  City_Athens  City_Barcelona  City_Berlin  \\\n",
       "15217               0            0               0            0   \n",
       "18773               0            0               1            0   \n",
       "11273               0            0               0            0   \n",
       "41285               0            0               0            0   \n",
       "47464               0            0               0            0   \n",
       "...               ...          ...             ...          ...   \n",
       "25451               0            0               0            1   \n",
       "10288               0            0               0            0   \n",
       "33177               0            0               0            0   \n",
       "38421               0            0               0            0   \n",
       "14739               0            0               0            0   \n",
       "\n",
       "       City_Bratislava  City_Brussels  City_Budapest  City_Copenhagen  \\\n",
       "15217                0              0              0                0   \n",
       "18773                0              0              0                0   \n",
       "11273                0              0              0                0   \n",
       "41285                0              0              0                0   \n",
       "47464                0              0              0                0   \n",
       "...                ...            ...            ...              ...   \n",
       "25451                0              0              0                0   \n",
       "10288                0              0              0                0   \n",
       "33177                0              0              0                0   \n",
       "38421                0              0              0                0   \n",
       "14739                0              0              0                0   \n",
       "\n",
       "       City_Dublin  City_Edinburgh  City_Geneva  City_Hamburg  City_Helsinki  \\\n",
       "15217            0               0            0             0              0   \n",
       "18773            0               0            0             0              0   \n",
       "11273            0               0            0             0              0   \n",
       "41285            0               0            0             0              0   \n",
       "47464            0               0            0             0              0   \n",
       "...            ...             ...          ...           ...            ...   \n",
       "25451            0               0            0             0              0   \n",
       "10288            0               0            0             0              0   \n",
       "33177            0               0            0             0              0   \n",
       "38421            0               0            0             0              0   \n",
       "14739            0               0            0             0              0   \n",
       "\n",
       "       City_Krakow  City_Lisbon  City_Ljubljana  City_London  City_Luxembourg  \\\n",
       "15217            0            0               0            0                0   \n",
       "18773            0            0               0            0                0   \n",
       "11273            0            0               0            0                0   \n",
       "41285            0            0               0            0                0   \n",
       "47464            0            0               0            0                0   \n",
       "...            ...          ...             ...          ...              ...   \n",
       "25451            0            0               0            0                0   \n",
       "10288            0            0               0            0                0   \n",
       "33177            0            0               0            0                0   \n",
       "38421            0            0               0            0                0   \n",
       "14739            0            0               0            0                0   \n",
       "\n",
       "       City_Lyon  City_Madrid  City_Milan  City_Munich  City_Oporto  \\\n",
       "15217          0            0           0            0            0   \n",
       "18773          0            0           0            0            0   \n",
       "11273          0            0           0            0            0   \n",
       "41285          0            0           0            0            1   \n",
       "47464          0            0           0            0            0   \n",
       "...          ...          ...         ...          ...          ...   \n",
       "25451          0            0           0            0            0   \n",
       "10288          0            0           1            0            0   \n",
       "33177          0            0           0            0            0   \n",
       "38421          0            0           0            0            0   \n",
       "14739          0            0           0            0            0   \n",
       "\n",
       "       City_Oslo  City_Paris  City_Prague  City_Rome  City_Stockholm  \\\n",
       "15217          1           0            0          0               0   \n",
       "18773          0           0            0          0               0   \n",
       "11273          0           0            0          0               0   \n",
       "41285          0           0            0          0               0   \n",
       "47464          0           1            0          0               0   \n",
       "...          ...         ...          ...        ...             ...   \n",
       "25451          0           0            0          0               0   \n",
       "10288          0           0            0          0               0   \n",
       "33177          0           1            0          0               0   \n",
       "38421          0           1            0          0               0   \n",
       "14739          0           0            0          0               1   \n",
       "\n",
       "       City_Vienna  City_Warsaw  City_Zurich  City_nan  Ranking_norm  \\\n",
       "15217            0            0            0         0      0.160070   \n",
       "18773            0            0            0         0      0.450744   \n",
       "11273            0            1            0         0      0.461467   \n",
       "41285            0            0            0         0      0.429245   \n",
       "47464            0            0            0         0      0.025597   \n",
       "...            ...          ...          ...       ...           ...   \n",
       "25451            0            0            0         0      0.438638   \n",
       "10288            0            0            0         0      0.436016   \n",
       "33177            0            0            0         0      0.504362   \n",
       "38421            0            0            0         0      0.122337   \n",
       "14739            0            0            0         0      0.151380   \n",
       "\n",
       "       rest_in_city  Log_Norm_Ranking_To_rest_in_city         c9  \\\n",
       "15217           488                         -8.022457   8.536211   \n",
       "18773          3395                         -8.926915  10.997724   \n",
       "11273           925                         -7.603138   8.288032   \n",
       "41285           642                         -7.310315   8.759355   \n",
       "47464          6108                        -12.382634  10.224338   \n",
       "...             ...                               ...        ...   \n",
       "25451          2705                         -8.726938  10.768801   \n",
       "10288          2694                         -8.728859  10.479202   \n",
       "33177          6108                         -9.401817  13.795824   \n",
       "38421          6108                        -10.818334  13.181406   \n",
       "14739          1033                         -8.828185  11.785210   \n",
       "\n",
       "       norm_rank_reviews  Cuisines_count  reviews_diff  \n",
       "15217           0.130841               7          20.0  \n",
       "18773           0.703363               2         132.0  \n",
       "11273           0.421902               1           1.0  \n",
       "41285           0.198690               2         161.0  \n",
       "47464           0.046969               4          22.0  \n",
       "...                  ...             ...           ...  \n",
       "25451           1.086703               1         114.0  \n",
       "10288           0.430189               1           1.0  \n",
       "33177           0.925479               4          46.0  \n",
       "38421           0.224482               2          84.0  \n",
       "14739           0.255305               6          14.0  \n",
       "\n",
       "[30000 rows x 43 columns]"
      ]
     },
     "execution_count": 45,
     "metadata": {},
     "output_type": "execute_result"
    }
   ],
   "source": [
    "X_train"
   ]
  },
  {
   "cell_type": "code",
   "execution_count": 46,
   "metadata": {},
   "outputs": [
    {
     "data": {
      "text/plain": [
       "<AxesSubplot:>"
      ]
     },
     "execution_count": 46,
     "metadata": {},
     "output_type": "execute_result"
    },
    {
     "data": {
      "image/png": "[encoded data removed]",
      "text/plain": [
       "<Figure size 720x720 with 1 Axes>"
      ]
     },
     "metadata": {
      "needs_background": "light"
     },
     "output_type": "display_data"
    }
   ],
   "source": [
    "plt.rcParams['figure.figsize'] = (10,10)\n",
    "feat_importances = pd.Series(regr.feature_importances_, index=X.columns)\n",
    "feat_importances.nlargest(20).plot(kind='barh')"
   ]
  },
  {
   "cell_type": "markdown",
   "metadata": {},
   "source": [
    "## Изучение матрицы корреляций"
   ]
  },
  {
   "cell_type": "code",
   "execution_count": 47,
   "metadata": {},
   "outputs": [
    {
     "data": {
      "text/plain": [
       "<AxesSubplot:>"
      ]
     },
     "execution_count": 47,
     "metadata": {},
     "output_type": "execute_result"
    },
    {
     "data": {
      "image/png": "[encoded data removed]",
      "text/plain": [
       "<Figure size 720x720 with 2 Axes>"
      ]
     },
     "metadata": {
      "needs_background": "light"
     },
     "output_type": "display_data"
    }
   ],
   "source": [
    "correlation=df_cl[['Rating','Price_Range_num','Number of Reviews',\n",
    "                   'Ranking_norm','rest_in_city',\n",
    "                   'Log_Norm_Ranking_To_rest_in_city','c9',\n",
    "                   'norm_rank_reviews','Cuisines_count','reviews_diff']].corr()\n",
    "sns.heatmap(correlation, annot=True, cmap='coolwarm')\n"
   ]
  },
  {
   "cell_type": "markdown",
   "metadata": {},
   "source": [
    "## Submission"
   ]
  },
  {
   "cell_type": "code",
   "execution_count": 48,
   "metadata": {},
   "outputs": [
    {
     "data": {
      "text/html": [
       "<div>\n",
       "<style scoped>\n",
       "    .dataframe tbody tr th:only-of-type {\n",
       "        vertical-align: middle;\n",
       "    }\n",
       "\n",
       "    .dataframe tbody tr th {\n",
       "        vertical-align: top;\n",
       "    }\n",
       "\n",
       "    .dataframe thead th {\n",
       "        text-align: right;\n",
       "    }\n",
       "</style>\n",
       "<table border=\"1\" class=\"dataframe\">\n",
       "  <thead>\n",
       "    <tr style=\"text-align: right;\">\n",
       "      <th></th>\n",
       "      <th>Restaurant_id</th>\n",
       "      <th>Rating</th>\n",
       "    </tr>\n",
       "  </thead>\n",
       "  <tbody>\n",
       "    <tr>\n",
       "      <th>0</th>\n",
       "      <td>id_0</td>\n",
       "      <td>3.0</td>\n",
       "    </tr>\n",
       "    <tr>\n",
       "      <th>1</th>\n",
       "      <td>id_1</td>\n",
       "      <td>4.5</td>\n",
       "    </tr>\n",
       "    <tr>\n",
       "      <th>2</th>\n",
       "      <td>id_2</td>\n",
       "      <td>4.5</td>\n",
       "    </tr>\n",
       "    <tr>\n",
       "      <th>3</th>\n",
       "      <td>id_3</td>\n",
       "      <td>4.5</td>\n",
       "    </tr>\n",
       "    <tr>\n",
       "      <th>4</th>\n",
       "      <td>id_4</td>\n",
       "      <td>4.5</td>\n",
       "    </tr>\n",
       "    <tr>\n",
       "      <th>5</th>\n",
       "      <td>id_5</td>\n",
       "      <td>4.5</td>\n",
       "    </tr>\n",
       "    <tr>\n",
       "      <th>6</th>\n",
       "      <td>id_6</td>\n",
       "      <td>1.5</td>\n",
       "    </tr>\n",
       "    <tr>\n",
       "      <th>7</th>\n",
       "      <td>id_7</td>\n",
       "      <td>3.0</td>\n",
       "    </tr>\n",
       "    <tr>\n",
       "      <th>8</th>\n",
       "      <td>id_8</td>\n",
       "      <td>4.5</td>\n",
       "    </tr>\n",
       "    <tr>\n",
       "      <th>9</th>\n",
       "      <td>id_9</td>\n",
       "      <td>4.5</td>\n",
       "    </tr>\n",
       "  </tbody>\n",
       "</table>\n",
       "</div>"
      ],
      "text/plain": [
       "  Restaurant_id  Rating\n",
       "0          id_0     3.0\n",
       "1          id_1     4.5\n",
       "2          id_2     4.5\n",
       "3          id_3     4.5\n",
       "4          id_4     4.5\n",
       "5          id_5     4.5\n",
       "6          id_6     1.5\n",
       "7          id_7     3.0\n",
       "8          id_8     4.5\n",
       "9          id_9     4.5"
      ]
     },
     "execution_count": 48,
     "metadata": {},
     "output_type": "execute_result"
    }
   ],
   "source": [
    "# берем контрольный датасет, убираем ранее заполненную нулями колонку\n",
    "control_data = control_data.drop(['Rating'], axis=1)\n",
    "# Получаем предсказания нашей модели\n",
    "predict_submission = regr.predict(control_data)\n",
    "\n",
    "# округляем, чтобы рез-т был в том же видеЮ что и в тренировочном датасете\n",
    "predict_submission = np.array([round_rating_pred(x) for x in predict_submission])\n",
    "predict_submission\n",
    "\n",
    "# добавляем рез-т в датасет для kaggle\n",
    "sample_submission['Rating'] = predict_submission\n",
    "# Вывводим датасет в файл\n",
    "sample_submission.to_csv(DATA_DIR+'submission.csv', index=False)\n",
    "sample_submission.head(10)"
   ]
  },
  {
   "cell_type": "code",
   "execution_count": null,
   "metadata": {},
   "outputs": [],
   "source": []
  },
  {
   "cell_type": "code",
   "execution_count": null,
   "metadata": {},
   "outputs": [],
   "source": []
  },
  {
   "cell_type": "code",
   "execution_count": null,
   "metadata": {},
   "outputs": [],
   "source": []
  }
 ],
 "metadata": {
  "kernelspec": {
   "display_name": "Python 3",
   "language": "python",
   "name": "python3"
  },
  "language_info": {
   "codemirror_mode": {
    "name": "ipython",
    "version": 3
   },
   "file_extension": ".py",
   "mimetype": "text/x-python",
   "name": "python",
   "nbconvert_exporter": "python",
   "pygments_lexer": "ipython3",
   "version": "3.8.8"
  }
 },
 "nbformat": 4,
 "nbformat_minor": 2
}
