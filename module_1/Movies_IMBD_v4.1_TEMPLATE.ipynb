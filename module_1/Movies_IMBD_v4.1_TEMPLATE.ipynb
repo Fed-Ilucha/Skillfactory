{
 "cells": [
  {
   "cell_type": "code",
   "execution_count": 1,
   "metadata": {
    "_cell_guid": "b1076dfc-b9ad-4769-8c92-a6c4dae69d19",
    "_uuid": "8f2839f25d086af736a60e9eeb907d3b93b6e0e5",
    "colab": {},
    "colab_type": "code",
    "id": "U2D2gTdJVp90"
   },
   "outputs": [],
   "source": [
    "import numpy as np\n",
    "import pandas as pd\n",
    "import seaborn as sns\n",
    "import matplotlib.pyplot as plt\n",
    "from collections import Counter"
   ]
  },
  {
   "cell_type": "code",
   "execution_count": 2,
   "metadata": {
    "_cell_guid": "79c7e3d0-c299-4dcb-8224-4455121ee9b0",
    "_uuid": "d629ff2d2480ee46fbb7e2d37f6b5fab8052498a",
    "colab": {},
    "colab_type": "code",
    "id": "oyGfxL3eVp9-"
   },
   "outputs": [
    {
     "data": {
      "text/html": [
       "<div>\n",
       "<style scoped>\n",
       "    .dataframe tbody tr th:only-of-type {\n",
       "        vertical-align: middle;\n",
       "    }\n",
       "\n",
       "    .dataframe tbody tr th {\n",
       "        vertical-align: top;\n",
       "    }\n",
       "\n",
       "    .dataframe thead th {\n",
       "        text-align: right;\n",
       "    }\n",
       "</style>\n",
       "<table border=\"1\" class=\"dataframe\">\n",
       "  <thead>\n",
       "    <tr style=\"text-align: right;\">\n",
       "      <th></th>\n",
       "      <th>imdb_id</th>\n",
       "      <th>budget</th>\n",
       "      <th>revenue</th>\n",
       "      <th>original_title</th>\n",
       "      <th>cast</th>\n",
       "      <th>director</th>\n",
       "      <th>tagline</th>\n",
       "      <th>overview</th>\n",
       "      <th>runtime</th>\n",
       "      <th>genres</th>\n",
       "      <th>production_companies</th>\n",
       "      <th>release_date</th>\n",
       "      <th>vote_average</th>\n",
       "      <th>release_year</th>\n",
       "    </tr>\n",
       "  </thead>\n",
       "  <tbody>\n",
       "    <tr>\n",
       "      <th>931</th>\n",
       "      <td>tt0240900</td>\n",
       "      <td>14000000</td>\n",
       "      <td>6413915</td>\n",
       "      <td>Slackers</td>\n",
       "      <td>Jason Segel|Devon Sawa|Jason Schwartzman|Jaime...</td>\n",
       "      <td>Dewey Nicks</td>\n",
       "      <td>When all else fails... cheat.</td>\n",
       "      <td>Dave, Sam and Jeff are about to graduate from ...</td>\n",
       "      <td>86</td>\n",
       "      <td>Comedy|Romance</td>\n",
       "      <td>Sony Pictures|Screen Gems</td>\n",
       "      <td>2/1/2002</td>\n",
       "      <td>5.7</td>\n",
       "      <td>2002</td>\n",
       "    </tr>\n",
       "    <tr>\n",
       "      <th>1164</th>\n",
       "      <td>tt0316465</td>\n",
       "      <td>32000000</td>\n",
       "      <td>52277485</td>\n",
       "      <td>Radio</td>\n",
       "      <td>Cuba Gooding Jr.|Ed Harris|Alfre Woodard|S. Ep...</td>\n",
       "      <td>Mike Tollin</td>\n",
       "      <td>His courage made them champions.</td>\n",
       "      <td>Football coach Harold Jones befriends Radio, a...</td>\n",
       "      <td>109</td>\n",
       "      <td>Drama</td>\n",
       "      <td>Revolution Studios|Tollin/Robbins Productions</td>\n",
       "      <td>10/24/2003</td>\n",
       "      <td>7.1</td>\n",
       "      <td>2003</td>\n",
       "    </tr>\n",
       "    <tr>\n",
       "      <th>309</th>\n",
       "      <td>tt1233227</td>\n",
       "      <td>11000000</td>\n",
       "      <td>68233629</td>\n",
       "      <td>Saw VI</td>\n",
       "      <td>Tobin Bell|Costas Mandylor|Betsy Russell|Mark ...</td>\n",
       "      <td>Kevin Greutert</td>\n",
       "      <td>The Game Has Come Full Circle</td>\n",
       "      <td>Special Agent Strahm is dead, and Detective Ho...</td>\n",
       "      <td>90</td>\n",
       "      <td>Horror|Mystery</td>\n",
       "      <td>Lionsgate|Twisted Pictures</td>\n",
       "      <td>10/22/2009</td>\n",
       "      <td>5.9</td>\n",
       "      <td>2009</td>\n",
       "    </tr>\n",
       "    <tr>\n",
       "      <th>1004</th>\n",
       "      <td>tt1397514</td>\n",
       "      <td>79000000</td>\n",
       "      <td>355692760</td>\n",
       "      <td>Journey 2: The Mysterious Island</td>\n",
       "      <td>Dwayne Johnson|Josh Hutcherson|Kristin Davis|V...</td>\n",
       "      <td>Brad Peyton</td>\n",
       "      <td>Believe the Impossible. Discover the Incredible.</td>\n",
       "      <td>Sean Anderson partners with his mom's boyfrien...</td>\n",
       "      <td>94</td>\n",
       "      <td>Adventure|Action|Science Fiction</td>\n",
       "      <td>New Line Cinema|Contrafilm|Walden Media</td>\n",
       "      <td>1/19/2012</td>\n",
       "      <td>5.8</td>\n",
       "      <td>2012</td>\n",
       "    </tr>\n",
       "    <tr>\n",
       "      <th>1251</th>\n",
       "      <td>tt1229340</td>\n",
       "      <td>50000000</td>\n",
       "      <td>173649015</td>\n",
       "      <td>Anchorman 2: The Legend Continues</td>\n",
       "      <td>Will Ferrell|Steve Carell|Paul Rudd|Christina ...</td>\n",
       "      <td>Adam McKay</td>\n",
       "      <td>It's kind of a big deal</td>\n",
       "      <td>With the 70s behind him, San Diego's top rated...</td>\n",
       "      <td>119</td>\n",
       "      <td>Comedy</td>\n",
       "      <td>Paramount Pictures|Gary Sanchez Productions|Ap...</td>\n",
       "      <td>12/18/2013</td>\n",
       "      <td>6.0</td>\n",
       "      <td>2013</td>\n",
       "    </tr>\n",
       "  </tbody>\n",
       "</table>\n",
       "</div>"
      ],
      "text/plain": [
       "        imdb_id    budget    revenue                     original_title  \\\n",
       "931   tt0240900  14000000    6413915                           Slackers   \n",
       "1164  tt0316465  32000000   52277485                              Radio   \n",
       "309   tt1233227  11000000   68233629                             Saw VI   \n",
       "1004  tt1397514  79000000  355692760   Journey 2: The Mysterious Island   \n",
       "1251  tt1229340  50000000  173649015  Anchorman 2: The Legend Continues   \n",
       "\n",
       "                                                   cast        director  \\\n",
       "931   Jason Segel|Devon Sawa|Jason Schwartzman|Jaime...     Dewey Nicks   \n",
       "1164  Cuba Gooding Jr.|Ed Harris|Alfre Woodard|S. Ep...     Mike Tollin   \n",
       "309   Tobin Bell|Costas Mandylor|Betsy Russell|Mark ...  Kevin Greutert   \n",
       "1004  Dwayne Johnson|Josh Hutcherson|Kristin Davis|V...     Brad Peyton   \n",
       "1251  Will Ferrell|Steve Carell|Paul Rudd|Christina ...      Adam McKay   \n",
       "\n",
       "                                               tagline  \\\n",
       "931                      When all else fails... cheat.   \n",
       "1164                  His courage made them champions.   \n",
       "309                      The Game Has Come Full Circle   \n",
       "1004  Believe the Impossible. Discover the Incredible.   \n",
       "1251                           It's kind of a big deal   \n",
       "\n",
       "                                               overview  runtime  \\\n",
       "931   Dave, Sam and Jeff are about to graduate from ...       86   \n",
       "1164  Football coach Harold Jones befriends Radio, a...      109   \n",
       "309   Special Agent Strahm is dead, and Detective Ho...       90   \n",
       "1004  Sean Anderson partners with his mom's boyfrien...       94   \n",
       "1251  With the 70s behind him, San Diego's top rated...      119   \n",
       "\n",
       "                                genres  \\\n",
       "931                     Comedy|Romance   \n",
       "1164                             Drama   \n",
       "309                     Horror|Mystery   \n",
       "1004  Adventure|Action|Science Fiction   \n",
       "1251                            Comedy   \n",
       "\n",
       "                                   production_companies release_date  \\\n",
       "931                           Sony Pictures|Screen Gems     2/1/2002   \n",
       "1164      Revolution Studios|Tollin/Robbins Productions   10/24/2003   \n",
       "309                          Lionsgate|Twisted Pictures   10/22/2009   \n",
       "1004            New Line Cinema|Contrafilm|Walden Media    1/19/2012   \n",
       "1251  Paramount Pictures|Gary Sanchez Productions|Ap...   12/18/2013   \n",
       "\n",
       "      vote_average  release_year  \n",
       "931            5.7          2002  \n",
       "1164           7.1          2003  \n",
       "309            5.9          2009  \n",
       "1004           5.8          2012  \n",
       "1251           6.0          2013  "
      ]
     },
     "execution_count": 2,
     "metadata": {},
     "output_type": "execute_result"
    }
   ],
   "source": [
    "data = pd.read_csv('movie_bd_v5.csv')\n",
    "data.sample(5)"
   ]
  },
  {
   "cell_type": "code",
   "execution_count": 3,
   "metadata": {
    "colab": {},
    "colab_type": "code",
    "id": "CoYUnagMVp-C"
   },
   "outputs": [
    {
     "name": "stdout",
     "output_type": "stream",
     "text": [
      "<class 'pandas.core.frame.DataFrame'>\n",
      "RangeIndex: 1889 entries, 0 to 1888\n",
      "Data columns (total 14 columns):\n",
      " #   Column                Non-Null Count  Dtype  \n",
      "---  ------                --------------  -----  \n",
      " 0   imdb_id               1889 non-null   object \n",
      " 1   budget                1889 non-null   int64  \n",
      " 2   revenue               1889 non-null   int64  \n",
      " 3   original_title        1889 non-null   object \n",
      " 4   cast                  1889 non-null   object \n",
      " 5   director              1889 non-null   object \n",
      " 6   tagline               1889 non-null   object \n",
      " 7   overview              1889 non-null   object \n",
      " 8   runtime               1889 non-null   int64  \n",
      " 9   genres                1889 non-null   object \n",
      " 10  production_companies  1889 non-null   object \n",
      " 11  release_date          1889 non-null   object \n",
      " 12  vote_average          1889 non-null   float64\n",
      " 13  release_year          1889 non-null   int64  \n",
      "dtypes: float64(1), int64(4), object(9)\n",
      "memory usage: 206.7+ KB\n"
     ]
    },
    {
     "data": {
      "text/html": [
       "<div>\n",
       "<style scoped>\n",
       "    .dataframe tbody tr th:only-of-type {\n",
       "        vertical-align: middle;\n",
       "    }\n",
       "\n",
       "    .dataframe tbody tr th {\n",
       "        vertical-align: top;\n",
       "    }\n",
       "\n",
       "    .dataframe thead th {\n",
       "        text-align: right;\n",
       "    }\n",
       "</style>\n",
       "<table border=\"1\" class=\"dataframe\">\n",
       "  <thead>\n",
       "    <tr style=\"text-align: right;\">\n",
       "      <th></th>\n",
       "      <th>budget</th>\n",
       "      <th>revenue</th>\n",
       "      <th>runtime</th>\n",
       "      <th>vote_average</th>\n",
       "      <th>release_year</th>\n",
       "    </tr>\n",
       "  </thead>\n",
       "  <tbody>\n",
       "    <tr>\n",
       "      <th>count</th>\n",
       "      <td>1.889000e+03</td>\n",
       "      <td>1.889000e+03</td>\n",
       "      <td>1889.000000</td>\n",
       "      <td>1889.000000</td>\n",
       "      <td>1889.000000</td>\n",
       "    </tr>\n",
       "    <tr>\n",
       "      <th>mean</th>\n",
       "      <td>5.431083e+07</td>\n",
       "      <td>1.553653e+08</td>\n",
       "      <td>109.658549</td>\n",
       "      <td>6.140762</td>\n",
       "      <td>2007.860773</td>\n",
       "    </tr>\n",
       "    <tr>\n",
       "      <th>std</th>\n",
       "      <td>4.858721e+07</td>\n",
       "      <td>2.146698e+08</td>\n",
       "      <td>18.017041</td>\n",
       "      <td>0.764763</td>\n",
       "      <td>4.468841</td>\n",
       "    </tr>\n",
       "    <tr>\n",
       "      <th>min</th>\n",
       "      <td>5.000000e+06</td>\n",
       "      <td>2.033165e+06</td>\n",
       "      <td>63.000000</td>\n",
       "      <td>3.300000</td>\n",
       "      <td>2000.000000</td>\n",
       "    </tr>\n",
       "    <tr>\n",
       "      <th>25%</th>\n",
       "      <td>2.000000e+07</td>\n",
       "      <td>3.456058e+07</td>\n",
       "      <td>97.000000</td>\n",
       "      <td>5.600000</td>\n",
       "      <td>2004.000000</td>\n",
       "    </tr>\n",
       "    <tr>\n",
       "      <th>50%</th>\n",
       "      <td>3.800000e+07</td>\n",
       "      <td>8.361541e+07</td>\n",
       "      <td>107.000000</td>\n",
       "      <td>6.100000</td>\n",
       "      <td>2008.000000</td>\n",
       "    </tr>\n",
       "    <tr>\n",
       "      <th>75%</th>\n",
       "      <td>7.200000e+07</td>\n",
       "      <td>1.782626e+08</td>\n",
       "      <td>120.000000</td>\n",
       "      <td>6.600000</td>\n",
       "      <td>2012.000000</td>\n",
       "    </tr>\n",
       "    <tr>\n",
       "      <th>max</th>\n",
       "      <td>3.800000e+08</td>\n",
       "      <td>2.781506e+09</td>\n",
       "      <td>214.000000</td>\n",
       "      <td>8.100000</td>\n",
       "      <td>2015.000000</td>\n",
       "    </tr>\n",
       "  </tbody>\n",
       "</table>\n",
       "</div>"
      ],
      "text/plain": [
       "             budget       revenue      runtime  vote_average  release_year\n",
       "count  1.889000e+03  1.889000e+03  1889.000000   1889.000000   1889.000000\n",
       "mean   5.431083e+07  1.553653e+08   109.658549      6.140762   2007.860773\n",
       "std    4.858721e+07  2.146698e+08    18.017041      0.764763      4.468841\n",
       "min    5.000000e+06  2.033165e+06    63.000000      3.300000   2000.000000\n",
       "25%    2.000000e+07  3.456058e+07    97.000000      5.600000   2004.000000\n",
       "50%    3.800000e+07  8.361541e+07   107.000000      6.100000   2008.000000\n",
       "75%    7.200000e+07  1.782626e+08   120.000000      6.600000   2012.000000\n",
       "max    3.800000e+08  2.781506e+09   214.000000      8.100000   2015.000000"
      ]
     },
     "execution_count": 3,
     "metadata": {},
     "output_type": "execute_result"
    }
   ],
   "source": [
    "data.info()\n",
    "data.describe()"
   ]
  },
  {
   "cell_type": "markdown",
   "metadata": {
    "colab_type": "text",
    "id": "DTIt7ezGVp-G"
   },
   "source": [
    "# Предобработка"
   ]
  },
  {
   "cell_type": "code",
   "execution_count": 4,
   "metadata": {
    "colab": {},
    "colab_type": "code",
    "id": "jNb40DwKVp-H"
   },
   "outputs": [],
   "source": [
    "answers = {} # создадим словарь для ответов\n",
    "\n",
    "# тут другие ваши предобработки колонок например:\n",
    "\n",
    "# добавим колонку прибыль|profit = profit = revenue - budget\n",
    "data['profit'] = data.revenue - data.budget\n",
    "\n",
    "#колонка release_date в датафрейме имеет строковый формат, для удобства преобразуем в datetime\n",
    "data['release_dt'] = pd.to_datetime(data.release_date)"
   ]
  },
  {
   "cell_type": "markdown",
   "metadata": {
    "colab_type": "text",
    "id": "YxZaH-nPVp-L"
   },
   "source": [
    "# 1. У какого фильма из списка самый большой бюджет?"
   ]
  },
  {
   "cell_type": "markdown",
   "metadata": {
    "colab_type": "text",
    "id": "Nd-G5gX6Vp-M"
   },
   "source": [
    "Использовать варианты ответов в коде решения запрещено.    \n",
    "Вы думаете и в жизни у вас будут варианты ответов?)"
   ]
  },
  {
   "cell_type": "code",
   "execution_count": 8,
   "metadata": {
    "colab": {},
    "colab_type": "code",
    "id": "uVnXAY5RVp-O"
   },
   "outputs": [
    {
     "data": {
      "text/plain": [
       "'Pirates of the Caribbean: On Stranger Tides'"
      ]
     },
     "execution_count": 8,
     "metadata": {},
     "output_type": "execute_result"
    }
   ],
   "source": [
    "# в словарь вставляем номер вопроса и ваш ответ на него\n",
    "# Пример: \n",
    "answers['1'] = '2. Spider-Man 3 (tt0413300)'\n",
    "# запишите свой вариант ответа\n",
    "'Pirates of the Caribbean: On Stranger Tides'\n",
    "# если ответили верно, можете добавить комментарий со значком \"+\""
   ]
  },
  {
   "cell_type": "code",
   "execution_count": 9,
   "metadata": {
    "colab": {},
    "colab_type": "code",
    "id": "dZwb3m28Vp-S"
   },
   "outputs": [
    {
     "data": {
      "text/plain": [
       "{'1': 'Pirates of the Caribbean: On Stranger Tides'}"
      ]
     },
     "metadata": {},
     "output_type": "display_data"
    }
   ],
   "source": [
    "# используем отбор из датафрейма по условию бюджет равен максимальному\n",
    "answers['1'] = data[data.budget == data.budget.max()].original_title.iloc[0]\n",
    "display(answers)\n"
   ]
  },
  {
   "cell_type": "markdown",
   "metadata": {
    "colab_type": "text",
    "id": "K7L3nbRXVp-X"
   },
   "source": [
    "ВАРИАНТ 2"
   ]
  },
  {
   "cell_type": "code",
   "execution_count": 10,
   "metadata": {
    "colab": {},
    "colab_type": "code",
    "id": "OGaoQI7rVp-X"
   },
   "outputs": [
    {
     "data": {
      "text/plain": [
       "'Pirates of the Caribbean: On Stranger Tides'"
      ]
     },
     "metadata": {},
     "output_type": "display_data"
    }
   ],
   "source": [
    "# или отсортируем все фильмы по бюджету по убыванию и выберем 1-й эл-т \n",
    "answers['1'] = data[['original_title','budget']].sort_values(by=['budget'], ascending = False).original_title.iloc[0]\n",
    "display(answers['1'])"
   ]
  },
  {
   "cell_type": "markdown",
   "metadata": {
    "colab_type": "text",
    "id": "FNRbbI3vVp-c"
   },
   "source": [
    "# 2. Какой из фильмов самый длительный (в минутах)?"
   ]
  },
  {
   "cell_type": "code",
   "execution_count": 11,
   "metadata": {
    "colab": {},
    "colab_type": "code",
    "id": "vHAoEXNTVp-d"
   },
   "outputs": [],
   "source": [
    "# думаю логику работы с этим словарем вы уже поняли, \n",
    "# по этому не буду больше его дублировать"
   ]
  },
  {
   "cell_type": "code",
   "execution_count": 12,
   "metadata": {
    "colab": {},
    "colab_type": "code",
    "id": "ot-VX2XrVp-g"
   },
   "outputs": [
    {
     "data": {
      "text/plain": [
       "'Gods and Generals'"
      ]
     },
     "metadata": {},
     "output_type": "display_data"
    }
   ],
   "source": [
    "# отсортируем все фильмы по длительности по убыванию и выберем 1-й эл-т \n",
    "answers['2'] =data[['original_title','runtime']].sort_values(by=['runtime'], ascending = False).original_title.iloc[0]\n",
    "display(answers['2'])"
   ]
  },
  {
   "cell_type": "markdown",
   "metadata": {
    "colab_type": "text",
    "id": "bapLlpW8Vp-k"
   },
   "source": [
    "# 3. Какой из фильмов самый короткий (в минутах)?\n",
    "\n",
    "\n",
    "\n"
   ]
  },
  {
   "cell_type": "code",
   "execution_count": 13,
   "metadata": {
    "colab": {},
    "colab_type": "code",
    "id": "YBxaSHuAVp-l"
   },
   "outputs": [
    {
     "data": {
      "text/plain": [
       "'Winnie the Pooh'"
      ]
     },
     "metadata": {},
     "output_type": "display_data"
    }
   ],
   "source": [
    "# отсортируем все фильмы по длительности по возрастанию и выберем 1-й эл-т \n",
    "answers['3'] = data[['original_title','runtime']].sort_values(by=['runtime']).original_title.iloc[0]\n",
    "display(answers['3'])"
   ]
  },
  {
   "cell_type": "markdown",
   "metadata": {
    "colab_type": "text",
    "id": "TfQbxbfNVp-p"
   },
   "source": [
    "# 4. Какова средняя длительность фильмов?\n"
   ]
  },
  {
   "cell_type": "code",
   "execution_count": 14,
   "metadata": {
    "colab": {},
    "colab_type": "code",
    "id": "5K6dKZYVVp-q"
   },
   "outputs": [
    {
     "data": {
      "text/plain": [
       "109.6585494970884"
      ]
     },
     "metadata": {},
     "output_type": "display_data"
    }
   ],
   "source": [
    "# возьмем данную инф-ю из describe\n",
    "answers['4'] = data.describe().runtime['mean']\n",
    "display(answers['4'])"
   ]
  },
  {
   "cell_type": "code",
   "execution_count": 15,
   "metadata": {},
   "outputs": [
    {
     "data": {
      "text/plain": [
       "109.6585494970884"
      ]
     },
     "metadata": {},
     "output_type": "display_data"
    }
   ],
   "source": [
    "# или отберем поле длительность и применим к ней mean()\n",
    "answers['4'] = data.runtime.mean()\n",
    "display(answers['4'])"
   ]
  },
  {
   "cell_type": "markdown",
   "metadata": {
    "colab_type": "text",
    "id": "r5TvbnT_Vp-u"
   },
   "source": [
    "# 5. Каково медианное значение длительности фильмов? "
   ]
  },
  {
   "cell_type": "code",
   "execution_count": 16,
   "metadata": {
    "colab": {},
    "colab_type": "code",
    "id": "iBROplKnVp-v"
   },
   "outputs": [
    {
     "data": {
      "text/plain": [
       "107.0"
      ]
     },
     "metadata": {},
     "output_type": "display_data"
    }
   ],
   "source": [
    "# отберем поле длительность и применим к ней median()\n",
    "answers['5'] = data.runtime.median()\n",
    "display(answers['5'])"
   ]
  },
  {
   "cell_type": "markdown",
   "metadata": {
    "colab_type": "text",
    "id": "39P-deDSVp-y"
   },
   "source": [
    "# 6. Какой самый прибыльный фильм?\n",
    "#### Внимание! Здесь и далее под «прибылью» или «убытками» понимается разность между сборами и бюджетом фильма. (прибыль = сборы - бюджет) в нашем датасете это будет (profit = revenue - budget) "
   ]
  },
  {
   "cell_type": "code",
   "execution_count": 17,
   "metadata": {
    "colab": {},
    "colab_type": "code",
    "id": "UYZh4T9WVp-y"
   },
   "outputs": [
    {
     "data": {
      "text/plain": [
       "'Avatar'"
      ]
     },
     "metadata": {},
     "output_type": "display_data"
    }
   ],
   "source": [
    "# лучше код получения столбца profit вынести в Предобработку что в начале\n",
    "# отберем столбцы прибыль и название и отсортируем по прибыли по убыванию, возьмем 1-й эл-т\n",
    "answers['6'] = data[['profit','original_title']].sort_values(ascending = False,by=['profit']).original_title.iloc[0]\n",
    "display(answers['6'])"
   ]
  },
  {
   "cell_type": "markdown",
   "metadata": {
    "colab_type": "text",
    "id": "M99JmIX4Vp-2"
   },
   "source": [
    "# 7. Какой фильм самый убыточный? "
   ]
  },
  {
   "cell_type": "code",
   "execution_count": 18,
   "metadata": {
    "colab": {},
    "colab_type": "code",
    "id": "w-D2m4XPVp-3"
   },
   "outputs": [
    {
     "data": {
      "text/plain": [
       "'The Lone Ranger'"
      ]
     },
     "metadata": {},
     "output_type": "display_data"
    }
   ],
   "source": [
    "# используем отбор из датафрейма по условию прибыль равна минимальной\n",
    "answers['7'] = data[['profit','original_title']].sort_values(by=['profit']).original_title.iloc[0]\n",
    "display(answers['7'])\n"
   ]
  },
  {
   "cell_type": "markdown",
   "metadata": {
    "colab_type": "text",
    "id": "wEOM5ERVVp-6"
   },
   "source": [
    "# 8. У скольких фильмов из датасета объем сборов оказался выше бюджета?"
   ]
  },
  {
   "cell_type": "code",
   "execution_count": 19,
   "metadata": {
    "colab": {},
    "colab_type": "code",
    "id": "y00_7HD6Vp-7"
   },
   "outputs": [
    {
     "data": {
      "text/plain": [
       "1478"
      ]
     },
     "metadata": {},
     "output_type": "display_data"
    }
   ],
   "source": [
    "# отберем из датасета фильмы по условию прибыль больше 0, с помощью len() получим кол-во\n",
    "answers['8'] = len(data[data.profit>0])\n",
    "display(answers['8'])"
   ]
  },
  {
   "cell_type": "markdown",
   "metadata": {
    "colab_type": "text",
    "id": "xhpspA9KVp_A"
   },
   "source": [
    "# 9. Какой фильм оказался самым кассовым в 2008 году?"
   ]
  },
  {
   "cell_type": "code",
   "execution_count": 20,
   "metadata": {
    "colab": {},
    "colab_type": "code",
    "id": "MoUyQr9RVp_B"
   },
   "outputs": [
    {
     "data": {
      "text/plain": [
       "'The Dark Knight'"
      ]
     },
     "metadata": {},
     "output_type": "display_data"
    }
   ],
   "source": [
    "# отберем в отдельный датасет все фильмы 2008 года выпуска\n",
    "data9 = data[data.release_year == 2008]\n",
    "# из полученного датафрейма отберем поля название и сборы, отсортируем по убыванию по сборам, возьмем 1-й эл-т\n",
    "answers['9'] = data9[['original_title','revenue']].sort_values(ascending = False, by = ['revenue']).original_title.iloc[0]\n",
    "display(answers['9'])"
   ]
  },
  {
   "cell_type": "markdown",
   "metadata": {
    "colab_type": "text",
    "id": "Zi4hDKidVp_F"
   },
   "source": [
    "# 10. Самый убыточный фильм за период с 2012 по 2014 г.(включительно)?"
   ]
  },
  {
   "cell_type": "code",
   "execution_count": 21,
   "metadata": {
    "colab": {},
    "colab_type": "code",
    "id": "XqyRmufJVp_F"
   },
   "outputs": [
    {
     "data": {
      "text/plain": [
       "'The Lone Ranger'"
      ]
     },
     "metadata": {},
     "output_type": "display_data"
    }
   ],
   "source": [
    "# в отдельный датафрейм отберем фильмы 2012-2014 г.в.\n",
    "data10 = data[data.release_year.isin([2012,2013,2014])]\n",
    "# из полученного датафрейма отберем поля название и прибыль, отсортируем по возрастанию по прибыли, возьмем 1-й эл-т\n",
    "answers['10'] = data10[['original_title','profit']].sort_values(by = ['profit']).original_title.iloc[0]\n",
    "display(answers['10'])"
   ]
  },
  {
   "cell_type": "markdown",
   "metadata": {
    "colab_type": "text",
    "id": "EA7Sa9dkVp_I"
   },
   "source": [
    "# 11. Какого жанра фильмов больше всего?"
   ]
  },
  {
   "cell_type": "code",
   "execution_count": 22,
   "metadata": {
    "colab": {},
    "colab_type": "code",
    "id": "zsJAwJ8QVp_J"
   },
   "outputs": [
    {
     "data": {
      "text/plain": [
       "'Drama'"
      ]
     },
     "metadata": {},
     "output_type": "display_data"
    }
   ],
   "source": [
    "# эту задачу тоже можно решать разными подходами, попробуй реализовать разные варианты\n",
    "# если будешь добавлять функцию - выноси ее в предобработку что в начале\n",
    "#в каждом фильме разделим поле жанр на серию из отдельных эл-тов по жанрам (split()), соберем все в один список и\n",
    "#в нем, с помощью value_counts посчитаем кол-во каждого из жанров, index[0] будет содержать наиболее часто встречаемый жанр\n",
    "answers['11'] = pd.Series(data.genres.str.split('|').sum()).value_counts().index[0]\n",
    "display(answers['11'])"
   ]
  },
  {
   "cell_type": "markdown",
   "metadata": {
    "colab_type": "text",
    "id": "Ax6g2C8SVp_M"
   },
   "source": [
    "ВАРИАНТ 2"
   ]
  },
  {
   "cell_type": "code",
   "execution_count": null,
   "metadata": {
    "colab": {},
    "colab_type": "code",
    "id": "otO3SbrSVp_N"
   },
   "outputs": [],
   "source": []
  },
  {
   "cell_type": "markdown",
   "metadata": {
    "colab_type": "text",
    "id": "T9_bPWpkVp_Q"
   },
   "source": [
    "# 12. Фильмы какого жанра чаще всего становятся прибыльными? "
   ]
  },
  {
   "cell_type": "code",
   "execution_count": 24,
   "metadata": {
    "colab": {},
    "colab_type": "code",
    "id": "Tmt8MaK1Vp_R"
   },
   "outputs": [
    {
     "data": {
      "text/plain": [
       "'Drama'"
      ]
     },
     "metadata": {},
     "output_type": "display_data"
    }
   ],
   "source": [
    "# в отдельный датафрейм отберем прибыльные фильмы\n",
    "data12 = data[data.profit > 0]\n",
    "#в каждом фильме разделим поле жанр на серию из отдельных эл-тов по жанрам (split()), соберем все в один список и\n",
    "#в нем, с помощью value_counts посчитаем кол-во каждого из жанров, index[0] будет содержать наиболее часто встречаемый жанр\n",
    "answers['12'] = pd.Series(data12.genres.str.split('|').sum()).value_counts().index[0]\n",
    "display(answers['12'])"
   ]
  },
  {
   "cell_type": "markdown",
   "metadata": {
    "colab_type": "text",
    "id": "0F23bgsDVp_U"
   },
   "source": [
    "# 13. У какого режиссера самые большие суммарные кассовые сборы?"
   ]
  },
  {
   "cell_type": "code",
   "execution_count": 25,
   "metadata": {
    "colab": {},
    "colab_type": "code",
    "id": "K6Z3J8ygVp_X"
   },
   "outputs": [
    {
     "data": {
      "text/plain": [
       "'Peter Jackson'"
      ]
     },
     "metadata": {},
     "output_type": "display_data"
    }
   ],
   "source": [
    "#группируем фильмы по режиссеру, применяем суммирование к полю сборы, сортируем по убыванию, берем 1-й эл-т\n",
    "answers['13'] =data.groupby(['director']).revenue.sum().sort_values(ascending = False).index[0]\n",
    "display(answers['13'])"
   ]
  },
  {
   "cell_type": "markdown",
   "metadata": {
    "colab_type": "text",
    "id": "PsYC9FgRVp_a"
   },
   "source": [
    "# 14. Какой режисер снял больше всего фильмов в стиле Action?"
   ]
  },
  {
   "cell_type": "code",
   "execution_count": 26,
   "metadata": {
    "colab": {},
    "colab_type": "code",
    "id": "wd2M-wHeVp_b"
   },
   "outputs": [
    {
     "data": {
      "text/plain": [
       "'Robert Rodriguez'"
      ]
     },
     "metadata": {},
     "output_type": "display_data"
    }
   ],
   "source": [
    "# отбираем все фильмы жанра Action\n",
    "data14 = data[data.genres.str.contains('Action')]\n",
    "# split ом и sum ом делаем лист из режиссеров, преобразуем в серию и считаем в ней кол-во всех значений, наиболее частый будет \n",
    "# содержаться в index[0]\n",
    "answers['14'] = pd.Series(data14.director.str.split('|').sum()).value_counts().index[0]\n",
    "display(answers['14'])"
   ]
  },
  {
   "cell_type": "markdown",
   "metadata": {
    "colab_type": "text",
    "id": "PQ0KciD7Vp_f"
   },
   "source": [
    "# 15. Фильмы с каким актером принесли самые высокие кассовые сборы в 2012 году? "
   ]
  },
  {
   "cell_type": "code",
   "execution_count": 27,
   "metadata": {
    "colab": {},
    "colab_type": "code",
    "id": "aga62oeKVp_g"
   },
   "outputs": [
    {
     "data": {
      "text/plain": [
       "'Chris Hemsworth'"
      ]
     },
     "metadata": {},
     "output_type": "display_data"
    }
   ],
   "source": [
    "# отбираем фильмы 2012 года\n",
    "data15 = data[data.release_year == 2012]\n",
    "# получаем список всех актеров (уникальный)\n",
    "actors = set(data15.cast.str.split('|').sum())\n",
    "dict = {}\n",
    "# для каждого актера отбираем фильмы 2012 года, в которых он снимался и суммируем сборы, вносим в словарь dict\n",
    "for each in actors:\n",
    "    dict[each]= (data15[data15.cast.str.contains(each, na = False)].revenue.sum())\n",
    "    \n",
    "#преобразуем словарь в Series\n",
    "ser = pd.Series(dict)\n",
    "# сортируем серию по убыванию, берем 1-й эл-т\n",
    "answers['15'] = ser.sort_values(ascending = False).index[0]\n",
    "display(answers['15'])"
   ]
  },
  {
   "cell_type": "markdown",
   "metadata": {
    "colab_type": "text",
    "id": "mWHyyL7QVp_j"
   },
   "source": [
    "# 16. Какой актер снялся в большем количестве высокобюджетных фильмов?"
   ]
  },
  {
   "cell_type": "code",
   "execution_count": 28,
   "metadata": {
    "colab": {},
    "colab_type": "code",
    "id": "qQtmHKTFVp_k"
   },
   "outputs": [
    {
     "data": {
      "text/plain": [
       "'Matt Damon'"
      ]
     },
     "metadata": {},
     "output_type": "display_data"
    }
   ],
   "source": [
    "# отбираем фильмы, у которых бюджет выше среднего\n",
    "data16 = data[data.budget > data.budget.mean()]\n",
    "# формируем список уникальных актеров\n",
    "actors = set(data16.cast.str.split('|').sum())\n",
    "dict = {}\n",
    "# для каждого актера считаем кол-во фильмов (высокобюджетных), в которых он снялся, вносим в словарь\n",
    "for each in actors:\n",
    "    dict[each] = len(data16[data16.cast.str.contains(each,  na = False)])\n",
    "\n",
    "# преобразуем словарь в Series   \n",
    "ser = pd.Series(dict)\n",
    "# сортируем серию по убыванию, берем 1-й эл-т\n",
    "answers['16'] = ser.sort_values(ascending = False).index[0]\n",
    "display(answers['16'])"
   ]
  },
  {
   "cell_type": "markdown",
   "metadata": {
    "colab_type": "text",
    "id": "NIh6AaW5Vp_n"
   },
   "source": [
    "# 17. В фильмах какого жанра больше всего снимался Nicolas Cage? "
   ]
  },
  {
   "cell_type": "code",
   "execution_count": 30,
   "metadata": {
    "colab": {},
    "colab_type": "code",
    "id": "H74SJDIBVp_n"
   },
   "outputs": [
    {
     "data": {
      "text/plain": [
       "'Action'"
      ]
     },
     "metadata": {},
     "output_type": "display_data"
    }
   ],
   "source": [
    "# отберем все фильмы, где снимался Nicolas Cage\n",
    "data17 = data[data.cast.str.contains('Nicolas Cage')]\n",
    "# среди этих фильмов разобъем поля жанр и просуммируем их в лист, посчитаем кол-во вхождений каждого из значений, index[0] будет\n",
    "# содержать наиболее часто встречаемый жанр\n",
    "answers['17'] = pd.Series(data17.genres.str.split('|').sum()).value_counts().index[0]\n",
    "display(answers['17'])\n"
   ]
  },
  {
   "cell_type": "markdown",
   "metadata": {
    "colab_type": "text",
    "id": "RqOmPRfWVp_q"
   },
   "source": [
    "# 18. Самый убыточный фильм от Paramount Pictures"
   ]
  },
  {
   "cell_type": "code",
   "execution_count": 31,
   "metadata": {
    "colab": {},
    "colab_type": "code",
    "id": "9E_B0Y96Vp_r"
   },
   "outputs": [
    {
     "data": {
      "text/plain": [
       "'K-19: The Widowmaker'"
      ]
     },
     "metadata": {},
     "output_type": "display_data"
    }
   ],
   "source": [
    "# отбираем все фильмы от Paramount..., сортируем по прибыли по возрастанию, берем 1-й эл-т\n",
    "answers['18'] = \\\n",
    "data[data.production_companies.str.contains('Paramount Pictures', na = False)]\\\n",
    ".sort_values(by = 'profit').head(1).original_title.values[0]\n",
    "display(answers['18'])"
   ]
  },
  {
   "cell_type": "markdown",
   "metadata": {
    "colab_type": "text",
    "id": "vS8Ur6ddVp_u"
   },
   "source": [
    "# 19. Какой год стал самым успешным по суммарным кассовым сборам?"
   ]
  },
  {
   "cell_type": "code",
   "execution_count": 32,
   "metadata": {
    "colab": {},
    "colab_type": "code",
    "id": "Dnbt4GdIVp_v"
   },
   "outputs": [
    {
     "data": {
      "text/plain": [
       "2015"
      ]
     },
     "metadata": {},
     "output_type": "display_data"
    }
   ],
   "source": [
    "# группируем по году выпуска, сортируем по кассовым сборам по убыванию, берем 1-й эл-т\n",
    "answers['19'] =\\\n",
    "data.groupby(['release_year']).revenue.sum()\\\n",
    ".sort_values(ascending = False).index[0]\n",
    "display(answers['19'])"
   ]
  },
  {
   "cell_type": "markdown",
   "metadata": {
    "colab_type": "text",
    "id": "JAzJh4QAVp_z"
   },
   "source": [
    "# 20. Какой самый прибыльный год для студии Warner Bros?"
   ]
  },
  {
   "cell_type": "code",
   "execution_count": 36,
   "metadata": {
    "colab": {},
    "colab_type": "code",
    "id": "wgVu02DEVp_0"
   },
   "outputs": [
    {
     "data": {
      "text/plain": [
       "2014"
      ]
     },
     "metadata": {},
     "output_type": "display_data"
    }
   ],
   "source": [
    "# отбираем все фильмы Warner, группируем по году выпуска, применяем sum() к полю прибыль, сортируем по убыванию, берем 1-й эл-т\n",
    "answers['20'] = \\\n",
    "data[data.production_companies.str.contains('Warner Bros')]\\\n",
    ".groupby(['release_year']).profit.sum()\\\n",
    ".sort_values(ascending = False).index[0]\n",
    "display(answers['20'])"
   ]
  },
  {
   "cell_type": "markdown",
   "metadata": {
    "colab_type": "text",
    "id": "8Im1S2HRVp_4"
   },
   "source": [
    "# 21. В каком месяце за все годы суммарно вышло больше всего фильмов?"
   ]
  },
  {
   "cell_type": "code",
   "execution_count": 40,
   "metadata": {
    "colab": {},
    "colab_type": "code",
    "id": "lev6TH7gVp_4"
   },
   "outputs": [
    {
     "data": {
      "text/plain": [
       "9"
      ]
     },
     "metadata": {},
     "output_type": "display_data"
    }
   ],
   "source": [
    "# в предобработке добавим поле release_dt и поместим в него datetime, далее получим месяц как число, далее применим подсчет\n",
    "# значений и выберем самое частое значение\n",
    "answers['21'] = data.release_dt.dt.month.value_counts().index[0]\n",
    "display(answers['21'])"
   ]
  },
  {
   "cell_type": "markdown",
   "metadata": {
    "colab_type": "text",
    "id": "uAJsZ_NeVp_7"
   },
   "source": [
    "# 22. Сколько суммарно вышло фильмов летом? (за июнь, июль, август)"
   ]
  },
  {
   "cell_type": "code",
   "execution_count": 42,
   "metadata": {
    "colab": {},
    "colab_type": "code",
    "id": "Aa-hEREoVp_8"
   },
   "outputs": [
    {
     "data": {
      "text/plain": [
       "450"
      ]
     },
     "metadata": {},
     "output_type": "display_data"
    }
   ],
   "source": [
    "# с помощью len() посчитаем кол-во записей в датафрейме, который получится при отборе из исходного только фильмов, выпущенных\n",
    "# летом. Фильмы, выпущенные летом получим с помощью поля release_dt, содержащего datetime\n",
    "answers['22'] = len(data[(data.release_dt.dt.month.isin([6,7,8]))])\n",
    "display(answers['22'])"
   ]
  },
  {
   "cell_type": "markdown",
   "metadata": {
    "colab_type": "text",
    "id": "G94ppOY1VqAA"
   },
   "source": [
    "# 23. Для какого режиссера зима – самое продуктивное время года? "
   ]
  },
  {
   "cell_type": "code",
   "execution_count": 51,
   "metadata": {
    "colab": {},
    "colab_type": "code",
    "id": "RhNTsamuVqAB"
   },
   "outputs": [
    {
     "data": {
      "text/plain": [
       "'Peter Jackson'"
      ]
     },
     "metadata": {},
     "output_type": "display_data"
    }
   ],
   "source": [
    "# получим все фильмы, выпущенные зимой с помощью поля release_dt, содержащего datetime, \n",
    "# сгруппируем по режиссеру, применив подсчет кол-ва к полю название\n",
    "# отсортируем полученную серию, возьмем 1-й эл-т\n",
    "answers['23'] = \\\n",
    "data[(data.release_dt.dt.month.isin([1,2,12]))]\\\n",
    ".groupby(['director']).original_title.count()\\\n",
    ".sort_values(ascending = False).index[0]\n",
    "display(answers['23'])"
   ]
  },
  {
   "cell_type": "markdown",
   "metadata": {
    "colab_type": "text",
    "id": "RBo0JVjVVqAF"
   },
   "source": [
    "# 24. Какая студия дает самые длинные названия своим фильмам по количеству символов?"
   ]
  },
  {
   "cell_type": "code",
   "execution_count": 56,
   "metadata": {
    "colab": {},
    "colab_type": "code",
    "id": "QRGS8L0iVqAG"
   },
   "outputs": [
    {
     "data": {
      "text/plain": [
       "'Four By Two Productions'"
      ]
     },
     "metadata": {},
     "output_type": "display_data"
    }
   ],
   "source": [
    "#сделаем копию датафрейма\n",
    "data24 = data.copy()\n",
    "# в поле название поместим длину названия\n",
    "data24['original_title'] = data24['original_title'].str.len()\n",
    "# преобразуем поле студии в list, с перечислением всех студий \n",
    "data24['production_companies'] = data24['production_companies'].str.split('|')\n",
    "# командой explode разобьем каждую запись о фильме с несколькими студиями на несколько записей об одном фильме, в каждой \n",
    "# записи указана отдельная студия\n",
    "data24 = data24.explode('production_companies')\n",
    "# сгрупируем по студии, в каждой группе посчитаем среднюю длину названия фильма, отсортируем по ней и возьмем 1-й эл-т\n",
    "answers['24'] = data24.groupby('production_companies').original_title.mean().sort_values(ascending = False).index[0]\n",
    "display(answers['24'])\n"
   ]
  },
  {
   "cell_type": "markdown",
   "metadata": {
    "colab_type": "text",
    "id": "9G0hbvR7VqAK"
   },
   "source": [
    "# 25. Описание фильмов какой студии в среднем самые длинные по количеству слов?"
   ]
  },
  {
   "cell_type": "code",
   "execution_count": 58,
   "metadata": {
    "colab": {},
    "colab_type": "code",
    "id": "Ge2GsLNxVqAK"
   },
   "outputs": [
    {
     "data": {
      "text/plain": [
       "'Midnight Picture Show'"
      ]
     },
     "metadata": {},
     "output_type": "display_data"
    }
   ],
   "source": [
    "#сделаем копию датафрейма\n",
    "data25 = data.copy()\n",
    "# в поле описание поместим длину описания = кол-во разделителей + 1\n",
    "data25['overview'] = data25['overview'].str.count('|') + 1\n",
    "# преобразуем поле студии в list, с перечислением всех студий\n",
    "data25['production_companies'] = data25['production_companies'].str.split('|')\n",
    "# командой explode разобьем каждую запись о фильме с несколькими студиями на несколько записей об одном фильме, в каждой \n",
    "# записи указана отдельная студия\n",
    "data25 = data25.explode('production_companies')\n",
    "# сгрупируем по студии, в каждой группе посчитаем среднюю длину описания фильма, отсортируем по ней и возьмем 1-й эл-т\n",
    "answers['25'] = data25.groupby('production_companies').overview.mean().sort_values(ascending = False).index[0]\n",
    "display(answers['25'])"
   ]
  },
  {
   "cell_type": "markdown",
   "metadata": {
    "colab_type": "text",
    "id": "FJ1AFt90VqAP"
   },
   "source": [
    "# 26. Какие фильмы входят в 1 процент лучших по рейтингу? \n",
    "по vote_average"
   ]
  },
  {
   "cell_type": "code",
   "execution_count": 92,
   "metadata": {
    "colab": {},
    "colab_type": "code",
    "id": "8qmJVq4CVqAQ",
    "scrolled": true
   },
   "outputs": [
    {
     "data": {
      "text/plain": [
       "array(['The Dark Knight', 'Inside Out', 'Room', 'Interstellar',\n",
       "       'The Imitation Game', 'Inception', '12 Years a Slave',\n",
       "       'The Wolf of Wall Street',\n",
       "       'The Lord of the Rings: The Return of the King', 'The Pianist',\n",
       "       'Memento', 'Guardians of the Galaxy', 'The Grand Budapest Hotel',\n",
       "       'Gone Girl', 'Mr. Nobody', 'There Will Be Blood',\n",
       "       'Eternal Sunshine of the Spotless Mind', 'The Prestige',\n",
       "       'Dallas Buyers Club', 'Prisoners', 'Big Hero 6', 'Her', '3 Idiots',\n",
       "       'The Lord of the Rings: The Two Towers',\n",
       "       'The Theory of Everything', 'Spotlight', 'The Fault in Our Stars',\n",
       "       'The Lord of the Rings: The Fellowship of the Ring'], dtype=object)"
      ]
     },
     "metadata": {},
     "output_type": "display_data"
    }
   ],
   "source": [
    "# найдем значение vote_average, соответствующее 99 перцентилю \n",
    "bound = np.percentile(data.vote_average, 99)\n",
    "# отберем из датафрейма фильмы с vote_average большей, нежели vote_average 99 перцентиля\n",
    "answers['26'] = data[data.vote_average >= bound].sort_values(by='vote_average', ascending=False).original_title.values\n",
    "display(answers['26'])"
   ]
  },
  {
   "cell_type": "markdown",
   "metadata": {
    "colab_type": "text",
    "id": "MdXsUXbCVqAV"
   },
   "source": [
    "# 27. Какие актеры чаще всего снимаются в одном фильме вместе?\n"
   ]
  },
  {
   "cell_type": "markdown",
   "metadata": {
    "colab_type": "text",
    "id": "4ymnxEVoVqAW"
   },
   "source": []
  },
  {
   "cell_type": "code",
   "execution_count": 93,
   "metadata": {},
   "outputs": [
    {
     "data": {
      "text/plain": [
       "('Daniel Radcliffe', 'Rupert Grint')"
      ]
     },
     "metadata": {},
     "output_type": "display_data"
    }
   ],
   "source": [
    "# не обойтись без комбинаций\n",
    "from itertools import combinations\n",
    "# словарь для подсчета кол-ва раз, когда каждая из пар снялась в одном фильме\n",
    "dict = {}\n",
    "# делаем копию датафрейма\n",
    "data27 = data.copy()\n",
    "# для всех возможных комбинаций актеров к каждом фильме\n",
    "for i in range(len(data27)):\n",
    "    for each_comb in combinations(data27.iloc[i].cast.split('|'),2):\n",
    "        # если пара актеров уже есть в словаре - увеличиваем счетчик\n",
    "        if each_comb in dict:  \n",
    "            dict[each_comb] += 1\n",
    "        # иначе вносим в словарь\n",
    "        else:\n",
    "            dict[each_comb] = 1\n",
    "\n",
    "# преобразуем словарь в серию            \n",
    "ser = pd.Series(dict)\n",
    "# сортируем серию по счетчику по убыванию, берем 1-й эл-т\n",
    "answers['27'] = ser.sort_values(ascending = False).index[0]\n",
    "display(answers['27'])"
   ]
  },
  {
   "cell_type": "markdown",
   "metadata": {
    "colab_type": "text",
    "id": "U0nONFnGVqAX"
   },
   "source": [
    "# Submission"
   ]
  },
  {
   "cell_type": "code",
   "execution_count": 94,
   "metadata": {
    "colab": {},
    "colab_type": "code",
    "id": "IfcaRO9-VqAX",
    "outputId": "0f132912-32bb-4196-c98c-abfbc4ad5a5f"
   },
   "outputs": [
    {
     "data": {
      "text/plain": [
       "{'1': 'Pirates of the Caribbean: On Stranger Tides',\n",
       " '2': 'Gods and Generals',\n",
       " '3': 'Winnie the Pooh',\n",
       " '4': 109.6585494970884,\n",
       " '5': 107.0,\n",
       " '6': 'Avatar',\n",
       " '7': 'The Lone Ranger',\n",
       " '8': 1478,\n",
       " '9': 'The Dark Knight',\n",
       " '10': 'The Lone Ranger',\n",
       " '11': 'Drama',\n",
       " '12': 'Drama',\n",
       " '13': 'Peter Jackson',\n",
       " '14': 'Robert Rodriguez',\n",
       " '15': 'Chris Hemsworth',\n",
       " '16': 'Matt Damon',\n",
       " '17': 'Action',\n",
       " '18': 'K-19: The Widowmaker',\n",
       " '19': 2015,\n",
       " '20': 2014,\n",
       " '21': 9,\n",
       " '22': 450,\n",
       " '23': 'Peter Jackson',\n",
       " '24': 'Four By Two Productions',\n",
       " '25': 'Midnight Picture Show',\n",
       " '26': array(['The Dark Knight', 'Inside Out', 'Room', 'Interstellar',\n",
       "        'The Imitation Game', 'Inception', '12 Years a Slave',\n",
       "        'The Wolf of Wall Street',\n",
       "        'The Lord of the Rings: The Return of the King', 'The Pianist',\n",
       "        'Memento', 'Guardians of the Galaxy', 'The Grand Budapest Hotel',\n",
       "        'Gone Girl', 'Mr. Nobody', 'There Will Be Blood',\n",
       "        'Eternal Sunshine of the Spotless Mind', 'The Prestige',\n",
       "        'Dallas Buyers Club', 'Prisoners', 'Big Hero 6', 'Her', '3 Idiots',\n",
       "        'The Lord of the Rings: The Two Towers',\n",
       "        'The Theory of Everything', 'Spotlight', 'The Fault in Our Stars',\n",
       "        'The Lord of the Rings: The Fellowship of the Ring'], dtype=object),\n",
       " '27': ('Daniel Radcliffe', 'Rupert Grint')}"
      ]
     },
     "metadata": {},
     "output_type": "display_data"
    }
   ],
   "source": [
    "# в конце можно посмотреть свои ответы к каждому вопросу\n",
    "display(answers)\n"
   ]
  },
  {
   "cell_type": "code",
   "execution_count": 95,
   "metadata": {
    "colab": {},
    "colab_type": "code",
    "id": "SiRmHPl8VqAd"
   },
   "outputs": [
    {
     "data": {
      "text/plain": [
       "27"
      ]
     },
     "execution_count": 95,
     "metadata": {},
     "output_type": "execute_result"
    }
   ],
   "source": [
    "# и убедиться что ни чего не пропустил)\n",
    "len(answers)"
   ]
  },
  {
   "cell_type": "code",
   "execution_count": null,
   "metadata": {
    "colab": {},
    "colab_type": "code",
    "id": "uCfuTkRbVqAg"
   },
   "outputs": [],
   "source": []
  },
  {
   "cell_type": "code",
   "execution_count": 0,
   "metadata": {
    "colab": {},
    "colab_type": "code",
    "id": "Vwx3NrkSVqAl"
   },
   "outputs": [],
   "source": []
  }
 ],
 "metadata": {
  "colab": {
   "name": "Copy of [SF-DST] Movies IMBD v4.1 TEMPLATE.ipynb",
   "provenance": []
  },
  "kernelspec": {
   "display_name": "Python 3",
   "language": "python",
   "name": "python3"
  },
  "language_info": {
   "codemirror_mode": {
    "name": "ipython",
    "version": 3
   },
   "file_extension": ".py",
   "mimetype": "text/x-python",
   "name": "python",
   "nbconvert_exporter": "python",
   "pygments_lexer": "ipython3",
   "version": "3.8.8"
  }
 },
 "nbformat": 4,
 "nbformat_minor": 1
}
