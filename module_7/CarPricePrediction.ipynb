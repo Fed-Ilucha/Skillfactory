{
 "cells": [
  {
   "cell_type": "markdown",
   "metadata": {
    "papermill": {
     "duration": 0.029718,
     "end_time": "2020-10-26T12:46:41.276296",
     "exception": false,
     "start_time": "2020-10-26T12:46:41.246578",
     "status": "completed"
    },
    "tags": []
   },
   "source": [
    "<img src=\"https://whatcar.vn/media/2018/09/car-lot-940x470.jpg\"/>\n",
    "\n",
    "## Прогнозирование стоимости автомобиля по характеристикам\n",
    "*Этот Ноутбук является Примером/Шаблоном (Baseline) к этому соревнованию и не служит готовым решением!*   \n",
    "Вы можете использовать его как основу для построения своего решения.\n",
    "\n",
    "\n",
    "> **baseline** создается больше как шаблон, где можно посмотреть как происходит обращение с входящими данными и что нужно получить на выходе. При этом МЛ начинка может быть достаточно простой. Это помогает быстрее приступить к самому МЛ, а не тратить ценное время на чисто инженерные задачи. \n",
    "Также baseline является хорошей опорной точкой по метрике. Если твое решение хуже baseline - ты явно делаешь что-то не то и стоит попробовать другой путь) "
   ]
  },
  {
   "cell_type": "markdown",
   "metadata": {
    "papermill": {
     "duration": 0.028027,
     "end_time": "2020-10-26T12:46:41.334278",
     "exception": false,
     "start_time": "2020-10-26T12:46:41.306251",
     "status": "completed"
    },
    "tags": []
   },
   "source": [
    "Помним, что по условию соревнования, нам нужно самостоятельно собрать обучающий датасет. В этом ноутбуке мы не будем рассматривать сбор данных. Предположим, что мы уже все собрали и просто подключили свой датасет через \"Add Data\", чтобы приступить к самому ML."
   ]
  },
  {
   "cell_type": "code",
   "execution_count": 3,
   "metadata": {
    "_cell_guid": "b1076dfc-b9ad-4769-8c92-a6c4dae69d19",
    "_uuid": "8f2839f25d086af736a60e9eeb907d3b93b6e0e5",
    "execution": {
     "iopub.execute_input": "2020-10-26T12:46:41.400302Z",
     "iopub.status.busy": "2020-10-26T12:46:41.399317Z",
     "iopub.status.idle": "2020-10-26T12:46:42.581426Z",
     "shell.execute_reply": "2020-10-26T12:46:42.580431Z"
    },
    "papermill": {
     "duration": 1.219772,
     "end_time": "2020-10-26T12:46:42.581597",
     "exception": false,
     "start_time": "2020-10-26T12:46:41.361825",
     "status": "completed"
    },
    "tags": []
   },
   "outputs": [],
   "source": [
    "import numpy as np                    # линейная алгебра\n",
    "import pandas as pd                   # обработка данных\n",
    "import sys                            # специфичные параметры и функицц\n",
    "import re                             # регулярные выражения\n",
    "import requests                       # получение данных с интернет-ресурсов\n",
    "from bs4 import BeautifulSoup         # парсинг данных с интернет-ресурсов\n",
    "from datetime import timedelta        # работа со временем\n",
    "from unicodedata import normalize     # обработка \"грязных\" строк\n",
    "\n",
    "# алгоритмы разделения выборок, обучения и оптимизаци моделей\n",
    "from sklearn.model_selection import train_test_split, RandomizedSearchCV, KFold\n",
    "from tqdm.notebook import tqdm\n",
    "from sklearn.preprocessing import LabelEncoder\n",
    "\n",
    "# модели\n",
    "from sklearn.tree import DecisionTreeRegressor\n",
    "from sklearn.ensemble import RandomForestRegressor, GradientBoostingRegressor, AdaBoostRegressor, BaggingClassifier\n",
    "from sklearn.linear_model import LogisticRegression\n",
    "from catboost import CatBoostRegressor, Pool, cv\n",
    "from sklearn.base import clone\n",
    "\n",
    "#визуализация\n",
    "import matplotlib.pyplot as plt\n",
    "import seaborn as sns\n",
    "from pprint import pprint\n"
   ]
  },
  {
   "cell_type": "code",
   "execution_count": 4,
   "metadata": {
    "_kg_hide-input": true,
    "execution": {
     "iopub.execute_input": "2020-10-26T12:46:42.646795Z",
     "iopub.status.busy": "2020-10-26T12:46:42.645765Z",
     "iopub.status.idle": "2020-10-26T12:46:42.649793Z",
     "shell.execute_reply": "2020-10-26T12:46:42.650407Z"
    },
    "papermill": {
     "duration": 0.040034,
     "end_time": "2020-10-26T12:46:42.650603",
     "exception": false,
     "start_time": "2020-10-26T12:46:42.610569",
     "status": "completed"
    },
    "tags": []
   },
   "outputs": [
    {
     "name": "stdout",
     "output_type": "stream",
     "text": [
      "Python       : 3.8.8 (default, Apr 13 2021, 15:08:03) [MSC v.1916 64 bit (AMD64)]\n",
      "Numpy        : 1.20.1\n"
     ]
    }
   ],
   "source": [
    "print('Python       :', sys.version.split('\\n')[0])\n",
    "print('Numpy        :', np.__version__)"
   ]
  },
  {
   "cell_type": "code",
   "execution_count": 5,
   "metadata": {
    "_kg_hide-input": true,
    "execution": {
     "iopub.execute_input": "2020-10-26T12:46:42.716039Z",
     "iopub.status.busy": "2020-10-26T12:46:42.715184Z",
     "iopub.status.idle": "2020-10-26T12:46:47.852433Z",
     "shell.execute_reply": "2020-10-26T12:46:47.851661Z"
    },
    "papermill": {
     "duration": 5.172536,
     "end_time": "2020-10-26T12:46:47.852593",
     "exception": false,
     "start_time": "2020-10-26T12:46:42.680057",
     "status": "completed"
    },
    "tags": []
   },
   "outputs": [],
   "source": [
    "# зафиксируем версию пакетов, чтобы эксперименты были воспроизводимы:\n",
    "!pip freeze > requirements.txt"
   ]
  },
  {
   "cell_type": "markdown",
   "metadata": {
    "papermill": {
     "duration": 0.028837,
     "end_time": "2020-10-26T12:46:47.981435",
     "exception": false,
     "start_time": "2020-10-26T12:46:47.952598",
     "status": "completed"
    },
    "tags": []
   },
   "source": [
    "# Setup"
   ]
  },
  {
   "cell_type": "code",
   "execution_count": 6,
   "metadata": {
    "execution": {
     "iopub.execute_input": "2020-10-26T12:46:48.05046Z",
     "iopub.status.busy": "2020-10-26T12:46:48.049412Z",
     "iopub.status.idle": "2020-10-26T12:46:48.052578Z",
     "shell.execute_reply": "2020-10-26T12:46:48.051917Z"
    },
    "papermill": {
     "duration": 0.039969,
     "end_time": "2020-10-26T12:46:48.052728",
     "exception": false,
     "start_time": "2020-10-26T12:46:48.012759",
     "status": "completed"
    },
    "tags": []
   },
   "outputs": [],
   "source": [
    "VERSION    = 16\n",
    "#DIR_TRAIN  = '../input/parsing-all-moscow-auto-ru-09-09-2020/' # подключил к ноутбуку внешний датасет\n",
    "#DIR_TEST   = '../input/sf-dst-car-price-prediction/'\n",
    "DATA_DIR = './data'\n",
    "VAL_SIZE   = 0.20   # 20%\n",
    "RANDOM_SEED = 42    # фиксируем RANDOM_SEED, чтобы эксперименты были воспроизводимы!\n",
    "\n",
    "pd.set_option('display.max_rows', 30) # показывать больше строк\n",
    "pd.set_option('display.max_columns', 30) # показывать больше колонок"
   ]
  },
  {
   "cell_type": "markdown",
   "metadata": {
    "papermill": {
     "duration": 0.030254,
     "end_time": "2020-10-26T12:46:48.112586",
     "exception": false,
     "start_time": "2020-10-26T12:46:48.082332",
     "status": "completed"
    },
    "tags": []
   },
   "source": [
    "# Data"
   ]
  },
  {
   "cell_type": "code",
   "execution_count": 7,
   "metadata": {
    "execution": {
     "iopub.execute_input": "2020-10-26T12:46:48.179769Z",
     "iopub.status.busy": "2020-10-26T12:46:48.178918Z",
     "iopub.status.idle": "2020-10-26T12:46:48.924574Z",
     "shell.execute_reply": "2020-10-26T12:46:48.925184Z"
    },
    "papermill": {
     "duration": 0.783211,
     "end_time": "2020-10-26T12:46:48.925418",
     "exception": false,
     "start_time": "2020-10-26T12:46:48.142207",
     "status": "completed"
    },
    "tags": []
   },
   "outputs": [],
   "source": [
    "#!ls '../input'"
   ]
  },
  {
   "cell_type": "code",
   "execution_count": 8,
   "metadata": {
    "_cell_guid": "79c7e3d0-c299-4dcb-8224-4455121ee9b0",
    "_uuid": "d629ff2d2480ee46fbb7e2d37f6b5fab8052498a",
    "execution": {
     "iopub.execute_input": "2020-10-26T12:46:49.007668Z",
     "iopub.status.busy": "2020-10-26T12:46:49.006762Z",
     "iopub.status.idle": "2020-10-26T12:47:02.121152Z",
     "shell.execute_reply": "2020-10-26T12:47:02.120434Z"
    },
    "papermill": {
     "duration": 13.16556,
     "end_time": "2020-10-26T12:47:02.12133",
     "exception": false,
     "start_time": "2020-10-26T12:46:48.95577",
     "status": "completed"
    },
    "tags": []
   },
   "outputs": [],
   "source": [
    "# импорт\n",
    "train = pd.read_csv(DATA_DIR +'/all_auto_ru_09_09_2020.csv')\n",
    "test = pd.read_csv(DATA_DIR +'/test.csv')\n",
    "sample_submission = pd.read_csv(DATA_DIR+'/sample_submission.csv')\n",
    "\n"
   ]
  },
  {
   "cell_type": "markdown",
   "metadata": {},
   "source": [
    "# PreProcessing"
   ]
  },
  {
   "cell_type": "code",
   "execution_count": 14,
   "metadata": {},
   "outputs": [],
   "source": [
    "# Полезные ф-ии\n",
    "\n",
    "# ф-я для приведения типа кузова к стандартному виду ( например, внедорожник 5 дв -> внедорожник и т.д.)\n",
    "def norm_body_type(string):\n",
    "    m = re.search('седан|внедорожник|хэтчбек|лифтбек|универсал|минивэн|купе|компактвэн|пикап|родстер|кабриолет|фургон|лимузин|микровэн|тарга',\\\n",
    "                      string)\n",
    "    if m:\n",
    "        return m.group(0)\n",
    "    else:\n",
    "        return string\n",
    "\n",
    "\n",
    "# ф-я принимает серию возвращает кортеж :\n",
    "# [0]-25% перцентиль серии\n",
    "# [1]-75% перцентиль серии\n",
    "# [2]-IQR\n",
    "# [3]-нижняя граница выбросов\n",
    "# [4]-верхняя граница выбросов\n",
    "def get_bounds(ser):\n",
    "    perc25 = ser.quantile(0.25)\n",
    "    perc75 = ser.quantile(0.75)\n",
    "    IQR = perc75-perc25\n",
    "\n",
    "    return (perc25, perc75, IQR, perc25-1.5*IQR, perc75+1.5*IQR)\n",
    "\n",
    "# ф-я выводит 25% и 75% перцентили серии, IQR, границы выбросов, рисует гистограмму по серии, исключая выбросы\n",
    "def print_hist(ser):\n",
    "    bounds = get_bounds(ser)\n",
    "\n",
    "    print(\n",
    "        '25-й перцентиль: {},'.format(bounds[0]),\n",
    "        '75-й перцентиль: {},'.format(bounds[1]),\n",
    "        \"IQR: {},\".format(bounds[2]),\n",
    "        \"Границы выбросов: [{L},{H}].\".format(L=bounds[3], H=bounds[4])\n",
    "    )\n",
    "\n",
    "    ser.loc[ser.between(bounds[3], bounds[4])].hist(\n",
    "        bins=16, range=(ser.min(), ser.max()), label='IQR')\n",
    "\n",
    "    plt.legend()\n",
    "\n",
    "# ф-я возвращает серию без выбросов, для определения границ выбросов используется get_bounds()   \n",
    "def filter_emissions(ser):\n",
    "    bounds = get_bounds(ser)\n",
    "    return ser[ser.between(bounds[3], bounds[4])]\n",
    "\n",
    "# ф-я отрисовки боксплота\n",
    "def get_boxplot(column):\n",
    "    fig,ax=plt.subplots(figsize=(14,4))\n",
    "    sns.boxplot(x=column, y='price',\n",
    "               data=data_eda.loc[data_eda.loc[:,column].isin(data_eda.loc[:,column].value_counts().index[:10])],\n",
    "               ax=ax\n",
    "               )\n",
    "    plt.xticks(rotation=45)\n",
    "    ax.set_title('Boxplot for '+ column)\n",
    "    plt.show()\n",
    "\n",
    "# ф-ю для замены названия цвета в его кодировку в RGB с помощью созданного датасета colorFrame\n",
    "def get_color_code(val):\n",
    "    try:\n",
    "        if (re.search('й$',val)):\n",
    "            return colorFrame[colorFrame.colorName == val].colorCode.item()\n",
    "        else:\n",
    "            return val\n",
    "    \n",
    "    except TypeError:\n",
    "        print(val)\n",
    "    \n",
    "# ф-я для корректного заполнения колонок EngineDisplacement, enginePower из колонки name, т.к. они очень сильно замусорены\n",
    "# значение 1.6 типа float будут превращены в 16 int, т.к. с int работать проще, а для модели не принципиально абсолютное значение, важны их соотношения\n",
    "def EngineClean(row):\n",
    "    d = re.search('\\d\\.\\d',row['name'])\n",
    "    p = re.search('\\d+(?= л.с.)',row['name'])\n",
    "    pe = re.search('\\d+(?= кВт)',row['name'])\n",
    "    \n",
    "    if d:\n",
    "        row['engineDisplacement'] = d[0].replace('.','')\n",
    "    else:            \n",
    "        row['engineDisplacement'] = \"not found by else\"\n",
    "    if p:\n",
    "        row['enginePower'] = p[0]\n",
    "    elif pe:\n",
    "        val = round(int(pe[0]) * 1.36, 0)\n",
    "        row['enginePower'] =str(val).replace('.0','')\n",
    "    else:\n",
    "        row['enginePower'] = \"not found by else\"\n",
    "    return row\n",
    "\n",
    "# ф-я переводит строковое представление справочника с датой покупки авто последним собственником в кол-во дней владения\n",
    "def get_ownerShipTime(string):\n",
    "    #отсчетная дата - сентябрь 2020 - дата среза датасета\n",
    "    end_date = pd.to_datetime('20200901', format='%Y%m%d', errors='ignore')\n",
    "    try:\n",
    "        sd = eval(string)\n",
    "        if sd:\n",
    "            # в случае, если дата задана в строковом представлении справочника\n",
    "            res = (end_date - pd.to_datetime(str(sd['year'])+str(sd['month']), format='%Y%m')).days\n",
    "    except:\n",
    "        res = string\n",
    "    # в случае, если \n",
    "    if string=='0':\n",
    "        res = '0'\n",
    "    # в случае, если дата указана в формате x год/года/лет и y месяц(а/ев), все случаи себя взаимоисключают\n",
    "    ym_match = re.search('(?P<years>\\d+) (год|года|лет) и (?P<months>\\d+) месяц',string)\n",
    "    y_match = re.search('(?P<years>\\d+) (год|года|лет)$',string)\n",
    "    m_match = re.search('^(?P<months>\\d+) (месяц|месяца|месяцев)',string)\n",
    "    \n",
    "    # к сожалению, в конструкторе timedelta нет параметров для задания кол-ва лет и месяцев, используем, что есть\n",
    "    if ym_match :\n",
    "        res = timedelta(weeks=int(ym_match.group('years'))*52, days=int(ym_match.group('months'))*30).days\n",
    "        \n",
    "    if y_match:\n",
    "        res = timedelta(weeks=int(y_match.group('years'))*52).days\n",
    "        \n",
    "    if m_match:\n",
    "        res = timedelta(days=int(m_match.group('months'))*30).days\n",
    "    \n",
    "    return res\n",
    "    "
   ]
  },
  {
   "cell_type": "markdown",
   "metadata": {},
   "source": [
    "###### ИМеем 2 датасета с разным набором колонок, Исправим это:"
   ]
  },
  {
   "cell_type": "code",
   "execution_count": 15,
   "metadata": {},
   "outputs": [],
   "source": [
    "# для удобства переименуем колонки датасетов в единый формат: английский с Большой буквы, \n",
    "# в словосочетаниях, также, каждое слово с большой буквы\n",
    "train.rename(columns={\n",
    "                   'Комплектация': 'equipment', \n",
    "                   'Привод': 'driveWheels', \n",
    "                   'Руль' :'rudder', \n",
    "                   'Владельцы' :'numOwners',\n",
    "                   'ПТС' :'PTS',\n",
    "                   'Владение' :'ownershipTime'\n",
    "                  }, inplace = True)\n",
    "\n",
    "test.rename(columns={\n",
    "                    'Владельцы' :'numOwners',\n",
    "                    'Владение' :'ownershipTime',\n",
    "                    'ПТС' :'PTS',\n",
    "                    'Привод': 'driveWheels',\n",
    "                    'Руль' :'rudder',\n",
    "                    'model_name' : 'model'\n",
    "                    }, inplace = True)\n",
    "    \n",
    "    \n",
    "# уберем колонки в train : \n",
    "    #состояние - все пустые,\n",
    "    #Таможня - всегда True,\n",
    "    #name - содержит сумму полей объем, мощность двигателя, привод, трансмиссия, которые на 99,9% заполнены в датасете\n",
    "    #equipment - сложно обрабатывать, у каждого произв-ля, в разных временных интервалах разная линейка комплектаций\n",
    "    #vehicleConfiguration - содержит сумму уже имющихся в наличии полей которые на 99,9% заполнены в датасете\n",
    "    #start_date - пока не вижу практического смысла (в тестовых данных нет такого поля)\n",
    "    #description - пока не вижу практического смысла         \n",
    "    \n",
    "train.drop(['Состояние','Таможня','hidden','equipment','vehicleConfiguration','start_date',\\\n",
    "           'description'], axis=1, inplace=True)\n",
    "\n",
    "# уберем колонки в test : \n",
    "    #car_url - не несет практического смысла\n",
    "    #состояние - всегда Не требует ремонта,\n",
    "    #Таможня - всегда растаможен,\n",
    "    #name - содержит сумму полей объем, мощность двигателя, привод, трансмиссия, которые на 99,9% заполнены в датасете\n",
    "    #complectation_dict - сложно обрабатывать, у каждого произв-ля, в разных временных интервалах разная линейка комплектаций\n",
    "    #description -  пока не вижу практического смысла\n",
    "    #image - пока не вижу практического смысла\n",
    "    #model_info - пока не вижу практического смысла\n",
    "    #parsing_unixtime - пока не вижу практического смысла\n",
    "    #priceCurrency - всегда RUB\n",
    "    #super_gen - пока не вижу практического смысла\n",
    "    #vehicleConfiguration  - содержит сумму уже имющихся в наличии полей которые на 99,9% заполнены в датасете\n",
    "    #vendor - зависимость цены от региона производителя (Европа/Япония) считаем зашитой в брэнд\n",
    "    \n",
    "\n",
    "test.drop(['car_url','Таможня', 'Состояние','complectation_dict','description','equipment_dict',\\\n",
    "           'image','model_info','parsing_unixtime','priceCurrency','super_gen',\\\n",
    "          'vehicleConfiguration','vendor'], axis=1, inplace=True)\n",
    "\n",
    "\n",
    "# в train датасете уберем те немногочисленные строки, которые содержат пропуски, исключительно в колонках, указанных ниже:\n",
    "columnsToDropNa = ['bodyType','modelDate','numberOfDoors','vehicleTransmission',\\\n",
    "                   'engineDisplacement','enginePower','price','PTS']\n",
    "\n",
    "train.dropna(axis=0, subset=columnsToDropNa, inplace=True)\n",
    "\n",
    "# в test датаесете такого себе позволить не можем ( не сойдется с samplesubmission), поэтому заполним единственный пропуск\n",
    "# наиболее частым значением\n",
    "test.loc[test.PTS.isnull(),'PTS'] = 'Оригинал'\n",
    "\n",
    "#train = pd.read_csv(DIR_TRAIN+'all_auto_ru_09_09_2020.csv') # датасет для обучения модели\n",
    "#test = pd.read_csv(DIR_TEST+'test.csv')\n",
    "#sample_submission = pd.read_csv(DIR_TEST+'sample_submission.csv')"
   ]
  },
  {
   "cell_type": "code",
   "execution_count": 16,
   "metadata": {},
   "outputs": [
    {
     "name": "stdout",
     "output_type": "stream",
     "text": [
      "<class 'pandas.core.frame.DataFrame'>\n",
      "RangeIndex: 34686 entries, 0 to 34685\n",
      "Data columns (total 19 columns):\n",
      " #   Column               Non-Null Count  Dtype \n",
      "---  ------               --------------  ----- \n",
      " 0   bodyType             34686 non-null  object\n",
      " 1   brand                34686 non-null  object\n",
      " 2   color                34686 non-null  object\n",
      " 3   engineDisplacement   34686 non-null  object\n",
      " 4   enginePower          34686 non-null  object\n",
      " 5   fuelType             34686 non-null  object\n",
      " 6   mileage              34686 non-null  int64 \n",
      " 7   modelDate            34686 non-null  int64 \n",
      " 8   model                34686 non-null  object\n",
      " 9   name                 34686 non-null  object\n",
      " 10  numberOfDoors        34686 non-null  int64 \n",
      " 11  productionDate       34686 non-null  int64 \n",
      " 12  sell_id              34686 non-null  int64 \n",
      " 13  vehicleTransmission  34686 non-null  object\n",
      " 14  numOwners            34686 non-null  object\n",
      " 15  ownershipTime        11995 non-null  object\n",
      " 16  PTS                  34686 non-null  object\n",
      " 17  driveWheels          34686 non-null  object\n",
      " 18  rudder               34686 non-null  object\n",
      "dtypes: int64(5), object(14)\n",
      "memory usage: 5.0+ MB\n"
     ]
    }
   ],
   "source": [
    "test.info()"
   ]
  },
  {
   "cell_type": "code",
   "execution_count": 17,
   "metadata": {},
   "outputs": [
    {
     "name": "stdout",
     "output_type": "stream",
     "text": [
      "<class 'pandas.core.frame.DataFrame'>\n",
      "Int64Index: 88606 entries, 0 to 89377\n",
      "Data columns (total 19 columns):\n",
      " #   Column               Non-Null Count  Dtype  \n",
      "---  ------               --------------  -----  \n",
      " 0   bodyType             88606 non-null  object \n",
      " 1   brand                88606 non-null  object \n",
      " 2   color                88606 non-null  object \n",
      " 3   fuelType             88606 non-null  object \n",
      " 4   modelDate            88606 non-null  float64\n",
      " 5   name                 88606 non-null  object \n",
      " 6   numberOfDoors        88606 non-null  float64\n",
      " 7   productionDate       88606 non-null  int64  \n",
      " 8   vehicleTransmission  88606 non-null  object \n",
      " 9   engineDisplacement   88606 non-null  object \n",
      " 10  enginePower          88606 non-null  float64\n",
      " 11  mileage              88606 non-null  int64  \n",
      " 12  driveWheels          88606 non-null  object \n",
      " 13  rudder               88606 non-null  object \n",
      " 14  numOwners            75398 non-null  float64\n",
      " 15  PTS                  88606 non-null  object \n",
      " 16  ownershipTime        29045 non-null  object \n",
      " 17  price                88606 non-null  float64\n",
      " 18  model                88606 non-null  object \n",
      "dtypes: float64(5), int64(2), object(12)\n",
      "memory usage: 13.5+ MB\n"
     ]
    }
   ],
   "source": [
    "train.info()"
   ]
  },
  {
   "cell_type": "markdown",
   "metadata": {},
   "source": [
    "###### Перед объединением датасетов очень важно навести порядок в колонке numOwners, в train это float64, а в test это object"
   ]
  },
  {
   "cell_type": "code",
   "execution_count": 18,
   "metadata": {},
   "outputs": [],
   "source": [
    "test.numOwners = test.numOwners.apply(lambda x: normalize(\"NFKD\", x))\n",
    "test['numOwners'] = test['numOwners'].replace(to_replace={'1 владелец':1.0,'2 владельца':2.0,'3 или более':3.0})\n",
    "\n",
    "# в train.numOwners есть пропуски, которые заполним наихудшим вариантом - 3 \n",
    "# (если в объявлении не указано кол-во владельцев, более вероятно, что их там не 1 или 2)\n",
    "train.numOwners.fillna(3.0,inplace=True)\n",
    "\n",
    "# в train превратим price в int\n",
    "train.price = train.price.astype(int)"
   ]
  },
  {
   "cell_type": "markdown",
   "metadata": {},
   "source": [
    "###### Получили 2 датасета со схожим набором полей, пропуски, имющиеся сейчас подлежат обработке, кроме того посмотрим на содержимое полей, приведем к одному формату"
   ]
  },
  {
   "cell_type": "code",
   "execution_count": 19,
   "metadata": {},
   "outputs": [
    {
     "name": "stdout",
     "output_type": "stream",
     "text": [
      "<class 'pandas.core.frame.DataFrame'>\n",
      "RangeIndex: 123292 entries, 0 to 123291\n",
      "Data columns (total 21 columns):\n",
      " #   Column               Non-Null Count   Dtype  \n",
      "---  ------               --------------   -----  \n",
      " 0   bodyType             123292 non-null  object \n",
      " 1   brand                123292 non-null  object \n",
      " 2   color                123292 non-null  object \n",
      " 3   engineDisplacement   123292 non-null  object \n",
      " 4   enginePower          123292 non-null  object \n",
      " 5   fuelType             123292 non-null  object \n",
      " 6   mileage              123292 non-null  int64  \n",
      " 7   modelDate            123292 non-null  float64\n",
      " 8   model                123292 non-null  object \n",
      " 9   name                 123292 non-null  object \n",
      " 10  numberOfDoors        123292 non-null  float64\n",
      " 11  productionDate       123292 non-null  int64  \n",
      " 12  sell_id              34686 non-null   float64\n",
      " 13  vehicleTransmission  123292 non-null  object \n",
      " 14  numOwners            123292 non-null  float64\n",
      " 15  ownershipTime        41040 non-null   object \n",
      " 16  PTS                  123292 non-null  object \n",
      " 17  driveWheels          123292 non-null  object \n",
      " 18  rudder               123292 non-null  object \n",
      " 19  sample               123292 non-null  int64  \n",
      " 20  price                88606 non-null   float64\n",
      "dtypes: float64(5), int64(3), object(13)\n",
      "memory usage: 19.8+ MB\n"
     ]
    }
   ],
   "source": [
    "# для удобства дальнейшей обработки, сразу соединим датасеты: \n",
    "train['sample'] = 1 # помечаем где у нас трейн\n",
    "test['sample'] = 0 # помечаем где у нас тест\n",
    "data = test.append(train, sort=False).reset_index(drop=True) # объединяем\n",
    "\n",
    "data.info()"
   ]
  },
  {
   "cell_type": "markdown",
   "metadata": {},
   "source": [
    "###### обработка колонки bodyType"
   ]
  },
  {
   "cell_type": "code",
   "execution_count": 20,
   "metadata": {},
   "outputs": [
    {
     "data": {
      "text/plain": [
       "седан          44927\n",
       "внедорожник    44547\n",
       "хэтчбек        13393\n",
       "лифтбек         5630\n",
       "универсал       4717\n",
       "минивэн         3361\n",
       "компактвэн      2563\n",
       "купе            2466\n",
       "пикап            895\n",
       "кабриолет        257\n",
       "родстер          250\n",
       "фургон           230\n",
       "микровэн          31\n",
       "лимузин           12\n",
       "тарга              9\n",
       "фастбек            4\n",
       "Name: bodyType, dtype: int64"
      ]
     },
     "execution_count": 20,
     "metadata": {},
     "output_type": "execute_result"
    }
   ],
   "source": [
    "data['bodyType'] = data.bodyType.str.lower()\n",
    "# приведем все значения из колонки bodyType датафрейма к стандартным значениям\n",
    "data.bodyType = data.bodyType.apply(norm_body_type)\n",
    "data.bodyType.value_counts()\n"
   ]
  },
  {
   "cell_type": "markdown",
   "metadata": {},
   "source": [
    "###### обработка колонки Color"
   ]
  },
  {
   "cell_type": "code",
   "execution_count": 21,
   "metadata": {},
   "outputs": [],
   "source": [
    "# в датасете встречаются значения колонки Color как в текстовом виде так и в виде кодировок.\n",
    "# приведем все значения к кодировкам\n",
    "\n",
    "# находим в интернете страничку с кодировками цветов\n",
    "url = 'https://www.rapidtables.org/ru/web/color/RGB_Color.html'   \n",
    "\n",
    "# парсим ее:\n",
    "response = requests.get(url)    \n",
    "page = BeautifulSoup(response.text, 'html.parser')  \n"
   ]
  },
  {
   "cell_type": "code",
   "execution_count": 22,
   "metadata": {},
   "outputs": [],
   "source": [
    "# имеем 2 таблицы, основные и дополнительные цвета:\n",
    "df1 = pd.read_html(str(page.find_all(\"table\",class_='dtable')[1]))[0]\n",
    "df2 = pd.read_html(str(page.find_all(\"table\",class_='dtable')[2]))[0]\n",
    "\n",
    "#не со всеми цветами прошло \"гладко\", поэтому 3-й корректировочный датасет:\n",
    "df3 = pd.DataFrame({'colorName':['чёрный','зелёный','серебристый','пурпурный','жёлтый','оранжевый','золотистый'],\n",
    "                  'colorCode':['000000','008000','C0C0C0','FF00FF','FFFF00','FFA500','FFD700']})\n",
    "\n",
    "# собираем 1-й датафрейм, приводим к единому имени колонок, лишние колонки удаляем:\n",
    "df1.drop(['цвет','Десятичный код(R, G, B)'],axis=1, inplace = True)\n",
    "df1.rename(columns={\n",
    "                    'HTML / CSS имя' :'colorName',\n",
    "                    'Шестнадцатеричный код#RRGGBB' :'colorCode'\n",
    "                    }, inplace = True)\n",
    "\n",
    "# собираем 2-й датафрейм, приводим к единому имени колонок, лишние колонки удаляем:\n",
    "df2.drop(['цвет','Десятичный кодR, G, B'],axis=1, inplace = True)\n",
    "df2.rename(columns={\n",
    "                    'Название цвета' :'colorName',\n",
    "                    'Шестнадцатеричный код#RRGGBB' :'colorCode'\n",
    "                    }, inplace = True)\n",
    "\n",
    "# объединяем все датафреймы\n",
    "colorFrame = df1.append(df2).append(df3).reset_index(drop=True)\n",
    "\n",
    "# приводим в нижний регистр название цвета:\n",
    "colorFrame.colorName = colorFrame.colorName.str.lower()\n",
    "\n",
    "# удаляем мусорные решетки:\n",
    "colorFrame.colorCode = colorFrame.colorCode.apply(lambda x: x.replace('# ',''))\n",
    "\n",
    "# удаляем дубликаты\n",
    "colorFrame.colorName = colorFrame.colorName.drop_duplicates()\n",
    "\n",
    "\n",
    "\n",
    "# применяем ф-ю к колонке color\n",
    "data['color'] = data.color.apply(get_color_code)\n",
    "data['color'] = data.color.apply(lambda x: x.replace('#',''))"
   ]
  },
  {
   "cell_type": "markdown",
   "metadata": {},
   "source": [
    "###### как итог, колонка color в едином RGB-формате"
   ]
  },
  {
   "cell_type": "code",
   "execution_count": 23,
   "metadata": {},
   "outputs": [
    {
     "data": {
      "text/plain": [
       "040001    24981\n",
       "FAFBFB    15672\n",
       "CACECB    11260\n",
       "000000    11010\n",
       "97948F    10720\n",
       "          ...  \n",
       "FF00FF      254\n",
       "800080      219\n",
       "FFFF00      194\n",
       "FFA500      131\n",
       "FFC0CB       38\n",
       "Name: color, Length: 31, dtype: int64"
      ]
     },
     "execution_count": 23,
     "metadata": {},
     "output_type": "execute_result"
    }
   ],
   "source": [
    "data['color'].value_counts()"
   ]
  },
  {
   "cell_type": "markdown",
   "metadata": {},
   "source": [
    "###### Обработка колонок engineDisplacement и enginePower"
   ]
  },
  {
   "cell_type": "code",
   "execution_count": 24,
   "metadata": {},
   "outputs": [],
   "source": [
    "data = data.apply(EngineClean, axis=1)  \n",
    "# проанализированы строки с \"not found by else\", во всех случах это электрокары, поэтому присвоим им нулевой объем\n",
    "data.engineDisplacement = data.engineDisplacement.apply(lambda x: x.replace('not found by else','0'))\n",
    "data.engineDisplacement = data.engineDisplacement.astype(int)\n",
    "data.enginePower = data.enginePower.astype(int)"
   ]
  },
  {
   "cell_type": "markdown",
   "metadata": {},
   "source": [
    "###### обработка колонки vehicleTransmission"
   ]
  },
  {
   "cell_type": "code",
   "execution_count": 25,
   "metadata": {},
   "outputs": [
    {
     "data": {
      "text/plain": [
       "автоматическая      68311\n",
       "механическая        32340\n",
       "роботизированная    11663\n",
       "вариатор            10978\n",
       "Name: vehicleTransmission, dtype: int64"
      ]
     },
     "execution_count": 25,
     "metadata": {},
     "output_type": "execute_result"
    }
   ],
   "source": [
    "# приведем все значения в одни \"единицы измерения\" (mechanical= механическая и т.д.)\n",
    "data['vehicleTransmission'] = data['vehicleTransmission'].str.lower()\n",
    "data['vehicleTransmission'] = data['vehicleTransmission'].replace(to_replace={'mechanical':'механическая',\\\n",
    "                                                                              'automatic':'автоматическая',\\\n",
    "                                                                              'robot':'роботизированная',\\\n",
    "                                                                              'variator':'вариатор'\n",
    "                                                                             })\n",
    "\n",
    "data['vehicleTransmission'].value_counts()"
   ]
  },
  {
   "cell_type": "markdown",
   "metadata": {},
   "source": [
    "###### обработка колонки ownershipTime"
   ]
  },
  {
   "cell_type": "code",
   "execution_count": 26,
   "metadata": {},
   "outputs": [],
   "source": [
    "# пустые значения заполним нулями\n",
    "data.ownershipTime.fillna('0', inplace=True)\n",
    "\n",
    "# применяем ф-ю   \n",
    "data['ownershipTime'] = data['ownershipTime'].apply(get_ownerShipTime )\n"
   ]
  },
  {
   "cell_type": "code",
   "execution_count": 27,
   "metadata": {},
   "outputs": [],
   "source": [
    "data['ownershipTime'] = data['ownershipTime'].astype(int)"
   ]
  },
  {
   "cell_type": "markdown",
   "metadata": {},
   "source": [
    "###### обработка колонки PTS"
   ]
  },
  {
   "cell_type": "code",
   "execution_count": 28,
   "metadata": {},
   "outputs": [
    {
     "data": {
      "text/plain": [
       "оригинал    108329\n",
       "дубликат     14963\n",
       "Name: PTS, dtype: int64"
      ]
     },
     "execution_count": 28,
     "metadata": {},
     "output_type": "execute_result"
    }
   ],
   "source": [
    "data.PTS = data.PTS.str.lower()\n",
    "data.PTS = data.PTS.replace(to_replace={'original':'оригинал','duplicate':'дубликат'})\n",
    "data.PTS.value_counts()"
   ]
  },
  {
   "cell_type": "markdown",
   "metadata": {},
   "source": [
    "###### обработка колонки rudder"
   ]
  },
  {
   "cell_type": "code",
   "execution_count": 29,
   "metadata": {},
   "outputs": [
    {
     "data": {
      "text/plain": [
       "левый     120111\n",
       "правый      3181\n",
       "Name: rudder, dtype: int64"
      ]
     },
     "execution_count": 29,
     "metadata": {},
     "output_type": "execute_result"
    }
   ],
   "source": [
    "data.rudder = data.rudder.str.lower()\n",
    "data.rudder = data.rudder.replace(to_replace={'left':'левый','right':'правый'})\n",
    "data.rudder.value_counts()"
   ]
  },
  {
   "cell_type": "code",
   "execution_count": 30,
   "metadata": {},
   "outputs": [],
   "source": [
    "data.numOwners = data.numOwners.astype(int)\n",
    "data.numberOfDoors = data.numberOfDoors.astype(int)\n",
    "data.modelDate = data.modelDate.astype(int)\n"
   ]
  },
  {
   "cell_type": "markdown",
   "metadata": {},
   "source": [
    "# Итого:\n",
    "###### колонки fuelType, mileage, modelDate, model, numberOfDoors, productionDate, numOwners, driveWheels не требуют обработки\n",
    "\n",
    "###### не считаю необходимым генерировать дополнительные признаки, т.к. все  объективные признаки, способные количественно и качественно охарактеризовать авто наличествуют в датасете. Имеем 20 признаков, из которых :\n",
    "###### - sell_id - поле есть только в test части датафрейма для соединения с samplesubmission \n",
    "###### - price - поле есть только в train части датафрейма для обучения модели\n",
    "###### - sample - признак, отделяющий test от train датафрейма \n",
    "\n",
    "###### т.е. в нашем распоряжении 17 признаков"
   ]
  },
  {
   "cell_type": "code",
   "execution_count": 31,
   "metadata": {},
   "outputs": [
    {
     "name": "stdout",
     "output_type": "stream",
     "text": [
      "<class 'pandas.core.frame.DataFrame'>\n",
      "RangeIndex: 123292 entries, 0 to 123291\n",
      "Data columns (total 21 columns):\n",
      " #   Column               Non-Null Count   Dtype  \n",
      "---  ------               --------------   -----  \n",
      " 0   bodyType             123292 non-null  object \n",
      " 1   brand                123292 non-null  object \n",
      " 2   color                123292 non-null  object \n",
      " 3   engineDisplacement   123292 non-null  int32  \n",
      " 4   enginePower          123292 non-null  int32  \n",
      " 5   fuelType             123292 non-null  object \n",
      " 6   mileage              123292 non-null  int64  \n",
      " 7   modelDate            123292 non-null  int32  \n",
      " 8   model                123292 non-null  object \n",
      " 9   name                 123292 non-null  object \n",
      " 10  numberOfDoors        123292 non-null  int32  \n",
      " 11  productionDate       123292 non-null  int64  \n",
      " 12  sell_id              34686 non-null   float64\n",
      " 13  vehicleTransmission  123292 non-null  object \n",
      " 14  numOwners            123292 non-null  int32  \n",
      " 15  ownershipTime        123292 non-null  int32  \n",
      " 16  PTS                  123292 non-null  object \n",
      " 17  driveWheels          123292 non-null  object \n",
      " 18  rudder               123292 non-null  object \n",
      " 19  sample               123292 non-null  int64  \n",
      " 20  price                88606 non-null   float64\n",
      "dtypes: float64(2), int32(6), int64(3), object(10)\n",
      "memory usage: 16.9+ MB\n"
     ]
    }
   ],
   "source": [
    "data.info()"
   ]
  },
  {
   "cell_type": "code",
   "execution_count": null,
   "metadata": {},
   "outputs": [],
   "source": []
  },
  {
   "cell_type": "markdown",
   "metadata": {},
   "source": [
    "# EDA\n",
    "###### следует отметить, что датасет (как train так и test) содержат совершенно не прогнозируемые по цене варианты авто, их можно разделить на 2 группы:\n",
    " ###### 1) раритет\n",
    "   ###### - предложений будет немного, модель не обучится полноценно\n",
    "   ###### - цена раритетных авто очень сильно зависит от их состояния, которое невозможно оценить по количественным и качественным харак-кам \n",
    "   \n",
    " ###### 2) сегмент эксклюзивных авто\n",
    "   ###### -  опять же немного экземпляров для обучения\n",
    "   ###### - опять же на цену может влиять совершенно случайная харак-ка (золотой руль или машина внука Майкла Джексона)\n",
    "   \n",
    "###### Исходя из постановки задачи, нам нужен сервис, который поможет перекупщикам более выгодно перепродать авто, а значит внимание стоит сфокусировать на повседневных авто:\n",
    "   ###### - раритет отбросим грубо по году выпуска авто, будем рассматривать только авто, выпущенные с 2000 года (для перекупов более старые авто - сплошная головная боль, это уже скорее музейные экспонаты или доноры для их восстановления)\n",
    "   ###### - эксклюзив отбросим, руководствуясь определением выбросов по цене\n",
    "   ###### - также исключим из выборки авто, имеющие слишком большой пробег (также, руководятвуясь определением выброса ), т.к. такие авто также не оценить по параметрам\n",
    "# _____________________________________________________________\n",
    "   "
   ]
  },
  {
   "cell_type": "markdown",
   "metadata": {},
   "source": [
    "###### На графике ниже можно увидеть взрывной рост автомобильной промышленности с 2000 года. Объявления о продаже авто старше 2000 г.в. будем исключать из train датасета"
   ]
  },
  {
   "cell_type": "code",
   "execution_count": 32,
   "metadata": {},
   "outputs": [
    {
     "data": {
      "text/plain": [
       "<AxesSubplot:>"
      ]
     },
     "execution_count": 32,
     "metadata": {},
     "output_type": "execute_result"
    },
    {
     "data": {
      "image/png": "[encoded data removed]",
      "text/plain": [
       "<Figure size 432x288 with 1 Axes>"
      ]
     },
     "metadata": {
      "needs_background": "light"
     },
     "output_type": "display_data"
    }
   ],
   "source": [
    "data.productionDate.hist()"
   ]
  },
  {
   "cell_type": "markdown",
   "metadata": {},
   "source": [
    "###### для показательности гистограммы, ограничим цену 7 млн. р., видим, что подавляющее большинство авто находится в ценовой категории до 1 млн.р."
   ]
  },
  {
   "cell_type": "code",
   "execution_count": 33,
   "metadata": {},
   "outputs": [
    {
     "data": {
      "text/plain": [
       "<AxesSubplot:>"
      ]
     },
     "execution_count": 33,
     "metadata": {},
     "output_type": "execute_result"
    },
    {
     "data": {
      "image/png": "[encoded data removed]",
      "text/plain": [
       "<Figure size 432x288 with 1 Axes>"
      ]
     },
     "metadata": {
      "needs_background": "light"
     },
     "output_type": "display_data"
    }
   ],
   "source": [
    "data[data.price<7000000].price.hist()"
   ]
  },
  {
   "cell_type": "markdown",
   "metadata": {},
   "source": [
    "###### Для обучения модели удем использовать объявления до 3.1 млн. р."
   ]
  },
  {
   "cell_type": "code",
   "execution_count": 34,
   "metadata": {},
   "outputs": [
    {
     "name": "stdout",
     "output_type": "stream",
     "text": [
      "25-й перцентиль: 350000.0, 75-й перцентиль: 1450000.0, IQR: 1100000.0, Границы выбросов: [-1300000.0,3100000.0].\n"
     ]
    },
    {
     "data": {
      "image/png": "[encoded data removed]",
      "text/plain": [
       "<Figure size 432x288 with 1 Axes>"
      ]
     },
     "metadata": {
      "needs_background": "light"
     },
     "output_type": "display_data"
    }
   ],
   "source": [
    "print_hist(data.price)"
   ]
  },
  {
   "cell_type": "markdown",
   "metadata": {},
   "source": [
    "###### Для обучения модели будем использовать объявления с пробегом до 400 тыс.км."
   ]
  },
  {
   "cell_type": "code",
   "execution_count": 35,
   "metadata": {},
   "outputs": [
    {
     "name": "stdout",
     "output_type": "stream",
     "text": [
      "25-й перцентиль: 70000.0, 75-й перцентиль: 200000.0, IQR: 130000.0, Границы выбросов: [-125000.0,395000.0].\n"
     ]
    },
    {
     "data": {
      "image/png": "[encoded data removed]",
      "text/plain": [
       "<Figure size 432x288 with 1 Axes>"
      ]
     },
     "metadata": {
      "needs_background": "light"
     },
     "output_type": "display_data"
    }
   ],
   "source": [
    "print_hist(data.mileage)"
   ]
  },
  {
   "cell_type": "markdown",
   "metadata": {},
   "source": [
    "###### Оценим влияние категориальных признаков на цену"
   ]
  },
  {
   "cell_type": "code",
   "execution_count": 36,
   "metadata": {},
   "outputs": [],
   "source": [
    "# для оценки будем использовать train датасет с отфильтрованными выбросами\n",
    "data_eda = data.copy()\n",
    "data_eda = data_eda[data_eda['sample'] == 1]\n",
    "data_eda = data_eda[data_eda.productionDate > 1999]\n",
    "data_eda = data_eda[data_eda.price < 3100000]\n",
    "data_eda = data_eda[data_eda.mileage <395001]\n",
    "\n"
   ]
  },
  {
   "cell_type": "code",
   "execution_count": 37,
   "metadata": {},
   "outputs": [
    {
     "data": {
      "image/png": "[encoded data removed]",
      "text/plain": [
       "<Figure size 1008x288 with 1 Axes>"
      ]
     },
     "metadata": {
      "needs_background": "light"
     },
     "output_type": "display_data"
    },
    {
     "data": {
      "image/png": "[encoded data removed]",
      "text/plain": [
       "<Figure size 1008x288 with 1 Axes>"
      ]
     },
     "metadata": {
      "needs_background": "light"
     },
     "output_type": "display_data"
    },
    {
     "data": {
      "image/png": "[encoded data removed]",
      "text/plain": [
       "<Figure size 1008x288 with 1 Axes>"
      ]
     },
     "metadata": {
      "needs_background": "light"
     },
     "output_type": "display_data"
    },
    {
     "data": {
      "image/png": "[encoded data removed]",
      "text/plain": [
       "<Figure size 1008x288 with 1 Axes>"
      ]
     },
     "metadata": {
      "needs_background": "light"
     },
     "output_type": "display_data"
    },
    {
     "data": {
      "image/png": "[encoded data removed]",
      "text/plain": [
       "<Figure size 1008x288 with 1 Axes>"
      ]
     },
     "metadata": {
      "needs_background": "light"
     },
     "output_type": "display_data"
    },
    {
     "data": {
      "image/png": "[encoded data removed]",
      "text/plain": [
       "<Figure size 1008x288 with 1 Axes>"
      ]
     },
     "metadata": {
      "needs_background": "light"
     },
     "output_type": "display_data"
    },
    {
     "data": {
      "image/png": "[encoded data removed]",
      "text/plain": [
       "<Figure size 1008x288 with 1 Axes>"
      ]
     },
     "metadata": {
      "needs_background": "light"
     },
     "output_type": "display_data"
    },
    {
     "data": {
      "image/png": "[encoded data removed]",
      "text/plain": [
       "<Figure size 1008x288 with 1 Axes>"
      ]
     },
     "metadata": {
      "needs_background": "light"
     },
     "output_type": "display_data"
    },
    {
     "data": {
      "image/png": "[encoded data removed]",
      "text/plain": [
       "<Figure size 1008x288 with 1 Axes>"
      ]
     },
     "metadata": {
      "needs_background": "light"
     },
     "output_type": "display_data"
    },
    {
     "data": {
      "image/png": "[encoded data removed]",
      "text/plain": [
       "<Figure size 1008x288 with 1 Axes>"
      ]
     },
     "metadata": {
      "needs_background": "light"
     },
     "output_type": "display_data"
    },
    {
     "data": {
      "image/png": "[encoded data removed]",
      "text/plain": [
       "<Figure size 1008x288 with 1 Axes>"
      ]
     },
     "metadata": {
      "needs_background": "light"
     },
     "output_type": "display_data"
    },
    {
     "data": {
      "image/png": "[encoded data removed]",
      "text/plain": [
       "<Figure size 1008x288 with 1 Axes>"
      ]
     },
     "metadata": {
      "needs_background": "light"
     },
     "output_type": "display_data"
    },
    {
     "data": {
      "image/png": "[encoded data removed]",
      "text/plain": [
       "<Figure size 1008x288 with 1 Axes>"
      ]
     },
     "metadata": {
      "needs_background": "light"
     },
     "output_type": "display_data"
    },
    {
     "data": {
      "image/png": "[encoded data removed]",
      "text/plain": [
       "<Figure size 1008x288 with 1 Axes>"
      ]
     },
     "metadata": {
      "needs_background": "light"
     },
     "output_type": "display_data"
    }
   ],
   "source": [
    "for col in ['bodyType','brand','color','engineDisplacement','enginePower','fuelType','modelDate',\\\n",
    "            'numberOfDoors','productionDate','vehicleTransmission','numOwners','PTS','driveWheels','rudder']:\n",
    "    get_boxplot(col)"
   ]
  },
  {
   "cell_type": "markdown",
   "metadata": {},
   "source": [
    "### Выводы:\n",
    "###### 1)  кабриолет, купе и внедорожник - самые дорогие кузова, хэтчбэк и компактвэн - самые дешевые\n",
    "###### 2) BMW, MITSUBISHI, TOYOTA, MERCEDES - самые дорогие брэнды, CHEVROLET и FORD - самые дешевые\n",
    "###### 3) Белый и черный цвета ценятся более всего\n",
    "###### 4) ожидаемо, моторы объемом от 2л. ценятся больше\n",
    "###### 5) моторы 150 и 250 л.с. хорошо ценятся\n",
    "###### 6) ожидаемо, дизельные гибридные и электро двигатели дороже, т.к. наиболее сложны (в случае с электро - технологичнее авто в целом)\n",
    "###### 7) 3-летние авто ценятся лучше всех (на момент 2020)\n",
    "###### 8) ожидаемо 2 дверные авто (купе, кабриолеты) ценятся более \n",
    "###### 9) за 5 лет авто теряет половину цены...\n",
    "###### 10) ожидаемо, механика ценится менее всех остальных трансмиссий\n",
    "###### 11) ожидаемо, больше ценится, когда 1 владелец\n",
    "###### 12) ожидаемо, больше ценится, когда ПТС оригинал\n",
    "###### 13) ожидаемо, полный привод ценится больше всего, а задний больше переднего\n",
    "###### 13) ожидаемо, леворульные авто дороже праворульных\n"
   ]
  },
  {
   "cell_type": "code",
   "execution_count": 38,
   "metadata": {
    "execution": {
     "iopub.execute_input": "2020-10-26T12:47:03.489637Z",
     "iopub.status.busy": "2020-10-26T12:47:03.483022Z",
     "iopub.status.idle": "2020-10-26T12:47:03.549376Z",
     "shell.execute_reply": "2020-10-26T12:47:03.548539Z"
    },
    "papermill": {
     "duration": 0.10809,
     "end_time": "2020-10-26T12:47:03.549533",
     "exception": false,
     "start_time": "2020-10-26T12:47:03.441443",
     "status": "completed"
    },
    "tags": []
   },
   "outputs": [],
   "source": [
    "for colum in ['bodyType','brand','color','engineDisplacement','enginePower','fuelType','modelDate','model',\\\n",
    "            'numberOfDoors','vehicleTransmission','numOwners','PTS','driveWheels','rudder']:\n",
    "    data[colum] = data[colum].astype('category').cat.codes"
   ]
  },
  {
   "cell_type": "code",
   "execution_count": 39,
   "metadata": {
    "execution": {
     "iopub.execute_input": "2020-10-26T12:47:03.6352Z",
     "iopub.status.busy": "2020-10-26T12:47:03.633973Z",
     "iopub.status.idle": "2020-10-26T12:47:03.646722Z",
     "shell.execute_reply": "2020-10-26T12:47:03.645899Z"
    },
    "papermill": {
     "duration": 0.06183,
     "end_time": "2020-10-26T12:47:03.646867",
     "exception": false,
     "start_time": "2020-10-26T12:47:03.585037",
     "status": "completed"
    },
    "tags": []
   },
   "outputs": [
    {
     "name": "stdout",
     "output_type": "stream",
     "text": [
      "<class 'pandas.core.frame.DataFrame'>\n",
      "RangeIndex: 123292 entries, 0 to 123291\n",
      "Data columns (total 21 columns):\n",
      " #   Column               Non-Null Count   Dtype  \n",
      "---  ------               --------------   -----  \n",
      " 0   bodyType             123292 non-null  int8   \n",
      " 1   brand                123292 non-null  int8   \n",
      " 2   color                123292 non-null  int8   \n",
      " 3   engineDisplacement   123292 non-null  int8   \n",
      " 4   enginePower          123292 non-null  int16  \n",
      " 5   fuelType             123292 non-null  int8   \n",
      " 6   mileage              123292 non-null  int64  \n",
      " 7   modelDate            123292 non-null  int8   \n",
      " 8   model                123292 non-null  int16  \n",
      " 9   name                 123292 non-null  object \n",
      " 10  numberOfDoors        123292 non-null  int8   \n",
      " 11  productionDate       123292 non-null  int64  \n",
      " 12  sell_id              34686 non-null   float64\n",
      " 13  vehicleTransmission  123292 non-null  int8   \n",
      " 14  numOwners            123292 non-null  int8   \n",
      " 15  ownershipTime        123292 non-null  int32  \n",
      " 16  PTS                  123292 non-null  int8   \n",
      " 17  driveWheels          123292 non-null  int8   \n",
      " 18  rudder               123292 non-null  int8   \n",
      " 19  sample               123292 non-null  int64  \n",
      " 20  price                88606 non-null   float64\n",
      "dtypes: float64(2), int16(2), int32(1), int64(3), int8(12), object(1)\n",
      "memory usage: 8.0+ MB\n"
     ]
    }
   ],
   "source": [
    "data.info()"
   ]
  },
  {
   "cell_type": "code",
   "execution_count": 40,
   "metadata": {
    "execution": {
     "iopub.execute_input": "2020-10-26T12:47:03.727044Z",
     "iopub.status.busy": "2020-10-26T12:47:03.725742Z",
     "iopub.status.idle": "2020-10-26T12:47:03.753844Z",
     "shell.execute_reply": "2020-10-26T12:47:03.753001Z"
    },
    "papermill": {
     "duration": 0.071275,
     "end_time": "2020-10-26T12:47:03.754",
     "exception": false,
     "start_time": "2020-10-26T12:47:03.682725",
     "status": "completed"
    },
    "tags": []
   },
   "outputs": [],
   "source": [
    "# обратно делим train и test датасеты, в train избавляемся от выбросов\n",
    "X = data.query('sample == 1').drop(['sample','sell_id','name'], axis=1)\n",
    "X = X[X.productionDate>1999]\n",
    "X = X[X.price<3100000]\n",
    "X = X[X.mileage<395001]\n",
    "# фиксируем целевую переменную в train датасете уже после удаления выбросов, чтобы строки не \"поехали\"\n",
    "y = X['price']\n",
    "# удаляем из train датасета целевую переменную \n",
    "X = X.drop(['price'], axis = 1)\n",
    "# в test датасете просто удаляем колонку sample\n",
    "X_sub = data.query('sample == 0').drop(['sample','price','name'], axis=1)"
   ]
  },
  {
   "cell_type": "code",
   "execution_count": 41,
   "metadata": {},
   "outputs": [
    {
     "name": "stdout",
     "output_type": "stream",
     "text": [
      "<class 'pandas.core.frame.DataFrame'>\n",
      "Int64Index: 73860 entries, 34989 to 123291\n",
      "Data columns (total 17 columns):\n",
      " #   Column               Non-Null Count  Dtype\n",
      "---  ------               --------------  -----\n",
      " 0   bodyType             73860 non-null  int8 \n",
      " 1   brand                73860 non-null  int8 \n",
      " 2   color                73860 non-null  int8 \n",
      " 3   engineDisplacement   73860 non-null  int8 \n",
      " 4   enginePower          73860 non-null  int16\n",
      " 5   fuelType             73860 non-null  int8 \n",
      " 6   mileage              73860 non-null  int64\n",
      " 7   modelDate            73860 non-null  int8 \n",
      " 8   model                73860 non-null  int16\n",
      " 9   numberOfDoors        73860 non-null  int8 \n",
      " 10  productionDate       73860 non-null  int64\n",
      " 11  vehicleTransmission  73860 non-null  int8 \n",
      " 12  numOwners            73860 non-null  int8 \n",
      " 13  ownershipTime        73860 non-null  int32\n",
      " 14  PTS                  73860 non-null  int8 \n",
      " 15  driveWheels          73860 non-null  int8 \n",
      " 16  rudder               73860 non-null  int8 \n",
      "dtypes: int16(2), int32(1), int64(2), int8(12)\n",
      "memory usage: 3.1 MB\n"
     ]
    }
   ],
   "source": [
    "X.info()"
   ]
  },
  {
   "cell_type": "code",
   "execution_count": 42,
   "metadata": {},
   "outputs": [
    {
     "name": "stdout",
     "output_type": "stream",
     "text": [
      "<class 'pandas.core.frame.DataFrame'>\n",
      "Int64Index: 34686 entries, 0 to 34685\n",
      "Data columns (total 18 columns):\n",
      " #   Column               Non-Null Count  Dtype  \n",
      "---  ------               --------------  -----  \n",
      " 0   bodyType             34686 non-null  int8   \n",
      " 1   brand                34686 non-null  int8   \n",
      " 2   color                34686 non-null  int8   \n",
      " 3   engineDisplacement   34686 non-null  int8   \n",
      " 4   enginePower          34686 non-null  int16  \n",
      " 5   fuelType             34686 non-null  int8   \n",
      " 6   mileage              34686 non-null  int64  \n",
      " 7   modelDate            34686 non-null  int8   \n",
      " 8   model                34686 non-null  int16  \n",
      " 9   numberOfDoors        34686 non-null  int8   \n",
      " 10  productionDate       34686 non-null  int64  \n",
      " 11  sell_id              34686 non-null  float64\n",
      " 12  vehicleTransmission  34686 non-null  int8   \n",
      " 13  numOwners            34686 non-null  int8   \n",
      " 14  ownershipTime        34686 non-null  int32  \n",
      " 15  PTS                  34686 non-null  int8   \n",
      " 16  driveWheels          34686 non-null  int8   \n",
      " 17  rudder               34686 non-null  int8   \n",
      "dtypes: float64(1), int16(2), int32(1), int64(2), int8(12)\n",
      "memory usage: 1.7 MB\n"
     ]
    }
   ],
   "source": [
    "X_sub.info()"
   ]
  },
  {
   "cell_type": "code",
   "execution_count": 43,
   "metadata": {},
   "outputs": [
    {
     "name": "stdout",
     "output_type": "stream",
     "text": [
      "<class 'pandas.core.frame.DataFrame'>\n",
      "RangeIndex: 34686 entries, 0 to 34685\n",
      "Data columns (total 2 columns):\n",
      " #   Column   Non-Null Count  Dtype\n",
      "---  ------   --------------  -----\n",
      " 0   sell_id  34686 non-null  int64\n",
      " 1   price    34686 non-null  int64\n",
      "dtypes: int64(2)\n",
      "memory usage: 542.1 KB\n"
     ]
    }
   ],
   "source": [
    "sample_submission.info()"
   ]
  },
  {
   "cell_type": "code",
   "execution_count": 48,
   "metadata": {},
   "outputs": [
    {
     "data": {
      "text/plain": [
       "((73860, 17), (73860,), (34686, 18), (34686, 2))"
      ]
     },
     "execution_count": 48,
     "metadata": {},
     "output_type": "execute_result"
    }
   ],
   "source": [
    "X.shape, y.shape, X_sub.shape, sample_submission.shape"
   ]
  },
  {
   "cell_type": "markdown",
   "metadata": {},
   "source": [
    "# Как будем оценивать модель?\n",
    "###### Наша задача сводится к предсказанию стоимости авто, а значит это задача регрессии, для оценки качества модели будем использовать метрику MAPE, эта метрика показывает, на сколько процентов в среднем наше предсказание отклоняется от реального значения."
   ]
  },
  {
   "cell_type": "code",
   "execution_count": 49,
   "metadata": {},
   "outputs": [],
   "source": [
    "def mape(y_true, y_pred):\n",
    "    return np.mean(np.abs((y_pred-y_true)/y_true))"
   ]
  },
  {
   "cell_type": "markdown",
   "metadata": {
    "papermill": {
     "duration": 0.035737,
     "end_time": "2020-10-26T12:47:03.826552",
     "exception": false,
     "start_time": "2020-10-26T12:47:03.790815",
     "status": "completed"
    },
    "tags": []
   },
   "source": [
    "## Train Split"
   ]
  },
  {
   "cell_type": "code",
   "execution_count": 50,
   "metadata": {
    "execution": {
     "iopub.execute_input": "2020-10-26T12:47:03.90948Z",
     "iopub.status.busy": "2020-10-26T12:47:03.908518Z",
     "iopub.status.idle": "2020-10-26T12:47:03.923409Z",
     "shell.execute_reply": "2020-10-26T12:47:03.922602Z"
    },
    "papermill": {
     "duration": 0.059208,
     "end_time": "2020-10-26T12:47:03.923564",
     "exception": false,
     "start_time": "2020-10-26T12:47:03.864356",
     "status": "completed"
    },
    "tags": []
   },
   "outputs": [],
   "source": [
    "X_train, X_test, y_train, y_test = train_test_split(X, y, test_size=VAL_SIZE, shuffle=True, random_state=RANDOM_SEED)"
   ]
  },
  {
   "cell_type": "markdown",
   "metadata": {},
   "source": [
    "# Model 1: Создадим \"наивную\" модель \n",
    "Эта модель будет предсказывать среднюю цену по модели двигателя (engineDisplacement). \n",
    "C ней будем сравнивать другие модели.\n",
    "\n",
    "\n"
   ]
  },
  {
   "cell_type": "code",
   "execution_count": 51,
   "metadata": {},
   "outputs": [],
   "source": [
    "tmp_train = X_train.copy()\n",
    "tmp_train['price'] = y_train"
   ]
  },
  {
   "cell_type": "code",
   "execution_count": 52,
   "metadata": {},
   "outputs": [
    {
     "name": "stdout",
     "output_type": "stream",
     "text": [
      "Точность наивной модели по метрике MAPE: 61.10%\n"
     ]
    }
   ],
   "source": [
    "# Находим median по экземплярам engineDisplacement в трейне и размечаем тест\n",
    "predict = X_test['engineDisplacement'].map(tmp_train.groupby('engineDisplacement')['price'].median())\n",
    "\n",
    "#оцениваем точность\n",
    "print(f\"Точность наивной модели по метрике MAPE: {(mape(y_test, predict.values))*100:0.2f}%\")"
   ]
  },
  {
   "cell_type": "markdown",
   "metadata": {},
   "source": [
    "# # Model 2 : Решающее дерево"
   ]
  },
  {
   "cell_type": "code",
   "execution_count": 307,
   "metadata": {},
   "outputs": [
    {
     "name": "stdout",
     "output_type": "stream",
     "text": [
      "Точность модели Решающее дерево по метрике MAPE до оптимизиации: 39.66%\n"
     ]
    }
   ],
   "source": [
    "DecTree = DecisionTreeRegressor(max_depth=3, random_state=RANDOM_SEED)\n",
    "DecTree.fit(X_train, y_train,)\n",
    "DecTree_predict = DecTree.predict(X_test)\n",
    "print(f\"Точность модели Решающее дерево по метрике MAPE до оптимизиации: {(mape(y_test, DecTree_predict))*100:0.2f}%\")"
   ]
  },
  {
   "cell_type": "code",
   "execution_count": 308,
   "metadata": {},
   "outputs": [
    {
     "name": "stdout",
     "output_type": "stream",
     "text": [
      "Fitting 3 folds for each of 100 candidates, totalling 300 fits\n"
     ]
    },
    {
     "data": {
      "text/plain": [
       "{'min_samples_leaf': 7, 'max_features': 'auto', 'max_depth': 23}"
      ]
     },
     "execution_count": 308,
     "metadata": {},
     "output_type": "execute_result"
    }
   ],
   "source": [
    "max_depth = [int(x) for x in np.linspace(10, 30, num = 20)]\n",
    "max_leaf_nodes = [int(x) for x in np.linspace(2, 30, num = 30)]\n",
    "max_depth.append(None)\n",
    "max_features = ['auto', 'sqrt', 'log2']\n",
    "min_samples_leaf = [2,3,4,5,6,7,8]\n",
    "\n",
    "random_grid = {'max_depth': max_depth,'max_features':max_features,'min_samples_leaf':min_samples_leaf}\n",
    "\n",
    "DecTree = DecisionTreeRegressor(random_state=RANDOM_SEED)\n",
    "DecTree_opt = RandomizedSearchCV(estimator=DecTree, param_distributions=random_grid, n_iter=100, \n",
    "                               cv=3, verbose=2, random_state=RANDOM_SEED, n_jobs=-1)\n",
    "DecTree_opt.fit(X_train, y_train)\n",
    "DecTree_opt.best_params_"
   ]
  },
  {
   "cell_type": "code",
   "execution_count": 309,
   "metadata": {},
   "outputs": [
    {
     "name": "stdout",
     "output_type": "stream",
     "text": [
      "Точность модели Решающее дерево по метрике MAPE после оптимизации: 13.95%\n"
     ]
    }
   ],
   "source": [
    "DecTree_opt_predict = DecTree_opt.predict(X_test)\n",
    "print(f\"Точность модели Решающее дерево по метрике MAPE после оптимизации: {(mape(y_test, DecTree_opt_predict))*100:0.2f}%\")"
   ]
  },
  {
   "cell_type": "markdown",
   "metadata": {},
   "source": [
    "# # Model 3 : Случайный лес"
   ]
  },
  {
   "cell_type": "code",
   "execution_count": 310,
   "metadata": {},
   "outputs": [
    {
     "name": "stdout",
     "output_type": "stream",
     "text": [
      "Точность модели Случайный лес по метрике MAPE: 11.84%\n"
     ]
    }
   ],
   "source": [
    "RandomForest = RandomForestRegressor(random_state = 42)\n",
    "RandomForest.fit(X_train, y_train,)\n",
    "RandomForest_predict = RandomForest.predict(X_test)\n",
    "print(f\"Точность модели Случайный лес по метрике MAPE: {(mape(y_test, RandomForest_predict))*100:0.2f}%\")"
   ]
  },
  {
   "cell_type": "markdown",
   "metadata": {},
   "source": [
    "###### Выполнить подбор наилучших для случайного леса параметров так и не удалось (не удивительно, ведь объем вычислений гигантский, попробуем воспользоваться более оптимальными алгоритмами"
   ]
  },
  {
   "cell_type": "markdown",
   "metadata": {},
   "source": [
    "# # Model 4: AdaBoost on Random Forest"
   ]
  },
  {
   "cell_type": "code",
   "execution_count": 311,
   "metadata": {},
   "outputs": [
    {
     "name": "stdout",
     "output_type": "stream",
     "text": [
      "Точность модели AdaBoost по метрике MAPE: 14.66%\n"
     ]
    }
   ],
   "source": [
    "AdaBoost_RF = AdaBoostRegressor(base_estimator=RandomForest)\n",
    "AdaBoost_RF.fit(X_train, y_train)\n",
    "AdaBoost_RF_predict = AdaBoost_RF.predict(X_test)\n",
    "print(f\"Точность модели AdaBoost по метрике MAPE: {(mape(y_test, AdaBoost_RF_predict))*100:0.2f}%\")"
   ]
  },
  {
   "cell_type": "markdown",
   "metadata": {},
   "source": [
    "###### Подбор параметров, также не представляется возможным"
   ]
  },
  {
   "cell_type": "markdown",
   "metadata": {},
   "source": [
    "# # Model 5: AdaBoost on DecisionTree"
   ]
  },
  {
   "cell_type": "code",
   "execution_count": 312,
   "metadata": {},
   "outputs": [
    {
     "name": "stdout",
     "output_type": "stream",
     "text": [
      "Точность модели AdaBoost по метрике MAPE: 13.25%\n"
     ]
    }
   ],
   "source": [
    "DecTree = DecisionTreeRegressor(random_state=RANDOM_SEED, min_samples_leaf=6,max_features='auto',max_depth=18)\n",
    "\n",
    "AdaBoost_DT = AdaBoostRegressor(base_estimator=DecTree)\n",
    "AdaBoost_DT.fit(X_train, y_train)\n",
    "AdaBoost_DT_predict = AdaBoost_DT.predict(X_test)\n",
    "print(f\"Точность модели AdaBoost по метрике MAPE: {(mape(y_test, AdaBoost_DT_predict))*100:0.2f}%\")"
   ]
  },
  {
   "cell_type": "markdown",
   "metadata": {},
   "source": [
    "###### Подбор параметров, также не представляется возможным"
   ]
  },
  {
   "cell_type": "markdown",
   "metadata": {},
   "source": [
    "# # Model 5: Градиентный бустинг"
   ]
  },
  {
   "cell_type": "code",
   "execution_count": 314,
   "metadata": {},
   "outputs": [
    {
     "name": "stdout",
     "output_type": "stream",
     "text": [
      "Точность модели Градиентный бустинг по метрике MAPE: 18.70%\n"
     ]
    }
   ],
   "source": [
    "GradBoost = GradientBoostingRegressor()\n",
    "GradBoost.fit(X_train, y_train)\n",
    "GradBoost_predict = GradBoost.predict(X_test)\n",
    "print(f\"Точность модели Градиентный бустинг по метрике MAPE: {(mape(y_test, GradBoost_predict))*100:0.2f}%\")"
   ]
  },
  {
   "cell_type": "markdown",
   "metadata": {},
   "source": [
    "###### Выполнить подбор оптимальных параметров не имеет смысла, т.к. модель CatBoost (по-сути тот же градиентный бустинг) показала себя сильно лучше даже без подбора параметров, в дальнейшем для стакинга буду использовать именно CatBoost"
   ]
  },
  {
   "cell_type": "markdown",
   "metadata": {
    "papermill": {
     "duration": 0.037164,
     "end_time": "2020-10-26T12:47:03.997616",
     "exception": false,
     "start_time": "2020-10-26T12:47:03.960452",
     "status": "completed"
    },
    "tags": []
   },
   "source": [
    "# # Model 6 : CatBoost\n",
    "![](https://pbs.twimg.com/media/DP-jUCyXcAArRTo.png:large)   \n",
    "\n",
    "\n",
    "У нас в данных практически все признаки категориальные. Специально для работы с такими данными была создана очень удобная библиотека CatBoost от Яндекса. [https://catboost.ai](http://)     \n",
    "На данный момент **CatBoost является одной из лучших библиотек для табличных данных!**\n",
    "\n",
    "#### Полезные видео о CatBoost (на русском):\n",
    "* [Доклад про CatBoost](https://youtu.be/9ZrfErvm97M)\n",
    "* [Свежий Туториал от команды CatBoost (практическая часть)](https://youtu.be/wQt4kgAOgV0) "
   ]
  },
  {
   "cell_type": "markdown",
   "metadata": {
    "papermill": {
     "duration": 0.035833,
     "end_time": "2020-10-26T12:47:04.149539",
     "exception": false,
     "start_time": "2020-10-26T12:47:04.113706",
     "status": "completed"
    },
    "tags": []
   },
   "source": [
    "## Fit"
   ]
  },
  {
   "cell_type": "code",
   "execution_count": 53,
   "metadata": {
    "execution": {
     "iopub.execute_input": "2020-10-26T12:47:04.256865Z",
     "iopub.status.busy": "2020-10-26T12:47:04.248328Z",
     "iopub.status.idle": "2020-10-26T12:48:12.17834Z",
     "shell.execute_reply": "2020-10-26T12:48:12.17762Z"
    },
    "papermill": {
     "duration": 67.991521,
     "end_time": "2020-10-26T12:48:12.178488",
     "exception": false,
     "start_time": "2020-10-26T12:47:04.186967",
     "status": "completed"
    },
    "tags": []
   },
   "outputs": [],
   "source": [
    "model = CatBoostRegressor(iterations = 5000,\n",
    "                          random_seed = RANDOM_SEED,\n",
    "                          eval_metric='MAPE',\n",
    "                          custom_metric=['R2', 'MAE'],\n",
    "                          silent=True,\n",
    "                         )\n",
    "model.fit(X_train, y_train,\n",
    "         #cat_features=cat_features_ids,\n",
    "         eval_set=(X_test, y_test),\n",
    "         verbose_eval=0,\n",
    "         use_best_model=True,\n",
    "         #plot=True\n",
    "         )\n",
    "\n",
    "model.save_model('catboost_single_model_baseline.model')"
   ]
  },
  {
   "cell_type": "code",
   "execution_count": 54,
   "metadata": {},
   "outputs": [
    {
     "name": "stdout",
     "output_type": "stream",
     "text": [
      "Точность модели по метрике MAPE: 11.30%\n"
     ]
    }
   ],
   "source": [
    "# оцениваем точность\n",
    "predict = model.predict(X_test)\n",
    "print(f\"Точность модели по метрике MAPE: {(mape(y_test, predict))*100:0.2f}%\")"
   ]
  },
  {
   "cell_type": "markdown",
   "metadata": {},
   "source": [
    "###### попробуем логарифмировать таргет и применить более оптимальные пар-ры:"
   ]
  },
  {
   "cell_type": "code",
   "execution_count": 67,
   "metadata": {},
   "outputs": [
    {
     "data": {
      "application/vnd.jupyter.widget-view+json": {
       "model_id": "55a90bbe25b14c44848e0a156978b571",
       "version_major": 2,
       "version_minor": 0
      },
      "text/plain": [
       "MetricVisualizer(layout=Layout(align_self='stretch', height='500px'))"
      ]
     },
     "metadata": {},
     "output_type": "display_data"
    }
   ],
   "source": [
    "CatBoost = CatBoostRegressor(iterations = 1000,\n",
    "                          random_seed = RANDOM_SEED,\n",
    "                          eval_metric='MAPE',\n",
    "                          custom_metric='MAE',\n",
    "                          one_hot_max_size = 15,\n",
    "                          learning_rate=0.1,\n",
    "                          depth = 10,\n",
    "                          l2_leaf_reg = 1,\n",
    "                          silent=True\n",
    "                         )\n",
    "\n",
    "CatBoost.fit(X_train, np.log(y_train),\n",
    "         cat_features=['brand','color','fuelType','model','vehicleTransmission','PTS','driveWheels','rudder'],\n",
    "         eval_set=(X_test, np.log(y_test)),\n",
    "         verbose_eval=0,\n",
    "         use_best_model=True,\n",
    "         \n",
    "         plot=True\n",
    "         )\n",
    "\n",
    "\n",
    "CatBoost.save_model('catboost_single_model_2_baseline.model')"
   ]
  },
  {
   "cell_type": "code",
   "execution_count": 366,
   "metadata": {},
   "outputs": [
    {
     "name": "stdout",
     "output_type": "stream",
     "text": [
      "Точность модели по метрике MAPE: 10.78%\n"
     ]
    }
   ],
   "source": [
    "CatBoost_predict = np.exp(CatBoost.predict(X_test))\n",
    "print(f\"Точность модели по метрике MAPE: {(mape(y_test, CatBoost_predict))*100:0.2f}%\")"
   ]
  },
  {
   "cell_type": "markdown",
   "metadata": {},
   "source": [
    "###### выполним кроссвалидацию и подберем параметры:"
   ]
  },
  {
   "cell_type": "code",
   "execution_count": 361,
   "metadata": {},
   "outputs": [
    {
     "data": {
      "application/vnd.jupyter.widget-view+json": {
       "model_id": "13c5d1c120a24d8bbc3ae1ee052ee384",
       "version_major": 2,
       "version_minor": 0
      },
      "text/plain": [
       "MetricVisualizer(layout=Layout(align_self='stretch', height='500px'))"
      ]
     },
     "metadata": {},
     "output_type": "display_data"
    },
    {
     "name": "stdout",
     "output_type": "stream",
     "text": [
      "Training on fold [0/3]\n",
      "\n",
      "bestTest = 0.2763776197\n",
      "bestIteration = 999\n",
      "\n",
      "Training on fold [1/3]\n",
      "\n",
      "bestTest = 0.2750604302\n",
      "bestIteration = 988\n",
      "\n",
      "Training on fold [2/3]\n",
      "\n",
      "bestTest = 0.2622989834\n",
      "bestIteration = 997\n",
      "\n"
     ]
    }
   ],
   "source": [
    "CatBoost1 = CatBoostRegressor(random_seed = RANDOM_SEED)\n",
    "\n",
    "params = {\"iterations\": 1000,\n",
    "          \"depth\": 10,\n",
    "          \"l2_leaf_reg\":1,\n",
    "          \"learning_rate\":0.1,\n",
    "          \"loss_function\": \"MAPE\",\n",
    "          \"verbose\": False}\n",
    "cv_dataset = Pool(data=X_train,\n",
    "                  label=y_train)\n",
    "scores = cv(cv_dataset,\n",
    "            params,\n",
    "            fold_count=3, \n",
    "            plot=\"True\")\n",
    "\n",
    "\n"
   ]
  },
  {
   "cell_type": "code",
   "execution_count": 358,
   "metadata": {},
   "outputs": [
    {
     "data": {
      "application/vnd.jupyter.widget-view+json": {
       "model_id": "fa008d9e4ebe46358967621b3f7a0e0c",
       "version_major": 2,
       "version_minor": 0
      },
      "text/plain": [
       "MetricVisualizer(layout=Layout(align_self='stretch', height='500px'))"
      ]
     },
     "metadata": {},
     "output_type": "display_data"
    },
    {
     "name": "stdout",
     "output_type": "stream",
     "text": [
      "\n",
      "bestTest = 0.1430514413\n",
      "bestIteration = 499\n",
      "\n",
      "0:\tloss: 0.1430514\tbest: 0.1430514 (0)\ttotal: 4.51s\tremaining: 1m 43s\n",
      "\n",
      "bestTest = 0.1293725431\n",
      "bestIteration = 499\n",
      "\n",
      "1:\tloss: 0.1293725\tbest: 0.1293725 (1)\ttotal: 8.82s\tremaining: 1m 36s\n",
      "\n",
      "bestTest = 0.1444746547\n",
      "bestIteration = 499\n",
      "\n",
      "2:\tloss: 0.1444747\tbest: 0.1293725 (1)\ttotal: 13s\tremaining: 1m 31s\n",
      "\n",
      "bestTest = 0.129279847\n",
      "bestIteration = 499\n",
      "\n",
      "3:\tloss: 0.1292798\tbest: 0.1292798 (3)\ttotal: 17s\tremaining: 1m 24s\n",
      "\n",
      "bestTest = 0.1282993733\n",
      "bestIteration = 999\n",
      "\n",
      "4:\tloss: 0.1282994\tbest: 0.1282994 (4)\ttotal: 25.4s\tremaining: 1m 36s\n",
      "\n",
      "bestTest = 0.1192852833\n",
      "bestIteration = 999\n",
      "\n",
      "5:\tloss: 0.1192853\tbest: 0.1192853 (5)\ttotal: 33.6s\tremaining: 1m 40s\n",
      "\n",
      "bestTest = 0.1291590339\n",
      "bestIteration = 999\n",
      "\n",
      "6:\tloss: 0.1291590\tbest: 0.1192853 (5)\ttotal: 41.8s\tremaining: 1m 41s\n",
      "\n",
      "bestTest = 0.1184222002\n",
      "bestIteration = 999\n",
      "\n",
      "7:\tloss: 0.1184222\tbest: 0.1184222 (7)\ttotal: 50.3s\tremaining: 1m 40s\n",
      "\n",
      "bestTest = 0.1168525706\n",
      "bestIteration = 499\n",
      "\n",
      "8:\tloss: 0.1168526\tbest: 0.1168526 (8)\ttotal: 1m 9s\tremaining: 1m 55s\n",
      "\n",
      "bestTest = 0.1115140248\n",
      "bestIteration = 498\n",
      "\n",
      "9:\tloss: 0.1115140\tbest: 0.1115140 (9)\ttotal: 1m 27s\tremaining: 2m 2s\n",
      "\n",
      "bestTest = 0.1166757852\n",
      "bestIteration = 499\n",
      "\n",
      "10:\tloss: 0.1166758\tbest: 0.1115140 (9)\ttotal: 1m 45s\tremaining: 2m 4s\n",
      "\n",
      "bestTest = 0.1120980606\n",
      "bestIteration = 497\n",
      "\n",
      "11:\tloss: 0.1120981\tbest: 0.1115140 (9)\ttotal: 2m 3s\tremaining: 2m 3s\n",
      "\n",
      "bestTest = 0.1104304687\n",
      "bestIteration = 999\n",
      "\n",
      "12:\tloss: 0.1104305\tbest: 0.1104305 (12)\ttotal: 2m 39s\tremaining: 2m 14s\n",
      "\n",
      "bestTest = 0.109573166\n",
      "bestIteration = 999\n",
      "\n",
      "13:\tloss: 0.1095732\tbest: 0.1095732 (13)\ttotal: 3m 16s\tremaining: 2m 20s\n",
      "\n",
      "bestTest = 0.1104570555\n",
      "bestIteration = 998\n",
      "\n",
      "14:\tloss: 0.1104571\tbest: 0.1095732 (13)\ttotal: 3m 54s\tremaining: 2m 20s\n",
      "\n",
      "bestTest = 0.1099585395\n",
      "bestIteration = 971\n",
      "\n",
      "15:\tloss: 0.1099585\tbest: 0.1095732 (13)\ttotal: 4m 33s\tremaining: 2m 16s\n",
      "Estimating final quality...\n",
      "Training on fold [0/3]\n",
      "\n",
      "bestTest = 0.1141772284\n",
      "bestIteration = 980\n",
      "\n",
      "Training on fold [1/3]\n",
      "\n",
      "bestTest = 0.1148721766\n",
      "bestIteration = 928\n",
      "\n",
      "Training on fold [2/3]\n",
      "\n",
      "bestTest = 0.1116643427\n",
      "bestIteration = 999\n",
      "\n"
     ]
    }
   ],
   "source": [
    "CatBoost_opt = CatBoostRegressor(random_seed = RANDOM_SEED, eval_metric='MAPE', custom_metric='MAE',\n",
    "                          one_hot_max_size = 15,\n",
    "                          silent=True)\n",
    "\n",
    "              \n",
    "grid = {'learning_rate': [0.05,0.1],\n",
    "        'depth': [5,10,20],\n",
    "        'l2_leaf_reg': [1,1.1],\n",
    "        'iterations':[500,1000]}\n",
    "\n",
    "grid_search_result = CatBoost_opt.grid_search(grid, X=X_train, y=y_train, plot=True)\n",
    "\n"
   ]
  },
  {
   "cell_type": "markdown",
   "metadata": {},
   "source": [
    "#### Попробуем stacking\n",
    "###### В stacking я буду использовать :\n",
    "###### во-первых принципиально разные модели (CatBoost это глубокое развитие градиентного бустинга)\n",
    "###### во-вторых модели с наилучшим MAPE\n",
    "###### это модели: бустинг решающего дерева, случайный лес и Catboost"
   ]
  },
  {
   "cell_type": "code",
   "execution_count": 56,
   "metadata": {},
   "outputs": [],
   "source": [
    "def compute_meta_feature(clf, XX_train, XX_test, yy_train, cv):\n",
    "    \"\"\"\n",
    "    Computes meta-features using the classifier.\n",
    "    \n",
    "    :arg clf: scikit-learn classifier\n",
    "    :args X_train, y_train: training set\n",
    "    :arg X_test: testing set\n",
    "    :arg cv: cross-validation folding\n",
    "    \"\"\"\n",
    "    X_meta_train = np.zeros_like(yy_train, dtype=np.float32)\n",
    "    for train_fold_index, predict_fold_index in cv.split(XX_train):\n",
    "        X_fold_train, X_fold_predict = XX_train.iloc[train_fold_index], XX_train.iloc[predict_fold_index]\n",
    "        y_fold_train = yy_train[train_fold_index]\n",
    "        \n",
    "        folded_clf = clone(clf)\n",
    "        folded_clf.fit(X_fold_train, y_fold_train)\n",
    "        X_meta_train[predict_fold_index] = folded_clf.predict(X_fold_predict)\n",
    "        \n",
    "    meta_clf = clone(clf)\n",
    "    meta_clf.fit(XX_train, yy_train)\n",
    "    \n",
    "    X_meta_test = meta_clf.predict(XX_test)\n",
    "    \n",
    "    return X_meta_train, X_meta_test\n",
    "\n",
    "def generate_meta_features(classifiers, X_train, X_test, y_train, cv):\n",
    "    \"\"\"\n",
    "    Generates metafeatures using a list of classifiers.\n",
    "    \n",
    "    :arg classifiers: list of scikit-learn classifiers\n",
    "    :args X_train, y_train: training set\n",
    "    :arg X_test: testing set\n",
    "    :arg cv: cross-validation folding\n",
    "    \"\"\"\n",
    "    features = [\n",
    "        compute_meta_feature(clf, X_train, X_test, y_train, cv)\n",
    "        for clf in tqdm(classifiers)\n",
    "    ]\n",
    "    \n",
    "    stacked_features_train = np.vstack([\n",
    "        features_train for features_train, features_test in features\n",
    "    ]).T\n",
    "\n",
    "    stacked_features_test = np.vstack([\n",
    "        features_test for features_train, features_test in features\n",
    "    ]).T\n",
    "    \n",
    "    return stacked_features_train, stacked_features_test\n",
    "\n",
    "def compute_metric(clf, X_train=X_train, y_train=y_train, X_test=X_test, y_test=y_test):\n",
    "    clf.fit(X_train, y_train)\n",
    "    y_test_pred = clf.predict(X_test)\n",
    "    return mape(y_test, y_test_pred)*100\n",
    "\n",
    "\n",
    "DecTree = DecisionTreeRegressor(random_state=RANDOM_SEED, min_samples_leaf=6,max_features='auto',max_depth=18)\n",
    "cv = KFold(n_splits=10, shuffle=True)\n",
    "\n",
    "cover_X_train, cover_X_test, cover_y_train, cover_y_test = train_test_split(X, y, test_size=0.5, shuffle=True, random_state=RANDOM_SEED)\n",
    "\n",
    "\n"
   ]
  },
  {
   "cell_type": "code",
   "execution_count": 59,
   "metadata": {},
   "outputs": [
    {
     "data": {
      "text/plain": [
       "((36930, 17), (36930, 17), (36930,), (36930,))"
      ]
     },
     "execution_count": 59,
     "metadata": {},
     "output_type": "execute_result"
    }
   ],
   "source": [
    "cover_X_train.shape, cover_X_test.shape, cover_y_train.shape, cover_y_test.shape"
   ]
  },
  {
   "cell_type": "code",
   "execution_count": 60,
   "metadata": {},
   "outputs": [
    {
     "data": {
      "application/vnd.jupyter.widget-view+json": {
       "model_id": "3e4a82b810ac407b917b288d114efd2a",
       "version_major": 2,
       "version_minor": 0
      },
      "text/plain": [
       "  0%|          | 0/3 [00:00<?, ?it/s]"
      ]
     },
     "metadata": {},
     "output_type": "display_data"
    }
   ],
   "source": [
    "stacked_features_train, stacked_features_test = generate_meta_features([\n",
    "    AdaBoostRegressor(base_estimator=DecTree),\n",
    "    RandomForestRegressor(random_state = 42),  \n",
    "    CatBoostRegressor(iterations = 1000, random_seed = RANDOM_SEED, eval_metric='MAPE',custom_metric='MAE',silent = True)\n",
    "], cover_X_train, cover_X_test, cover_y_train.values, cv)"
   ]
  },
  {
   "cell_type": "code",
   "execution_count": 62,
   "metadata": {},
   "outputs": [
    {
     "data": {
      "text/plain": [
       "((36930, 3), (59088,), (36930, 3), (14772,))"
      ]
     },
     "execution_count": 62,
     "metadata": {},
     "output_type": "execute_result"
    }
   ],
   "source": [
    "stacked_features_train.shape,y_train.shape,stacked_features_test.shape,y_test.shape"
   ]
  },
  {
   "cell_type": "code",
   "execution_count": 65,
   "metadata": {},
   "outputs": [
    {
     "name": "stdout",
     "output_type": "stream",
     "text": [
      "Точность модели по метрике MAPE: 12.14%\n"
     ]
    }
   ],
   "source": [
    "total_features_train = np.hstack([cover_X_train, stacked_features_train])\n",
    "total_features_test = np.hstack([cover_X_test, stacked_features_test])\n",
    "clf = RandomForestRegressor(random_state = 42)\n",
    "print(f\"Точность модели по метрике MAPE: {compute_metric(clf, stacked_features_train, cover_y_train, stacked_features_test, cover_y_test):0.2f}%\")\n"
   ]
  },
  {
   "cell_type": "markdown",
   "metadata": {},
   "source": [
    "# Итого:\n",
    "###### Наилучший результат показала модель CatBoost на оптимизированных параметрах, MAPE = 10.78%\n",
    "###### Также стоит отметить модель RandomForest, показавшую на стандартных параметрах близкий к тому же значению MAPE: 11.84%"
   ]
  },
  {
   "cell_type": "markdown",
   "metadata": {
    "papermill": {
     "duration": 0.085876,
     "end_time": "2020-10-26T12:48:12.734207",
     "exception": false,
     "start_time": "2020-10-26T12:48:12.648331",
     "status": "completed"
    },
    "tags": []
   },
   "source": [
    "# Submission"
   ]
  },
  {
   "cell_type": "code",
   "execution_count": 69,
   "metadata": {
    "execution": {
     "iopub.execute_input": "2020-10-26T12:48:13.227584Z",
     "iopub.status.busy": "2020-10-26T12:48:13.226285Z",
     "iopub.status.idle": "2020-10-26T12:48:13.762529Z",
     "shell.execute_reply": "2020-10-26T12:48:13.763259Z"
    },
    "papermill": {
     "duration": 0.628302,
     "end_time": "2020-10-26T12:48:13.763488",
     "exception": false,
     "start_time": "2020-10-26T12:48:13.135186",
     "status": "completed"
    },
    "tags": []
   },
   "outputs": [
    {
     "data": {
      "text/html": [
       "<div>\n",
       "<style scoped>\n",
       "    .dataframe tbody tr th:only-of-type {\n",
       "        vertical-align: middle;\n",
       "    }\n",
       "\n",
       "    .dataframe tbody tr th {\n",
       "        vertical-align: top;\n",
       "    }\n",
       "\n",
       "    .dataframe thead th {\n",
       "        text-align: right;\n",
       "    }\n",
       "</style>\n",
       "<table border=\"1\" class=\"dataframe\">\n",
       "  <thead>\n",
       "    <tr style=\"text-align: right;\">\n",
       "      <th></th>\n",
       "      <th>sell_id</th>\n",
       "      <th>price</th>\n",
       "    </tr>\n",
       "  </thead>\n",
       "  <tbody>\n",
       "    <tr>\n",
       "      <th>0</th>\n",
       "      <td>1100575026</td>\n",
       "      <td>5.864639e+05</td>\n",
       "    </tr>\n",
       "    <tr>\n",
       "      <th>1</th>\n",
       "      <td>1100549428</td>\n",
       "      <td>8.243081e+05</td>\n",
       "    </tr>\n",
       "    <tr>\n",
       "      <th>2</th>\n",
       "      <td>1100658222</td>\n",
       "      <td>8.965452e+05</td>\n",
       "    </tr>\n",
       "    <tr>\n",
       "      <th>3</th>\n",
       "      <td>1100937408</td>\n",
       "      <td>6.536551e+05</td>\n",
       "    </tr>\n",
       "    <tr>\n",
       "      <th>4</th>\n",
       "      <td>1101037972</td>\n",
       "      <td>6.551489e+05</td>\n",
       "    </tr>\n",
       "    <tr>\n",
       "      <th>5</th>\n",
       "      <td>1100912634</td>\n",
       "      <td>8.023299e+05</td>\n",
       "    </tr>\n",
       "    <tr>\n",
       "      <th>6</th>\n",
       "      <td>1101228730</td>\n",
       "      <td>6.269517e+05</td>\n",
       "    </tr>\n",
       "    <tr>\n",
       "      <th>7</th>\n",
       "      <td>1100165896</td>\n",
       "      <td>3.848324e+05</td>\n",
       "    </tr>\n",
       "    <tr>\n",
       "      <th>8</th>\n",
       "      <td>1100768262</td>\n",
       "      <td>1.653385e+06</td>\n",
       "    </tr>\n",
       "    <tr>\n",
       "      <th>9</th>\n",
       "      <td>1101218501</td>\n",
       "      <td>7.973508e+05</td>\n",
       "    </tr>\n",
       "  </tbody>\n",
       "</table>\n",
       "</div>"
      ],
      "text/plain": [
       "      sell_id         price\n",
       "0  1100575026  5.864639e+05\n",
       "1  1100549428  8.243081e+05\n",
       "2  1100658222  8.965452e+05\n",
       "3  1100937408  6.536551e+05\n",
       "4  1101037972  6.551489e+05\n",
       "5  1100912634  8.023299e+05\n",
       "6  1101228730  6.269517e+05\n",
       "7  1100165896  3.848324e+05\n",
       "8  1100768262  1.653385e+06\n",
       "9  1101218501  7.973508e+05"
      ]
     },
     "execution_count": 69,
     "metadata": {},
     "output_type": "execute_result"
    }
   ],
   "source": [
    "# попробуем засабмитить лучшую модель (CatBoost)\n",
    "X_sub = X_sub.drop(['sell_id'], axis = 1)\n",
    "\n",
    "predict_test = np.exp(CatBoost.predict(X_test))\n",
    "predict_submission = np.exp(CatBoost.predict(X_sub))\n",
    "\n",
    "sample_submission['price'] = predict_submission\n",
    "sample_submission.to_csv(f'submission_2_v{VERSION}.csv', index=False)\n",
    "sample_submission.head(10)"
   ]
  },
  {
   "cell_type": "markdown",
   "metadata": {
    "papermill": {
     "duration": 0.083769,
     "end_time": "2020-10-26T12:48:13.930562",
     "exception": false,
     "start_time": "2020-10-26T12:48:13.846793",
     "status": "completed"
    },
    "tags": []
   },
   "source": [
    "###### 202 позиция на ЛБ, score = 19.16"
   ]
  },
  {
   "cell_type": "code",
   "execution_count": null,
   "metadata": {},
   "outputs": [],
   "source": [
    "# посмотрим, вдруг стакинг покажет себя лучше на лидерборде\n",
    "stacked_features_train, stacked_features_sub = generate_meta_features([\n",
    "    AdaBoostRegressor(base_estimator=DecTree),\n",
    "    RandomForestRegressor(random_state = 42),  \n",
    "    CatBoostRegressor(iterations = 1000, random_seed = RANDOM_SEED, eval_metric='MAPE',custom_metric='MAE',silent = True)\n",
    "], cover_X_train, X_sub, cover_y_train.values, cv)\n",
    "\n",
    "clf = RandomForestRegressor(random_state = 42)\n",
    "clf.fit(stacked_features_train, cover_y_train)\n",
    "predict_submission_stacking = clf.predict(stacked_features_sub)\n",
    "sample_submission['price'] = predict_submission_stacking\n",
    "sample_submission.to_csv(f'submission_2_v{VERSION}_stacking.csv', index=False)\n",
    "sample_submission.head(10)"
   ]
  },
  {
   "cell_type": "markdown",
   "metadata": {},
   "source": [
    "###### Не показал, score = 22.5"
   ]
  },
  {
   "cell_type": "code",
   "execution_count": null,
   "metadata": {},
   "outputs": [],
   "source": []
  },
  {
   "cell_type": "code",
   "execution_count": null,
   "metadata": {
    "papermill": {
     "duration": 0.082055,
     "end_time": "2020-10-26T12:48:14.270602",
     "exception": false,
     "start_time": "2020-10-26T12:48:14.188547",
     "status": "completed"
    },
    "tags": []
   },
   "outputs": [],
   "source": []
  },
  {
   "cell_type": "code",
   "execution_count": null,
   "metadata": {
    "papermill": {
     "duration": 0.08168,
     "end_time": "2020-10-26T12:48:14.435554",
     "exception": false,
     "start_time": "2020-10-26T12:48:14.353874",
     "status": "completed"
    },
    "tags": []
   },
   "outputs": [],
   "source": []
  },
  {
   "cell_type": "code",
   "execution_count": null,
   "metadata": {
    "papermill": {
     "duration": 0.080788,
     "end_time": "2020-10-26T12:48:14.596978",
     "exception": false,
     "start_time": "2020-10-26T12:48:14.51619",
     "status": "completed"
    },
    "tags": []
   },
   "outputs": [],
   "source": []
  }
 ],
 "metadata": {
  "kernelspec": {
   "display_name": "Python 3",
   "language": "python",
   "name": "python3"
  },
  "language_info": {
   "codemirror_mode": {
    "name": "ipython",
    "version": 3
   },
   "file_extension": ".py",
   "mimetype": "text/x-python",
   "name": "python",
   "nbconvert_exporter": "python",
   "pygments_lexer": "ipython3",
   "version": "3.8.8"
  }
 },
 "nbformat": 4,
 "nbformat_minor": 4
}
