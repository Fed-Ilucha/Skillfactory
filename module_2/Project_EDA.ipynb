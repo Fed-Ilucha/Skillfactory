{
 "cells": [
  {
   "cell_type": "markdown",
   "id": "4e111b31",
   "metadata": {},
   "source": [
    "### Загрузка необходимых библиотек"
   ]
  },
  {
   "cell_type": "code",
   "execution_count": 1,
   "id": "b5125c3a",
   "metadata": {},
   "outputs": [],
   "source": [
    "import numpy as np\n",
    "import os\n",
    "import pandas as pd\n",
    "import matplotlib.pyplot as plt\n",
    "import seaborn as sns\n",
    "from itertools import combinations\n",
    "from scipy.stats import ttest_ind\n",
    "%matplotlib inline"
   ]
  },
  {
   "cell_type": "markdown",
   "id": "83baf553",
   "metadata": {},
   "source": [
    "### определим полезные функции:"
   ]
  },
  {
   "cell_type": "code",
   "execution_count": 2,
   "id": "344865a5",
   "metadata": {},
   "outputs": [],
   "source": [
    "# ф-я принимает серию возвращает кортеж :\n",
    "# [0]-25% перцентиль серии\n",
    "# [1]-75% перцентиль серии\n",
    "# [2]-IQR\n",
    "# [3]-нижняя граница выбросов\n",
    "# [4]-верхняя граница выбросов\n",
    "\n",
    "def get_bounds(ser):\n",
    "    perc25 = ser.quantile(0.25)\n",
    "    perc75 = ser.quantile(0.75)\n",
    "    IQR = perc75-perc25\n",
    "\n",
    "    return (perc25, perc75, IQR, perc25-1.5*IQR, perc75+1.5*IQR)"
   ]
  },
  {
   "cell_type": "code",
   "execution_count": 3,
   "id": "8a5a5625",
   "metadata": {},
   "outputs": [],
   "source": [
    "# ф-я выводит 25% и 75% перцентили серии, IQR, границы выбросов, рисует гистограмму по серии, исключая выбросы\n",
    "\n",
    "def print_hist(ser):\n",
    "    bounds = get_bounds(ser)\n",
    "\n",
    "    print(\n",
    "        '25-й перцентиль: {},'.format(bounds[0]),\n",
    "        '75-й перцентиль: {},'.format(bounds[1]),\n",
    "        \"IQR: {},\".format(bounds[2]),\n",
    "        \"Границы выбросов: [{L},{H}].\".format(L=bounds[3], H=bounds[4])\n",
    "    )\n",
    "\n",
    "    ser.loc[ser.between(bounds[3], bounds[4])].hist(\n",
    "        bins=16, range=(ser.min(), ser.max()), label='IQR')\n",
    "\n",
    "    plt.legend()"
   ]
  },
  {
   "cell_type": "code",
   "execution_count": 4,
   "id": "1094b458",
   "metadata": {},
   "outputs": [],
   "source": [
    "# ф-я возвращает серию без выбросов, для определения границ выбросов используется get_bounds()\n",
    "\n",
    "def filter_emissions(ser):\n",
    "    bounds = get_bounds(ser)\n",
    "    return ser[ser.between(bounds[3], bounds[4])]"
   ]
  },
  {
   "cell_type": "code",
   "execution_count": 5,
   "id": "06fa689b",
   "metadata": {},
   "outputs": [],
   "source": [
    "# ф-я строит боксплот для переданной колонки\n",
    "\n",
    "def get_boxplot(column):\n",
    "    fig,ax=plt.subplots(figsize=(14,4))\n",
    "    sns.boxplot(x=column, y='score',\n",
    "               data=dt.loc[dt.loc[:,column].isin(dt.loc[:,column].value_counts().index[:10])],\n",
    "               ax=ax\n",
    "               )\n",
    "    plt.xticks(rotation=45)\n",
    "    ax.set_title('Boxplot for '+ column)\n",
    "    plt.show()\n",
    "    "
   ]
  },
  {
   "cell_type": "code",
   "execution_count": 74,
   "id": "8ca366a1",
   "metadata": {},
   "outputs": [],
   "source": [
    "# ф-я проверяет нулевую гипотезу о том, что score равен у представителей разных категорий\n",
    "\n",
    "def get_stat_diff(column, importance):\n",
    "    cols = dt.loc[:, column].value_counts().index\n",
    "    combinations_all = list(combinations(cols, 2))\n",
    "    for comb in combinations_all:\n",
    "        if ttest_ind(dt.loc[dt.loc[:, column] == comb[0], 'score'],\n",
    "                     dt.loc[dt.loc[:, column] == comb[1], 'score'],\n",
    "                     nan_policy=\"omit\").pvalue\\\n",
    "                <= importance/len(combinations_all):\n",
    "            print('Найдены статистически значимые различия для колонки', column)\n",
    "            break"
   ]
  },
  {
   "cell_type": "markdown",
   "id": "7f8d2f78",
   "metadata": {},
   "source": [
    "### Загрузка данных, переименование столбцов для удобства, первичный осмотр"
   ]
  },
  {
   "cell_type": "code",
   "execution_count": 7,
   "id": "8fb67924",
   "metadata": {},
   "outputs": [],
   "source": [
    "data_row = pd.read_csv('stud_math.csv', na_filter=True)\n",
    "dt = data_row.copy()\n",
    "dt.rename(columns={\n",
    "                   'studytime, granular': 'studytime_granular'\n",
    "                  }, inplace = True)"
   ]
  },
  {
   "cell_type": "code",
   "execution_count": 8,
   "id": "1be0f8aa",
   "metadata": {},
   "outputs": [],
   "source": [
    "pd.set_option('display.max_rows', 50)  # показывать больше строк\n",
    "pd.set_option('display.max_columns', 50)  # показывать больше колонок"
   ]
  },
  {
   "cell_type": "code",
   "execution_count": 9,
   "id": "56e10107",
   "metadata": {},
   "outputs": [
    {
     "data": {
      "text/html": [
       "<div>\n",
       "<style scoped>\n",
       "    .dataframe tbody tr th:only-of-type {\n",
       "        vertical-align: middle;\n",
       "    }\n",
       "\n",
       "    .dataframe tbody tr th {\n",
       "        vertical-align: top;\n",
       "    }\n",
       "\n",
       "    .dataframe thead th {\n",
       "        text-align: right;\n",
       "    }\n",
       "</style>\n",
       "<table border=\"1\" class=\"dataframe\">\n",
       "  <thead>\n",
       "    <tr style=\"text-align: right;\">\n",
       "      <th></th>\n",
       "      <th>school</th>\n",
       "      <th>sex</th>\n",
       "      <th>age</th>\n",
       "      <th>address</th>\n",
       "      <th>famsize</th>\n",
       "      <th>Pstatus</th>\n",
       "      <th>Medu</th>\n",
       "      <th>Fedu</th>\n",
       "      <th>Mjob</th>\n",
       "      <th>Fjob</th>\n",
       "      <th>reason</th>\n",
       "      <th>guardian</th>\n",
       "      <th>traveltime</th>\n",
       "      <th>studytime</th>\n",
       "      <th>failures</th>\n",
       "      <th>schoolsup</th>\n",
       "      <th>famsup</th>\n",
       "      <th>paid</th>\n",
       "      <th>activities</th>\n",
       "      <th>nursery</th>\n",
       "      <th>studytime_granular</th>\n",
       "      <th>higher</th>\n",
       "      <th>internet</th>\n",
       "      <th>romantic</th>\n",
       "      <th>famrel</th>\n",
       "      <th>freetime</th>\n",
       "      <th>goout</th>\n",
       "      <th>health</th>\n",
       "      <th>absences</th>\n",
       "      <th>score</th>\n",
       "    </tr>\n",
       "  </thead>\n",
       "  <tbody>\n",
       "    <tr>\n",
       "      <th>0</th>\n",
       "      <td>GP</td>\n",
       "      <td>F</td>\n",
       "      <td>18</td>\n",
       "      <td>U</td>\n",
       "      <td>NaN</td>\n",
       "      <td>A</td>\n",
       "      <td>4.0</td>\n",
       "      <td>4.0</td>\n",
       "      <td>at_home</td>\n",
       "      <td>teacher</td>\n",
       "      <td>course</td>\n",
       "      <td>mother</td>\n",
       "      <td>2.0</td>\n",
       "      <td>2.0</td>\n",
       "      <td>0.0</td>\n",
       "      <td>yes</td>\n",
       "      <td>no</td>\n",
       "      <td>no</td>\n",
       "      <td>no</td>\n",
       "      <td>yes</td>\n",
       "      <td>-6.0</td>\n",
       "      <td>yes</td>\n",
       "      <td>NaN</td>\n",
       "      <td>no</td>\n",
       "      <td>4.0</td>\n",
       "      <td>3.0</td>\n",
       "      <td>4.0</td>\n",
       "      <td>3.0</td>\n",
       "      <td>6.0</td>\n",
       "      <td>30.0</td>\n",
       "    </tr>\n",
       "    <tr>\n",
       "      <th>1</th>\n",
       "      <td>GP</td>\n",
       "      <td>F</td>\n",
       "      <td>17</td>\n",
       "      <td>U</td>\n",
       "      <td>GT3</td>\n",
       "      <td>NaN</td>\n",
       "      <td>1.0</td>\n",
       "      <td>1.0</td>\n",
       "      <td>at_home</td>\n",
       "      <td>other</td>\n",
       "      <td>course</td>\n",
       "      <td>father</td>\n",
       "      <td>1.0</td>\n",
       "      <td>2.0</td>\n",
       "      <td>0.0</td>\n",
       "      <td>no</td>\n",
       "      <td>yes</td>\n",
       "      <td>no</td>\n",
       "      <td>no</td>\n",
       "      <td>no</td>\n",
       "      <td>-6.0</td>\n",
       "      <td>yes</td>\n",
       "      <td>yes</td>\n",
       "      <td>no</td>\n",
       "      <td>5.0</td>\n",
       "      <td>3.0</td>\n",
       "      <td>3.0</td>\n",
       "      <td>3.0</td>\n",
       "      <td>4.0</td>\n",
       "      <td>30.0</td>\n",
       "    </tr>\n",
       "    <tr>\n",
       "      <th>2</th>\n",
       "      <td>GP</td>\n",
       "      <td>F</td>\n",
       "      <td>15</td>\n",
       "      <td>U</td>\n",
       "      <td>LE3</td>\n",
       "      <td>T</td>\n",
       "      <td>1.0</td>\n",
       "      <td>1.0</td>\n",
       "      <td>at_home</td>\n",
       "      <td>other</td>\n",
       "      <td>other</td>\n",
       "      <td>mother</td>\n",
       "      <td>1.0</td>\n",
       "      <td>2.0</td>\n",
       "      <td>3.0</td>\n",
       "      <td>yes</td>\n",
       "      <td>no</td>\n",
       "      <td>NaN</td>\n",
       "      <td>no</td>\n",
       "      <td>yes</td>\n",
       "      <td>-6.0</td>\n",
       "      <td>yes</td>\n",
       "      <td>yes</td>\n",
       "      <td>NaN</td>\n",
       "      <td>4.0</td>\n",
       "      <td>3.0</td>\n",
       "      <td>2.0</td>\n",
       "      <td>3.0</td>\n",
       "      <td>10.0</td>\n",
       "      <td>50.0</td>\n",
       "    </tr>\n",
       "    <tr>\n",
       "      <th>3</th>\n",
       "      <td>GP</td>\n",
       "      <td>F</td>\n",
       "      <td>15</td>\n",
       "      <td>U</td>\n",
       "      <td>GT3</td>\n",
       "      <td>T</td>\n",
       "      <td>4.0</td>\n",
       "      <td>2.0</td>\n",
       "      <td>health</td>\n",
       "      <td>NaN</td>\n",
       "      <td>home</td>\n",
       "      <td>mother</td>\n",
       "      <td>1.0</td>\n",
       "      <td>3.0</td>\n",
       "      <td>0.0</td>\n",
       "      <td>no</td>\n",
       "      <td>yes</td>\n",
       "      <td>yes</td>\n",
       "      <td>yes</td>\n",
       "      <td>yes</td>\n",
       "      <td>-9.0</td>\n",
       "      <td>yes</td>\n",
       "      <td>yes</td>\n",
       "      <td>yes</td>\n",
       "      <td>3.0</td>\n",
       "      <td>2.0</td>\n",
       "      <td>2.0</td>\n",
       "      <td>5.0</td>\n",
       "      <td>2.0</td>\n",
       "      <td>75.0</td>\n",
       "    </tr>\n",
       "    <tr>\n",
       "      <th>4</th>\n",
       "      <td>GP</td>\n",
       "      <td>F</td>\n",
       "      <td>16</td>\n",
       "      <td>U</td>\n",
       "      <td>GT3</td>\n",
       "      <td>T</td>\n",
       "      <td>3.0</td>\n",
       "      <td>3.0</td>\n",
       "      <td>other</td>\n",
       "      <td>other</td>\n",
       "      <td>home</td>\n",
       "      <td>father</td>\n",
       "      <td>1.0</td>\n",
       "      <td>2.0</td>\n",
       "      <td>0.0</td>\n",
       "      <td>no</td>\n",
       "      <td>yes</td>\n",
       "      <td>yes</td>\n",
       "      <td>no</td>\n",
       "      <td>yes</td>\n",
       "      <td>-6.0</td>\n",
       "      <td>yes</td>\n",
       "      <td>no</td>\n",
       "      <td>no</td>\n",
       "      <td>4.0</td>\n",
       "      <td>3.0</td>\n",
       "      <td>2.0</td>\n",
       "      <td>5.0</td>\n",
       "      <td>4.0</td>\n",
       "      <td>50.0</td>\n",
       "    </tr>\n",
       "  </tbody>\n",
       "</table>\n",
       "</div>"
      ],
      "text/plain": [
       "  school sex  age address famsize Pstatus  Medu  Fedu     Mjob     Fjob  \\\n",
       "0     GP   F   18       U     NaN       A   4.0   4.0  at_home  teacher   \n",
       "1     GP   F   17       U     GT3     NaN   1.0   1.0  at_home    other   \n",
       "2     GP   F   15       U     LE3       T   1.0   1.0  at_home    other   \n",
       "3     GP   F   15       U     GT3       T   4.0   2.0   health      NaN   \n",
       "4     GP   F   16       U     GT3       T   3.0   3.0    other    other   \n",
       "\n",
       "   reason guardian  traveltime  studytime  failures schoolsup famsup paid  \\\n",
       "0  course   mother         2.0        2.0       0.0       yes     no   no   \n",
       "1  course   father         1.0        2.0       0.0        no    yes   no   \n",
       "2   other   mother         1.0        2.0       3.0       yes     no  NaN   \n",
       "3    home   mother         1.0        3.0       0.0        no    yes  yes   \n",
       "4    home   father         1.0        2.0       0.0        no    yes  yes   \n",
       "\n",
       "  activities nursery  studytime_granular higher internet romantic  famrel  \\\n",
       "0         no     yes                -6.0    yes      NaN       no     4.0   \n",
       "1         no      no                -6.0    yes      yes       no     5.0   \n",
       "2         no     yes                -6.0    yes      yes      NaN     4.0   \n",
       "3        yes     yes                -9.0    yes      yes      yes     3.0   \n",
       "4         no     yes                -6.0    yes       no       no     4.0   \n",
       "\n",
       "   freetime  goout  health  absences  score  \n",
       "0       3.0    4.0     3.0       6.0   30.0  \n",
       "1       3.0    3.0     3.0       4.0   30.0  \n",
       "2       3.0    2.0     3.0      10.0   50.0  \n",
       "3       2.0    2.0     5.0       2.0   75.0  \n",
       "4       3.0    2.0     5.0       4.0   50.0  "
      ]
     },
     "execution_count": 9,
     "metadata": {},
     "output_type": "execute_result"
    }
   ],
   "source": [
    "dt.head()"
   ]
  },
  {
   "cell_type": "code",
   "execution_count": 10,
   "id": "63932623",
   "metadata": {},
   "outputs": [
    {
     "data": {
      "text/html": [
       "<div>\n",
       "<style scoped>\n",
       "    .dataframe tbody tr th:only-of-type {\n",
       "        vertical-align: middle;\n",
       "    }\n",
       "\n",
       "    .dataframe tbody tr th {\n",
       "        vertical-align: top;\n",
       "    }\n",
       "\n",
       "    .dataframe thead th {\n",
       "        text-align: right;\n",
       "    }\n",
       "</style>\n",
       "<table border=\"1\" class=\"dataframe\">\n",
       "  <thead>\n",
       "    <tr style=\"text-align: right;\">\n",
       "      <th></th>\n",
       "      <th>age</th>\n",
       "      <th>Medu</th>\n",
       "      <th>Fedu</th>\n",
       "      <th>traveltime</th>\n",
       "      <th>studytime</th>\n",
       "      <th>failures</th>\n",
       "      <th>studytime_granular</th>\n",
       "      <th>famrel</th>\n",
       "      <th>freetime</th>\n",
       "      <th>goout</th>\n",
       "      <th>health</th>\n",
       "      <th>absences</th>\n",
       "      <th>score</th>\n",
       "    </tr>\n",
       "  </thead>\n",
       "  <tbody>\n",
       "    <tr>\n",
       "      <th>count</th>\n",
       "      <td>395.000000</td>\n",
       "      <td>392.000000</td>\n",
       "      <td>371.000000</td>\n",
       "      <td>367.000000</td>\n",
       "      <td>388.000000</td>\n",
       "      <td>373.000000</td>\n",
       "      <td>388.000000</td>\n",
       "      <td>368.000000</td>\n",
       "      <td>384.000000</td>\n",
       "      <td>387.000000</td>\n",
       "      <td>380.000000</td>\n",
       "      <td>383.000000</td>\n",
       "      <td>389.000000</td>\n",
       "    </tr>\n",
       "    <tr>\n",
       "      <th>mean</th>\n",
       "      <td>16.696203</td>\n",
       "      <td>2.750000</td>\n",
       "      <td>2.614555</td>\n",
       "      <td>1.438692</td>\n",
       "      <td>2.038660</td>\n",
       "      <td>0.337802</td>\n",
       "      <td>-6.115979</td>\n",
       "      <td>3.937500</td>\n",
       "      <td>3.231771</td>\n",
       "      <td>3.105943</td>\n",
       "      <td>3.531579</td>\n",
       "      <td>7.279373</td>\n",
       "      <td>52.262211</td>\n",
       "    </tr>\n",
       "    <tr>\n",
       "      <th>std</th>\n",
       "      <td>1.276043</td>\n",
       "      <td>1.098127</td>\n",
       "      <td>2.228732</td>\n",
       "      <td>0.694181</td>\n",
       "      <td>0.842078</td>\n",
       "      <td>0.743135</td>\n",
       "      <td>2.526235</td>\n",
       "      <td>0.927277</td>\n",
       "      <td>0.993940</td>\n",
       "      <td>1.115896</td>\n",
       "      <td>1.396019</td>\n",
       "      <td>23.465197</td>\n",
       "      <td>22.919022</td>\n",
       "    </tr>\n",
       "    <tr>\n",
       "      <th>min</th>\n",
       "      <td>15.000000</td>\n",
       "      <td>0.000000</td>\n",
       "      <td>0.000000</td>\n",
       "      <td>1.000000</td>\n",
       "      <td>1.000000</td>\n",
       "      <td>0.000000</td>\n",
       "      <td>-12.000000</td>\n",
       "      <td>-1.000000</td>\n",
       "      <td>1.000000</td>\n",
       "      <td>1.000000</td>\n",
       "      <td>1.000000</td>\n",
       "      <td>0.000000</td>\n",
       "      <td>0.000000</td>\n",
       "    </tr>\n",
       "    <tr>\n",
       "      <th>25%</th>\n",
       "      <td>16.000000</td>\n",
       "      <td>2.000000</td>\n",
       "      <td>2.000000</td>\n",
       "      <td>1.000000</td>\n",
       "      <td>1.000000</td>\n",
       "      <td>0.000000</td>\n",
       "      <td>-6.000000</td>\n",
       "      <td>4.000000</td>\n",
       "      <td>3.000000</td>\n",
       "      <td>2.000000</td>\n",
       "      <td>3.000000</td>\n",
       "      <td>0.000000</td>\n",
       "      <td>40.000000</td>\n",
       "    </tr>\n",
       "    <tr>\n",
       "      <th>50%</th>\n",
       "      <td>17.000000</td>\n",
       "      <td>3.000000</td>\n",
       "      <td>2.000000</td>\n",
       "      <td>1.000000</td>\n",
       "      <td>2.000000</td>\n",
       "      <td>0.000000</td>\n",
       "      <td>-6.000000</td>\n",
       "      <td>4.000000</td>\n",
       "      <td>3.000000</td>\n",
       "      <td>3.000000</td>\n",
       "      <td>4.000000</td>\n",
       "      <td>4.000000</td>\n",
       "      <td>55.000000</td>\n",
       "    </tr>\n",
       "    <tr>\n",
       "      <th>75%</th>\n",
       "      <td>18.000000</td>\n",
       "      <td>4.000000</td>\n",
       "      <td>3.000000</td>\n",
       "      <td>2.000000</td>\n",
       "      <td>2.000000</td>\n",
       "      <td>0.000000</td>\n",
       "      <td>-3.000000</td>\n",
       "      <td>5.000000</td>\n",
       "      <td>4.000000</td>\n",
       "      <td>4.000000</td>\n",
       "      <td>5.000000</td>\n",
       "      <td>8.000000</td>\n",
       "      <td>70.000000</td>\n",
       "    </tr>\n",
       "    <tr>\n",
       "      <th>max</th>\n",
       "      <td>22.000000</td>\n",
       "      <td>4.000000</td>\n",
       "      <td>40.000000</td>\n",
       "      <td>4.000000</td>\n",
       "      <td>4.000000</td>\n",
       "      <td>3.000000</td>\n",
       "      <td>-3.000000</td>\n",
       "      <td>5.000000</td>\n",
       "      <td>5.000000</td>\n",
       "      <td>5.000000</td>\n",
       "      <td>5.000000</td>\n",
       "      <td>385.000000</td>\n",
       "      <td>100.000000</td>\n",
       "    </tr>\n",
       "  </tbody>\n",
       "</table>\n",
       "</div>"
      ],
      "text/plain": [
       "              age        Medu        Fedu  traveltime   studytime    failures  \\\n",
       "count  395.000000  392.000000  371.000000  367.000000  388.000000  373.000000   \n",
       "mean    16.696203    2.750000    2.614555    1.438692    2.038660    0.337802   \n",
       "std      1.276043    1.098127    2.228732    0.694181    0.842078    0.743135   \n",
       "min     15.000000    0.000000    0.000000    1.000000    1.000000    0.000000   \n",
       "25%     16.000000    2.000000    2.000000    1.000000    1.000000    0.000000   \n",
       "50%     17.000000    3.000000    2.000000    1.000000    2.000000    0.000000   \n",
       "75%     18.000000    4.000000    3.000000    2.000000    2.000000    0.000000   \n",
       "max     22.000000    4.000000   40.000000    4.000000    4.000000    3.000000   \n",
       "\n",
       "       studytime_granular      famrel    freetime       goout      health  \\\n",
       "count          388.000000  368.000000  384.000000  387.000000  380.000000   \n",
       "mean            -6.115979    3.937500    3.231771    3.105943    3.531579   \n",
       "std              2.526235    0.927277    0.993940    1.115896    1.396019   \n",
       "min            -12.000000   -1.000000    1.000000    1.000000    1.000000   \n",
       "25%             -6.000000    4.000000    3.000000    2.000000    3.000000   \n",
       "50%             -6.000000    4.000000    3.000000    3.000000    4.000000   \n",
       "75%             -3.000000    5.000000    4.000000    4.000000    5.000000   \n",
       "max             -3.000000    5.000000    5.000000    5.000000    5.000000   \n",
       "\n",
       "         absences       score  \n",
       "count  383.000000  389.000000  \n",
       "mean     7.279373   52.262211  \n",
       "std     23.465197   22.919022  \n",
       "min      0.000000    0.000000  \n",
       "25%      0.000000   40.000000  \n",
       "50%      4.000000   55.000000  \n",
       "75%      8.000000   70.000000  \n",
       "max    385.000000  100.000000  "
      ]
     },
     "execution_count": 10,
     "metadata": {},
     "output_type": "execute_result"
    }
   ],
   "source": [
    "dt.describe()"
   ]
  },
  {
   "cell_type": "code",
   "execution_count": 11,
   "id": "550fecf7",
   "metadata": {},
   "outputs": [
    {
     "name": "stdout",
     "output_type": "stream",
     "text": [
      "<class 'pandas.core.frame.DataFrame'>\n",
      "RangeIndex: 395 entries, 0 to 394\n",
      "Data columns (total 30 columns):\n",
      " #   Column              Non-Null Count  Dtype  \n",
      "---  ------              --------------  -----  \n",
      " 0   school              395 non-null    object \n",
      " 1   sex                 395 non-null    object \n",
      " 2   age                 395 non-null    int64  \n",
      " 3   address             378 non-null    object \n",
      " 4   famsize             368 non-null    object \n",
      " 5   Pstatus             350 non-null    object \n",
      " 6   Medu                392 non-null    float64\n",
      " 7   Fedu                371 non-null    float64\n",
      " 8   Mjob                376 non-null    object \n",
      " 9   Fjob                359 non-null    object \n",
      " 10  reason              378 non-null    object \n",
      " 11  guardian            364 non-null    object \n",
      " 12  traveltime          367 non-null    float64\n",
      " 13  studytime           388 non-null    float64\n",
      " 14  failures            373 non-null    float64\n",
      " 15  schoolsup           386 non-null    object \n",
      " 16  famsup              356 non-null    object \n",
      " 17  paid                355 non-null    object \n",
      " 18  activities          381 non-null    object \n",
      " 19  nursery             379 non-null    object \n",
      " 20  studytime_granular  388 non-null    float64\n",
      " 21  higher              375 non-null    object \n",
      " 22  internet            361 non-null    object \n",
      " 23  romantic            364 non-null    object \n",
      " 24  famrel              368 non-null    float64\n",
      " 25  freetime            384 non-null    float64\n",
      " 26  goout               387 non-null    float64\n",
      " 27  health              380 non-null    float64\n",
      " 28  absences            383 non-null    float64\n",
      " 29  score               389 non-null    float64\n",
      "dtypes: float64(12), int64(1), object(17)\n",
      "memory usage: 92.7+ KB\n"
     ]
    }
   ],
   "source": [
    "dt.info()"
   ]
  },
  {
   "cell_type": "markdown",
   "id": "37316f98",
   "metadata": {},
   "source": [
    "###  пустых значений в любом из столбцов меньше 10%, поэтому можем их оставить"
   ]
  },
  {
   "cell_type": "markdown",
   "id": "92d70584",
   "metadata": {},
   "source": [
    "### рассмотрим сначала числовые (int64/float64) столбцы:\n",
    "# AGE"
   ]
  },
  {
   "cell_type": "markdown",
   "id": "de3c072b",
   "metadata": {},
   "source": [
    "### проверим корректность данных:"
   ]
  },
  {
   "cell_type": "code",
   "execution_count": 12,
   "id": "26031a58",
   "metadata": {},
   "outputs": [
    {
     "data": {
      "text/plain": [
       "16    104\n",
       "17     98\n",
       "15     82\n",
       "18     82\n",
       "19     24\n",
       "20      3\n",
       "21      1\n",
       "22      1\n",
       "Name: age, dtype: int64"
      ]
     },
     "execution_count": 12,
     "metadata": {},
     "output_type": "execute_result"
    }
   ],
   "source": [
    "dt.age.value_counts()"
   ]
  },
  {
   "cell_type": "markdown",
   "id": "67438884",
   "metadata": {},
   "source": [
    "### В выборке представлены возраста от 15 до 22 лет"
   ]
  },
  {
   "cell_type": "code",
   "execution_count": 13,
   "id": "be429424",
   "metadata": {},
   "outputs": [
    {
     "data": {
      "text/plain": [
       "<AxesSubplot:>"
      ]
     },
     "execution_count": 13,
     "metadata": {},
     "output_type": "execute_result"
    },
    {
     "data": {
      "image/png": "[encoded data removed]",
      "text/plain": [
       "<Figure size 432x288 with 1 Axes>"
      ]
     },
     "metadata": {
      "needs_background": "light"
     },
     "output_type": "display_data"
    }
   ],
   "source": [
    "dt.age.hist()"
   ]
  },
  {
   "cell_type": "markdown",
   "id": "fcbcb9b1",
   "metadata": {},
   "source": [
    "### медиана 16.7,  наиболее часто в датасете фигурируют подростки 16 лет"
   ]
  },
  {
   "cell_type": "code",
   "execution_count": 14,
   "id": "b86f79e0",
   "metadata": {},
   "outputs": [
    {
     "data": {
      "text/plain": [
       "<AxesSubplot:xlabel='age'>"
      ]
     },
     "execution_count": 14,
     "metadata": {},
     "output_type": "execute_result"
    },
    {
     "data": {
      "image/png": "[encoded data removed]",
      "text/plain": [
       "<Figure size 432x288 with 1 Axes>"
      ]
     },
     "metadata": {
      "needs_background": "light"
     },
     "output_type": "display_data"
    }
   ],
   "source": [
    "sns.boxplot(data=dt, x ='age')"
   ]
  },
  {
   "cell_type": "markdown",
   "id": "8fd16de7",
   "metadata": {},
   "source": [
    "### Есть выбросы, отфильтруем "
   ]
  },
  {
   "cell_type": "code",
   "execution_count": 15,
   "id": "dac694a4",
   "metadata": {},
   "outputs": [
    {
     "name": "stdout",
     "output_type": "stream",
     "text": [
      "25-й перцентиль: 16.0, 75-й перцентиль: 18.0, IQR: 2.0, Границы выбросов: [13.0,21.0].\n"
     ]
    },
    {
     "data": {
      "image/png": "[encoded data removed]",
      "text/plain": [
       "<Figure size 432x288 with 1 Axes>"
      ]
     },
     "metadata": {
      "needs_background": "light"
     },
     "output_type": "display_data"
    }
   ],
   "source": [
    "print_hist(dt.age)"
   ]
  },
  {
   "cell_type": "code",
   "execution_count": 16,
   "id": "fcb1ad1d",
   "metadata": {},
   "outputs": [],
   "source": [
    "dt.age = filter_emissions(dt.age)"
   ]
  },
  {
   "cell_type": "markdown",
   "id": "e2a4ddb5",
   "metadata": {},
   "source": [
    "# Medu"
   ]
  },
  {
   "cell_type": "code",
   "execution_count": 17,
   "id": "9e1a6cc5",
   "metadata": {},
   "outputs": [
    {
     "data": {
      "text/plain": [
       "4.0    131\n",
       "2.0    102\n",
       "3.0     97\n",
       "1.0     59\n",
       "0.0      3\n",
       "Name: Medu, dtype: int64"
      ]
     },
     "execution_count": 17,
     "metadata": {},
     "output_type": "execute_result"
    }
   ],
   "source": [
    "dt.Medu.value_counts()"
   ]
  },
  {
   "cell_type": "code",
   "execution_count": 18,
   "id": "f2261600",
   "metadata": {},
   "outputs": [
    {
     "data": {
      "text/plain": [
       "<AxesSubplot:xlabel='Medu'>"
      ]
     },
     "execution_count": 18,
     "metadata": {},
     "output_type": "execute_result"
    },
    {
     "data": {
      "image/png": "[encoded data removed]",
      "text/plain": [
       "<Figure size 432x288 with 1 Axes>"
      ]
     },
     "metadata": {
      "needs_background": "light"
     },
     "output_type": "display_data"
    }
   ],
   "source": [
    "sns.boxplot(data = dt, x='Medu')"
   ]
  },
  {
   "cell_type": "code",
   "execution_count": 19,
   "id": "eb4125de",
   "metadata": {},
   "outputs": [
    {
     "name": "stdout",
     "output_type": "stream",
     "text": [
      "25-й перцентиль: 2.0, 75-й перцентиль: 4.0, IQR: 2.0, Границы выбросов: [-1.0,7.0].\n"
     ]
    },
    {
     "data": {
      "image/png": "[encoded data removed]",
      "text/plain": [
       "<Figure size 432x288 with 1 Axes>"
      ]
     },
     "metadata": {
      "needs_background": "light"
     },
     "output_type": "display_data"
    }
   ],
   "source": [
    "print_hist(dt.Medu)"
   ]
  },
  {
   "cell_type": "markdown",
   "id": "4cc5b3b0",
   "metadata": {},
   "source": [
    "### В данном случае стандартная методика определения выбросов не отбрасывает 3 случая со значением 0, на мой взгляд, модель будет работать лучше без этих значений:"
   ]
  },
  {
   "cell_type": "code",
   "execution_count": 20,
   "id": "78a64829",
   "metadata": {},
   "outputs": [],
   "source": [
    "dt = dt.loc[dt.Medu.between(1,4)]"
   ]
  },
  {
   "cell_type": "markdown",
   "id": "9d7a3ddc",
   "metadata": {},
   "source": [
    "# Fedu"
   ]
  },
  {
   "cell_type": "code",
   "execution_count": 21,
   "id": "24a4bd93",
   "metadata": {},
   "outputs": [
    {
     "data": {
      "text/plain": [
       "2.0     103\n",
       "3.0      95\n",
       "4.0      88\n",
       "1.0      76\n",
       "0.0       2\n",
       "40.0      1\n",
       "Name: Fedu, dtype: int64"
      ]
     },
     "execution_count": 21,
     "metadata": {},
     "output_type": "execute_result"
    }
   ],
   "source": [
    "dt.Fedu.value_counts()"
   ]
  },
  {
   "cell_type": "code",
   "execution_count": 22,
   "id": "895c39ae",
   "metadata": {},
   "outputs": [
    {
     "data": {
      "text/plain": [
       "<AxesSubplot:xlabel='Fedu'>"
      ]
     },
     "execution_count": 22,
     "metadata": {},
     "output_type": "execute_result"
    },
    {
     "data": {
      "image/png": "[encoded data removed]",
      "text/plain": [
       "<Figure size 432x288 with 1 Axes>"
      ]
     },
     "metadata": {
      "needs_background": "light"
     },
     "output_type": "display_data"
    }
   ],
   "source": [
    "sns.boxplot(data = dt, x='Fedu')"
   ]
  },
  {
   "cell_type": "markdown",
   "id": "0d0f45b8",
   "metadata": {},
   "source": [
    "### есть некорректное значение, и выброс, отфильтруем:"
   ]
  },
  {
   "cell_type": "code",
   "execution_count": 23,
   "id": "a2c72b0b",
   "metadata": {},
   "outputs": [],
   "source": [
    "dt.Fedu = filter_emissions(dt.Fedu)"
   ]
  },
  {
   "cell_type": "code",
   "execution_count": 24,
   "id": "f7cbc227",
   "metadata": {},
   "outputs": [
    {
     "name": "stdout",
     "output_type": "stream",
     "text": [
      "25-й перцентиль: 2.0, 75-й перцентиль: 3.0, IQR: 1.0, Границы выбросов: [0.5,4.5].\n"
     ]
    },
    {
     "data": {
      "image/png": "[encoded data removed]",
      "text/plain": [
       "<Figure size 432x288 with 1 Axes>"
      ]
     },
     "metadata": {
      "needs_background": "light"
     },
     "output_type": "display_data"
    }
   ],
   "source": [
    "print_hist(dt.Fedu)"
   ]
  },
  {
   "cell_type": "markdown",
   "id": "e4698418",
   "metadata": {},
   "source": [
    "# Traveltime"
   ]
  },
  {
   "cell_type": "code",
   "execution_count": 25,
   "id": "77394a20",
   "metadata": {},
   "outputs": [
    {
     "data": {
      "text/plain": [
       "1.0    237\n",
       "2.0     95\n",
       "3.0     22\n",
       "4.0      7\n",
       "Name: traveltime, dtype: int64"
      ]
     },
     "execution_count": 25,
     "metadata": {},
     "output_type": "execute_result"
    }
   ],
   "source": [
    "dt.traveltime.value_counts()"
   ]
  },
  {
   "cell_type": "code",
   "execution_count": 26,
   "id": "38e66a31",
   "metadata": {},
   "outputs": [
    {
     "data": {
      "text/plain": [
       "<AxesSubplot:xlabel='traveltime'>"
      ]
     },
     "execution_count": 26,
     "metadata": {},
     "output_type": "execute_result"
    },
    {
     "data": {
      "image/png": "[encoded data removed]",
      "text/plain": [
       "<Figure size 432x288 with 1 Axes>"
      ]
     },
     "metadata": {
      "needs_background": "light"
     },
     "output_type": "display_data"
    }
   ],
   "source": [
    "sns.boxplot(data = dt, x = 'traveltime')"
   ]
  },
  {
   "cell_type": "markdown",
   "id": "3a900dd9",
   "metadata": {},
   "source": [
    "###  Значения корректные, значение 4 можно считать выбросами, фильтруем:"
   ]
  },
  {
   "cell_type": "code",
   "execution_count": 27,
   "id": "79897ef3",
   "metadata": {},
   "outputs": [],
   "source": [
    "dt.traveltime = filter_emissions(dt.traveltime)\n"
   ]
  },
  {
   "cell_type": "code",
   "execution_count": 28,
   "id": "8c2c80e3",
   "metadata": {},
   "outputs": [
    {
     "name": "stdout",
     "output_type": "stream",
     "text": [
      "25-й перцентиль: 1.0, 75-й перцентиль: 2.0, IQR: 1.0, Границы выбросов: [-0.5,3.5].\n"
     ]
    },
    {
     "data": {
      "image/png": "[encoded data removed]",
      "text/plain": [
       "<Figure size 432x288 with 1 Axes>"
      ]
     },
     "metadata": {
      "needs_background": "light"
     },
     "output_type": "display_data"
    }
   ],
   "source": [
    "print_hist(dt.traveltime)"
   ]
  },
  {
   "cell_type": "markdown",
   "id": "4150e532",
   "metadata": {},
   "source": [
    "# Studytime"
   ]
  },
  {
   "cell_type": "code",
   "execution_count": 29,
   "id": "2857e352",
   "metadata": {},
   "outputs": [
    {
     "data": {
      "text/plain": [
       "2.0    191\n",
       "1.0    101\n",
       "3.0     63\n",
       "4.0     27\n",
       "Name: studytime, dtype: int64"
      ]
     },
     "execution_count": 29,
     "metadata": {},
     "output_type": "execute_result"
    }
   ],
   "source": [
    "dt.studytime.value_counts()"
   ]
  },
  {
   "cell_type": "code",
   "execution_count": 30,
   "id": "10901efc",
   "metadata": {},
   "outputs": [
    {
     "data": {
      "text/plain": [
       "<AxesSubplot:xlabel='studytime'>"
      ]
     },
     "execution_count": 30,
     "metadata": {},
     "output_type": "execute_result"
    },
    {
     "data": {
      "image/png": "[encoded data removed]",
      "text/plain": [
       "<Figure size 432x288 with 1 Axes>"
      ]
     },
     "metadata": {
      "needs_background": "light"
     },
     "output_type": "display_data"
    }
   ],
   "source": [
    "sns.boxplot(data = dt, x = 'studytime')"
   ]
  },
  {
   "cell_type": "markdown",
   "id": "e0523aa7",
   "metadata": {},
   "source": [
    "### Значения корректные, значение 4 попадает под выброс, но на мой взгляд, его на данном этапе анализа необходимо оставить, т.к. таких случаев существенное кол-во - 27. При необходимости эти значения необходимо отфильтровать позднее"
   ]
  },
  {
   "cell_type": "code",
   "execution_count": 31,
   "id": "79cbea53",
   "metadata": {},
   "outputs": [
    {
     "data": {
      "text/plain": [
       "<AxesSubplot:>"
      ]
     },
     "execution_count": 31,
     "metadata": {},
     "output_type": "execute_result"
    },
    {
     "data": {
      "image/png": "[encoded data removed]",
      "text/plain": [
       "<Figure size 432x288 with 1 Axes>"
      ]
     },
     "metadata": {
      "needs_background": "light"
     },
     "output_type": "display_data"
    }
   ],
   "source": [
    "dt.studytime.hist()"
   ]
  },
  {
   "cell_type": "markdown",
   "id": "d3917396",
   "metadata": {},
   "source": [
    "# Failures"
   ]
  },
  {
   "cell_type": "code",
   "execution_count": 32,
   "id": "dbcdf87b",
   "metadata": {},
   "outputs": [
    {
     "data": {
      "text/plain": [
       "0.0    289\n",
       "1.0     48\n",
       "2.0     16\n",
       "3.0     14\n",
       "Name: failures, dtype: int64"
      ]
     },
     "execution_count": 32,
     "metadata": {},
     "output_type": "execute_result"
    }
   ],
   "source": [
    "dt.failures.value_counts()"
   ]
  },
  {
   "cell_type": "code",
   "execution_count": 33,
   "id": "37e14789",
   "metadata": {},
   "outputs": [
    {
     "data": {
      "text/plain": [
       "<AxesSubplot:>"
      ]
     },
     "execution_count": 33,
     "metadata": {},
     "output_type": "execute_result"
    },
    {
     "data": {
      "image/png": "[encoded data removed]",
      "text/plain": [
       "<Figure size 432x288 with 1 Axes>"
      ]
     },
     "metadata": {
      "needs_background": "light"
     },
     "output_type": "display_data"
    }
   ],
   "source": [
    "dt.failures.hist()"
   ]
  },
  {
   "cell_type": "code",
   "execution_count": 34,
   "id": "85969df6",
   "metadata": {},
   "outputs": [
    {
     "data": {
      "text/plain": [
       "<AxesSubplot:xlabel='failures'>"
      ]
     },
     "execution_count": 34,
     "metadata": {},
     "output_type": "execute_result"
    },
    {
     "data": {
      "image/png": "[encoded data removed]",
      "text/plain": [
       "<Figure size 432x288 with 1 Axes>"
      ]
     },
     "metadata": {
      "needs_background": "light"
     },
     "output_type": "display_data"
    }
   ],
   "source": [
    "sns.boxplot(data= dt, x = 'failures')"
   ]
  },
  {
   "cell_type": "markdown",
   "id": "873fc8a4",
   "metadata": {},
   "source": [
    "### фильтровать выбросы не имеет смысла, т.к. это равносильно исключению из рассмотрения всего столбца, на мой взгляд, на данном этапе анализа необходимо оставить все значения"
   ]
  },
  {
   "cell_type": "markdown",
   "id": "0e40742d",
   "metadata": {},
   "source": [
    "# studytime_granular"
   ]
  },
  {
   "cell_type": "code",
   "execution_count": 35,
   "id": "16efcdd0",
   "metadata": {},
   "outputs": [
    {
     "data": {
      "text/plain": [
       "-6.0     191\n",
       "-3.0     101\n",
       "-9.0      63\n",
       "-12.0     27\n",
       "Name: studytime_granular, dtype: int64"
      ]
     },
     "execution_count": 35,
     "metadata": {},
     "output_type": "execute_result"
    }
   ],
   "source": [
    "dt.studytime_granular.value_counts()"
   ]
  },
  {
   "cell_type": "code",
   "execution_count": 36,
   "id": "412b6a13",
   "metadata": {},
   "outputs": [
    {
     "data": {
      "text/plain": [
       "<AxesSubplot:>"
      ]
     },
     "execution_count": 36,
     "metadata": {},
     "output_type": "execute_result"
    },
    {
     "data": {
      "image/png": "[encoded data removed]",
      "text/plain": [
       "<Figure size 432x288 with 1 Axes>"
      ]
     },
     "metadata": {
      "needs_background": "light"
     },
     "output_type": "display_data"
    }
   ],
   "source": [
    "dt.studytime_granular.hist()"
   ]
  },
  {
   "cell_type": "code",
   "execution_count": 37,
   "id": "0e3d95d6",
   "metadata": {},
   "outputs": [
    {
     "data": {
      "text/plain": [
       "<AxesSubplot:xlabel='studytime_granular'>"
      ]
     },
     "execution_count": 37,
     "metadata": {},
     "output_type": "execute_result"
    },
    {
     "data": {
      "image/png": "[encoded data removed]",
      "text/plain": [
       "<Figure size 432x288 with 1 Axes>"
      ]
     },
     "metadata": {
      "needs_background": "light"
     },
     "output_type": "display_data"
    }
   ],
   "source": [
    "sns.boxplot(data=dt, x='studytime_granular')"
   ]
  },
  {
   "cell_type": "markdown",
   "id": "6c8b33c8",
   "metadata": {},
   "source": [
    "### пока нет информации что за поле, ошибочных значений нет, выброс не фильтруем, т.к. кол-во  (27) существенное"
   ]
  },
  {
   "cell_type": "markdown",
   "id": "6ca75776",
   "metadata": {},
   "source": [
    "# famrel"
   ]
  },
  {
   "cell_type": "code",
   "execution_count": 38,
   "id": "e08b218c",
   "metadata": {},
   "outputs": [
    {
     "data": {
      "text/plain": [
       " 4.0    180\n",
       " 5.0     98\n",
       " 3.0     59\n",
       " 2.0     17\n",
       " 1.0      7\n",
       "-1.0      1\n",
       "Name: famrel, dtype: int64"
      ]
     },
     "execution_count": 38,
     "metadata": {},
     "output_type": "execute_result"
    }
   ],
   "source": [
    "dt.famrel.value_counts()"
   ]
  },
  {
   "cell_type": "markdown",
   "id": "5a310fd9",
   "metadata": {},
   "source": [
    "### сразу фильтруем некорректное значение"
   ]
  },
  {
   "cell_type": "code",
   "execution_count": 39,
   "id": "9f0b47d6",
   "metadata": {},
   "outputs": [],
   "source": [
    "dt = dt[dt.famrel > 0]"
   ]
  },
  {
   "cell_type": "code",
   "execution_count": 40,
   "id": "64da26a7",
   "metadata": {},
   "outputs": [
    {
     "data": {
      "text/plain": [
       "<AxesSubplot:xlabel='famrel'>"
      ]
     },
     "execution_count": 40,
     "metadata": {},
     "output_type": "execute_result"
    },
    {
     "data": {
      "image/png": "[encoded data removed]",
      "text/plain": [
       "<Figure size 432x288 with 1 Axes>"
      ]
     },
     "metadata": {
      "needs_background": "light"
     },
     "output_type": "display_data"
    }
   ],
   "source": [
    "sns.boxplot(data=dt, x='famrel')"
   ]
  },
  {
   "cell_type": "markdown",
   "id": "b373b0b8",
   "metadata": {},
   "source": [
    "### Фильтруем выбросы"
   ]
  },
  {
   "cell_type": "code",
   "execution_count": 41,
   "id": "672c0c66",
   "metadata": {},
   "outputs": [],
   "source": [
    "dt.famrel = filter_emissions(dt.famrel)"
   ]
  },
  {
   "cell_type": "code",
   "execution_count": 42,
   "id": "bbd623d6",
   "metadata": {},
   "outputs": [
    {
     "name": "stdout",
     "output_type": "stream",
     "text": [
      "25-й перцентиль: 4.0, 75-й перцентиль: 5.0, IQR: 1.0, Границы выбросов: [2.5,6.5].\n"
     ]
    },
    {
     "data": {
      "image/png": "[encoded data removed]",
      "text/plain": [
       "<Figure size 432x288 with 1 Axes>"
      ]
     },
     "metadata": {
      "needs_background": "light"
     },
     "output_type": "display_data"
    }
   ],
   "source": [
    "print_hist(dt.famrel)"
   ]
  },
  {
   "cell_type": "markdown",
   "id": "b7e99bf1",
   "metadata": {},
   "source": [
    "# Freetime"
   ]
  },
  {
   "cell_type": "code",
   "execution_count": 43,
   "id": "6255284b",
   "metadata": {},
   "outputs": [
    {
     "data": {
      "text/plain": [
       "3.0    137\n",
       "4.0    104\n",
       "2.0     58\n",
       "5.0     35\n",
       "1.0     17\n",
       "Name: freetime, dtype: int64"
      ]
     },
     "execution_count": 43,
     "metadata": {},
     "output_type": "execute_result"
    }
   ],
   "source": [
    "dt.freetime.value_counts()"
   ]
  },
  {
   "cell_type": "code",
   "execution_count": 44,
   "id": "d0108320",
   "metadata": {},
   "outputs": [
    {
     "name": "stdout",
     "output_type": "stream",
     "text": [
      "25-й перцентиль: 3.0, 75-й перцентиль: 4.0, IQR: 1.0, Границы выбросов: [1.5,5.5].\n"
     ]
    },
    {
     "data": {
      "image/png": "[encoded data removed]",
      "text/plain": [
       "<Figure size 432x288 with 1 Axes>"
      ]
     },
     "metadata": {
      "needs_background": "light"
     },
     "output_type": "display_data"
    }
   ],
   "source": [
    "print_hist(dt.freetime)"
   ]
  },
  {
   "cell_type": "markdown",
   "id": "ae061891",
   "metadata": {},
   "source": [
    "### Значения корректные, фильтруем выбросы"
   ]
  },
  {
   "cell_type": "code",
   "execution_count": 45,
   "id": "bf3573ad",
   "metadata": {},
   "outputs": [],
   "source": [
    "dt.freetime = filter_emissions(dt.freetime)"
   ]
  },
  {
   "cell_type": "markdown",
   "id": "cc64140e",
   "metadata": {},
   "source": [
    "# goout"
   ]
  },
  {
   "cell_type": "code",
   "execution_count": 46,
   "id": "0baf77ab",
   "metadata": {},
   "outputs": [
    {
     "data": {
      "text/plain": [
       "3.0    119\n",
       "2.0     91\n",
       "4.0     76\n",
       "5.0     48\n",
       "1.0     20\n",
       "Name: goout, dtype: int64"
      ]
     },
     "execution_count": 46,
     "metadata": {},
     "output_type": "execute_result"
    }
   ],
   "source": [
    "dt.goout.value_counts()"
   ]
  },
  {
   "cell_type": "code",
   "execution_count": 47,
   "id": "f2d53a87",
   "metadata": {},
   "outputs": [
    {
     "name": "stdout",
     "output_type": "stream",
     "text": [
      "25-й перцентиль: 2.0, 75-й перцентиль: 4.0, IQR: 2.0, Границы выбросов: [-1.0,7.0].\n"
     ]
    },
    {
     "data": {
      "image/png": "[encoded data removed]",
      "text/plain": [
       "<Figure size 432x288 with 1 Axes>"
      ]
     },
     "metadata": {
      "needs_background": "light"
     },
     "output_type": "display_data"
    }
   ],
   "source": [
    "print_hist(dt.goout)"
   ]
  },
  {
   "cell_type": "markdown",
   "id": "fd61ab31",
   "metadata": {},
   "source": [
    "### значения корректные, выбросов нет"
   ]
  },
  {
   "cell_type": "markdown",
   "id": "4cbfa650",
   "metadata": {},
   "source": [
    "# Health"
   ]
  },
  {
   "cell_type": "code",
   "execution_count": 48,
   "id": "e453a6ff",
   "metadata": {},
   "outputs": [
    {
     "data": {
      "text/plain": [
       "5.0    117\n",
       "3.0     87\n",
       "4.0     60\n",
       "1.0     43\n",
       "2.0     39\n",
       "Name: health, dtype: int64"
      ]
     },
     "execution_count": 48,
     "metadata": {},
     "output_type": "execute_result"
    }
   ],
   "source": [
    "dt.health.value_counts()"
   ]
  },
  {
   "cell_type": "code",
   "execution_count": 49,
   "id": "7b0675e7",
   "metadata": {},
   "outputs": [
    {
     "name": "stdout",
     "output_type": "stream",
     "text": [
      "25-й перцентиль: 3.0, 75-й перцентиль: 5.0, IQR: 2.0, Границы выбросов: [0.0,8.0].\n"
     ]
    },
    {
     "data": {
      "image/png": "[encoded data removed]",
      "text/plain": [
       "<Figure size 432x288 with 1 Axes>"
      ]
     },
     "metadata": {
      "needs_background": "light"
     },
     "output_type": "display_data"
    }
   ],
   "source": [
    "print_hist(dt.health)"
   ]
  },
  {
   "cell_type": "markdown",
   "id": "9f9ac534",
   "metadata": {},
   "source": [
    "### ошибочных значений нет, выбросов нет"
   ]
  },
  {
   "cell_type": "markdown",
   "id": "9d765177",
   "metadata": {},
   "source": [
    "# absences"
   ]
  },
  {
   "cell_type": "code",
   "execution_count": 50,
   "id": "20ad62c2",
   "metadata": {},
   "outputs": [
    {
     "data": {
      "text/plain": [
       "0.0      97\n",
       "2.0      56\n",
       "4.0      51\n",
       "6.0      29\n",
       "8.0      20\n",
       "10.0     15\n",
       "12.0     12\n",
       "14.0     10\n",
       "3.0       8\n",
       "16.0      7\n",
       "7.0       6\n",
       "5.0       5\n",
       "18.0      4\n",
       "22.0      3\n",
       "20.0      3\n",
       "9.0       2\n",
       "1.0       2\n",
       "15.0      2\n",
       "24.0      1\n",
       "25.0      1\n",
       "23.0      1\n",
       "56.0      1\n",
       "13.0      1\n",
       "19.0      1\n",
       "17.0      1\n",
       "21.0      1\n",
       "212.0     1\n",
       "26.0      1\n",
       "30.0      1\n",
       "40.0      1\n",
       "28.0      1\n",
       "11.0      1\n",
       "385.0     1\n",
       "38.0      1\n",
       "54.0      1\n",
       "Name: absences, dtype: int64"
      ]
     },
     "execution_count": 50,
     "metadata": {},
     "output_type": "execute_result"
    }
   ],
   "source": [
    "dt.absences.value_counts()"
   ]
  },
  {
   "cell_type": "code",
   "execution_count": 51,
   "id": "a2504f9d",
   "metadata": {},
   "outputs": [
    {
     "data": {
      "text/plain": [
       "<AxesSubplot:xlabel='absences'>"
      ]
     },
     "execution_count": 51,
     "metadata": {},
     "output_type": "execute_result"
    },
    {
     "data": {
      "image/png": "[encoded data removed]",
      "text/plain": [
       "<Figure size 432x288 with 1 Axes>"
      ]
     },
     "metadata": {
      "needs_background": "light"
     },
     "output_type": "display_data"
    }
   ],
   "source": [
    "sns.boxplot(data=dt, x='absences')"
   ]
  },
  {
   "cell_type": "markdown",
   "id": "21e47270",
   "metadata": {},
   "source": [
    "### фильтруем выбросы"
   ]
  },
  {
   "cell_type": "code",
   "execution_count": 52,
   "id": "a4225114",
   "metadata": {},
   "outputs": [
    {
     "name": "stdout",
     "output_type": "stream",
     "text": [
      "25-й перцентиль: 0.0, 75-й перцентиль: 7.0, IQR: 7.0, Границы выбросов: [-10.5,17.5].\n"
     ]
    },
    {
     "data": {
      "image/png": "[encoded data removed]",
      "text/plain": [
       "<Figure size 432x288 with 1 Axes>"
      ]
     },
     "metadata": {
      "needs_background": "light"
     },
     "output_type": "display_data"
    }
   ],
   "source": [
    "dt.absences = filter_emissions(dt.absences)\n",
    "print_hist(dt.absences)"
   ]
  },
  {
   "cell_type": "markdown",
   "id": "1fae0845",
   "metadata": {},
   "source": [
    "# Рассмотрим текстовые столбцы (object)"
   ]
  },
  {
   "cell_type": "markdown",
   "id": "1490e88c",
   "metadata": {},
   "source": [
    "# School"
   ]
  },
  {
   "cell_type": "code",
   "execution_count": 53,
   "id": "28d7ba8b",
   "metadata": {},
   "outputs": [
    {
     "data": {
      "text/plain": [
       "GP    319\n",
       "MS     42\n",
       "Name: school, dtype: int64"
      ]
     },
     "execution_count": 53,
     "metadata": {},
     "output_type": "execute_result"
    }
   ],
   "source": [
    "dt.school.value_counts()"
   ]
  },
  {
   "cell_type": "markdown",
   "id": "074564c7",
   "metadata": {},
   "source": [
    "### Значения корректные, в выборке всего 2 школы"
   ]
  },
  {
   "cell_type": "markdown",
   "id": "2d5683ec",
   "metadata": {},
   "source": [
    "# Sex"
   ]
  },
  {
   "cell_type": "code",
   "execution_count": 54,
   "id": "1e08dfaf",
   "metadata": {},
   "outputs": [
    {
     "data": {
      "text/plain": [
       "F    192\n",
       "M    169\n",
       "Name: sex, dtype: int64"
      ]
     },
     "execution_count": 54,
     "metadata": {},
     "output_type": "execute_result"
    }
   ],
   "source": [
    "dt.sex.value_counts()"
   ]
  },
  {
   "cell_type": "markdown",
   "id": "ca049f40",
   "metadata": {},
   "source": [
    "### Значения корректные, женский пол преобладает"
   ]
  },
  {
   "cell_type": "markdown",
   "id": "321ad591",
   "metadata": {},
   "source": [
    "# Address (U - городской, R - за городом)"
   ]
  },
  {
   "cell_type": "code",
   "execution_count": 55,
   "id": "4414bceb",
   "metadata": {},
   "outputs": [
    {
     "data": {
      "text/plain": [
       "U    273\n",
       "R     74\n",
       "Name: address, dtype: int64"
      ]
     },
     "execution_count": 55,
     "metadata": {},
     "output_type": "execute_result"
    }
   ],
   "source": [
    "dt.address.value_counts()"
   ]
  },
  {
   "cell_type": "markdown",
   "id": "862ad10f",
   "metadata": {},
   "source": [
    "### Значения корректные, большинство живет в городе"
   ]
  },
  {
   "cell_type": "markdown",
   "id": "53e66c43",
   "metadata": {},
   "source": [
    "# Famsize (LE3' <= 3, 'GT3' >3)"
   ]
  },
  {
   "cell_type": "code",
   "execution_count": 56,
   "id": "3755fd9c",
   "metadata": {},
   "outputs": [
    {
     "data": {
      "text/plain": [
       "GT3    237\n",
       "LE3     99\n",
       "Name: famsize, dtype: int64"
      ]
     },
     "execution_count": 56,
     "metadata": {},
     "output_type": "execute_result"
    }
   ],
   "source": [
    "dt.famsize.value_counts()"
   ]
  },
  {
   "cell_type": "markdown",
   "id": "c064289c",
   "metadata": {},
   "source": [
    "### Значения корректные, в большинство семей состоит из более чем 3 человек"
   ]
  },
  {
   "cell_type": "markdown",
   "id": "cae9c3be",
   "metadata": {},
   "source": [
    "# Pstaus (статус родителей, T - вместе, A - раздельно)"
   ]
  },
  {
   "cell_type": "code",
   "execution_count": 57,
   "id": "2c20c59e",
   "metadata": {},
   "outputs": [
    {
     "data": {
      "text/plain": [
       "T    287\n",
       "A     32\n",
       "Name: Pstatus, dtype: int64"
      ]
     },
     "execution_count": 57,
     "metadata": {},
     "output_type": "execute_result"
    }
   ],
   "source": [
    "dt.Pstatus.value_counts()"
   ]
  },
  {
   "cell_type": "markdown",
   "id": "767e50fc",
   "metadata": {},
   "source": [
    "### Значения корректные, в большинстве случае родители опрошенных живут совместно"
   ]
  },
  {
   "cell_type": "markdown",
   "id": "1b9685d3",
   "metadata": {},
   "source": [
    "# Mjob (работа матери)"
   ]
  },
  {
   "cell_type": "code",
   "execution_count": 58,
   "id": "008ffb35",
   "metadata": {},
   "outputs": [
    {
     "data": {
      "text/plain": [
       "other       122\n",
       "services     88\n",
       "at_home      52\n",
       "teacher      51\n",
       "health       30\n",
       "Name: Mjob, dtype: int64"
      ]
     },
     "execution_count": 58,
     "metadata": {},
     "output_type": "execute_result"
    }
   ],
   "source": [
    "dt.Mjob.value_counts()"
   ]
  },
  {
   "cell_type": "markdown",
   "id": "4eac6fbe",
   "metadata": {},
   "source": [
    "### Значения корректные"
   ]
  },
  {
   "cell_type": "markdown",
   "id": "3790d810",
   "metadata": {},
   "source": [
    "# Fjob (работа отца)"
   ]
  },
  {
   "cell_type": "code",
   "execution_count": 59,
   "id": "18c68410",
   "metadata": {},
   "outputs": [
    {
     "data": {
      "text/plain": [
       "other       180\n",
       "services     93\n",
       "teacher      29\n",
       "at_home      15\n",
       "health       13\n",
       "Name: Fjob, dtype: int64"
      ]
     },
     "execution_count": 59,
     "metadata": {},
     "output_type": "execute_result"
    }
   ],
   "source": [
    "dt.Fjob.value_counts()"
   ]
  },
  {
   "cell_type": "markdown",
   "id": "c901a4e3",
   "metadata": {},
   "source": [
    "### Значения корректные"
   ]
  },
  {
   "cell_type": "markdown",
   "id": "27414a5f",
   "metadata": {},
   "source": [
    "# Reason (причина выбора школы)"
   ]
  },
  {
   "cell_type": "code",
   "execution_count": 60,
   "id": "50ba2281",
   "metadata": {},
   "outputs": [
    {
     "data": {
      "text/plain": [
       "course        122\n",
       "reputation     96\n",
       "home           95\n",
       "other          33\n",
       "Name: reason, dtype: int64"
      ]
     },
     "execution_count": 60,
     "metadata": {},
     "output_type": "execute_result"
    }
   ],
   "source": [
    "dt.reason.value_counts()"
   ]
  },
  {
   "cell_type": "markdown",
   "id": "3aea055b",
   "metadata": {},
   "source": [
    "### Значения корректные, в большинстве случаев школу выбирают по образовательной программе"
   ]
  },
  {
   "cell_type": "markdown",
   "id": "6699dd3b",
   "metadata": {},
   "source": [
    "# Guardian (опекун)"
   ]
  },
  {
   "cell_type": "code",
   "execution_count": 61,
   "id": "a3d70585",
   "metadata": {},
   "outputs": [
    {
     "data": {
      "text/plain": [
       "mother    230\n",
       "father     76\n",
       "other      26\n",
       "Name: guardian, dtype: int64"
      ]
     },
     "execution_count": 61,
     "metadata": {},
     "output_type": "execute_result"
    }
   ],
   "source": [
    "dt.guardian.value_counts()"
   ]
  },
  {
   "cell_type": "markdown",
   "id": "9e5d4868",
   "metadata": {},
   "source": [
    "### Значения корректные, в основном опекун - мама"
   ]
  },
  {
   "cell_type": "markdown",
   "id": "b9c620b8",
   "metadata": {},
   "source": [
    "# Schoolsup (доп образовательная поддержка)"
   ]
  },
  {
   "cell_type": "code",
   "execution_count": 62,
   "id": "b30a9572",
   "metadata": {},
   "outputs": [
    {
     "data": {
      "text/plain": [
       "no     305\n",
       "yes     47\n",
       "Name: schoolsup, dtype: int64"
      ]
     },
     "execution_count": 62,
     "metadata": {},
     "output_type": "execute_result"
    }
   ],
   "source": [
    "dt.schoolsup.value_counts()"
   ]
  },
  {
   "cell_type": "markdown",
   "id": "757e112d",
   "metadata": {},
   "source": [
    "### Значения корректные, большинство не пользуются доп поддержкой"
   ]
  },
  {
   "cell_type": "markdown",
   "id": "b6b62918",
   "metadata": {},
   "source": [
    "# Famsup (семейная образовательная поддержка)"
   ]
  },
  {
   "cell_type": "code",
   "execution_count": 63,
   "id": "6242c82e",
   "metadata": {},
   "outputs": [
    {
     "data": {
      "text/plain": [
       "yes    198\n",
       "no     127\n",
       "Name: famsup, dtype: int64"
      ]
     },
     "execution_count": 63,
     "metadata": {},
     "output_type": "execute_result"
    }
   ],
   "source": [
    "dt.famsup.value_counts()"
   ]
  },
  {
   "cell_type": "markdown",
   "id": "35cf49a0",
   "metadata": {},
   "source": [
    "### Значения корректные, в большинстве случаев семья оказывает поддержку"
   ]
  },
  {
   "cell_type": "markdown",
   "id": "50d7a325",
   "metadata": {},
   "source": [
    "# Paid (доп платные занятия по математике)"
   ]
  },
  {
   "cell_type": "code",
   "execution_count": 64,
   "id": "343b65bf",
   "metadata": {},
   "outputs": [
    {
     "data": {
      "text/plain": [
       "no     179\n",
       "yes    144\n",
       "Name: paid, dtype: int64"
      ]
     },
     "execution_count": 64,
     "metadata": {},
     "output_type": "execute_result"
    }
   ],
   "source": [
    "dt.paid.value_counts()"
   ]
  },
  {
   "cell_type": "markdown",
   "id": "5cc4b358",
   "metadata": {},
   "source": [
    "### Значения корректные, большинство не посещают доп занятия по математике"
   ]
  },
  {
   "cell_type": "markdown",
   "id": "db8431f9",
   "metadata": {},
   "source": [
    "# Activities (доп внеучебные занятия)"
   ]
  },
  {
   "cell_type": "code",
   "execution_count": 65,
   "id": "dca54fc3",
   "metadata": {},
   "outputs": [
    {
     "data": {
      "text/plain": [
       "yes    181\n",
       "no     168\n",
       "Name: activities, dtype: int64"
      ]
     },
     "execution_count": 65,
     "metadata": {},
     "output_type": "execute_result"
    }
   ],
   "source": [
    "dt.activities.value_counts()"
   ]
  },
  {
   "cell_type": "markdown",
   "id": "90dfcd4d",
   "metadata": {},
   "source": [
    "### Значения корректные, большинство имеют доп занятия"
   ]
  },
  {
   "cell_type": "markdown",
   "id": "33a32932",
   "metadata": {},
   "source": [
    "# Nursery (посещал ли дет сад)"
   ]
  },
  {
   "cell_type": "code",
   "execution_count": 66,
   "id": "ba8e561d",
   "metadata": {},
   "outputs": [
    {
     "data": {
      "text/plain": [
       "yes    275\n",
       "no      71\n",
       "Name: nursery, dtype: int64"
      ]
     },
     "execution_count": 66,
     "metadata": {},
     "output_type": "execute_result"
    }
   ],
   "source": [
    "dt.nursery.value_counts()"
   ]
  },
  {
   "cell_type": "markdown",
   "id": "81cbb6d8",
   "metadata": {},
   "source": [
    "### Значения корректные, большинство дет сад посещали"
   ]
  },
  {
   "cell_type": "markdown",
   "id": "f3741df3",
   "metadata": {},
   "source": [
    "# Higher (планирует высш образование)"
   ]
  },
  {
   "cell_type": "code",
   "execution_count": 67,
   "id": "1987c75e",
   "metadata": {},
   "outputs": [
    {
     "data": {
      "text/plain": [
       "yes    327\n",
       "no      15\n",
       "Name: higher, dtype: int64"
      ]
     },
     "execution_count": 67,
     "metadata": {},
     "output_type": "execute_result"
    }
   ],
   "source": [
    "dt.higher.value_counts()"
   ]
  },
  {
   "cell_type": "markdown",
   "id": "a0c493d8",
   "metadata": {},
   "source": [
    "### Значения корректные, подавляющее большинство планируют ВО"
   ]
  },
  {
   "cell_type": "markdown",
   "id": "710cd96d",
   "metadata": {},
   "source": [
    "# Internet (Наличие интернета дома)"
   ]
  },
  {
   "cell_type": "code",
   "execution_count": 68,
   "id": "4f9abec1",
   "metadata": {},
   "outputs": [
    {
     "data": {
      "text/plain": [
       "yes    280\n",
       "no      50\n",
       "Name: internet, dtype: int64"
      ]
     },
     "execution_count": 68,
     "metadata": {},
     "output_type": "execute_result"
    }
   ],
   "source": [
    "dt.internet.value_counts()"
   ]
  },
  {
   "cell_type": "markdown",
   "id": "6345ad97",
   "metadata": {},
   "source": [
    "### Значения корректные, большинство имеют доступ к интернету"
   ]
  },
  {
   "cell_type": "markdown",
   "id": "06c600b9",
   "metadata": {},
   "source": [
    "# Romantic (в отношениях)"
   ]
  },
  {
   "cell_type": "code",
   "execution_count": 69,
   "id": "2059e024",
   "metadata": {},
   "outputs": [
    {
     "data": {
      "text/plain": [
       "no     221\n",
       "yes    113\n",
       "Name: romantic, dtype: int64"
      ]
     },
     "execution_count": 69,
     "metadata": {},
     "output_type": "execute_result"
    }
   ],
   "source": [
    "dt.romantic.value_counts()"
   ]
  },
  {
   "cell_type": "markdown",
   "id": "7f0516f9",
   "metadata": {},
   "source": [
    "### Значения корректные, большинство не состоит в отношениях"
   ]
  },
  {
   "cell_type": "markdown",
   "id": "2e6056c5",
   "metadata": {},
   "source": [
    "# Корреляционный анализ количественных переменных"
   ]
  },
  {
   "cell_type": "code",
   "execution_count": 70,
   "id": "1d5f2bdd",
   "metadata": {},
   "outputs": [
    {
     "data": {
      "text/html": [
       "<div>\n",
       "<style scoped>\n",
       "    .dataframe tbody tr th:only-of-type {\n",
       "        vertical-align: middle;\n",
       "    }\n",
       "\n",
       "    .dataframe tbody tr th {\n",
       "        vertical-align: top;\n",
       "    }\n",
       "\n",
       "    .dataframe thead th {\n",
       "        text-align: right;\n",
       "    }\n",
       "</style>\n",
       "<table border=\"1\" class=\"dataframe\">\n",
       "  <thead>\n",
       "    <tr style=\"text-align: right;\">\n",
       "      <th></th>\n",
       "      <th>age</th>\n",
       "      <th>Medu</th>\n",
       "      <th>Fedu</th>\n",
       "      <th>traveltime</th>\n",
       "      <th>studytime</th>\n",
       "      <th>failures</th>\n",
       "      <th>studytime_granular</th>\n",
       "      <th>famrel</th>\n",
       "      <th>freetime</th>\n",
       "      <th>goout</th>\n",
       "      <th>health</th>\n",
       "      <th>absences</th>\n",
       "      <th>score</th>\n",
       "    </tr>\n",
       "  </thead>\n",
       "  <tbody>\n",
       "    <tr>\n",
       "      <th>age</th>\n",
       "      <td>1.000000</td>\n",
       "      <td>-0.166122</td>\n",
       "      <td>-0.168468</td>\n",
       "      <td>0.101697</td>\n",
       "      <td>-0.019243</td>\n",
       "      <td>0.189162</td>\n",
       "      <td>0.019243</td>\n",
       "      <td>0.045695</td>\n",
       "      <td>0.006342</td>\n",
       "      <td>0.104236</td>\n",
       "      <td>-0.076472</td>\n",
       "      <td>0.115618</td>\n",
       "      <td>-0.139421</td>\n",
       "    </tr>\n",
       "    <tr>\n",
       "      <th>Medu</th>\n",
       "      <td>-0.166122</td>\n",
       "      <td>1.000000</td>\n",
       "      <td>0.656551</td>\n",
       "      <td>-0.125238</td>\n",
       "      <td>0.076862</td>\n",
       "      <td>-0.221293</td>\n",
       "      <td>-0.076862</td>\n",
       "      <td>0.035897</td>\n",
       "      <td>0.006222</td>\n",
       "      <td>0.069191</td>\n",
       "      <td>-0.053456</td>\n",
       "      <td>0.093427</td>\n",
       "      <td>0.228308</td>\n",
       "    </tr>\n",
       "    <tr>\n",
       "      <th>Fedu</th>\n",
       "      <td>-0.168468</td>\n",
       "      <td>0.656551</td>\n",
       "      <td>1.000000</td>\n",
       "      <td>-0.139235</td>\n",
       "      <td>0.030241</td>\n",
       "      <td>-0.264047</td>\n",
       "      <td>-0.030241</td>\n",
       "      <td>-0.025819</td>\n",
       "      <td>-0.043363</td>\n",
       "      <td>0.013977</td>\n",
       "      <td>-0.007232</td>\n",
       "      <td>-0.016081</td>\n",
       "      <td>0.139483</td>\n",
       "    </tr>\n",
       "    <tr>\n",
       "      <th>traveltime</th>\n",
       "      <td>0.101697</td>\n",
       "      <td>-0.125238</td>\n",
       "      <td>-0.139235</td>\n",
       "      <td>1.000000</td>\n",
       "      <td>-0.140451</td>\n",
       "      <td>0.013102</td>\n",
       "      <td>0.140451</td>\n",
       "      <td>-0.045121</td>\n",
       "      <td>-0.061860</td>\n",
       "      <td>-0.074928</td>\n",
       "      <td>-0.055920</td>\n",
       "      <td>-0.089558</td>\n",
       "      <td>-0.069619</td>\n",
       "    </tr>\n",
       "    <tr>\n",
       "      <th>studytime</th>\n",
       "      <td>-0.019243</td>\n",
       "      <td>0.076862</td>\n",
       "      <td>0.030241</td>\n",
       "      <td>-0.140451</td>\n",
       "      <td>1.000000</td>\n",
       "      <td>-0.175120</td>\n",
       "      <td>-1.000000</td>\n",
       "      <td>0.059876</td>\n",
       "      <td>-0.100168</td>\n",
       "      <td>-0.081716</td>\n",
       "      <td>-0.079565</td>\n",
       "      <td>-0.077488</td>\n",
       "      <td>0.111724</td>\n",
       "    </tr>\n",
       "    <tr>\n",
       "      <th>failures</th>\n",
       "      <td>0.189162</td>\n",
       "      <td>-0.221293</td>\n",
       "      <td>-0.264047</td>\n",
       "      <td>0.013102</td>\n",
       "      <td>-0.175120</td>\n",
       "      <td>1.000000</td>\n",
       "      <td>0.175120</td>\n",
       "      <td>0.051854</td>\n",
       "      <td>0.118045</td>\n",
       "      <td>0.135784</td>\n",
       "      <td>0.062123</td>\n",
       "      <td>0.063544</td>\n",
       "      <td>-0.339818</td>\n",
       "    </tr>\n",
       "    <tr>\n",
       "      <th>studytime_granular</th>\n",
       "      <td>0.019243</td>\n",
       "      <td>-0.076862</td>\n",
       "      <td>-0.030241</td>\n",
       "      <td>0.140451</td>\n",
       "      <td>-1.000000</td>\n",
       "      <td>0.175120</td>\n",
       "      <td>1.000000</td>\n",
       "      <td>-0.059876</td>\n",
       "      <td>0.100168</td>\n",
       "      <td>0.081716</td>\n",
       "      <td>0.079565</td>\n",
       "      <td>0.077488</td>\n",
       "      <td>-0.111724</td>\n",
       "    </tr>\n",
       "    <tr>\n",
       "      <th>famrel</th>\n",
       "      <td>0.045695</td>\n",
       "      <td>0.035897</td>\n",
       "      <td>-0.025819</td>\n",
       "      <td>-0.045121</td>\n",
       "      <td>0.059876</td>\n",
       "      <td>0.051854</td>\n",
       "      <td>-0.059876</td>\n",
       "      <td>1.000000</td>\n",
       "      <td>0.101102</td>\n",
       "      <td>0.088197</td>\n",
       "      <td>0.028572</td>\n",
       "      <td>-0.025090</td>\n",
       "      <td>0.067387</td>\n",
       "    </tr>\n",
       "    <tr>\n",
       "      <th>freetime</th>\n",
       "      <td>0.006342</td>\n",
       "      <td>0.006222</td>\n",
       "      <td>-0.043363</td>\n",
       "      <td>-0.061860</td>\n",
       "      <td>-0.100168</td>\n",
       "      <td>0.118045</td>\n",
       "      <td>0.100168</td>\n",
       "      <td>0.101102</td>\n",
       "      <td>1.000000</td>\n",
       "      <td>0.257385</td>\n",
       "      <td>0.085869</td>\n",
       "      <td>0.125590</td>\n",
       "      <td>0.018981</td>\n",
       "    </tr>\n",
       "    <tr>\n",
       "      <th>goout</th>\n",
       "      <td>0.104236</td>\n",
       "      <td>0.069191</td>\n",
       "      <td>0.013977</td>\n",
       "      <td>-0.074928</td>\n",
       "      <td>-0.081716</td>\n",
       "      <td>0.135784</td>\n",
       "      <td>0.081716</td>\n",
       "      <td>0.088197</td>\n",
       "      <td>0.257385</td>\n",
       "      <td>1.000000</td>\n",
       "      <td>-0.033286</td>\n",
       "      <td>0.096211</td>\n",
       "      <td>-0.115458</td>\n",
       "    </tr>\n",
       "    <tr>\n",
       "      <th>health</th>\n",
       "      <td>-0.076472</td>\n",
       "      <td>-0.053456</td>\n",
       "      <td>-0.007232</td>\n",
       "      <td>-0.055920</td>\n",
       "      <td>-0.079565</td>\n",
       "      <td>0.062123</td>\n",
       "      <td>0.079565</td>\n",
       "      <td>0.028572</td>\n",
       "      <td>0.085869</td>\n",
       "      <td>-0.033286</td>\n",
       "      <td>1.000000</td>\n",
       "      <td>-0.027552</td>\n",
       "      <td>-0.077837</td>\n",
       "    </tr>\n",
       "    <tr>\n",
       "      <th>absences</th>\n",
       "      <td>0.115618</td>\n",
       "      <td>0.093427</td>\n",
       "      <td>-0.016081</td>\n",
       "      <td>-0.089558</td>\n",
       "      <td>-0.077488</td>\n",
       "      <td>0.063544</td>\n",
       "      <td>0.077488</td>\n",
       "      <td>-0.025090</td>\n",
       "      <td>0.125590</td>\n",
       "      <td>0.096211</td>\n",
       "      <td>-0.027552</td>\n",
       "      <td>1.000000</td>\n",
       "      <td>0.103698</td>\n",
       "    </tr>\n",
       "    <tr>\n",
       "      <th>score</th>\n",
       "      <td>-0.139421</td>\n",
       "      <td>0.228308</td>\n",
       "      <td>0.139483</td>\n",
       "      <td>-0.069619</td>\n",
       "      <td>0.111724</td>\n",
       "      <td>-0.339818</td>\n",
       "      <td>-0.111724</td>\n",
       "      <td>0.067387</td>\n",
       "      <td>0.018981</td>\n",
       "      <td>-0.115458</td>\n",
       "      <td>-0.077837</td>\n",
       "      <td>0.103698</td>\n",
       "      <td>1.000000</td>\n",
       "    </tr>\n",
       "  </tbody>\n",
       "</table>\n",
       "</div>"
      ],
      "text/plain": [
       "                         age      Medu      Fedu  traveltime  studytime  \\\n",
       "age                 1.000000 -0.166122 -0.168468    0.101697  -0.019243   \n",
       "Medu               -0.166122  1.000000  0.656551   -0.125238   0.076862   \n",
       "Fedu               -0.168468  0.656551  1.000000   -0.139235   0.030241   \n",
       "traveltime          0.101697 -0.125238 -0.139235    1.000000  -0.140451   \n",
       "studytime          -0.019243  0.076862  0.030241   -0.140451   1.000000   \n",
       "failures            0.189162 -0.221293 -0.264047    0.013102  -0.175120   \n",
       "studytime_granular  0.019243 -0.076862 -0.030241    0.140451  -1.000000   \n",
       "famrel              0.045695  0.035897 -0.025819   -0.045121   0.059876   \n",
       "freetime            0.006342  0.006222 -0.043363   -0.061860  -0.100168   \n",
       "goout               0.104236  0.069191  0.013977   -0.074928  -0.081716   \n",
       "health             -0.076472 -0.053456 -0.007232   -0.055920  -0.079565   \n",
       "absences            0.115618  0.093427 -0.016081   -0.089558  -0.077488   \n",
       "score              -0.139421  0.228308  0.139483   -0.069619   0.111724   \n",
       "\n",
       "                    failures  studytime_granular    famrel  freetime  \\\n",
       "age                 0.189162            0.019243  0.045695  0.006342   \n",
       "Medu               -0.221293           -0.076862  0.035897  0.006222   \n",
       "Fedu               -0.264047           -0.030241 -0.025819 -0.043363   \n",
       "traveltime          0.013102            0.140451 -0.045121 -0.061860   \n",
       "studytime          -0.175120           -1.000000  0.059876 -0.100168   \n",
       "failures            1.000000            0.175120  0.051854  0.118045   \n",
       "studytime_granular  0.175120            1.000000 -0.059876  0.100168   \n",
       "famrel              0.051854           -0.059876  1.000000  0.101102   \n",
       "freetime            0.118045            0.100168  0.101102  1.000000   \n",
       "goout               0.135784            0.081716  0.088197  0.257385   \n",
       "health              0.062123            0.079565  0.028572  0.085869   \n",
       "absences            0.063544            0.077488 -0.025090  0.125590   \n",
       "score              -0.339818           -0.111724  0.067387  0.018981   \n",
       "\n",
       "                       goout    health  absences     score  \n",
       "age                 0.104236 -0.076472  0.115618 -0.139421  \n",
       "Medu                0.069191 -0.053456  0.093427  0.228308  \n",
       "Fedu                0.013977 -0.007232 -0.016081  0.139483  \n",
       "traveltime         -0.074928 -0.055920 -0.089558 -0.069619  \n",
       "studytime          -0.081716 -0.079565 -0.077488  0.111724  \n",
       "failures            0.135784  0.062123  0.063544 -0.339818  \n",
       "studytime_granular  0.081716  0.079565  0.077488 -0.111724  \n",
       "famrel              0.088197  0.028572 -0.025090  0.067387  \n",
       "freetime            0.257385  0.085869  0.125590  0.018981  \n",
       "goout               1.000000 -0.033286  0.096211 -0.115458  \n",
       "health             -0.033286  1.000000 -0.027552 -0.077837  \n",
       "absences            0.096211 -0.027552  1.000000  0.103698  \n",
       "score              -0.115458 -0.077837  0.103698  1.000000  "
      ]
     },
     "execution_count": 70,
     "metadata": {},
     "output_type": "execute_result"
    }
   ],
   "source": [
    "dt.corr() \n"
   ]
  },
  {
   "cell_type": "code",
   "execution_count": 71,
   "id": "02068b08",
   "metadata": {},
   "outputs": [
    {
     "data": {
      "text/plain": [
       "failures             -0.339818\n",
       "age                  -0.139421\n",
       "goout                -0.115458\n",
       "studytime_granular   -0.111724\n",
       "health               -0.077837\n",
       "traveltime           -0.069619\n",
       "freetime              0.018981\n",
       "famrel                0.067387\n",
       "absences              0.103698\n",
       "studytime             0.111724\n",
       "Fedu                  0.139483\n",
       "Medu                  0.228308\n",
       "score                 1.000000\n",
       "Name: score, dtype: float64"
      ]
     },
     "execution_count": 71,
     "metadata": {},
     "output_type": "execute_result"
    }
   ],
   "source": [
    "(dt.corr()).score.sort_values()"
   ]
  },
  {
   "cell_type": "markdown",
   "id": "1f41df3a",
   "metadata": {},
   "source": [
    "##### все поля очень слабо скоррелированы с score, но некоторые выводы сделать можно\n",
    "##### наибольшая корреляция c score есть у:\n",
    "* ##### failures\n",
    "* ##### age\n",
    "* ##### goout\n",
    "* ##### studytime_granular\n",
    "* ##### abscences\n",
    "* ##### studytime\n",
    "* ##### Medu\n",
    "* ##### Fedu\n",
    "##### наименьшая корреляция c score у:\n",
    "* ##### health\n",
    "* ##### trveltime\n",
    "* ##### freetime\n",
    "* ##### famrel\n",
    "\n",
    "##### Интересно что\n",
    "- ##### Образование матери оказывает большее внимание на успехи ребенка в математике, нежели образование отца\n",
    "- ##### Здоровье практически не связано с успехами в математике\n",
    "- ##### больше прогулов - лучше баллы по математике на экзамене (шутка, имеется ввиду слабая, но положительная корреляция этих переменных)"
   ]
  },
  {
   "cell_type": "markdown",
   "id": "10ae488c",
   "metadata": {},
   "source": [
    "# анализ номинативных переменных\n",
    "#### т.к. числовые поля (типа float64) имеют соответствие своего значения некой категории (например, Fedu = 3 означает среднее специальное образование отца), то их можно также анализировать и как номинативные переменные, с помощью boxplot"
   ]
  },
  {
   "cell_type": "code",
   "execution_count": 72,
   "id": "e692010b",
   "metadata": {
    "scrolled": true
   },
   "outputs": [
    {
     "data": {
      "image/png": "[encoded data removed]",
      "text/plain": [
       "<Figure size 1008x288 with 1 Axes>"
      ]
     },
     "metadata": {
      "needs_background": "light"
     },
     "output_type": "display_data"
    },
    {
     "data": {
      "image/png": "[encoded data removed]",
      "text/plain": [
       "<Figure size 1008x288 with 1 Axes>"
      ]
     },
     "metadata": {
      "needs_background": "light"
     },
     "output_type": "display_data"
    },
    {
     "data": {
      "image/png": "[encoded data removed]",
      "text/plain": [
       "<Figure size 1008x288 with 1 Axes>"
      ]
     },
     "metadata": {
      "needs_background": "light"
     },
     "output_type": "display_data"
    },
    {
     "data": {
      "image/png": "[encoded data removed]",
      "text/plain": [
       "<Figure size 1008x288 with 1 Axes>"
      ]
     },
     "metadata": {
      "needs_background": "light"
     },
     "output_type": "display_data"
    },
    {
     "data": {
      "image/png": "[encoded data removed]",
      "text/plain": [
       "<Figure size 1008x288 with 1 Axes>"
      ]
     },
     "metadata": {
      "needs_background": "light"
     },
     "output_type": "display_data"
    },
    {
     "data": {
      "image/png": "[encoded data removed]",
      "text/plain": [
       "<Figure size 1008x288 with 1 Axes>"
      ]
     },
     "metadata": {
      "needs_background": "light"
     },
     "output_type": "display_data"
    },
    {
     "data": {
      "image/png": "[encoded data removed]",
      "text/plain": [
       "<Figure size 1008x288 with 1 Axes>"
      ]
     },
     "metadata": {
      "needs_background": "light"
     },
     "output_type": "display_data"
    },
    {
     "data": {
      "image/png": "[encoded data removed]",
      "text/plain": [
       "<Figure size 1008x288 with 1 Axes>"
      ]
     },
     "metadata": {
      "needs_background": "light"
     },
     "output_type": "display_data"
    },
    {
     "data": {
      "image/png": "[encoded data removed]",
      "text/plain": [
       "<Figure size 1008x288 with 1 Axes>"
      ]
     },
     "metadata": {
      "needs_background": "light"
     },
     "output_type": "display_data"
    },
    {
     "data": {
      "image/png": "[encoded data removed]",
      "text/plain": [
       "<Figure size 1008x288 with 1 Axes>"
      ]
     },
     "metadata": {
      "needs_background": "light"
     },
     "output_type": "display_data"
    },
    {
     "data": {
      "image/png": "[encoded data removed]",
      "text/plain": [
       "<Figure size 1008x288 with 1 Axes>"
      ]
     },
     "metadata": {
      "needs_background": "light"
     },
     "output_type": "display_data"
    },
    {
     "data": {
      "image/png": "[encoded data removed]",
      "text/plain": [
       "<Figure size 1008x288 with 1 Axes>"
      ]
     },
     "metadata": {
      "needs_background": "light"
     },
     "output_type": "display_data"
    },
    {
     "data": {
      "image/png": "[encoded data removed]",
      "text/plain": [
       "<Figure size 1008x288 with 1 Axes>"
      ]
     },
     "metadata": {
      "needs_background": "light"
     },
     "output_type": "display_data"
    },
    {
     "data": {
      "image/png": "[encoded data removed]",
      "text/plain": [
       "<Figure size 1008x288 with 1 Axes>"
      ]
     },
     "metadata": {
      "needs_background": "light"
     },
     "output_type": "display_data"
    },
    {
     "data": {
      "image/png": "[encoded data removed]",
      "text/plain": [
       "<Figure size 1008x288 with 1 Axes>"
      ]
     },
     "metadata": {
      "needs_background": "light"
     },
     "output_type": "display_data"
    },
    {
     "data": {
      "image/png": "[encoded data removed]",
      "text/plain": [
       "<Figure size 1008x288 with 1 Axes>"
      ]
     },
     "metadata": {
      "needs_background": "light"
     },
     "output_type": "display_data"
    },
    {
     "data": {
      "image/png": "[encoded data removed]",
      "text/plain": [
       "<Figure size 1008x288 with 1 Axes>"
      ]
     },
     "metadata": {
      "needs_background": "light"
     },
     "output_type": "display_data"
    },
    {
     "data": {
      "image/png": "[encoded data removed]",
      "text/plain": [
       "<Figure size 1008x288 with 1 Axes>"
      ]
     },
     "metadata": {
      "needs_background": "light"
     },
     "output_type": "display_data"
    },
    {
     "data": {
      "image/png": "[encoded data removed]",
      "text/plain": [
       "<Figure size 1008x288 with 1 Axes>"
      ]
     },
     "metadata": {
      "needs_background": "light"
     },
     "output_type": "display_data"
    },
    {
     "data": {
      "image/png": "[encoded data removed]",
      "text/plain": [
       "<Figure size 1008x288 with 1 Axes>"
      ]
     },
     "metadata": {
      "needs_background": "light"
     },
     "output_type": "display_data"
    },
    {
     "data": {
      "image/png": "[encoded data removed]",
      "text/plain": [
       "<Figure size 1008x288 with 1 Axes>"
      ]
     },
     "metadata": {
      "needs_background": "light"
     },
     "output_type": "display_data"
    },
    {
     "data": {
      "image/png": "[encoded data removed]",
      "text/plain": [
       "<Figure size 1008x288 with 1 Axes>"
      ]
     },
     "metadata": {
      "needs_background": "light"
     },
     "output_type": "display_data"
    },
    {
     "data": {
      "image/png": "[encoded data removed]",
      "text/plain": [
       "<Figure size 1008x288 with 1 Axes>"
      ]
     },
     "metadata": {
      "needs_background": "light"
     },
     "output_type": "display_data"
    },
    {
     "data": {
      "image/png": "[encoded data removed]",
      "text/plain": [
       "<Figure size 1008x288 with 1 Axes>"
      ]
     },
     "metadata": {
      "needs_background": "light"
     },
     "output_type": "display_data"
    },
    {
     "data": {
      "image/png": "[encoded data removed]",
      "text/plain": [
       "<Figure size 1008x288 with 1 Axes>"
      ]
     },
     "metadata": {
      "needs_background": "light"
     },
     "output_type": "display_data"
    },
    {
     "data": {
      "image/png": "[encoded data removed]",
      "text/plain": [
       "<Figure size 1008x288 with 1 Axes>"
      ]
     },
     "metadata": {
      "needs_background": "light"
     },
     "output_type": "display_data"
    },
    {
     "data": {
      "image/png": "[encoded data removed]",
      "text/plain": [
       "<Figure size 1008x288 with 1 Axes>"
      ]
     },
     "metadata": {
      "needs_background": "light"
     },
     "output_type": "display_data"
    },
    {
     "data": {
      "image/png": "[encoded data removed]",
      "text/plain": [
       "<Figure size 1008x288 with 1 Axes>"
      ]
     },
     "metadata": {
      "needs_background": "light"
     },
     "output_type": "display_data"
    },
    {
     "data": {
      "image/png": "[encoded data removed]",
      "text/plain": [
       "<Figure size 1008x288 with 1 Axes>"
      ]
     },
     "metadata": {
      "needs_background": "light"
     },
     "output_type": "display_data"
    },
    {
     "data": {
      "image/png": "[encoded data removed]",
      "text/plain": [
       "<Figure size 1008x288 with 1 Axes>"
      ]
     },
     "metadata": {
      "needs_background": "light"
     },
     "output_type": "display_data"
    }
   ],
   "source": [
    "for col in dt.columns:\n",
    "    get_boxplot(col)"
   ]
  },
  {
   "cell_type": "markdown",
   "id": "d1fd0358",
   "metadata": {},
   "source": [
    "# Визуальный анализ боксплотов по номинативным переменным\n",
    "##### Колонки, оказывающие влияние на score:\n",
    "- ##### school\n",
    "- ##### sex\n",
    "- ##### age\n",
    "- ##### address\n",
    "- ##### medu\n",
    "- ##### fedu\n",
    "- ##### mjob\n",
    "- ##### fjob\n",
    "- ##### failures\n",
    "- ##### schoolsup\n",
    "- ##### paid\n",
    "- ##### activities\n",
    "- ##### nursery\n",
    "- ##### higher\n",
    "- ##### romantic\n",
    "- ##### famrel\n",
    "- ##### freetime\n",
    "- ##### goout\n",
    "- ##### health\n",
    "- ##### absences\n",
    "\n",
    "##### Колонки, не оказывающие влияние на score:\n",
    "\n",
    "- ##### famsize\n",
    "- ##### pstatus\n",
    "- ##### reason\n",
    "- ##### guardian\n",
    "- ##### traveltime\n",
    "- ##### studytime\n",
    "- ##### famsup\n",
    "- ##### studytime_granular\n",
    "- ##### internet\n",
    "\n"
   ]
  },
  {
   "cell_type": "markdown",
   "id": "ed5a7d7b",
   "metadata": {},
   "source": [
    "# Тест Стьюдента\n",
    "##### Для теста Стьюжента выберем только колонки, в которых может быть более 2 различных значений\n",
    "##### для каждой выполним тест, проверим нулевую гипотезу о равенстве score у записей с различными значениями \n",
    "##### колонки. значимость вынесем в параметр, чтобы было удобнее провести несколько тестов с разным уровнем значимости.\n",
    "##### Т.к. выполняется множественная проверка гипотез, необходимо вводить поправку Боферрони, а она в свою очередь на уровне\n",
    "##### значимости 0.05 отфильтровывает почти все колонки, поэтому, в первичном приближении (анализ же разведывательный) ##### остановимся на уровне значимости 0.2"
   ]
  },
  {
   "cell_type": "code",
   "execution_count": 80,
   "id": "85d4fb3d",
   "metadata": {},
   "outputs": [
    {
     "name": "stdout",
     "output_type": "stream",
     "text": [
      "Найдены статистически значимые различия для колонки age\n",
      "Найдены статистически значимые различия для колонки Medu\n",
      "Найдены статистически значимые различия для колонки Fedu\n",
      "Найдены статистически значимые различия для колонки Mjob\n",
      "Найдены статистически значимые различия для колонки failures\n",
      "Найдены статистически значимые различия для колонки freetime\n",
      "Найдены статистически значимые различия для колонки goout\n",
      "Найдены статистически значимые различия для колонки absences\n"
     ]
    }
   ],
   "source": [
    "for col in ['age', 'Medu', 'Fedu', 'Mjob', 'Fjob', 'reason',\n",
    "            'traveltime', 'studytime', 'failures', 'studytime_granular',\n",
    "            'famrel', 'freetime', 'goout', 'health', 'absences']:\n",
    "    get_stat_diff(col, 0.2)"
   ]
  },
  {
   "cell_type": "markdown",
   "id": "67b7e21e",
   "metadata": {},
   "source": [
    "##### Результаты теста Стьюдента не противоречат результатам визуального анализа боксплотов, \n",
    "##### поэтому за итоговый состав колонок возьмем объединение 2 результатов  :"
   ]
  },
  {
   "cell_type": "code",
   "execution_count": 82,
   "id": "47571aa4",
   "metadata": {},
   "outputs": [
    {
     "data": {
      "text/html": [
       "<div>\n",
       "<style scoped>\n",
       "    .dataframe tbody tr th:only-of-type {\n",
       "        vertical-align: middle;\n",
       "    }\n",
       "\n",
       "    .dataframe tbody tr th {\n",
       "        vertical-align: top;\n",
       "    }\n",
       "\n",
       "    .dataframe thead th {\n",
       "        text-align: right;\n",
       "    }\n",
       "</style>\n",
       "<table border=\"1\" class=\"dataframe\">\n",
       "  <thead>\n",
       "    <tr style=\"text-align: right;\">\n",
       "      <th></th>\n",
       "      <th>school</th>\n",
       "      <th>sex</th>\n",
       "      <th>age</th>\n",
       "      <th>address</th>\n",
       "      <th>famsize</th>\n",
       "      <th>Pstatus</th>\n",
       "      <th>Medu</th>\n",
       "      <th>Fedu</th>\n",
       "      <th>Mjob</th>\n",
       "      <th>Fjob</th>\n",
       "      <th>reason</th>\n",
       "      <th>guardian</th>\n",
       "      <th>traveltime</th>\n",
       "      <th>studytime</th>\n",
       "      <th>failures</th>\n",
       "      <th>schoolsup</th>\n",
       "      <th>famsup</th>\n",
       "      <th>paid</th>\n",
       "      <th>activities</th>\n",
       "      <th>nursery</th>\n",
       "      <th>studytime_granular</th>\n",
       "      <th>higher</th>\n",
       "      <th>internet</th>\n",
       "      <th>romantic</th>\n",
       "      <th>famrel</th>\n",
       "      <th>freetime</th>\n",
       "      <th>goout</th>\n",
       "      <th>health</th>\n",
       "      <th>absences</th>\n",
       "      <th>score</th>\n",
       "    </tr>\n",
       "  </thead>\n",
       "  <tbody>\n",
       "    <tr>\n",
       "      <th>0</th>\n",
       "      <td>GP</td>\n",
       "      <td>F</td>\n",
       "      <td>18.0</td>\n",
       "      <td>U</td>\n",
       "      <td>NaN</td>\n",
       "      <td>A</td>\n",
       "      <td>4.0</td>\n",
       "      <td>4.0</td>\n",
       "      <td>at_home</td>\n",
       "      <td>teacher</td>\n",
       "      <td>course</td>\n",
       "      <td>mother</td>\n",
       "      <td>2.0</td>\n",
       "      <td>2.0</td>\n",
       "      <td>0.0</td>\n",
       "      <td>yes</td>\n",
       "      <td>no</td>\n",
       "      <td>no</td>\n",
       "      <td>no</td>\n",
       "      <td>yes</td>\n",
       "      <td>-6.0</td>\n",
       "      <td>yes</td>\n",
       "      <td>NaN</td>\n",
       "      <td>no</td>\n",
       "      <td>4.0</td>\n",
       "      <td>3.0</td>\n",
       "      <td>4.0</td>\n",
       "      <td>3.0</td>\n",
       "      <td>6.0</td>\n",
       "      <td>30.0</td>\n",
       "    </tr>\n",
       "    <tr>\n",
       "      <th>1</th>\n",
       "      <td>GP</td>\n",
       "      <td>F</td>\n",
       "      <td>17.0</td>\n",
       "      <td>U</td>\n",
       "      <td>GT3</td>\n",
       "      <td>NaN</td>\n",
       "      <td>1.0</td>\n",
       "      <td>1.0</td>\n",
       "      <td>at_home</td>\n",
       "      <td>other</td>\n",
       "      <td>course</td>\n",
       "      <td>father</td>\n",
       "      <td>1.0</td>\n",
       "      <td>2.0</td>\n",
       "      <td>0.0</td>\n",
       "      <td>no</td>\n",
       "      <td>yes</td>\n",
       "      <td>no</td>\n",
       "      <td>no</td>\n",
       "      <td>no</td>\n",
       "      <td>-6.0</td>\n",
       "      <td>yes</td>\n",
       "      <td>yes</td>\n",
       "      <td>no</td>\n",
       "      <td>5.0</td>\n",
       "      <td>3.0</td>\n",
       "      <td>3.0</td>\n",
       "      <td>3.0</td>\n",
       "      <td>4.0</td>\n",
       "      <td>30.0</td>\n",
       "    </tr>\n",
       "    <tr>\n",
       "      <th>2</th>\n",
       "      <td>GP</td>\n",
       "      <td>F</td>\n",
       "      <td>15.0</td>\n",
       "      <td>U</td>\n",
       "      <td>LE3</td>\n",
       "      <td>T</td>\n",
       "      <td>1.0</td>\n",
       "      <td>1.0</td>\n",
       "      <td>at_home</td>\n",
       "      <td>other</td>\n",
       "      <td>other</td>\n",
       "      <td>mother</td>\n",
       "      <td>1.0</td>\n",
       "      <td>2.0</td>\n",
       "      <td>3.0</td>\n",
       "      <td>yes</td>\n",
       "      <td>no</td>\n",
       "      <td>NaN</td>\n",
       "      <td>no</td>\n",
       "      <td>yes</td>\n",
       "      <td>-6.0</td>\n",
       "      <td>yes</td>\n",
       "      <td>yes</td>\n",
       "      <td>NaN</td>\n",
       "      <td>4.0</td>\n",
       "      <td>3.0</td>\n",
       "      <td>2.0</td>\n",
       "      <td>3.0</td>\n",
       "      <td>10.0</td>\n",
       "      <td>50.0</td>\n",
       "    </tr>\n",
       "    <tr>\n",
       "      <th>3</th>\n",
       "      <td>GP</td>\n",
       "      <td>F</td>\n",
       "      <td>15.0</td>\n",
       "      <td>U</td>\n",
       "      <td>GT3</td>\n",
       "      <td>T</td>\n",
       "      <td>4.0</td>\n",
       "      <td>2.0</td>\n",
       "      <td>health</td>\n",
       "      <td>NaN</td>\n",
       "      <td>home</td>\n",
       "      <td>mother</td>\n",
       "      <td>1.0</td>\n",
       "      <td>3.0</td>\n",
       "      <td>0.0</td>\n",
       "      <td>no</td>\n",
       "      <td>yes</td>\n",
       "      <td>yes</td>\n",
       "      <td>yes</td>\n",
       "      <td>yes</td>\n",
       "      <td>-9.0</td>\n",
       "      <td>yes</td>\n",
       "      <td>yes</td>\n",
       "      <td>yes</td>\n",
       "      <td>3.0</td>\n",
       "      <td>2.0</td>\n",
       "      <td>2.0</td>\n",
       "      <td>5.0</td>\n",
       "      <td>2.0</td>\n",
       "      <td>75.0</td>\n",
       "    </tr>\n",
       "    <tr>\n",
       "      <th>4</th>\n",
       "      <td>GP</td>\n",
       "      <td>F</td>\n",
       "      <td>16.0</td>\n",
       "      <td>U</td>\n",
       "      <td>GT3</td>\n",
       "      <td>T</td>\n",
       "      <td>3.0</td>\n",
       "      <td>3.0</td>\n",
       "      <td>other</td>\n",
       "      <td>other</td>\n",
       "      <td>home</td>\n",
       "      <td>father</td>\n",
       "      <td>1.0</td>\n",
       "      <td>2.0</td>\n",
       "      <td>0.0</td>\n",
       "      <td>no</td>\n",
       "      <td>yes</td>\n",
       "      <td>yes</td>\n",
       "      <td>no</td>\n",
       "      <td>yes</td>\n",
       "      <td>-6.0</td>\n",
       "      <td>yes</td>\n",
       "      <td>no</td>\n",
       "      <td>no</td>\n",
       "      <td>4.0</td>\n",
       "      <td>3.0</td>\n",
       "      <td>2.0</td>\n",
       "      <td>5.0</td>\n",
       "      <td>4.0</td>\n",
       "      <td>50.0</td>\n",
       "    </tr>\n",
       "  </tbody>\n",
       "</table>\n",
       "</div>"
      ],
      "text/plain": [
       "  school sex   age address famsize Pstatus  Medu  Fedu     Mjob     Fjob  \\\n",
       "0     GP   F  18.0       U     NaN       A   4.0   4.0  at_home  teacher   \n",
       "1     GP   F  17.0       U     GT3     NaN   1.0   1.0  at_home    other   \n",
       "2     GP   F  15.0       U     LE3       T   1.0   1.0  at_home    other   \n",
       "3     GP   F  15.0       U     GT3       T   4.0   2.0   health      NaN   \n",
       "4     GP   F  16.0       U     GT3       T   3.0   3.0    other    other   \n",
       "\n",
       "   reason guardian  traveltime  studytime  failures schoolsup famsup paid  \\\n",
       "0  course   mother         2.0        2.0       0.0       yes     no   no   \n",
       "1  course   father         1.0        2.0       0.0        no    yes   no   \n",
       "2   other   mother         1.0        2.0       3.0       yes     no  NaN   \n",
       "3    home   mother         1.0        3.0       0.0        no    yes  yes   \n",
       "4    home   father         1.0        2.0       0.0        no    yes  yes   \n",
       "\n",
       "  activities nursery  studytime_granular higher internet romantic  famrel  \\\n",
       "0         no     yes                -6.0    yes      NaN       no     4.0   \n",
       "1         no      no                -6.0    yes      yes       no     5.0   \n",
       "2         no     yes                -6.0    yes      yes      NaN     4.0   \n",
       "3        yes     yes                -9.0    yes      yes      yes     3.0   \n",
       "4         no     yes                -6.0    yes       no       no     4.0   \n",
       "\n",
       "   freetime  goout  health  absences  score  \n",
       "0       3.0    4.0     3.0       6.0   30.0  \n",
       "1       3.0    3.0     3.0       4.0   30.0  \n",
       "2       3.0    2.0     3.0      10.0   50.0  \n",
       "3       2.0    2.0     5.0       2.0   75.0  \n",
       "4       3.0    2.0     5.0       4.0   50.0  "
      ]
     },
     "execution_count": 82,
     "metadata": {},
     "output_type": "execute_result"
    }
   ],
   "source": [
    "dt_for_model = dt.loc[:, ['school', 'sex', 'age', 'address', 'Medu', \n",
    "                          'Medu', 'Mjob', 'Mjob', 'failures', 'schoolsup',\n",
    "                          'paid', 'activities', 'nursery', 'higher', 'romantic', \n",
    "                          'famrel', 'freetime', 'goout', 'health', 'absences']]\n",
    "dt.head()"
   ]
  },
  {
   "cell_type": "code",
   "execution_count": null,
   "id": "cd764674",
   "metadata": {},
   "outputs": [],
   "source": []
  },
  {
   "cell_type": "code",
   "execution_count": null,
   "id": "bd781623",
   "metadata": {},
   "outputs": [],
   "source": []
  },
  {
   "cell_type": "code",
   "execution_count": null,
   "id": "21ace5ba",
   "metadata": {},
   "outputs": [],
   "source": []
  },
  {
   "cell_type": "code",
   "execution_count": null,
   "id": "47c2f6e4",
   "metadata": {},
   "outputs": [],
   "source": []
  }
 ],
 "metadata": {
  "kernelspec": {
   "display_name": "Python 3",
   "language": "python",
   "name": "python3"
  },
  "language_info": {
   "codemirror_mode": {
    "name": "ipython",
    "version": 3
   },
   "file_extension": ".py",
   "mimetype": "text/x-python",
   "name": "python",
   "nbconvert_exporter": "python",
   "pygments_lexer": "ipython3",
   "version": "3.8.8"
  }
 },
 "nbformat": 4,
 "nbformat_minor": 5
}
