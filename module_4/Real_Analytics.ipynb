{
 "cells": [
  {
   "cell_type": "markdown",
   "id": "f696dc65",
   "metadata": {},
   "source": [
    "# Авиарейсы без потерь, анализ прибыльности рейсов"
   ]
  },
  {
   "cell_type": "markdown",
   "id": "cc40d809",
   "metadata": {},
   "source": [
    "##### Для анализа будем использовать простую модель: прибыль = стоимость билетов на рейс - затраты на топливо на рейс\n",
    "\n",
    "##### Для расчета затрат на топливо воспользуемся такими показателями используемых самолетов как часовой расход топлива. Таким образом, затраты на топливо на рейс = длительность полета в часах * часовой расход топлива в кг/ч * стоимость топлива в рублях за тонну топлива /1000\n"
   ]
  },
  {
   "cell_type": "markdown",
   "id": "784bb6b3",
   "metadata": {},
   "source": [
    "### Импорт библиотек"
   ]
  },
  {
   "cell_type": "code",
   "execution_count": 187,
   "id": "4a174637",
   "metadata": {},
   "outputs": [],
   "source": [
    "import numpy as np\n",
    "import pandas as pd\n",
    "import seaborn as sns\n",
    "import matplotlib.pyplot as plt\n",
    "from datetime import datetime\n",
    "\n",
    "plt.rcParams['figure.figsize'] = (12,8)"
   ]
  },
  {
   "cell_type": "markdown",
   "id": "b8643612",
   "metadata": {},
   "source": [
    "### импорт данных, использовались следующие запросы для получения CSV из Metabase:"
   ]
  },
  {
   "cell_type": "code",
   "execution_count": 172,
   "id": "105ec2a9",
   "metadata": {
    "scrolled": true
   },
   "outputs": [
    {
     "ename": "SyntaxError",
     "evalue": "invalid syntax (<ipython-input-172-23db95b74fd9>, line 2)",
     "output_type": "error",
     "traceback": [
      "\u001b[1;36m  File \u001b[1;32m\"<ipython-input-172-23db95b74fd9>\"\u001b[1;36m, line \u001b[1;32m2\u001b[0m\n\u001b[1;33m    SELECT *\u001b[0m\n\u001b[1;37m            ^\u001b[0m\n\u001b[1;31mSyntaxError\u001b[0m\u001b[1;31m:\u001b[0m invalid syntax\n"
     ]
    }
   ],
   "source": [
    "# flights:\n",
    "SELECT *\n",
    "FROM dst_project.flights F\n",
    "join dst_project.ticket_flights TF on F.flight_id = TF.flight_id\n",
    "WHERE departure_airport = 'AAQ'\n",
    "  AND (date_trunc('month', scheduled_departure) in ('2017-01-01','2017-02-01', '2017-12-01'))\n",
    "  AND status not in ('Cancelled')\n",
    "\n",
    "# aircrafts\n",
    "SELECT *\n",
    "FROM dst_project.aircrafts\n",
    "\n",
    "# airports\n",
    "SELECT *\n",
    "FROM dst_project.airports\n",
    "\n",
    "# mean_tickets_count\n",
    "with A as(\n",
    "SELECT F.flight_id, F.aircraft_code, TF.fare_conditions, AP.city, count(TF.ticket_no) tickets_count\n",
    "FROM dst_project.flights F\n",
    "join dst_project.ticket_flights TF on F.flight_id = TF.flight_id\n",
    "join dst_project.airports AP on AP.airport_code = F.arrival_airport\n",
    "WHERE departure_airport = 'AAQ'\n",
    "  AND (date_trunc('month', scheduled_departure) in ('2017-01-01','2017-02-01', '2017-12-01'))\n",
    "  AND status not in ('Cancelled')\n",
    "Group by 1,2,3,4\n",
    ")\n",
    "select A.aircraft_code,A.fare_conditions,A.city, avg(tickets_count)\n",
    "from A \n",
    "group by 1,2,3\n",
    "\n",
    "# max_tickets_count\n",
    "SELECT AC.aircraft_code,\n",
    "       S.fare_conditions,\n",
    "       Count(*)\n",
    "FROM dst_project.aircrafts AC\n",
    "JOIN dst_project.seats S ON S.aircraft_code = AC.aircraft_code\n",
    "WHERE AC.aircraft_code in ('733',\n",
    "                           'SU9')\n",
    "GROUP BY AC.aircraft_code,\n",
    "         S.fare_conditions\n",
    "\n",
    "# tickets_cost\n",
    "SELECT F.aircraft_code,\n",
    "       TF.fare_conditions,\n",
    "       AP.city,\n",
    "       TF.amount\n",
    "FROM dst_project.flights F\n",
    "JOIN dst_project.ticket_flights TF ON F.flight_id = TF.flight_id\n",
    "JOIN dst_project.airports AP ON AP.airport_code = F.arrival_airport\n",
    "WHERE departure_airport = 'AAQ'\n",
    "  AND (date_trunc('month', scheduled_departure) in ('2017-01-01',\n",
    "                                                    '2017-02-01',\n",
    "                                                    '2017-12-01'))\n",
    "  AND status not in ('Cancelled')\n",
    "GROUP BY 1,\n",
    "         2,\n",
    "         3,\n",
    "         4"
   ]
  },
  {
   "cell_type": "markdown",
   "id": "f893dd63",
   "metadata": {},
   "source": [
    "##### Импорт данных"
   ]
  },
  {
   "cell_type": "code",
   "execution_count": 173,
   "id": "113f3141",
   "metadata": {
    "scrolled": false
   },
   "outputs": [],
   "source": [
    "# датасет с рейсами\n",
    "flights = pd.read_csv('Flights_with_tickets.csv')\n",
    "\n",
    "# датасет с самолетами\n",
    "aircrafts = pd.read_csv('AirCrafts.csv')\n",
    "\n",
    "# датасет с аэропортами\n",
    "airports = pd.read_csv('AirPorts.csv')\n",
    "\n",
    "# датасет с инф-ией о среднем кол-ве билетов в каждом классе, в каждом направлении\n",
    "mean_tickets_count = pd.read_csv('mean_tickets_count.csv')\n",
    "\n",
    "# датасет с инф-ией о максимально возможном кол-ве билетов в каждом классе, в каждом направлении\n",
    "max_tickets_count = pd.read_csv('max_tickets_count.csv')\n",
    "\n",
    "# датасет с инф-ией о стоимости билетов разных классов, в разных самолетах, по разным направлениям\n",
    "tickets_cost = pd.read_csv('tickets_cost.csv')\n",
    "\n"
   ]
  },
  {
   "cell_type": "markdown",
   "id": "4455e209",
   "metadata": {},
   "source": [
    "##### дополнительные данные"
   ]
  },
  {
   "cell_type": "code",
   "execution_count": 174,
   "id": "c613cf1a",
   "metadata": {},
   "outputs": [
    {
     "data": {
      "text/plain": [
       "60800.0"
      ]
     },
     "execution_count": 174,
     "metadata": {},
     "output_type": "execute_result"
    }
   ],
   "source": [
    "# цена тонны авиационного керосина взята как медиана из цен представленных на сайте: \n",
    "# https://oilresurs.ru/catalog/aviacionnyj-kerosin/\n",
    "Arr = [59500,52100,60000,61900,60800,62200,63500]\n",
    "Fuel_cost = np.median(Arr)\n",
    "Fuel_cost"
   ]
  },
  {
   "cell_type": "code",
   "execution_count": 175,
   "id": "cd80323c",
   "metadata": {},
   "outputs": [
    {
     "data": {
      "text/html": [
       "<div>\n",
       "<style scoped>\n",
       "    .dataframe tbody tr th:only-of-type {\n",
       "        vertical-align: middle;\n",
       "    }\n",
       "\n",
       "    .dataframe tbody tr th {\n",
       "        vertical-align: top;\n",
       "    }\n",
       "\n",
       "    .dataframe thead th {\n",
       "        text-align: right;\n",
       "    }\n",
       "</style>\n",
       "<table border=\"1\" class=\"dataframe\">\n",
       "  <thead>\n",
       "    <tr style=\"text-align: right;\">\n",
       "      <th></th>\n",
       "      <th>aircraft_code</th>\n",
       "      <th>consumption</th>\n",
       "    </tr>\n",
       "  </thead>\n",
       "  <tbody>\n",
       "    <tr>\n",
       "      <th>0</th>\n",
       "      <td>733</td>\n",
       "      <td>2400</td>\n",
       "    </tr>\n",
       "    <tr>\n",
       "      <th>1</th>\n",
       "      <td>SU9</td>\n",
       "      <td>1700</td>\n",
       "    </tr>\n",
       "  </tbody>\n",
       "</table>\n",
       "</div>"
      ],
      "text/plain": [
       "  aircraft_code  consumption\n",
       "0           733         2400\n",
       "1           SU9         1700"
      ]
     },
     "execution_count": 175,
     "metadata": {},
     "output_type": "execute_result"
    }
   ],
   "source": [
    "# расход топлива рахных самолетов взят с сайта \n",
    "# https://vpolete.online/pereletyi/rashod-topliva-raznyih-samoletov.html\n",
    "# consumtion приводится в кг/ч\n",
    "Fuel = pd.DataFrame({'aircraft_code':['733','SU9'], 'consumption':[2400,1700]})\n",
    "\n",
    "Fuel"
   ]
  },
  {
   "cell_type": "markdown",
   "id": "e3d0e7a9",
   "metadata": {},
   "source": [
    "##### Предобработка данных"
   ]
  },
  {
   "cell_type": "code",
   "execution_count": 176,
   "id": "81ff4e14",
   "metadata": {},
   "outputs": [],
   "source": [
    "# Убираем лишние колонки\n",
    "flights.drop(['scheduled_departure', 'scheduled_arrival'], axis=1, inplace=True)\n",
    "\n",
    "# чтобы соединить по коду самолета flights и aircrafts\n",
    "flights.rename(columns={'arrival_airport': 'airport_code'}, inplace=True)\n",
    "\n",
    "# перевод действительного времени отправления и прилета в datetime:\n",
    "flights.actual_departure = pd.to_datetime(flights.actual_departure , format='%Y-%m-%dT%H:%M:%SZ', errors='coerce')\n",
    "flights.actual_arrival = pd.to_datetime(flights.actual_arrival , format='%Y-%m-%dT%H:%M:%SZ', errors='coerce')\n",
    "\n",
    "# вычисление кол-ва часов в полете\n",
    "flights['flight_hours'] = abs(flights.actual_arrival - flights.actual_departure).apply(lambda x: x.seconds/3600).fillna(1)\n"
   ]
  },
  {
   "cell_type": "markdown",
   "id": "dc5edcb4",
   "metadata": {},
   "source": [
    "##### Соединение в один датасет"
   ]
  },
  {
   "cell_type": "code",
   "execution_count": 177,
   "id": "01bd4c7c",
   "metadata": {},
   "outputs": [
    {
     "data": {
      "text/html": [
       "<div>\n",
       "<style scoped>\n",
       "    .dataframe tbody tr th:only-of-type {\n",
       "        vertical-align: middle;\n",
       "    }\n",
       "\n",
       "    .dataframe tbody tr th {\n",
       "        vertical-align: top;\n",
       "    }\n",
       "\n",
       "    .dataframe thead th {\n",
       "        text-align: right;\n",
       "    }\n",
       "</style>\n",
       "<table border=\"1\" class=\"dataframe\">\n",
       "  <thead>\n",
       "    <tr style=\"text-align: right;\">\n",
       "      <th></th>\n",
       "      <th>flight_id</th>\n",
       "      <th>flight_no</th>\n",
       "      <th>departure_airport</th>\n",
       "      <th>airport_code</th>\n",
       "      <th>status</th>\n",
       "      <th>aircraft_code</th>\n",
       "      <th>actual_departure</th>\n",
       "      <th>actual_arrival</th>\n",
       "      <th>ticket_no</th>\n",
       "      <th>flight_id_2</th>\n",
       "      <th>...</th>\n",
       "      <th>amount</th>\n",
       "      <th>flight_hours</th>\n",
       "      <th>model</th>\n",
       "      <th>range</th>\n",
       "      <th>airport_name</th>\n",
       "      <th>city</th>\n",
       "      <th>longitude</th>\n",
       "      <th>latitude</th>\n",
       "      <th>timezone</th>\n",
       "      <th>consumption</th>\n",
       "    </tr>\n",
       "  </thead>\n",
       "  <tbody>\n",
       "    <tr>\n",
       "      <th>1464</th>\n",
       "      <td>136729</td>\n",
       "      <td>PG0480</td>\n",
       "      <td>AAQ</td>\n",
       "      <td>EGO</td>\n",
       "      <td>Arrived</td>\n",
       "      <td>SU9</td>\n",
       "      <td>2017-01-29 09:29:00</td>\n",
       "      <td>2017-01-29 10:19:00</td>\n",
       "      <td>5432375480</td>\n",
       "      <td>136729</td>\n",
       "      <td>...</td>\n",
       "      <td>6300.0</td>\n",
       "      <td>0.833333</td>\n",
       "      <td>Sukhoi Superjet-100</td>\n",
       "      <td>3000</td>\n",
       "      <td>Belgorod International Airport</td>\n",
       "      <td>Belgorod</td>\n",
       "      <td>36.590099</td>\n",
       "      <td>50.643799</td>\n",
       "      <td>Europe/Moscow</td>\n",
       "      <td>1700</td>\n",
       "    </tr>\n",
       "    <tr>\n",
       "      <th>5962</th>\n",
       "      <td>136275</td>\n",
       "      <td>PG0252</td>\n",
       "      <td>AAQ</td>\n",
       "      <td>SVO</td>\n",
       "      <td>Arrived</td>\n",
       "      <td>733</td>\n",
       "      <td>2017-01-13 10:08:00</td>\n",
       "      <td>2017-01-13 11:46:00</td>\n",
       "      <td>5435171443</td>\n",
       "      <td>136275</td>\n",
       "      <td>...</td>\n",
       "      <td>13400.0</td>\n",
       "      <td>1.633333</td>\n",
       "      <td>Boeing 737-300</td>\n",
       "      <td>4200</td>\n",
       "      <td>Sheremetyevo International Airport</td>\n",
       "      <td>Moscow</td>\n",
       "      <td>37.414600</td>\n",
       "      <td>55.972599</td>\n",
       "      <td>Europe/Moscow</td>\n",
       "      <td>2400</td>\n",
       "    </tr>\n",
       "    <tr>\n",
       "      <th>677</th>\n",
       "      <td>136669</td>\n",
       "      <td>PG0480</td>\n",
       "      <td>AAQ</td>\n",
       "      <td>EGO</td>\n",
       "      <td>Arrived</td>\n",
       "      <td>SU9</td>\n",
       "      <td>2017-01-17 09:26:00</td>\n",
       "      <td>2017-01-17 10:17:00</td>\n",
       "      <td>5432375065</td>\n",
       "      <td>136669</td>\n",
       "      <td>...</td>\n",
       "      <td>6300.0</td>\n",
       "      <td>0.850000</td>\n",
       "      <td>Sukhoi Superjet-100</td>\n",
       "      <td>3000</td>\n",
       "      <td>Belgorod International Airport</td>\n",
       "      <td>Belgorod</td>\n",
       "      <td>36.590099</td>\n",
       "      <td>50.643799</td>\n",
       "      <td>Europe/Moscow</td>\n",
       "      <td>1700</td>\n",
       "    </tr>\n",
       "    <tr>\n",
       "      <th>1095</th>\n",
       "      <td>136660</td>\n",
       "      <td>PG0480</td>\n",
       "      <td>AAQ</td>\n",
       "      <td>EGO</td>\n",
       "      <td>Arrived</td>\n",
       "      <td>SU9</td>\n",
       "      <td>2017-02-20 09:26:00</td>\n",
       "      <td>2017-02-20 10:15:00</td>\n",
       "      <td>5432320556</td>\n",
       "      <td>136660</td>\n",
       "      <td>...</td>\n",
       "      <td>6300.0</td>\n",
       "      <td>0.816667</td>\n",
       "      <td>Sukhoi Superjet-100</td>\n",
       "      <td>3000</td>\n",
       "      <td>Belgorod International Airport</td>\n",
       "      <td>Belgorod</td>\n",
       "      <td>36.590099</td>\n",
       "      <td>50.643799</td>\n",
       "      <td>Europe/Moscow</td>\n",
       "      <td>1700</td>\n",
       "    </tr>\n",
       "    <tr>\n",
       "      <th>7962</th>\n",
       "      <td>136284</td>\n",
       "      <td>PG0252</td>\n",
       "      <td>AAQ</td>\n",
       "      <td>SVO</td>\n",
       "      <td>Arrived</td>\n",
       "      <td>733</td>\n",
       "      <td>2017-02-07 10:07:00</td>\n",
       "      <td>2017-02-07 11:48:00</td>\n",
       "      <td>5435172130</td>\n",
       "      <td>136284</td>\n",
       "      <td>...</td>\n",
       "      <td>12200.0</td>\n",
       "      <td>1.683333</td>\n",
       "      <td>Boeing 737-300</td>\n",
       "      <td>4200</td>\n",
       "      <td>Sheremetyevo International Airport</td>\n",
       "      <td>Moscow</td>\n",
       "      <td>37.414600</td>\n",
       "      <td>55.972599</td>\n",
       "      <td>Europe/Moscow</td>\n",
       "      <td>2400</td>\n",
       "    </tr>\n",
       "  </tbody>\n",
       "</table>\n",
       "<p>5 rows × 21 columns</p>\n",
       "</div>"
      ],
      "text/plain": [
       "      flight_id flight_no departure_airport airport_code   status  \\\n",
       "1464     136729    PG0480               AAQ          EGO  Arrived   \n",
       "5962     136275    PG0252               AAQ          SVO  Arrived   \n",
       "677      136669    PG0480               AAQ          EGO  Arrived   \n",
       "1095     136660    PG0480               AAQ          EGO  Arrived   \n",
       "7962     136284    PG0252               AAQ          SVO  Arrived   \n",
       "\n",
       "     aircraft_code    actual_departure      actual_arrival   ticket_no  \\\n",
       "1464           SU9 2017-01-29 09:29:00 2017-01-29 10:19:00  5432375480   \n",
       "5962           733 2017-01-13 10:08:00 2017-01-13 11:46:00  5435171443   \n",
       "677            SU9 2017-01-17 09:26:00 2017-01-17 10:17:00  5432375065   \n",
       "1095           SU9 2017-02-20 09:26:00 2017-02-20 10:15:00  5432320556   \n",
       "7962           733 2017-02-07 10:07:00 2017-02-07 11:48:00  5435172130   \n",
       "\n",
       "      flight_id_2  ...   amount  flight_hours                model range  \\\n",
       "1464       136729  ...   6300.0      0.833333  Sukhoi Superjet-100  3000   \n",
       "5962       136275  ...  13400.0      1.633333       Boeing 737-300  4200   \n",
       "677        136669  ...   6300.0      0.850000  Sukhoi Superjet-100  3000   \n",
       "1095       136660  ...   6300.0      0.816667  Sukhoi Superjet-100  3000   \n",
       "7962       136284  ...  12200.0      1.683333       Boeing 737-300  4200   \n",
       "\n",
       "                            airport_name      city  longitude   latitude  \\\n",
       "1464      Belgorod International Airport  Belgorod  36.590099  50.643799   \n",
       "5962  Sheremetyevo International Airport    Moscow  37.414600  55.972599   \n",
       "677       Belgorod International Airport  Belgorod  36.590099  50.643799   \n",
       "1095      Belgorod International Airport  Belgorod  36.590099  50.643799   \n",
       "7962  Sheremetyevo International Airport    Moscow  37.414600  55.972599   \n",
       "\n",
       "           timezone consumption  \n",
       "1464  Europe/Moscow        1700  \n",
       "5962  Europe/Moscow        2400  \n",
       "677   Europe/Moscow        1700  \n",
       "1095  Europe/Moscow        1700  \n",
       "7962  Europe/Moscow        2400  \n",
       "\n",
       "[5 rows x 21 columns]"
      ]
     },
     "execution_count": 177,
     "metadata": {},
     "output_type": "execute_result"
    }
   ],
   "source": [
    "DF = flights.merge(aircrafts, on='aircraft_code', how='left') \\\n",
    "            .merge(airports,  on='airport_code',  how='left') \\\n",
    "            .merge(Fuel,      on='aircraft_code', how='left')\n",
    "DF.sample(5)         "
   ]
  },
  {
   "cell_type": "markdown",
   "id": "e3b4921b",
   "metadata": {},
   "source": [
    "##### Вычисление стоимости горючего за рейс и прибыли"
   ]
  },
  {
   "cell_type": "code",
   "execution_count": 178,
   "id": "c8be099d",
   "metadata": {},
   "outputs": [
    {
     "data": {
      "text/html": [
       "<div>\n",
       "<style scoped>\n",
       "    .dataframe tbody tr th:only-of-type {\n",
       "        vertical-align: middle;\n",
       "    }\n",
       "\n",
       "    .dataframe tbody tr th {\n",
       "        vertical-align: top;\n",
       "    }\n",
       "\n",
       "    .dataframe thead th {\n",
       "        text-align: right;\n",
       "    }\n",
       "</style>\n",
       "<table border=\"1\" class=\"dataframe\">\n",
       "  <thead>\n",
       "    <tr style=\"text-align: right;\">\n",
       "      <th></th>\n",
       "      <th>flight_id</th>\n",
       "      <th>aircraft_code</th>\n",
       "      <th>city</th>\n",
       "      <th>flight_hours</th>\n",
       "      <th>consumption</th>\n",
       "      <th>amount</th>\n",
       "      <th>cost</th>\n",
       "      <th>profit</th>\n",
       "    </tr>\n",
       "  </thead>\n",
       "  <tbody>\n",
       "    <tr>\n",
       "      <th>0</th>\n",
       "      <td>136936</td>\n",
       "      <td>SU9</td>\n",
       "      <td>Belgorod</td>\n",
       "      <td>0.833333</td>\n",
       "      <td>1700</td>\n",
       "      <td>632400.0</td>\n",
       "      <td>86133.333333</td>\n",
       "      <td>5.462667e+05</td>\n",
       "    </tr>\n",
       "    <tr>\n",
       "      <th>1</th>\n",
       "      <td>136632</td>\n",
       "      <td>SU9</td>\n",
       "      <td>Belgorod</td>\n",
       "      <td>0.850000</td>\n",
       "      <td>1700</td>\n",
       "      <td>714300.0</td>\n",
       "      <td>87856.000000</td>\n",
       "      <td>6.264440e+05</td>\n",
       "    </tr>\n",
       "    <tr>\n",
       "      <th>2</th>\n",
       "      <td>136855</td>\n",
       "      <td>SU9</td>\n",
       "      <td>Belgorod</td>\n",
       "      <td>0.833333</td>\n",
       "      <td>1700</td>\n",
       "      <td>702300.0</td>\n",
       "      <td>86133.333333</td>\n",
       "      <td>6.161667e+05</td>\n",
       "    </tr>\n",
       "    <tr>\n",
       "      <th>3</th>\n",
       "      <td>136706</td>\n",
       "      <td>SU9</td>\n",
       "      <td>Belgorod</td>\n",
       "      <td>0.833333</td>\n",
       "      <td>1700</td>\n",
       "      <td>740100.0</td>\n",
       "      <td>86133.333333</td>\n",
       "      <td>6.539667e+05</td>\n",
       "    </tr>\n",
       "    <tr>\n",
       "      <th>4</th>\n",
       "      <td>136571</td>\n",
       "      <td>SU9</td>\n",
       "      <td>Belgorod</td>\n",
       "      <td>0.833333</td>\n",
       "      <td>1700</td>\n",
       "      <td>752700.0</td>\n",
       "      <td>86133.333333</td>\n",
       "      <td>6.665667e+05</td>\n",
       "    </tr>\n",
       "    <tr>\n",
       "      <th>...</th>\n",
       "      <td>...</td>\n",
       "      <td>...</td>\n",
       "      <td>...</td>\n",
       "      <td>...</td>\n",
       "      <td>...</td>\n",
       "      <td>...</td>\n",
       "      <td>...</td>\n",
       "      <td>...</td>\n",
       "    </tr>\n",
       "    <tr>\n",
       "      <th>113</th>\n",
       "      <td>136185</td>\n",
       "      <td>733</td>\n",
       "      <td>Moscow</td>\n",
       "      <td>1.716667</td>\n",
       "      <td>2400</td>\n",
       "      <td>1520000.0</td>\n",
       "      <td>177434.666667</td>\n",
       "      <td>1.342565e+06</td>\n",
       "    </tr>\n",
       "    <tr>\n",
       "      <th>114</th>\n",
       "      <td>136351</td>\n",
       "      <td>733</td>\n",
       "      <td>Moscow</td>\n",
       "      <td>1.666667</td>\n",
       "      <td>2400</td>\n",
       "      <td>1555400.0</td>\n",
       "      <td>172266.666667</td>\n",
       "      <td>1.383133e+06</td>\n",
       "    </tr>\n",
       "    <tr>\n",
       "      <th>115</th>\n",
       "      <td>136204</td>\n",
       "      <td>733</td>\n",
       "      <td>Moscow</td>\n",
       "      <td>1.666667</td>\n",
       "      <td>2400</td>\n",
       "      <td>1457800.0</td>\n",
       "      <td>172266.666667</td>\n",
       "      <td>1.285533e+06</td>\n",
       "    </tr>\n",
       "    <tr>\n",
       "      <th>116</th>\n",
       "      <td>136428</td>\n",
       "      <td>733</td>\n",
       "      <td>Moscow</td>\n",
       "      <td>1.650000</td>\n",
       "      <td>2400</td>\n",
       "      <td>1678600.0</td>\n",
       "      <td>170544.000000</td>\n",
       "      <td>1.508056e+06</td>\n",
       "    </tr>\n",
       "    <tr>\n",
       "      <th>117</th>\n",
       "      <td>136452</td>\n",
       "      <td>733</td>\n",
       "      <td>Moscow</td>\n",
       "      <td>1.666667</td>\n",
       "      <td>2400</td>\n",
       "      <td>1603000.0</td>\n",
       "      <td>172266.666667</td>\n",
       "      <td>1.430733e+06</td>\n",
       "    </tr>\n",
       "  </tbody>\n",
       "</table>\n",
       "<p>118 rows × 8 columns</p>\n",
       "</div>"
      ],
      "text/plain": [
       "     flight_id aircraft_code      city  flight_hours  consumption     amount  \\\n",
       "0       136936           SU9  Belgorod      0.833333         1700   632400.0   \n",
       "1       136632           SU9  Belgorod      0.850000         1700   714300.0   \n",
       "2       136855           SU9  Belgorod      0.833333         1700   702300.0   \n",
       "3       136706           SU9  Belgorod      0.833333         1700   740100.0   \n",
       "4       136571           SU9  Belgorod      0.833333         1700   752700.0   \n",
       "..         ...           ...       ...           ...          ...        ...   \n",
       "113     136185           733    Moscow      1.716667         2400  1520000.0   \n",
       "114     136351           733    Moscow      1.666667         2400  1555400.0   \n",
       "115     136204           733    Moscow      1.666667         2400  1457800.0   \n",
       "116     136428           733    Moscow      1.650000         2400  1678600.0   \n",
       "117     136452           733    Moscow      1.666667         2400  1603000.0   \n",
       "\n",
       "              cost        profit  \n",
       "0     86133.333333  5.462667e+05  \n",
       "1     87856.000000  6.264440e+05  \n",
       "2     86133.333333  6.161667e+05  \n",
       "3     86133.333333  6.539667e+05  \n",
       "4     86133.333333  6.665667e+05  \n",
       "..             ...           ...  \n",
       "113  177434.666667  1.342565e+06  \n",
       "114  172266.666667  1.383133e+06  \n",
       "115  172266.666667  1.285533e+06  \n",
       "116  170544.000000  1.508056e+06  \n",
       "117  172266.666667  1.430733e+06  \n",
       "\n",
       "[118 rows x 8 columns]"
      ]
     },
     "execution_count": 178,
     "metadata": {},
     "output_type": "execute_result"
    }
   ],
   "source": [
    "# сделаем отдельный датасет, содержащий id рейса и суммарную стоимость билетов\n",
    "revenue = pd.DataFrame(DF.groupby(DF.flight_id).amount.sum())\n",
    "\n",
    "# и сделаем отдельный датасет, содержащий всю инф-ю для вычисления затрат на топливо на рейс:\n",
    "expense = DF[['flight_id','aircraft_code','city','flight_hours','consumption']].drop_duplicates()\n",
    "\n",
    "# соединим датасеты по flight_id\n",
    "DFF = expense.merge(revenue, on='flight_id', how='left')\n",
    "\n",
    "# вычислим затраты на топливо на рейс\n",
    "DFF['cost'] = DFF.flight_hours * DF.consumption * Fuel_cost / 1000\n",
    "\n",
    "# вычислим прибыль как разницу стоимости билетов и затрат на топливо\n",
    "DFF['profit'] = DFF.amount - DFF.cost\n",
    "DFF"
   ]
  },
  {
   "cell_type": "code",
   "execution_count": 179,
   "id": "56dacfd5",
   "metadata": {},
   "outputs": [
    {
     "data": {
      "text/plain": [
       "array([<AxesSubplot:title={'center':'Общая сумма билетов'}, xlabel='city'>,\n",
       "       <AxesSubplot:title={'center':'Кол-во билетов'}, xlabel='city'>],\n",
       "      dtype=object)"
      ]
     },
     "execution_count": 179,
     "metadata": {},
     "output_type": "execute_result"
    },
    {
     "data": {
      "image/png": "[encoded data removed]",
      "text/plain": [
       "<Figure size 576x288 with 2 Axes>"
      ]
     },
     "metadata": {
      "needs_background": "light"
     },
     "output_type": "display_data"
    }
   ],
   "source": [
    "DF.groupby(DF.city).agg({'amount':'sum','ticket_no':'count'}).plot(kind='bar',\n",
    "                                                                   subplots=True,\n",
    "                                                                title=['Общая сумма билетов','Кол-во билетов']\n",
    "                                                                  )\n"
   ]
  },
  {
   "cell_type": "code",
   "execution_count": 180,
   "id": "50845966",
   "metadata": {},
   "outputs": [
    {
     "data": {
      "text/plain": [
       "<AxesSubplot:title={'center':'Усредненные затраты на рейс по направлениям'}, xlabel='city'>"
      ]
     },
     "execution_count": 180,
     "metadata": {},
     "output_type": "execute_result"
    },
    {
     "data": {
      "image/png": "[encoded data removed]",
      "text/plain": [
       "<Figure size 576x288 with 1 Axes>"
      ]
     },
     "metadata": {
      "needs_background": "light"
     },
     "output_type": "display_data"
    }
   ],
   "source": [
    "DFF.groupby(DFF.city).cost.mean().plot(kind='bar', title='Усредненные затраты на рейс по направлениям')"
   ]
  },
  {
   "cell_type": "code",
   "execution_count": 182,
   "id": "7bc7c0e9",
   "metadata": {},
   "outputs": [
    {
     "data": {
      "text/plain": [
       "<AxesSubplot:title={'center':'Усредненная выручка на рейс по направлениям'}, xlabel='city'>"
      ]
     },
     "execution_count": 182,
     "metadata": {},
     "output_type": "execute_result"
    },
    {
     "data": {
      "image/png": "[encoded data removed]",
      "text/plain": [
       "<Figure size 576x288 with 1 Axes>"
      ]
     },
     "metadata": {
      "needs_background": "light"
     },
     "output_type": "display_data"
    }
   ],
   "source": [
    "DFF.groupby(DFF.city).amount.mean().plot(kind='bar', title='Усредненная выручка на рейс по направлениям')"
   ]
  },
  {
   "cell_type": "code",
   "execution_count": 183,
   "id": "fc6706db",
   "metadata": {},
   "outputs": [
    {
     "data": {
      "text/plain": [
       "<AxesSubplot:title={'center':'Усредненная прибыль на рейс по направлениям'}, xlabel='city'>"
      ]
     },
     "execution_count": 183,
     "metadata": {},
     "output_type": "execute_result"
    },
    {
     "data": {
      "image/png": "[encoded data removed]",
      "text/plain": [
       "<Figure size 576x288 with 1 Axes>"
      ]
     },
     "metadata": {
      "needs_background": "light"
     },
     "output_type": "display_data"
    }
   ],
   "source": [
    "DFF.groupby(DFF.city).profit.mean().plot(kind='bar', title='Усредненная прибыль на рейс по направлениям')"
   ]
  },
  {
   "cell_type": "code",
   "execution_count": 189,
   "id": "8dbe827d",
   "metadata": {},
   "outputs": [
    {
     "data": {
      "text/plain": [
       "array([<AxesSubplot:title={'center':'Усредненная прибыль на рейс по направлениям'}, xlabel='city'>,\n",
       "       <AxesSubplot:title={'center':'Усредненная выручка на рейс по направлениям'}, xlabel='city'>,\n",
       "       <AxesSubplot:title={'center':'Усредненные затраты на рейс по направлениям'}, xlabel='city'>],\n",
       "      dtype=object)"
      ]
     },
     "execution_count": 189,
     "metadata": {},
     "output_type": "execute_result"
    },
    {
     "data": {
      "image/png": "[encoded data removed]",
      "text/plain": [
       "<Figure size 864x576 with 3 Axes>"
      ]
     },
     "metadata": {
      "needs_background": "light"
     },
     "output_type": "display_data"
    }
   ],
   "source": [
    "DFF.groupby(DFF.city).agg({'profit':'mean','amount':'mean','cost':'mean'}).plot(kind='bar',\n",
    "                                                                   subplots=True,\n",
    "                                                                title=['Усредненная прибыль на рейс по направлениям',\n",
    "                                                                       'Усредненная выручка на рейс по направлениям',\n",
    "                                                                       'Усредненные затраты на рейс по направлениям']\n",
    "                                                                  )"
   ]
  },
  {
   "cell_type": "code",
   "execution_count": 163,
   "id": "d0259d2e",
   "metadata": {},
   "outputs": [
    {
     "data": {
      "text/html": [
       "<div>\n",
       "<style scoped>\n",
       "    .dataframe tbody tr th:only-of-type {\n",
       "        vertical-align: middle;\n",
       "    }\n",
       "\n",
       "    .dataframe tbody tr th {\n",
       "        vertical-align: top;\n",
       "    }\n",
       "\n",
       "    .dataframe thead th {\n",
       "        text-align: right;\n",
       "    }\n",
       "</style>\n",
       "<table border=\"1\" class=\"dataframe\">\n",
       "  <thead>\n",
       "    <tr style=\"text-align: right;\">\n",
       "      <th></th>\n",
       "      <th>flight_id</th>\n",
       "      <th>aircraft_code</th>\n",
       "      <th>city</th>\n",
       "      <th>flight_hours</th>\n",
       "      <th>consumption</th>\n",
       "      <th>amount</th>\n",
       "      <th>cost</th>\n",
       "      <th>profit</th>\n",
       "    </tr>\n",
       "  </thead>\n",
       "  <tbody>\n",
       "    <tr>\n",
       "      <th>0</th>\n",
       "      <td>136936</td>\n",
       "      <td>SU9</td>\n",
       "      <td>Belgorod</td>\n",
       "      <td>0.833333</td>\n",
       "      <td>1700</td>\n",
       "      <td>632400.0</td>\n",
       "      <td>86133.333333</td>\n",
       "      <td>5.462667e+05</td>\n",
       "    </tr>\n",
       "    <tr>\n",
       "      <th>1</th>\n",
       "      <td>136632</td>\n",
       "      <td>SU9</td>\n",
       "      <td>Belgorod</td>\n",
       "      <td>0.850000</td>\n",
       "      <td>1700</td>\n",
       "      <td>714300.0</td>\n",
       "      <td>87856.000000</td>\n",
       "      <td>6.264440e+05</td>\n",
       "    </tr>\n",
       "    <tr>\n",
       "      <th>2</th>\n",
       "      <td>136855</td>\n",
       "      <td>SU9</td>\n",
       "      <td>Belgorod</td>\n",
       "      <td>0.833333</td>\n",
       "      <td>1700</td>\n",
       "      <td>702300.0</td>\n",
       "      <td>86133.333333</td>\n",
       "      <td>6.161667e+05</td>\n",
       "    </tr>\n",
       "    <tr>\n",
       "      <th>3</th>\n",
       "      <td>136706</td>\n",
       "      <td>SU9</td>\n",
       "      <td>Belgorod</td>\n",
       "      <td>0.833333</td>\n",
       "      <td>1700</td>\n",
       "      <td>740100.0</td>\n",
       "      <td>86133.333333</td>\n",
       "      <td>6.539667e+05</td>\n",
       "    </tr>\n",
       "    <tr>\n",
       "      <th>4</th>\n",
       "      <td>136571</td>\n",
       "      <td>SU9</td>\n",
       "      <td>Belgorod</td>\n",
       "      <td>0.833333</td>\n",
       "      <td>1700</td>\n",
       "      <td>752700.0</td>\n",
       "      <td>86133.333333</td>\n",
       "      <td>6.665667e+05</td>\n",
       "    </tr>\n",
       "    <tr>\n",
       "      <th>...</th>\n",
       "      <td>...</td>\n",
       "      <td>...</td>\n",
       "      <td>...</td>\n",
       "      <td>...</td>\n",
       "      <td>...</td>\n",
       "      <td>...</td>\n",
       "      <td>...</td>\n",
       "      <td>...</td>\n",
       "    </tr>\n",
       "    <tr>\n",
       "      <th>113</th>\n",
       "      <td>136185</td>\n",
       "      <td>733</td>\n",
       "      <td>Moscow</td>\n",
       "      <td>1.716667</td>\n",
       "      <td>2400</td>\n",
       "      <td>1520000.0</td>\n",
       "      <td>177434.666667</td>\n",
       "      <td>1.342565e+06</td>\n",
       "    </tr>\n",
       "    <tr>\n",
       "      <th>114</th>\n",
       "      <td>136351</td>\n",
       "      <td>733</td>\n",
       "      <td>Moscow</td>\n",
       "      <td>1.666667</td>\n",
       "      <td>2400</td>\n",
       "      <td>1555400.0</td>\n",
       "      <td>172266.666667</td>\n",
       "      <td>1.383133e+06</td>\n",
       "    </tr>\n",
       "    <tr>\n",
       "      <th>115</th>\n",
       "      <td>136204</td>\n",
       "      <td>733</td>\n",
       "      <td>Moscow</td>\n",
       "      <td>1.666667</td>\n",
       "      <td>2400</td>\n",
       "      <td>1457800.0</td>\n",
       "      <td>172266.666667</td>\n",
       "      <td>1.285533e+06</td>\n",
       "    </tr>\n",
       "    <tr>\n",
       "      <th>116</th>\n",
       "      <td>136428</td>\n",
       "      <td>733</td>\n",
       "      <td>Moscow</td>\n",
       "      <td>1.650000</td>\n",
       "      <td>2400</td>\n",
       "      <td>1678600.0</td>\n",
       "      <td>170544.000000</td>\n",
       "      <td>1.508056e+06</td>\n",
       "    </tr>\n",
       "    <tr>\n",
       "      <th>117</th>\n",
       "      <td>136452</td>\n",
       "      <td>733</td>\n",
       "      <td>Moscow</td>\n",
       "      <td>1.666667</td>\n",
       "      <td>2400</td>\n",
       "      <td>1603000.0</td>\n",
       "      <td>172266.666667</td>\n",
       "      <td>1.430733e+06</td>\n",
       "    </tr>\n",
       "  </tbody>\n",
       "</table>\n",
       "<p>118 rows × 8 columns</p>\n",
       "</div>"
      ],
      "text/plain": [
       "     flight_id aircraft_code      city  flight_hours  consumption     amount  \\\n",
       "0       136936           SU9  Belgorod      0.833333         1700   632400.0   \n",
       "1       136632           SU9  Belgorod      0.850000         1700   714300.0   \n",
       "2       136855           SU9  Belgorod      0.833333         1700   702300.0   \n",
       "3       136706           SU9  Belgorod      0.833333         1700   740100.0   \n",
       "4       136571           SU9  Belgorod      0.833333         1700   752700.0   \n",
       "..         ...           ...       ...           ...          ...        ...   \n",
       "113     136185           733    Moscow      1.716667         2400  1520000.0   \n",
       "114     136351           733    Moscow      1.666667         2400  1555400.0   \n",
       "115     136204           733    Moscow      1.666667         2400  1457800.0   \n",
       "116     136428           733    Moscow      1.650000         2400  1678600.0   \n",
       "117     136452           733    Moscow      1.666667         2400  1603000.0   \n",
       "\n",
       "              cost        profit  \n",
       "0     86133.333333  5.462667e+05  \n",
       "1     87856.000000  6.264440e+05  \n",
       "2     86133.333333  6.161667e+05  \n",
       "3     86133.333333  6.539667e+05  \n",
       "4     86133.333333  6.665667e+05  \n",
       "..             ...           ...  \n",
       "113  177434.666667  1.342565e+06  \n",
       "114  172266.666667  1.383133e+06  \n",
       "115  172266.666667  1.285533e+06  \n",
       "116  170544.000000  1.508056e+06  \n",
       "117  172266.666667  1.430733e+06  \n",
       "\n",
       "[118 rows x 8 columns]"
      ]
     },
     "execution_count": 163,
     "metadata": {},
     "output_type": "execute_result"
    }
   ],
   "source": [
    "DFF"
   ]
  },
  {
   "cell_type": "markdown",
   "id": "a89ba221",
   "metadata": {},
   "source": [
    "##### Мы оценили среднюю прибыль по обоим направлениям, теперь, для полноты картины, следует оценить максимально возможную выручку по каждому рейсу. \n",
    "\n",
    "##### т.к. в нашей модели расход принят за константу и зависит только от времени полета и расхода топлива, то для оценки картины нам достаточно увидеть соотношение выручки между разными рейсами"
   ]
  },
  {
   "cell_type": "code",
   "execution_count": 164,
   "id": "222cbaca",
   "metadata": {},
   "outputs": [],
   "source": [
    "# датасет max_cost в итоге должен содержать инф-ю о максимально возможной выручке с рейса \n",
    "# макс выручка достигается при продаже всех имеющихся билетов\n",
    "\n",
    "max_cost = tickets_cost.merge(max_tickets_count, on=['aircraft_code','fare_conditions'], how='left')\n",
    "max_cost = pd.DataFrame(max_cost.groupby(['aircraft_code','fare_conditions','city']).\n",
    "              agg({'amount':'mean','count':'unique'}).\n",
    "              reset_index())\n",
    "max_cost['count'] = max_cost['count'].astype(int)\n",
    "max_cost['max_amount'] = max_cost['count'] * max_cost['amount']\n",
    "max_cost = pd.DataFrame(max_cost.groupby(['aircraft_code','city']).max_amount.sum())"
   ]
  },
  {
   "cell_type": "code",
   "execution_count": 165,
   "id": "bf2d4702",
   "metadata": {},
   "outputs": [
    {
     "data": {
      "text/html": [
       "<div>\n",
       "<style scoped>\n",
       "    .dataframe tbody tr th:only-of-type {\n",
       "        vertical-align: middle;\n",
       "    }\n",
       "\n",
       "    .dataframe tbody tr th {\n",
       "        vertical-align: top;\n",
       "    }\n",
       "\n",
       "    .dataframe thead th {\n",
       "        text-align: right;\n",
       "    }\n",
       "</style>\n",
       "<table border=\"1\" class=\"dataframe\">\n",
       "  <thead>\n",
       "    <tr style=\"text-align: right;\">\n",
       "      <th></th>\n",
       "      <th></th>\n",
       "      <th>max_amount</th>\n",
       "    </tr>\n",
       "    <tr>\n",
       "      <th>aircraft_code</th>\n",
       "      <th>city</th>\n",
       "      <th></th>\n",
       "    </tr>\n",
       "  </thead>\n",
       "  <tbody>\n",
       "    <tr>\n",
       "      <th>733</th>\n",
       "      <th>Moscow</th>\n",
       "      <td>1949600.0</td>\n",
       "    </tr>\n",
       "    <tr>\n",
       "      <th>SU9</th>\n",
       "      <th>Belgorod</th>\n",
       "      <td>787800.0</td>\n",
       "    </tr>\n",
       "  </tbody>\n",
       "</table>\n",
       "</div>"
      ],
      "text/plain": [
       "                        max_amount\n",
       "aircraft_code city                \n",
       "733           Moscow     1949600.0\n",
       "SU9           Belgorod    787800.0"
      ]
     },
     "execution_count": 165,
     "metadata": {},
     "output_type": "execute_result"
    }
   ],
   "source": [
    "max_cost"
   ]
  },
  {
   "cell_type": "code",
   "execution_count": 166,
   "id": "537c04bf",
   "metadata": {},
   "outputs": [
    {
     "data": {
      "text/html": [
       "<div>\n",
       "<style scoped>\n",
       "    .dataframe tbody tr th:only-of-type {\n",
       "        vertical-align: middle;\n",
       "    }\n",
       "\n",
       "    .dataframe tbody tr th {\n",
       "        vertical-align: top;\n",
       "    }\n",
       "\n",
       "    .dataframe thead th {\n",
       "        text-align: right;\n",
       "    }\n",
       "</style>\n",
       "<table border=\"1\" class=\"dataframe\">\n",
       "  <thead>\n",
       "    <tr style=\"text-align: right;\">\n",
       "      <th></th>\n",
       "      <th></th>\n",
       "      <th>amount</th>\n",
       "    </tr>\n",
       "    <tr>\n",
       "      <th>aircraft_code</th>\n",
       "      <th>city</th>\n",
       "      <th></th>\n",
       "    </tr>\n",
       "  </thead>\n",
       "  <tbody>\n",
       "    <tr>\n",
       "      <th>733</th>\n",
       "      <th>Moscow</th>\n",
       "      <td>1.642576e+06</td>\n",
       "    </tr>\n",
       "    <tr>\n",
       "      <th>SU9</th>\n",
       "      <th>Belgorod</th>\n",
       "      <td>7.104356e+05</td>\n",
       "    </tr>\n",
       "  </tbody>\n",
       "</table>\n",
       "</div>"
      ],
      "text/plain": [
       "                              amount\n",
       "aircraft_code city                  \n",
       "733           Moscow    1.642576e+06\n",
       "SU9           Belgorod  7.104356e+05"
      ]
     },
     "execution_count": 166,
     "metadata": {},
     "output_type": "execute_result"
    }
   ],
   "source": [
    "# датасет actual_cost содержит инф-ю о реальной средней вуручке с рейса по направлению\n",
    "\n",
    "actual_cost =  pd.DataFrame(DFF.groupby(['aircraft_code','city']).amount.mean())\n",
    "actual_cost"
   ]
  },
  {
   "cell_type": "code",
   "execution_count": 167,
   "id": "69df82ff",
   "metadata": {},
   "outputs": [
    {
     "data": {
      "text/html": [
       "<div>\n",
       "<style scoped>\n",
       "    .dataframe tbody tr th:only-of-type {\n",
       "        vertical-align: middle;\n",
       "    }\n",
       "\n",
       "    .dataframe tbody tr th {\n",
       "        vertical-align: top;\n",
       "    }\n",
       "\n",
       "    .dataframe thead th {\n",
       "        text-align: right;\n",
       "    }\n",
       "</style>\n",
       "<table border=\"1\" class=\"dataframe\">\n",
       "  <thead>\n",
       "    <tr style=\"text-align: right;\">\n",
       "      <th></th>\n",
       "      <th></th>\n",
       "      <th>amount</th>\n",
       "      <th>max_amount</th>\n",
       "      <th>percent</th>\n",
       "    </tr>\n",
       "    <tr>\n",
       "      <th>aircraft_code</th>\n",
       "      <th>city</th>\n",
       "      <th></th>\n",
       "      <th></th>\n",
       "      <th></th>\n",
       "    </tr>\n",
       "  </thead>\n",
       "  <tbody>\n",
       "    <tr>\n",
       "      <th>733</th>\n",
       "      <th>Moscow</th>\n",
       "      <td>1.642576e+06</td>\n",
       "      <td>1949600.0</td>\n",
       "      <td>15.75</td>\n",
       "    </tr>\n",
       "    <tr>\n",
       "      <th>SU9</th>\n",
       "      <th>Belgorod</th>\n",
       "      <td>7.104356e+05</td>\n",
       "      <td>787800.0</td>\n",
       "      <td>9.82</td>\n",
       "    </tr>\n",
       "  </tbody>\n",
       "</table>\n",
       "</div>"
      ],
      "text/plain": [
       "                              amount  max_amount  percent\n",
       "aircraft_code city                                       \n",
       "733           Moscow    1.642576e+06   1949600.0    15.75\n",
       "SU9           Belgorod  7.104356e+05    787800.0     9.82"
      ]
     },
     "execution_count": 167,
     "metadata": {},
     "output_type": "execute_result"
    }
   ],
   "source": [
    "summary = pd.DataFrame(actual_cost.merge(max_cost, on=['aircraft_code','city'], how='left'))\n",
    "percent = summary.apply(lambda row : round((row.max_amount-row.amount)*100/row.max_amount,2), axis = 1)\n",
    "summary['percent'] = percent\n",
    "summary\n"
   ]
  },
  {
   "cell_type": "code",
   "execution_count": 168,
   "id": "31854798",
   "metadata": {},
   "outputs": [
    {
     "data": {
      "text/plain": [
       "<AxesSubplot:title={'center':'Соотношение реальной (amount) и максимальной (max_amount) выручки рейсов в Москву и Белгород'}, xlabel='aircraft_code,city'>"
      ]
     },
     "execution_count": 168,
     "metadata": {},
     "output_type": "execute_result"
    },
    {
     "data": {
      "image/png": "[encoded data removed]",
      "text/plain": [
       "<Figure size 936x360 with 1 Axes>"
      ]
     },
     "metadata": {
      "needs_background": "light"
     },
     "output_type": "display_data"
    }
   ],
   "source": [
    "summary[['amount','max_amount']].plot(\n",
    "                kind='bar', \n",
    "                title='Соотношение реальной (amount) и максимальной (max_amount) выручки рейсов в Москву и Белгород',\n",
    "                )"
   ]
  },
  {
   "cell_type": "markdown",
   "id": "731c000c",
   "metadata": {},
   "source": [
    "##### Как видим, рейсы в Москву не только более чем в 2 раза прибыльней, но и запас по выручке по ним гораздо больше (16% против 10% т.е. при полной посадке на самолет возможна еще большая прибыль)"
   ]
  },
  {
   "cell_type": "code",
   "execution_count": null,
   "id": "446e97ba",
   "metadata": {},
   "outputs": [],
   "source": []
  }
 ],
 "metadata": {
  "kernelspec": {
   "display_name": "Python 3",
   "language": "python",
   "name": "python3"
  },
  "language_info": {
   "codemirror_mode": {
    "name": "ipython",
    "version": 3
   },
   "file_extension": ".py",
   "mimetype": "text/x-python",
   "name": "python",
   "nbconvert_exporter": "python",
   "pygments_lexer": "ipython3",
   "version": "3.8.8"
  }
 },
 "nbformat": 4,
 "nbformat_minor": 5
}
