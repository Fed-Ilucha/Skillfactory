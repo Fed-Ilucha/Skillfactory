{
 "cells": [
  {
   "cell_type": "markdown",
   "id": "c9abe1d1",
   "metadata": {},
   "source": [
    "#### 4.1\n",
    "###### База данных содержит список аэропортов практически всех крупных городов России. В большинстве городов есть только один аэропорт. Исключение составляет:"
   ]
  },
  {
   "cell_type": "code",
   "execution_count": null,
   "id": "faa7f3e5",
   "metadata": {},
   "outputs": [],
   "source": [
    "SELECT A.city,\n",
    "       count(airport_code) airports_count\n",
    "FROM dst_project.airports A\n",
    "GROUP BY A.city\n",
    "HAVING count(airport_code)>1"
   ]
  },
  {
   "cell_type": "markdown",
   "id": "1374b05b",
   "metadata": {},
   "source": [
    "##### Ответ: Moscow, Ulyanovsk"
   ]
  },
  {
   "cell_type": "markdown",
   "id": "fe1015ed",
   "metadata": {},
   "source": [
    "#### 4.2.1\n",
    "###### Таблица рейсов содержит всю информацию о прошлых, текущих и запланированных рейсах. Сколько всего статусов для рейсов определено в таблице?"
   ]
  },
  {
   "cell_type": "code",
   "execution_count": null,
   "id": "2994556f",
   "metadata": {},
   "outputs": [],
   "source": [
    "select count(distinct F.status)\n",
    "from \n",
    "    dst_project.flights F\n"
   ]
  },
  {
   "cell_type": "markdown",
   "id": "49d57a54",
   "metadata": {},
   "source": [
    "##### Ответ: 6"
   ]
  },
  {
   "cell_type": "markdown",
   "id": "28ee251b",
   "metadata": {},
   "source": [
    "#### 4.2.2\n",
    "###### Какое количество самолетов находятся в воздухе на момент среза в базе (статус рейса «самолёт уже вылетел и находится в воздухе»)"
   ]
  },
  {
   "cell_type": "code",
   "execution_count": null,
   "id": "e373eb54",
   "metadata": {},
   "outputs": [],
   "source": [
    "select count(F.flight_id)\n",
    "from \n",
    "    dst_project.flights F\n",
    "where F.status = 'Departed' "
   ]
  },
  {
   "cell_type": "markdown",
   "id": "e7086902",
   "metadata": {},
   "source": [
    "##### Ответ: 58"
   ]
  },
  {
   "cell_type": "markdown",
   "id": "5af16c91",
   "metadata": {},
   "source": [
    "#### 4.2.3\n",
    "###### Места определяют схему салона каждой модели. Сколько мест имеет самолет модели  (Boeing 777-300)?"
   ]
  },
  {
   "cell_type": "code",
   "execution_count": null,
   "id": "3b6ebd57",
   "metadata": {},
   "outputs": [],
   "source": [
    "select count(distinct(seat_no))\n",
    "from \n",
    "    dst_project.seats S\n",
    "where S.aircraft_code = '773'\n"
   ]
  },
  {
   "cell_type": "markdown",
   "id": "d34af730",
   "metadata": {},
   "source": [
    "##### Ответ: 402"
   ]
  },
  {
   "cell_type": "markdown",
   "id": "7f625ba6",
   "metadata": {},
   "source": [
    "#### 4.2.4\n",
    "###### Сколько состоявшихся (фактических) рейсов было совершено между 1 апреля 2017 года и 1 сентября 2017 года?"
   ]
  },
  {
   "cell_type": "code",
   "execution_count": null,
   "id": "69c147d1",
   "metadata": {},
   "outputs": [],
   "source": [
    "SELECT count(*)\n",
    "FROM dst_project.flights f\n",
    "WHERE f.actual_arrival BETWEEN '2017.04.01' AND '2017.09.01'\n",
    "  AND f.status = 'Arrived'"
   ]
  },
  {
   "cell_type": "markdown",
   "id": "dfda2fec",
   "metadata": {},
   "source": [
    "##### Ответ: 74227"
   ]
  },
  {
   "cell_type": "markdown",
   "id": "19de38ba",
   "metadata": {},
   "source": [
    "#### 4.3.1\n",
    "###### ССколько всего рейсов было отменено по данным базы?"
   ]
  },
  {
   "cell_type": "code",
   "execution_count": null,
   "id": "ff4eeef3",
   "metadata": {},
   "outputs": [],
   "source": [
    "SELECT count(*)\n",
    "FROM dst_project.flights F\n",
    "WHERE F.status = 'Cancelled'"
   ]
  },
  {
   "cell_type": "markdown",
   "id": "7e3e4514",
   "metadata": {},
   "source": [
    "##### Ответ: 437"
   ]
  },
  {
   "cell_type": "markdown",
   "id": "cced1785",
   "metadata": {},
   "source": [
    "#### 4.3.2\n",
    "###### Сколько самолетов моделей типа Boeing, Sukhoi Superjet, Airbus находится в базе авиаперевозок?"
   ]
  },
  {
   "cell_type": "code",
   "execution_count": null,
   "id": "08e1cc1d",
   "metadata": {},
   "outputs": [],
   "source": [
    "select 'AirBus', count(*)\n",
    "from \n",
    "    dst_project.aircrafts AC\n",
    "where\n",
    "    AC.model like 'Airbus%'\n",
    "union all\n",
    "    select 'Boeing', count(*)\n",
    "from \n",
    "    dst_project.aircrafts AC\n",
    "where\n",
    "    AC.model like 'Boeing%'\n",
    "Union all\n",
    "    select 'Sukhoi Superjet', count(*)\n",
    "from \n",
    "    dst_project.aircrafts AC\n",
    "where\n",
    "    AC.model like 'Sukhoi Superjet%'"
   ]
  },
  {
   "cell_type": "markdown",
   "id": "28a9f0cf",
   "metadata": {},
   "source": [
    "##### Ответ: Boeing:3; Sukhoi Superjet:1; Airbus: 3"
   ]
  },
  {
   "cell_type": "markdown",
   "id": "1e499e39",
   "metadata": {},
   "source": [
    "#### 4.3.3\n",
    "###### В какой части (частях) света находится больше аэропортов?"
   ]
  },
  {
   "cell_type": "code",
   "execution_count": null,
   "id": "d6f7033c",
   "metadata": {},
   "outputs": [],
   "source": [
    "SELECT AP.timezone,\n",
    "       count(*)\n",
    "FROM dst_project.airports AP\n",
    "GROUP BY AP.timezone\n",
    "ORDER BY 2 DESC\n",
    "limit 5"
   ]
  },
  {
   "cell_type": "markdown",
   "id": "ce8d2d37",
   "metadata": {},
   "source": [
    "##### Ответ: Europe/Asia"
   ]
  },
  {
   "cell_type": "markdown",
   "id": "b7feb1bd",
   "metadata": {},
   "source": [
    "#### 4.3.4\n",
    "###### У какого рейса была самая большая задержка прибытия за все время сбора данных? Введите id рейса (flight_id)."
   ]
  },
  {
   "cell_type": "code",
   "execution_count": null,
   "id": "998649a4",
   "metadata": {},
   "outputs": [],
   "source": [
    "select f.flight_id, (f.actual_arrival-f.scheduled_arrival) delay \n",
    "from \n",
    "    dst_project.flights f\n",
    "where f.actual_arrival is not null\n",
    "order by delay desc\n",
    "limit 1"
   ]
  },
  {
   "cell_type": "markdown",
   "id": "3a8355c5",
   "metadata": {},
   "source": [
    "##### Ответ: 157571"
   ]
  },
  {
   "cell_type": "markdown",
   "id": "b466e9b6",
   "metadata": {},
   "source": [
    "#### 4.4.1.\n",
    "###### Когда был запланирован самый первый вылет, сохраненный в базе данных?"
   ]
  },
  {
   "cell_type": "code",
   "execution_count": null,
   "id": "9f4bfcc7",
   "metadata": {},
   "outputs": [],
   "source": [
    "SELECT f.scheduled_departure d\n",
    "FROM dst_project.flights f\n",
    "ORDER BY d\n",
    "LIMIT 1"
   ]
  },
  {
   "cell_type": "markdown",
   "id": "3a96938f",
   "metadata": {},
   "source": [
    "##### Ответ: август 14, 2016, 11:45 вечера"
   ]
  },
  {
   "cell_type": "markdown",
   "id": "049f8bd4",
   "metadata": {},
   "source": [
    "#### 4.4.2.\n",
    "###### Сколько минут составляет запланированное время полета в самом длительном рейсе?"
   ]
  },
  {
   "cell_type": "code",
   "execution_count": null,
   "id": "bfcea1e0",
   "metadata": {},
   "outputs": [],
   "source": [
    "SELECT f.flight_id,\n",
    "       extract('epoch'\n",
    "               FROM (f.scheduled_arrival-f.scheduled_departure)::INTERVAL)/60 duration\n",
    "FROM dst_project.flights f\n",
    "ORDER BY duration DESC\n",
    "LIMIT 1"
   ]
  },
  {
   "cell_type": "markdown",
   "id": "822a8779",
   "metadata": {},
   "source": [
    "##### Ответ: 530"
   ]
  },
  {
   "cell_type": "markdown",
   "id": "b468347f",
   "metadata": {},
   "source": [
    "#### 4.4.3.\n",
    "###### Между какими аэропортами пролегает самый длительный по времени запланированный рейс?"
   ]
  },
  {
   "cell_type": "code",
   "execution_count": null,
   "id": "5505bc6d",
   "metadata": {},
   "outputs": [],
   "source": [
    "SELECT f.flight_id,\n",
    "       extract('epoch'\n",
    "               FROM (f.scheduled_arrival-f.scheduled_departure)::INTERVAL)/60 duration,\n",
    "       departure_airport,\n",
    "       arrival_airport\n",
    "FROM dst_project.flights f\n",
    "ORDER BY duration DESC\n",
    "LIMIT 1"
   ]
  },
  {
   "cell_type": "markdown",
   "id": "9ecf06f8",
   "metadata": {},
   "source": [
    "##### Ответ: DME - UUS"
   ]
  },
  {
   "cell_type": "markdown",
   "id": "a1b08ca8",
   "metadata": {},
   "source": [
    "#### 4.4.4.\n",
    "###### Сколько составляет средняя дальность полета среди всех самолетов в минутах? Секунды округляются в меньшую сторону (отбрасываются до минут)."
   ]
  },
  {
   "cell_type": "code",
   "execution_count": null,
   "id": "c57bd7aa",
   "metadata": {},
   "outputs": [],
   "source": [
    "SELECT DISTINCT avg(extract('epoch'\n",
    "                            FROM (f.actual_arrival-f.actual_departure)::INTERVAL)/60)::int duration\n",
    "FROM dst_project.flights f\n"
   ]
  },
  {
   "cell_type": "markdown",
   "id": "336591c1",
   "metadata": {},
   "source": [
    "##### Ответ: 128"
   ]
  },
  {
   "cell_type": "markdown",
   "id": "b4276ff2",
   "metadata": {},
   "source": []
  },
  {
   "cell_type": "markdown",
   "id": "e31707d7",
   "metadata": {},
   "source": [
    "#### 4.5.1.\n",
    "###### Мест какого класса у SU9 больше всего?"
   ]
  },
  {
   "cell_type": "code",
   "execution_count": null,
   "id": "a745b1fa",
   "metadata": {},
   "outputs": [],
   "source": [
    "SELECT S.fare_conditions,\n",
    "       count(*)\n",
    "FROM dst_project.aircrafts AC\n",
    "JOIN dst_project.seats S ON S.aircraft_code = AC.aircraft_code\n",
    "WHERE AC.model like 'Sukhoi%'\n",
    "GROUP BY s.fare_conditions\n",
    "ORDER BY 2 DESC\n",
    "LIMIT 1"
   ]
  },
  {
   "cell_type": "markdown",
   "id": "ade7c660",
   "metadata": {},
   "source": [
    "##### Ответ: Economy"
   ]
  },
  {
   "cell_type": "markdown",
   "id": "a1d608c6",
   "metadata": {},
   "source": [
    "#### 4.5.2.\n",
    "###### Какую самую минимальную стоимость составило бронирование за всю историю?"
   ]
  },
  {
   "cell_type": "code",
   "execution_count": null,
   "id": "d7a7c69e",
   "metadata": {},
   "outputs": [],
   "source": [
    "SELECT B.total_amount\n",
    "FROM dst_project.bookings B\n",
    "ORDER BY 1\n",
    "LIMIT 1"
   ]
  },
  {
   "cell_type": "markdown",
   "id": "88889d15",
   "metadata": {},
   "source": [
    "##### Ответ: 3400"
   ]
  },
  {
   "cell_type": "markdown",
   "id": "4d84faa7",
   "metadata": {},
   "source": [
    "#### 4.5.3.\n",
    "###### Какой номер места был у пассажира с id = 4313 788533?"
   ]
  },
  {
   "cell_type": "code",
   "execution_count": null,
   "id": "4ba97f80",
   "metadata": {},
   "outputs": [],
   "source": [
    "SELECT BP.seat_no\n",
    "FROM dst_project.tickets T\n",
    "JOIN dst_project.boarding_passes BP ON T.ticket_no = BP.ticket_no\n",
    "WHERE T.passenger_id = '4313 788533'"
   ]
  },
  {
   "cell_type": "markdown",
   "id": "21f061d1",
   "metadata": {},
   "source": [
    "##### Ответ: 2A"
   ]
  },
  {
   "cell_type": "markdown",
   "id": "573db1ef",
   "metadata": {},
   "source": [
    "#### 5.1.1.\n",
    "###### Анапа — курортный город на юге России. Сколько рейсов прибыло в Анапу за 2017 год?"
   ]
  },
  {
   "cell_type": "code",
   "execution_count": null,
   "id": "24716178",
   "metadata": {},
   "outputs": [],
   "source": [
    "SELECT count(*)\n",
    "FROM dst_project.airports AP\n",
    "JOIN dst_project.flights F ON F.arrival_airport = AP.airport_code\n",
    "WHERE AP.city = 'Anapa'\n",
    "  AND date_part('year', F.actual_arrival) = '2017'"
   ]
  },
  {
   "cell_type": "markdown",
   "id": "db78ab92",
   "metadata": {},
   "source": [
    "##### Ответ: 486"
   ]
  },
  {
   "cell_type": "markdown",
   "id": "31202b08",
   "metadata": {},
   "source": [
    "#### 5.1.2.\n",
    "###### Сколько рейсов из Анапы вылетело зимой 2017 года?"
   ]
  },
  {
   "cell_type": "code",
   "execution_count": null,
   "id": "13f51894",
   "metadata": {},
   "outputs": [],
   "source": [
    "SELECT count(*)\n",
    "FROM dst_project.airports AP\n",
    "JOIN dst_project.flights F ON F.departure_airport = AP.airport_code\n",
    "WHERE AP.city = 'Anapa'\n",
    "  AND date_part('year', F.actual_departure) = '2017'\n",
    "  AND date_part('month', F.actual_departure) in (1,2,12)"
   ]
  },
  {
   "cell_type": "markdown",
   "id": "0f49d88a",
   "metadata": {},
   "source": [
    "##### Ответ: 127"
   ]
  },
  {
   "cell_type": "markdown",
   "id": "59015188",
   "metadata": {},
   "source": [
    "#### 5.1.3.\n",
    "###### Посчитайте количество отмененных рейсов из Анапы за все время."
   ]
  },
  {
   "cell_type": "code",
   "execution_count": null,
   "id": "09cad451",
   "metadata": {},
   "outputs": [],
   "source": [
    "SELECT count(*)\n",
    "FROM dst_project.airports AP\n",
    "JOIN dst_project.flights F ON F.departure_airport = AP.airport_code\n",
    "WHERE AP.city = 'Anapa'\n",
    "  AND F.Status = 'Cancelled'"
   ]
  },
  {
   "cell_type": "markdown",
   "id": "c8a589a8",
   "metadata": {},
   "source": [
    "##### Ответ: 1"
   ]
  },
  {
   "cell_type": "markdown",
   "id": "c779c8ad",
   "metadata": {},
   "source": [
    "#### 5.1.4.\n",
    "###### Сколько рейсов из Анапы не летают в Москву?"
   ]
  },
  {
   "cell_type": "code",
   "execution_count": null,
   "id": "92af2d92",
   "metadata": {},
   "outputs": [],
   "source": [
    "SELECT count(DISTINCT F.flight_id)\n",
    "FROM dst_project.flights F\n",
    "JOIN dst_project.airports APD ON F.departure_airport = APD.airport_code\n",
    "JOIN dst_project.airports APA ON F.arrival_airport = APA.airport_code\n",
    "WHERE APD.city = 'Anapa'\n",
    "  AND APA.city <> 'Moscow';"
   ]
  },
  {
   "cell_type": "markdown",
   "id": "58d76002",
   "metadata": {},
   "source": [
    "##### Ответ: 453"
   ]
  },
  {
   "cell_type": "markdown",
   "id": "34a2eb16",
   "metadata": {},
   "source": [
    "#### 5.1.5.\n",
    "###### Какая модель самолета летящего на рейсах из Анапы имеет больше всего мест?"
   ]
  },
  {
   "cell_type": "code",
   "execution_count": null,
   "id": "fb81c8bd",
   "metadata": {},
   "outputs": [],
   "source": [
    "WITH AC_models AS\n",
    "  (SELECT AC.aircraft_code,\n",
    "          AC.model\n",
    "   FROM dst_project.flights F\n",
    "   JOIN dst_project.airports APD ON F.departure_airport = APD.airport_code\n",
    "   JOIN dst_project.aircrafts AC ON F.aircraft_code = AC.aircraft_code\n",
    "   WHERE APD.city = 'Anapa'\n",
    "   GROUP BY AC.aircraft_code)\n",
    "SELECT ACM.aircraft_code,\n",
    "       ACM.model,\n",
    "       count(seat_no) seats_count\n",
    "FROM AC_models ACM\n",
    "JOIN dst_project.Seats S ON ACM.aircraft_code = S.aircraft_code\n",
    "GROUP BY ACM.aircraft_code,\n",
    "         ACM.model\n",
    "ORDER BY seats_count DESC\n",
    "LIMIT 1"
   ]
  },
  {
   "cell_type": "markdown",
   "id": "7b3b52a7",
   "metadata": {},
   "source": [
    "##### Ответ: Boeing 737-300"
   ]
  }
 ],
 "metadata": {
  "kernelspec": {
   "display_name": "Python 3",
   "language": "python",
   "name": "python3"
  },
  "language_info": {
   "codemirror_mode": {
    "name": "ipython",
    "version": 3
   },
   "file_extension": ".py",
   "mimetype": "text/x-python",
   "name": "python",
   "nbconvert_exporter": "python",
   "pygments_lexer": "ipython3",
   "version": "3.8.8"
  }
 },
 "nbformat": 4,
 "nbformat_minor": 5
}
